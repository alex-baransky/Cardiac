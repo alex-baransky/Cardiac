{
 "cells": [
  {
   "cell_type": "markdown",
   "metadata": {},
   "source": [
    "Load Packages"
   ]
  },
  {
   "cell_type": "code",
   "execution_count": 1,
   "metadata": {},
   "outputs": [],
   "source": [
    "import pandas as pd\n",
    "import numpy as np\n",
    "import sklearn as skl\n",
    "import matplotlib.pyplot as plt\n",
    "import seaborn as sns\n",
    "from Meta_fun import *\n",
    "%matplotlib inline\n"
   ]
  },
  {
   "cell_type": "markdown",
   "metadata": {},
   "source": [
    "Load Data set"
   ]
  },
  {
   "cell_type": "code",
   "execution_count": 2,
   "metadata": {},
   "outputs": [
    {
     "name": "stdout",
     "output_type": "stream",
     "text": [
      "Live Sheet:\n",
      "Sheet name: \"patients\"\n",
      "Retained columns: ['patient_link', 'date_of_birth', 'patient_gender', 'ef', 'special_status']\n",
      "\n",
      "Sheet name: \"patient_enrollment_records\"\n",
      "Retained columns: ['patient_link', 'facilities_link', 'enrollment_date', 'hospital_discharged_from', 'admit_weight', 'diagnosis_1', 'acute_or_chronic', 'aicd', 'status', 'discharge', 'discharge_date', 'cardiac_related', 'create_user']\n",
      "\n",
      "Sheet name: \"patient weights\"\n",
      "Retained columns: ['patient_link', 'name', 'patient_weight_date', 'weight', 'this_weight_change', 'weight_change_since_admit']\n",
      "\n",
      "Sheet name: \"patient BNP\"\n",
      "Retained columns: ['patient_link', 'bnp_date', 'bnp', 'this_bnp_change']\n",
      "\n",
      "Sheet name: \"Cardiac_Meds\"\n",
      "Retained columns: ['patient_link', 'cardiac_meds_date', 'ace', 'bb', 'diuretics', 'anticoagulant', 'ionotropes', 'other cardiac meds']\n",
      "\n",
      "Sheet name: \"patient labs\"\n",
      "Retained columns: ['patient_link', 'labs_date', 'bun', 'cr', 'sodium', 'potasium', 'mg', 'this_cr_change']\n",
      "\n",
      "Sheet name: \"patient BP\"\n",
      "Retained columns: ['patient_link', 'bp_date', 'resting_hr', 'systolic', 'diastolic', 'resting_bp']\n",
      "\n",
      "\n",
      "\n",
      "Archive Sheet:\n",
      "Sheet name: \"patient_enrollment_records\"\n",
      "Retained columns: ['patient_link', 'facilities_link', 'enrollment_date', 'hospital_discharged_from', 'admit_weight', 'diagnosis_1', 'acute_or_chronic', 'aicd', 'status', 'discharge', 'discharge_date', 'cardiac_related', 'create_user']\n",
      "\n",
      "Sheet name: \"patient weights\"\n",
      "Retained columns: ['patient_link', 'name', 'patient_weight_date', 'weight', 'this_weight_change', 'weight_change_since_admit']\n",
      "\n",
      "Sheet name: \"patient BNP\"\n",
      "Retained columns: ['patient_link', 'bnp_date', 'bnp', 'this_bnp_change']\n",
      "\n",
      "Sheet name: \"Cardiac_Meds\"\n",
      "Retained columns: ['patient_link', 'cardiac_meds_date', 'ace', 'bb', 'diuretics', 'anticoagulant', 'ionotropes', 'other cardiac meds']\n",
      "\n",
      "Sheet name: \"patient labs\"\n",
      "Retained columns: ['patient_link', 'labs_date', 'bun', 'cr', 'sodium', 'potasium', 'mg', 'this_cr_change']\n",
      "\n",
      "Sheet name: \"patient BP\"\n",
      "Retained columns: ['patient_link', 'bp_date', 'resting_hr', 'systolic', 'diastolic', 'resting_bp']\n",
      "\n",
      "\n",
      "\n",
      "0 NaT added to list\n",
      "0 NaT added to list\n",
      "Date column \"enrollment_date\" in sheet \"patient_enrollment_records\" has been converted to appropriate datatype\n",
      "\n",
      "0 NaT added to list\n",
      "6 NaT added to list\n",
      "Date column \"patient_weight_date\" in sheet \"patient weights\" has been converted to appropriate datatype\n",
      "\n",
      "85 NaT added to list\n",
      "80 NaT added to list\n",
      "Date column \"bnp_date\" in sheet \"patient BNP\" has been converted to appropriate datatype\n",
      "\n",
      "0 NaT added to list\n",
      "0 NaT added to list\n",
      "Date column \"cardiac_meds_date\" in sheet \"Cardiac_Meds\" has been converted to appropriate datatype\n",
      "\n",
      "0 NaT added to list\n",
      "41 NaT added to list\n",
      "Date column \"labs_date\" in sheet \"patient labs\" has been converted to appropriate datatype\n",
      "\n",
      "0 NaT added to list\n",
      "257 NaT added to list\n",
      "Date column \"bp_date\" in sheet \"patient BP\" has been converted to appropriate datatype\n",
      "\n",
      "192 NaT added to list\n",
      "Date column \"date_of_birth\" in sheet \"patients\" has been converted to appropriate datatype\n",
      "\n",
      "\n",
      "No records found in the data frame that match these enroll IDs:\n",
      "========================================\n",
      "Series([], Name: enrollId, dtype: object)\n",
      "Failed to add enrollID to 2 rows with indexes:\n",
      "========================================\n",
      "Int64Index([840, 983], dtype='int64')\n",
      "Added \"enrollID\" column to sheet \"patient_enrollment_records\"\n",
      "Could not find a least missing/most recent row for enrollId: nan\n",
      "Reduced sheet \"patient_enrollment_records\" from 1965 rows to 1395 rows by filtering most recent dates with least missing\n",
      "\n",
      "Records for all patients found in the data frame. Yay!\n",
      "\n",
      "Failed to add enrollID to 919 rows with indexes:\n",
      "========================================\n",
      "Int64Index([    4,     7,     8,    10,    11,    12,    13,    14,    15,\n",
      "               21,\n",
      "            ...\n",
      "            26026, 26027, 26055, 26134, 26135, 26138, 26142, 26143, 26144,\n",
      "            26145],\n",
      "           dtype='int64', length=919)\n",
      "Added \"enrollID\" column to sheet \"patient weights\"\n",
      "Could not find a least missing/most recent row for enrollId: nan\n",
      "Reduced sheet \"patient weights\" from 26202 rows to 1308 rows by filtering most recent dates with least missing\n",
      "\n",
      "Records for all patients found in the data frame. Yay!\n",
      "\n",
      "Failed to add enrollID to 423 rows with indexes:\n",
      "========================================\n",
      "Int64Index([   8,   13,   14,   18,   19,   35,   42,   92,  100,  120,\n",
      "            ...\n",
      "            6719, 6921, 6949, 6990, 6997, 7010, 7014, 7015, 7016, 7105],\n",
      "           dtype='int64', length=423)\n",
      "Added \"enrollID\" column to sheet \"patient BNP\"\n",
      "Could not find a least missing/most recent row for enrollId: nan\n",
      "Reduced sheet \"patient BNP\" from 7114 rows to 1103 rows by filtering most recent dates with least missing\n",
      "\n",
      "Records for all patients found in the data frame. Yay!\n",
      "\n",
      "Failed to add enrollID to 100 rows with indexes:\n",
      "========================================\n",
      "Int64Index([  38,  118,  160,  258,  259,  306,  404,  405,  406,  556,  580,\n",
      "             785,  991, 1027, 1190, 1279, 1280, 1381, 1393, 1479, 1525, 1615,\n",
      "            1663, 1798, 1803, 1950, 2147, 2278, 2280, 2286, 2347, 2377, 2388,\n",
      "            2446, 2526, 2568, 2666, 2667, 2714, 2812, 2813, 2814, 2964, 2988,\n",
      "            3193, 3399, 3435, 3598, 3687, 3688, 3789, 3801, 3887, 3933, 4024,\n",
      "            4394, 4866, 4867, 4883, 5075, 5076, 5109, 5111, 5113, 5545, 5547,\n",
      "            5557, 5782, 5787, 5892, 5895, 5896, 5897, 5931, 5940, 5941, 5971,\n",
      "            6032, 6034, 6035, 6039, 6082, 6140, 6169, 6215, 6318, 6360, 6362,\n",
      "            6363, 6414, 6500, 6714, 6724, 6728, 7382, 7383, 7384, 7385, 7386,\n",
      "            7391],\n",
      "           dtype='int64')\n",
      "Added \"enrollID\" column to sheet \"Cardiac_Meds\"\n",
      "Could not find a least missing/most recent row for enrollId: nan\n",
      "Reduced sheet \"Cardiac_Meds\" from 8728 rows to 1092 rows by filtering most recent dates with least missing\n",
      "\n",
      "Records for all patients found in the data frame. Yay!\n",
      "\n",
      "Failed to add enrollID to 507 rows with indexes:\n",
      "========================================\n",
      "Int64Index([   64,    70,    72,    74,    76,    78,    79,    80,    81,\n",
      "               82,\n",
      "            ...\n",
      "            10696, 10697, 10698, 10699, 10738, 10739, 10740, 10741, 10742,\n",
      "            10743],\n",
      "           dtype='int64', length=507)\n",
      "Added \"enrollID\" column to sheet \"patient labs\"\n",
      "Could not find a least missing/most recent row for enrollId: nan\n",
      "Reduced sheet \"patient labs\" from 10754 rows to 1233 rows by filtering most recent dates with least missing\n",
      "\n",
      "Records for all patients found in the data frame. Yay!\n",
      "\n",
      "Failed to add enrollID to 372 rows with indexes:\n",
      "========================================\n",
      "Int64Index([   0,   13,   23,   28,   44,   69,   73,   77,   90,   91,\n",
      "            ...\n",
      "            4594, 4595, 4612, 4809, 4813, 4815, 4818, 4821, 5296, 5602],\n",
      "           dtype='int64', length=372)\n",
      "Added \"enrollID\" column to sheet \"patient BP\"\n",
      "Could not find a least missing/most recent row for enrollId: nan\n",
      "Reduced sheet \"patient BP\" from 6175 rows to 1058 rows by filtering most recent dates with least missing\n",
      "\n",
      "\n",
      "\n",
      "Merged sheet \"patient weights\" with the full dataframe and changed the row number by -85\n",
      "Merged sheet \"patient BNP\" with the full dataframe and changed the row number by -216\n",
      "Merged sheet \"Cardiac_Meds\" with the full dataframe and changed the row number by -171\n",
      "Merged sheet \"patient labs\" with the full dataframe and changed the row number by -2\n",
      "Merged sheet \"patient BP\" with the full dataframe and changed the row number by -141\n",
      "\n",
      "\n",
      "DATA MERGE IS COMPLETE\n"
     ]
    }
   ],
   "source": [
    "# %load Pipeline_clean.py\n",
    "%load_ext autoreload\n",
    "%autoreload 2\n",
    "from data_merge import *\n",
    "from Clean_Fun import *\n",
    "\n",
    "# NOTE have to use remove_invalid_rows() inside ALex's function,\n",
    "# before we remove patient name\n",
    "# %% Load dataset\n",
    "\n",
    "live_path='Data/Cardiac Program_M.xlsx'\n",
    "archive_path='Data/Cardiac Program_Archive.xlsx'\n",
    "live_sheet_pkl='pickle_jar/live_sheets.pkl'\n",
    "archive_sheet_pkl='pickle_jar/archive_sheets.pkl'\n",
    "datecol_pkl='pickle_jar/datecols.pkl'\n",
    "df = sheet_merge(live_path, archive_path,\n",
    "    live_sheet_pkl, archive_sheet_pkl, datecol_pkl)\n"
   ]
  },
  {
   "cell_type": "code",
   "execution_count": 3,
   "metadata": {},
   "outputs": [],
   "source": [
    "df.to_csv(\"Data/after_merge.csv\")"
   ]
  },
  {
   "cell_type": "markdown",
   "metadata": {},
   "source": [
    "Apply the cleaning function to the data frame."
   ]
  },
  {
   "cell_type": "code",
   "execution_count": 4,
   "metadata": {},
   "outputs": [],
   "source": [
    "df = pd.read_csv(\"Data/after_merge.csv\", index_col=0)"
   ]
  },
  {
   "cell_type": "code",
   "execution_count": 5,
   "metadata": {},
   "outputs": [
    {
     "name": "stdout",
     "output_type": "stream",
     "text": [
      "EF less than 0 set to None\n",
      "EF less than 0 set to None\n",
      "EF less than 0 set to None\n",
      "EF less than 0 set to None\n",
      "EF less than 0 set to None\n",
      "EF less than 0 set to None\n",
      "EF less than 0 set to None\n",
      "EF less than 0 set to None\n",
      "EF less than 0 set to None\n",
      "EF less than 0 set to None\n",
      "Couldn't extract EF so set to na_val\n",
      "51 (30 -35)\n",
      "Imputing 121.0,242.0 from other column\n",
      "Imputing 90.0,180.0 from other column\n",
      "Imputing 134,80 from Blood Pressure Column\n",
      "Imputing 116,73 from Blood Pressure Column\n",
      "Imputing 134,80 from Blood Pressure Column\n",
      "Imputing 116,73 from Blood Pressure Column\n",
      "num missing 383\n",
      "value counts before zero and one assignment: 0                                                                             383\n",
      "lisinopril 5mg qd                                                              41\n",
      "none                                                                           35\n",
      "lisinopril 2.5mg qd                                                            34\n",
      "losartan 50mg qd                                                               21\n",
      "lisinopril 10mg qd                                                             20\n",
      "losartan 100mg qd                                                              19\n",
      "losartan 25mg qd                                                               18\n",
      "lisinopril 20mg qd                                                             12\n",
      "enalapril 5mg qd                                                                8\n",
      "losartan potassium oral tablet 50 mg qd                                         7\n",
      "enalapril 10mg qd                                                               6\n",
      "enalapril 20mg qd                                                               4\n",
      "lisinopril                                                                      4\n",
      "lisinopril 5mg bid                                                              4\n",
      "enalapril 2.5mg qd                                                              3\n",
      "enalapril maleate oral tablet 5 mg qd                                           3\n",
      "losartan potassium oral tablet 50 mg daily                                      3\n",
      "lisinopril 2.5 mg qd                                                            3\n",
      "lisinopril 5 mg qd                                                              2\n",
      "enalapril 5mg bid                                                               2\n",
      "verapamil hcl er 180mg qd                                                       2\n",
      "lisinopril 40mg qd                                                              2\n",
      "lisinopril 5 mg qd,                                                             2\n",
      "losartan 100 mg qd                                                              2\n",
      "losartan 50mg                                                                   2\n",
      "lisinopril 5mg q12h                                                             2\n",
      "entresto tablet 24-26 mg (sacubitril-valsartan) bid                             2\n",
      "losartan potassium oral tablet 25 mg, qd-every day                              2\n",
      "lisinopril oral tablet 10 mg qd                                                 2\n",
      "                                                                             ... \n",
      "allergic to ace                                                                 1\n",
      "losartan 25 mg daily                                                            1\n",
      "losartan potassium oral tablet 100 mg daily                                     1\n",
      "enalapril maleate oral tab 10mg bid                                             1\n",
      "enalipiril                                                                      1\n",
      "lisinopril 40mg po daily                                                        1\n",
      "enalapril 10 q12h                                                               1\n",
      "10/23/17 add lisinopril 5mg qd                                                  1\n",
      "lisinopril oral tablet 2.5 mg daily                                             1\n",
      "vasotec 5mg qd                                                                  1\n",
      "ramipril 5mg qd                                                                 1\n",
      "enalapril 2.5 mg  qd                                                            1\n",
      "coreg 3.125mg q12h                                                              1\n",
      "valsartan 160mg qd                                                              1\n",
      "enalapril 5mg q12h                                                              1\n",
      "losartan 25 mg tablet\\nsig: give 1 tablet (25 mg) by oral route once daily      1\n",
      "lisinopril 40 mg qd                                                             1\n",
      "lisinopril 2.5mg po daily                                                       1\n",
      "lisinopril oral tablet 20 mg daily                                              1\n",
      "lisinopril oral tablet 2.5 mg qd                                                1\n",
      "lisinopril-hydrochlorothiazide tablet 20-25 mg qd                               1\n",
      "lisinopril oral tablet 10 mg                                                    1\n",
      "losartan potassium-hctz oral tablet 50-12.5 mg qd                               1\n",
      "lisinopril 5 bid                                                                1\n",
      "enalapril maleate  5 mg qd                                                      1\n",
      "enalapril 2.5mg                                                                 1\n",
      "lisinopril oral tablet 20 mg*2 twice daily                                      1\n",
      "losartan 25mg +50mg qd                                                          1\n",
      "cozaar 50mg qd                                                                  1\n",
      "enalapril maleate oral tablet 2.5 mg qd                                         1\n",
      "Name: ace, Length: 139, dtype: int64\n",
      "zero values: ['none; allergic to lisinopril', 'none', 'none due renal impairment d/c papers', 'allergic to ace', 'none; allergic to lisinopril', 'allergic to ace; \\non arb: 10/23/17 inc. to lorsartan potassium 100mg qd', 'no ace or arb']\n",
      "Values set to 1.0: \n",
      " ['lorsartan potassium 50mg qd', 'lisinopril 5mg qd\\nlosartan 50mg qd', 'lisinopril oral tablet 5 mg, qd', 'lisinopril 5mg ds', 'hydralazine 25 tid; imdur 30 qd', 'losartan potassium oral tab 100mg qd', 'losartan 50mg*0.5tab qd', 'lisinopril 20g qd', 'norvasc 10 mg qd', 'enalapril maleate oral tablet 10 mg', 'enalapril 20 mg qd', 'amlodopine 2.5 mg qd', 'cozaar 50mg qd', 'benazepril 40mg bid2; clopidogrel 75mg qd2', 'lisinopril 10mg bid', 'amlodipine 5 mg qd, entresto 24-26mg q12', 'lisinopril 2.5 mg qd,', 'losartan hctz tablet 50-12.5 mg qd', 'lisinopril 5mg - bid', 'isosorbide dinitrate 5mg q12h', 'lisinopril 5mg', 'enalapril maleate oral tablet 20 mg, bid', 'lisinopril', 'enalapril maleate oral tablet 20 mg qd', 'lisinopril oral tablet 20 mg', 'enalapril 10 mg bid', 'lisinopril oral tablet 2.5 mg daily', 'lisinopril 5mg two times per day', 'lisinopril oral tablet 20 mg qd', 'enalapril maleate oral tablet 2.5 mg', 'enalapril maleate oral tablet 5 mg qd', 'lisinopril 40mg qd', 'entresto tablet 97-103 mg (sacubitril-valsartan) bid', 'lisinopril 2.5mg', 'losartan 25 mg daily', 'enalapril 20mg qd', 'losartan potassium oral tablet 50 mg qd \"hold if syst bp is <110\"', 'lisinopril 5mg bid', 'vasotec 5mg qd', 'enalapril', 'lisinopril 5 mg qd', 'lisinopril 2.5mg po daily', 'losartan potassium oral tablet 50 mg qd', 'losartan 50mg qd', 'lisinopril oral tablet 2.5 mg qd', 'lisinopril-hydrochlorothiazide tablet 20-25 mg qd', 'losartan potassium oral tablet 100 mg daily', 'verapamil hcl er 180mg qd', 'losartan potassium oral tablet 50 mg daily', 'coreg 3.125mg q12h', \"ramipril 5mg qd d/c'd 2/2 to chronic cough\", 'enalapril maleate  5 mg qd', 'lisinopril 2.5mg od', 'losartan potassium oral tablet 25 mg', 'isosorbide mono 30mg qd2', 'lisinopril 2.5mg qd  hold if b/p <90/50', 'enalapril 20mg daily', 'lisinopril 20mg q12h', 'enalapril 2.5mg q12h', 'losartan potassium oral tablet 50mg*2tab  qd', 'valsartan 160mg qd', 'cozaar 100mg qd2', 'arb-losartan 50mg qd', 'lisinopril oral tablet 40 mg', 'lisinopril oral tablet 40 mg daily', 'enalapril maleate oral tablet 10 mg, qd', 'entresto 24 mg-26 mg tablet bid', 'enalapril maleate oral tablet 5 mg', 'enalapril 5mg bid', 'benicar tablet 20 mg (olmesartan medoxomil) qd', 'losartan potassium oral tablet 50 mg, qd2-every day', 'ramipril 2.5mg qd', 'losartan 100-25 mg qd', 'lisinopril oral tablet 2.5 mg, qd', 'entresto tablet 24-26 mg (sacubitril-valsartan) bid', 'vasotec 10mg qd', 'asdf', 'lisinopril 5mg*3tab bid hold for bp < 100', 'enalapril maleate oral tablet 0.5 mg', 'enalapril 2.5mg qd', 'lisinopril oral tablet 10 mg daily', 'valsartan 320mg qd', 'quinapril 20mg qd', 'cozaar 100mg qd', 'lisinopril 20mg qd', 'losartan 100 mg qd', 'losartan 25mg qd', 'lisinopril 5mg daily', 'enalapril 5 mg qd', 'enalapril 2,5mg qd', 'enalapril 10mg qd', 'lisinopril oral tablet 10 mg qd', 'lisinopril 2.5 mg qd', 'losartan 150mg qd', 'lisinopril 40mg po daily', 'enalapril 10 q12h', '10/23/17 add lisinopril 5mg qd', 'enalapril maleate oral tablet 2.5 mg qd', 'losartan potassium oral tablet 25 mg, qd-every day', 'enalapril 5mg qd', 'enalapril 2.5 mg  qd', 'lisinopril 5 mg qd,', 'lisinopril 2.5mg qd', 'enalapril 5mg q12h', 'losartan potassium-hctz oral tablet 50-12.5 mg qd', 'losartan 25 mg tablet\\nsig: give 1 tablet (25 mg) by oral route once daily', 'lisinopril oral tablet 20 mg daily', 'lisinopril oral tablet 10 mg', 'lisinopril 5 bid', 'lisinopril 5mg q12h', 'lisinopril 10mg qd', 'enalapril 2.5mg', 'lisinopril oral tablet 20 mg*2 twice daily', 'losartan 25mg +50mg qd', 'lisinopril 40 mg qd', 'enalapril maleate oral tab 10mg bid', 'hydralazine 100mg q6h', 'lisinopril 5mg qd', 'lisinopril tablet 5 mg od', 'lisinopril oral tablet 5 mg daily', 'arb: losartan 50mg qd', 'lisinopril 20 mg', 'losartan 100mg qd', 'isosorbide mononitrate 10mg daily', 'enalapril 2.5mg daily', 'n/a on records', 'enalipiril', 'lisinopril oral tablet 5 mg qd', 'lisinopril 10 mg qd', 'ramipril 5mg qd', 'losartan 50mg', 'enalapril 20mg q12h']\n",
      "0.0    423\n",
      "1.0    341\n",
      "Name: ace, dtype: int64\n",
      "num missing 194\n",
      "value counts before zero and one assignment: 0                                                                                                                                                       194\n",
      "metoprolol 25mg qd                                                                                                                                       38\n",
      "metoprolol 50mg qd                                                                                                                                       33\n",
      "metoprolol 25mg q12h                                                                                                                                     22\n",
      "none                                                                                                                                                     20\n",
      "metoprolol 100mg qd                                                                                                                                      18\n",
      "metoprolol 50mg q12h                                                                                                                                     17\n",
      "metoprolol 25mg bid                                                                                                                                      13\n",
      "carvedilol 25mg q12h                                                                                                                                     10\n",
      "carvedilol 12.5mg q12h                                                                                                                                   10\n",
      "coreg 6.25mg bid                                                                                                                                         10\n",
      "metoprolol 50mg bid                                                                                                                                       9\n",
      "carvedilol 6.25mg q12h                                                                                                                                    9\n",
      "metoprolol 200mg qd                                                                                                                                       8\n",
      "carvedilol 6.25mg bid                                                                                                                                     8\n",
      "carvedilol 3.125mg bid                                                                                                                                    7\n",
      "metoprolol 100mg q12h                                                                                                                                     7\n",
      "carvedilol 12.5mg bid                                                                                                                                     7\n",
      "carvedilol 25mg bid                                                                                                                                       6\n",
      "labetalol 200mg q12h                                                                                                                                      6\n",
      "carvedilol 3.125mg q12h                                                                                                                                   6\n",
      "metoprolol 25mg *0.5tab q12h                                                                                                                              4\n",
      "atenolol 25mg qd                                                                                                                                          4\n",
      "carvedilol oral tablet 6.25 mg q12h                                                                                                                       4\n",
      "coreg 6.25mg q12h                                                                                                                                         4\n",
      "0                                                                                                                                                         3\n",
      "labetalol                                                                                                                                                 3\n",
      "toprol 25 mg qd                                                                                                                                           3\n",
      "carvedilol oral tablet 6.25 mg bid                                                                                                                        3\n",
      "metoprolol 50mg q8h                                                                                                                                       3\n",
      "                                                                                                                                                       ... \n",
      "metoprolol succ 50mg qd                                                                                                                                   1\n",
      "atenolol 25 mg 1 tablet once daily hold for bp < 110/70                                                                                                   1\n",
      "labetalol 200mg*2tab tid                                                                                                                                  1\n",
      "metoprolol 100mg po daily                                                                                                                                 1\n",
      "toprol 100mg +50mg qd                                                                                                                                     1\n",
      "carvedilol oral tablet 3.125 mg bid                                                                                                                       1\n",
      "toprol 50 qd                                                                                                                                              1\n",
      "metoprolol100mg q12h                                                                                                                                      1\n",
      "metoprolol tartrate oral tablet 50 mg, q12h                                                                                                               1\n",
      "carvedilol 25mg two times a day                                                                                                                           1\n",
      "coreg 3.125mg qd                                                                                                                                          1\n",
      "metoprolol 50mg+25mg qd                                                                                                                                   1\n",
      "metoprolol  25mg q12h                                                                                                                                     1\n",
      "carvedilol 12.5mg bid2                                                                                                                                    1\n",
      "metoprolol tartrate oral tablet 50 mg, q8h-every 8 hours  if systolic < 110 then hold medications and call md if hr < 60 hold medication and call md      1\n",
      "metoprolol succ 100mg qd                                                                                                                                  1\n",
      "cravedilol 25mg q12h\\nmetoprolol 50mg qd                                                                                                                  1\n",
      "metoprolol succinate er 100 mg  once daily  hold for hr <60, bp < 100 systolic and notify md/np                                                           1\n",
      "labetalol 200mg tid                                                                                                                                       1\n",
      "coreg 3,125mg bid                                                                                                                                         1\n",
      "metoprolol 50mg q12h,                                                                                                                                     1\n",
      "carvedilol 6.25 mg bid  hold if bp <90/60                                                                                                                 1\n",
      "metoprolol 25mg q12 h                                                                                                                                     1\n",
      "coreg 6.25 bid                                                                                                                                            1\n",
      "metoprolol succinate er oral tablet extended release 24 hour 50 mg qd                                                                                     1\n",
      "metoprolol tartrate 25mg *0.5  two times per day                                                                                                          1\n",
      "metoprolol 25mg *3tab q12h                                                                                                                                1\n",
      "metoprolol tartrate oral tablet 25mg bid                                                                                                                  1\n",
      "labetalol 100mg q12h                                                                                                                                      1\n",
      "atenolol 50mg ds                                                                                                                                          1\n",
      "Name: bb, Length: 258, dtype: int64\n",
      "zero values: ['none']\n",
      "Values set to 1.0: \n",
      " ['coreg 6.25 mg bid', 'carvedilol 12.5mg*0.5tab q12h', 'toprol xl 25mg qd', 'carvedilol oral tablet 12.5 mg', 'carvedilol 6.25mg bid', 'metoprolol 25mg  qd', 'coreg 6.25mg q12h', 'metoprolol succinate er oral tablet extended release 24 hour 50 mg, qd-every day', 'metoprolol 25mg', 'carvedilol 25mg bid', 'metoprolol succ er 25mg qd', 'metoprolol 25 mg bid', 'metoprolol 75mg q12h', 'metoprolol 50 mg  q12h', 'coreg 25mg q12h', 'labetolol 200mg bid', 'coreg 25 bid', 'metoprolol succinate er oral tablet extended release 24 hour 100 mg daily', 'labetalol 300 mg bid', 'metoprolol tartrate oral tablet 25 mg, q12h-every 12 hours', 'metoprolol er 50mg qd', 'carvedilol12.5mg q12h', 'metoprolol succ er 50 mg q12h', 'metoprolol 200mg qd', 'metoprolol 100mg q12h', 'carvedilol 12.5 mg bid', 'metoprolol succ er 100mg qd', 'metoprolol 25mg *0.5tab two times a day', 'atenolol oral tablet 100 mg daily', 'carvedilol 3.125mg bid', 'carvedilol 3.125mg q12h', 'carvedilol 6.25 mg 1 tablet (6.25 mg) by oral route 2 times per day', 'carvedilol 12.5 mg 1 tablet (12.5 mg) by oral route every 12 hours', 'metoprolol 25mg *0.5tab two times per day', 'metoprolol tartrate 50 mg tablet sig: give 1 tablet (50 mg) by oral route every 12 hours', 'coreg 12.5mg bid', 'carvedilol 6.25mg q8h', 'metoprolol er 50mg qd\\nmetoprolol tartrate 25mg qd\\nsotalolhcl  80mg qd', 'metoprolol 25mg  q12h', 'metoprolol 50mg bid', 'metoprolol 50 mg bid', 'toprol xl 12.5mg qd', 'carvedilol 3.125mg*0.5tab q12h  hold if b/p <100/60, pulse <60', 'toprol 25 mg qd', 'labetalol 100mg q12h', 'metoprolol 25 mg q12h', 'metoprolol tartrate 25mg *0.5tabqd', 'metoprolol 25mg *1.5tab bid', 'coreg 3.125 po q12h', 'labetalol 200mg *2tab bid', 'labetalol 200mg q8h', 'carvedilol oral tablet 6.25 mg, 0.5 tablets twice daily', 'atenolol oral tablet 25 mg 0.5 tablet qd', 'metoprolol tartrate oral tablet 25 mg, bid-twice daily', 'labetalol 200mg q12h', 'lopressor 50mg q12h', 'metoprolol 25mg bid', 'bisoprolol 5mg qd', 'metoprolol 25mg q12h', 'metoprolol 25mg  bid', 'coreg 3.125mg two times a day', 'metoprolol er 50 mg qd', 'metoprolol 200 mg qd', 'metoprolol 50 mg *2tab bid', 'metoprolol 50mg qd\\ntoprol 25mg qd', 'metoprolol 50 mg\\t q12h hours hold if systolic bp is less than 100 and/or pulse is less than 60', 'toprol 100mg qd', 'carvedilol oral tablet 25 mg bid', 'carvedilol 3.125 mg bid', 'metoprolol 50mg qd', 'metoprolol tart 100mg q12h', 'metoprolol 50mg q12h', 'metoprolol 25mg*2tb q12h', 'metoprolol tartrate oral tablet 25 mg* 0.5tab, q6h-every 6 hours', 'carvedilol 12.5mg q12h', 'metoprolol tartrate 25mg q12h', 'cravedilol 25mg q12h', 'carvedilol oral tablet 3.125 mg every 12 hours', 'labetalol 200mg *2tab q8h', 'metoprolol tartrate oral tablet 25 mg', 'metoprolol 50 twice daily', 'metoprolol 50mg  qd', 'atenolol 25mg po daily', 'atenolol oral tablet 25 mg, qd-every day', 'carvedilol 3.125 mg q12h', 'coreg 25mg bid', 'metoprolol succinate er oral tablet extended release 24 hour 25 mg, qd-every day', 'metoprolol 25mg *3tab qd', 'labetalol 300mg twice daily', 'metoprolol succ er 25 mg qd', 'carvedilol 12.5 mg', 'metoprolol 25mg*2tab  qd', 'metoprolol 100mg po daily', 'coreg 6.25mg q12,', 'carvedilol', 'metoprolol succinate 25 mg qd', 'metoprolol 25mg po daily', 'metoprolol tartrate oral tab 100mg q12h', 'labetalol 200mg *2tab q12h', 'coreg 3.125mg q12h', 'metoprolol 12.5mg qd', 'metoprolol tartrate oral tablet 50 mg q12 h', 'metoprolol 25mg*0.5tab qd', 'toprol 50 qd', 'metoprolol succinate er  25mg qd', 'carvedilol 25mg q12h', 'metoprolol 25 mg*0.5tab qd', 'carvedilol 25mg two times per day', 'cravedilol 25mg q12h\\nmetoprolol 50mg qd', 'metoprolol tartrate oral tablet 50 mg tid', 'bystolic tab 5mg qd', 'metoprolol tartrate 25 mg two times per day', 'labetalol 300 mg q 8 h,', 'metoprolol  succ er 25mg qd', 'atenolol oral tablet 50 mg, qd-every day', 'metoprolol succ er 50 mg qd', 'carvedilol oral tab 25 mg bid', 'metoprolol succ 50mg qd', 'metoprlol 25mg qd', 'carvedilol 25mg*0.5tab bid', 'toprol 50mg qd', 'toprol 25mg *0.5tab qd', 'amiodarone 200 mg qd', 'metoprolol 50 mg qd', 'toprol xl oral tablet extended release 24 hour 25 mg, qd-every day', 'coreg 3.125mg twice daily', 'coreg 3.125 mg bid', 'coreg 25mg q12', 'carvedilol 3.125mg 2x', 'atenolol 50mg ds', 'metoprolol 25mg*2tab q12h', 'carvedilol oral tablet 3.125 mg', 'carvedilol 6.25mgbid', 'atenolol 25mg qd', 'metoprolol succinate er oral tablet extended release 24 hour 25 mg', 'carvedlol 12.5mg q12h', 'metoprolol 25mg p.o. bid', 'metoprolol100mg q12h', 'metoprolol tartrate oral tab 25mg q12h', 'metoprolol succ 25mg qd', 'atenolol 25 mg 1 tablet once daily hold for bp < 110/70', 'metoprolol 100mg + 25mg qd', 'toprol xl 25mg daily', 'labetalol 200mg bid', 'labetalol 200mg*2tab tid', 'metoprolol succinate er 100 mg  once daily  hold for hr <60, bp < 100 systolic and notify md/np', 'carvedilol oral tablet 6.25 mg bid', 'metoprolol tartrate oral tablet 25mg bid', 'metoprolol 25mg *3tab q12h', 'metoprolol tartrate 25mg *0.5  two times per day', 'metoprolol succinate er oral tablet extended release 24 hour 50 mg qd', 'coreg 6.25 bid', 'metoprolol 25mg *0.5tab q12h', 'metoprolol succ er  25 mg qd', 'metoprolol 25mg q12 h', 'metoprolol 25mg qd', 'metoprolol tartrate oral tablet 50 mg', 'carvedilol 6.25 mg bid  hold if bp <90/60', 'metoprolol 50mg q12h,', 'coreg 3,125mg bid', 'atenolol 100mg qd', 'labetalol 200mg tid', 'coreg 6.25mg bid', 'metoprolol succinate er oral tablet extended release 24 hour 25 mg qd', 'metoprolol tartrate oral tablet 50 mg, q8h-every 8 hours  if systolic < 110 then hold medications and call md if hr < 60 hold medication and call md', 'toprol 25mg qd', 'toprol 100mg +50mg qd', 'metoprlol 50mg qd', 'carvedilol 12.5mg bid2', 'metoprolol  25mg q12h', 'metoprolol tartrate 25mg  q12h', 'metoprolol 50mg+25mg qd', 'carvedilol 25mg two times a day', 'metoprolol tartrate oral tablet 50 mg, q12h', 'metoprolol 100mg qd', 'labetolol 100mg po q12', 'metoprolol 50mg', 'labetalol 200 mg bid', 'metoprolol 25mg  q8h hold if sbp <90 or hr <60', 'metoprolol tartrate oral tablet 25 mg 3 tablets every 12 hours', 'coreg cr capsule extended release 24 hour 10 mg (carvedilol phosphate er) qd', 'labetalol 200 mg q12hrs', 'metoprolol tartrate oral tablet 25mg qd', 'metoprolol 75mg qd', 'carvedilol 12.5mg bid', 'carvedilol 3.125mg qd, metoprolol tart 50mg q12h', 'carvedilol oral tablet 6.25 mg q12h', 'coreg 12.5mg q12h', 'coreg 6.25 mg*2tab bid', 'carvedilol 6.25mg two times a day', 'metoprolol 25mg *0.5tab bid', 'metoprolol 200mg q12h', 'metoprolol', 'metoprolol 100mg q8h', 'metoprolol 50mg q8h', 'labetalol 300mg q8h', 'metoprolol 25 mg er qd,', 'metoprolol tartrate oral tablet 25 mg, q12h  if systolic bp less than 100 then hold medication \\n\\nif pulse less than 60 then hold medication', 'metoprolol tartrate oral tablet 50 mg, bid', 'rera', 'metoprolol 25mg *0.5tab qd', 'carvedilol 6.25mg qd', 'metoprolol tartrate oral tablet 25 mg  - bid', 'metoprolol tartrate oral tablet 100 mg bid', 'metoprolol 100mg bid', 'toprol 25 mg daily', 'metoprolol tartrate oral tab 75mg bid', 'metoprolol 75mg bid', 'coreg 3.125mg qd', 'metoprolol succ 25 mg daily', 'coreg 6.25mg qd', 'bisoprolol 5 mg qd', 'carvedilol 6.25 mg bid', 'carvedilol oral tablet 3.125 mg bid', 'metoprolol succ 100mg qd', 'carvedilol 25mg twice daily', \"bisoprolol d/c'd 11/20/17\", 'labetalol', 'labetalol 100mg q8h', 'metoprolol tartrate oral tablet 100 mg, q12h', 'carvedilol 6.25mg bid2', 'carvedilol oral tablet 25 mg every 12 hours', 'atenolol-chlorthalidone tablet 100-25 mg qd', 'carvedilol 12.5 mg two times per day', 'metoprolol 100mg two times per day', 'bystolic 10mg qd', 'metoprolol 25mg q8h', 'labetalol hcl oral tablet 200 mg daily', 'metoprolol 50 mg bid,', 'carvedilol oral tablet 6.25 mg', 'labetalol 300mg q12h', 'metoprolol tartrate 50mg q12h', 'metoprolol 50 mg q12h', 'metoprolol 25 mg daily', 'labetalol hcl oral tablet 100 mg every 8 hours', 'metoprolol 100mg  qd', 'metoprolol 100 mg qd', 'coreg 3.125mg bid', 'carvedilol 12.5mg *3tab q12h', 'metoprolol 25mg q12h2', 'metoprolol tartrate 25mg bid', 'toprol xl 50mg qd', 'carvedilol 6.25mg two times per day', 'metoprolol tartrate 200mg qd(05292018-06282018)', 'metoprolol tartrate oral tablet 25 mg bid', 'toprol 25mg*0.5tab qd', 'n/a on records', 'metoprolol succinate 25mg qd', 'metoprolol tartrate oral tablet 50 mg, tid hold if systolic below 120 diastolic below 60', 'coreg 3.125 mg bid,', 'carvedilol 6.25mg q12h', 'metoprolol er 100mg qd', 'metoprolol  50 mg qd', 'carvedilol 3.125mg', 'metoprolol 12.5 mg q12, coreg 6.25 mg q12,']\n",
      "1.0    547\n",
      "0.0    217\n",
      "Name: bb, dtype: int64\n",
      "num missing 251\n",
      "value counts before zero and one assignment: 0                                                                                     251\n",
      "lasix 40mg qd                                                                          45\n",
      "furosemide 40mg qd                                                                     38\n",
      "furosemide 20mg qd                                                                     36\n",
      "lasix 20mg qd                                                                          34\n",
      "none                                                                                   19\n",
      "furosemide 40mg bid                                                                    15\n",
      "furosemide 80mg qd                                                                     10\n",
      "lasix 40mg bid                                                                          8\n",
      "torsemide 20mg qd                                                                       7\n",
      "furosemide oral tablet 40 mg qd                                                         7\n",
      "furosemide 20mg bid                                                                     6\n",
      "furosemide 80mg bid                                                                     5\n",
      "furosemide 40mg q12h                                                                    4\n",
      "furosemide oral tablet 20 mg, qd                                                        4\n",
      "furosemide oral tablet 20 mg                                                            4\n",
      "spironolactone 25mg qd                                                                  4\n",
      "lasix 40 mg qd                                                                          3\n",
      "lasix                                                                                   3\n",
      "spironolactone 25mg qd\\nfurosemide 40mg qd                                              3\n",
      "furosemide 60mg qd                                                                      3\n",
      "0                                                                                       3\n",
      "bumetanide 2mg qd                                                                       3\n",
      "torsemide 20mg *2tab qd                                                                 3\n",
      "furosemide oral tablet 20 mg, qd-every day                                              2\n",
      "lasix 20mg bid                                                                          2\n",
      "bumetanide 2mg bid                                                                      2\n",
      "torsemide 40mg qd                                                                       2\n",
      "lasix 20 mg qd2                                                                         2\n",
      "furosemide oral tablet 20 mg qd                                                         2\n",
      "                                                                                     ... \n",
      "bumetadine 1mg +0.5mg qd                                                                1\n",
      "spironolactone 25mg*0.5tab qd\\nfurosemide 40mg qd                                       1\n",
      "furosemide oral tablet 40 mg, qd                                                        1\n",
      "torsemide 20mg qd\\nspironolactone 25mg qd                                               1\n",
      "bumetanide 2mg q12h                                                                     1\n",
      "furosemide 40mg qd\\nlasix 40mg qd for 5 days(starting 05202018)                         1\n",
      "furosemide 40 mg qd                                                                     1\n",
      "lasix 20mg  bid                                                                         1\n",
      "furosemide 40 mg tablet\\nsig: give 1 tablet (40 mg) by oral route once daily            1\n",
      "lasix 40mg*1.5tab bid                                                                   1\n",
      "furosemide 80 mg bid                                                                    1\n",
      "furosemide 20mg*3tab  qd\\nbumetanide 2mg qd                                             1\n",
      "n/a on records                                                                          1\n",
      "bumex 1mg qd                                                                            1\n",
      "reduce bumex to 2mg daily and hold spironolactone, touch base on 8/4 with labs          1\n",
      "furosemide 20mg daily, special instructions:hold for sbp <100*** ▼                      1\n",
      "lasix 40mg qd\\nquinapril 5mg qd                                                         1\n",
      "torsemide 80mg qd                                                                       1\n",
      "lasix 40mg qd\\naldactone 25mg*0.5tab qd                                                 1\n",
      "metolazone 2.5mg qd\\nspironolactone 50mg qd\\ntorsemide 20mg *2tab bid                   1\n",
      "metolazone 5mg qd                                                                       1\n",
      "furosemide 20mg *3tabqd\\nspirinolactone 25mg *0.5tab qd                                 1\n",
      "bumetanide 2 mg 1 tablet (2 mg) by oral route 2 times per day                           1\n",
      "furosemide oral tablet 80 mg qd\\n11/18/17 zaroxolyn 5mg 1/2hr before lasix x 5days      1\n",
      "quinapril 20mg qd                                                                       1\n",
      "spironolactone 25mg qd; bumetadine 2mg bid; metolazone 2.5mg tid2                       1\n",
      "lasix 20mg *3tab bid                                                                    1\n",
      "lasix 60 mg bid                                                                         1\n",
      "lasix oral tablet 60 mg bid                                                             1\n",
      "lasix 20mg qd\\nfurosemide 40mg qd                                                       1\n",
      "Name: diuretics, Length: 245, dtype: int64\n",
      "zero values: ['lasix 40mg qd; eplerenone 25mg qd\\nspironolactone 25mg qd', 'none']\n",
      "Values set to 1.0: \n",
      " ['furosemide 80mg qd', 'furosemide 40mg qd\\nspironolactone 25mg qd', 'furosemide 40mg 2x', 'furosemide 80mg q8h', 'furosemide 40mg qd\\nspironolactone 25mg bid', 'bumetanide 1mg qd', 'bumex 2mg bid', 'lasix 20mg qd(until 08/05)\\nfurosemide 40mg qd', 'lasix 40mg*3tab  qd', 'furosemide 60mg qd\\nfurosemide 80mg qd', 'bumetanide oral tab 2mg qd', 'lasix tablet 20 mg (furosemide) qd', 'lasix', 'lasix 40mg bid2', 'lasix 20mg qd2', 'spironolactone 25mg qd\\ntorsemide 60mg qd', 'lasix 20mg qd (06092018-06112018)', 'spironolactone 25mg *0.5tab qd', 'spironolactone 25mg*0.5tab qd\\nfurosemide 20mg qd', 'spironolactone  25mg qd', 'spironolactone 25mg bid\\nlasix 20mg qd', 'metolazone 2.5mg daily', 'lasix 40mg qd \\nspironolactone 25mg qd', 'lasix 20mg daily', 'furosemide 20mg*3tab  3x per week on non-dialysis day mwf', 'bumetanide 2mg qd', 'furosemide 40mg qd\\nspirinolactone 25mg*0.5tab qd', 'furosemide oral tablet 40 mg, qd2 - every day', 'furosemide oral tablet 80 mg qd\\n11/18/17 zaroxolyn 5mg 1/2hr before lasix x 5days', 'lasix 60mg qd; aldactone 25mg qd', 'furosemide 20mg  every other day', 'lasix oral tablet 20 mg qd', 'metolazone 2.5mg qd\\ntorsemide 10mg *3tab bid', 'lasix oral tablet 40 mg, hs', 'metolazone 2.5mg  in the morning every 2 day(s)', 'spironolactone 25mg *0.5tab qd\\nfurosemide 80mg qd', 'furosemide 40mg *0.5tab qd', 'bumetanide 2mg bid', 'lasix 40mg qd2', 'lasix 20mg qd', 'lasix 80mg bid', 'spironolactone 100mg bid \\nlasix 40mg bid', 'metolazone 2.5mg bid\\nspironolactone 25mg qd', 'furosemide 40mg qd\\nlasix 40mg qd (untill 08/03)', 'lasix 40mg *1.5tab qd\\nspironolactone 25mg*0.5tab qd', 'torsemide 80mg qd\\ntorsemide 20mg qd ( until 09/05)\\nspironlactone 25mg qd', 'furosemide 80mg qd\\nmetolazone 5 mg qd', 'furosemide 60mg qd', 'spirolactone 25mg qd', 'lasix 40 mg q 12', 'furosemide 20mg*3tab  qd', 'lasix 20mg qd\\naldactone 25mg q48h\\nmetolazone 2.5mg q48h', 'furosemide 20 mg qd\\nspironolactone 25mg qd', 'bumetanide tab 2mg bid', 'lasix 20mg qd\\nspironolactone 50mg qd', 'spironolactone 25 mg*0.5tab qd', 'furosemide 40mg q12h', 'spironolactone 25mg qd\\nfurosemide 40mg qd', 'lasix 80 mg bid\\naldactone 25mg qd', 'spironolactone 25mg*2tab qd\\ntorsemide 100mg 0.5tab bid', 'spironolactone 25mg qd\\nfurosemide 80mg qd  2 times per week monday and thrusday', 'lasix 20mg *2tb qd', 'torsemide 20mg *2tab qd\\nmetolazone 5mg q48h', 'lasix 20 mg qd', 'furosemide 40mg *1.5tab q12h', 'lasix 20mg bid', 'lasix 20 mg qd2', 'furosemide tab 20mg qd', 'lasix oral tablet 60 mg qd\\nspirinolactone 12.5mg qd\\n10/11/17 diuril 250mg orally added x 4 days', 'lasix 20 mg*2tab qd', 'torsemide 20mg q12h', 'edecrin oral tab 25mg qd', 'lasix 80mg qd\\nmetolazone 2.5mg every other day', 'lasix 60mg qd', 'furosemide 20mg bid', 'furosemide 20mg two times a day', 'furosemide oral tablet 40 mg', 'furosemide 80 mg every 12 hours', 'lasix 20mg qd\\nlasix 40mg qd', 'lasix 20 mg every other day', 'furosemide oral tablet 40 mg bid', 'lasix 40mg qd\\naldactone 50mg qd', 'metolazone 2.5mg qd  every mon, thu\\ntorsemide 20mg*2 tab qd with breakfast', 'torsemide 20mg qd', 'hctz 50mg qd', 'furosemide 20mg qd hold if bp is less than 90/60', 'furosemide oral tablet 20 mg, qd-daily', 'torsemide 100mg qd', 'lasix 20mg qd\\nspironolactone 25mg qd', 'lasix 40mg daily', 'furosemide 80mg qd every tue, thu, sat', 'lasix 40mg qd\\nspironolactone 100mg qd', 'furosemide 20mg *3tab qd', 'furosemide 40mg qd\\nfurosemide 80mg qd', 'torsemide 20mg *2tab qd', 'lasix 40mgbid and zaroxolyn 2.5mg od', 'furosemide  40 mg q12h', 'lasix 40mg q12h(until 05242018)\\nlasin 20mg qd(on hold)', 'lasix 40mg', 'spironolactone 25mg*0.5tab qd\\nfurosemide 40mg qd', 'spironolactone 25mg qd furosemide 20mg qd', 'lasix oral tablet 40 mg', 'bumetadine 1mg +0.5mg qd', 'furosemide 20mg every other day hold if bp less than ,100/60', 'spironolactone 50mg qd', 'furosemide 20mg *2tab qd', 'lasix 40mg *2tab qd', 'lasix 20mg qd\\nfurosemide 40mg qd', 'spironolactone 25mg qd\\nclopidogrel 75mg qd', 'bumetanide 1mg bid', 'metolazone 5mg bid\\nlasix 40mg qd', 'lasix 80mg bid\\naldactone 25mg *0.5tab qd\\nmetolazone 2.5mg qd every m/w/f', 'spironolactone 25mg*0.5tabqd', 'furosemide solution 40 mg/4ml - 20mg qd', 'lasix 20 qd', 'lasix 80mg qd\\naldactone 50mg qd', 'lasix 40mg qd\\nlasix 20mg qd( untill 0905)', 'torsemide 100mg q12h', 'lasix 40mg po daily', 'spironolactone 25mg qd- on hold x 7 days', 'bumetanide 0.5mg q2d', 'furosemide 80mg bid\\nspironolactone 50mg qd', 'lasix 40mg daily (spironolactone ended 08/13/17)', 'furosemide oral tablet 40 mg, qd', 'torsemide 20mg qd\\nspironolactone 25mg qd', 'furosemide 40mg qd\\nlasix 40mg qd for 5 days(starting 05202018)', 'lasix oral tablet 60 mg bid', 'furosemide oral tablet 40 mg qd', 'furosemide 40mg qd', 'lasix 20mg *3tab bid', 'spironolactone 25mg qd; bumetadine 2mg bid; metolazone 2.5mg tid2', 'bumetanide 1 mg, spironolactone 25 mg', 'quinapril 20mg qd', 'bumetanide 2 mg 1 tablet (2 mg) by oral route 2 times per day', 'furosemide 20mg *3tabqd\\nspirinolactone 25mg *0.5tab qd', 'lasix 80 mg qd, metolazone 2.5 mg qd', 'metolazone 5mg qd', 'metolazone 2.5mg qd\\nspironolactone 50mg qd\\ntorsemide 20mg *2tab bid', 'lasix 40mg qd\\naldactone 25mg*0.5tab qd', 'torsemide 80mg qd', 'lasix 40mg qd\\nquinapril 5mg qd', 'furosemide 20mg and spironolactone 25mg daily', 'furosemide 20mg qd', 'reduce bumex to 2mg daily and hold spironolactone, touch base on 8/4 with labs', 'bumex 1mg qd', 'lasix 40 mg qd', 'furosemide oral tablet 20 mg, qd', 'furosemide 20mg*3tab  qd\\nbumetanide 2mg qd', 'furosemide 80 mg bid', 'lasix 40mg*1.5tab bid', 'bumex 1mg bid', 'furosemide 40 mg tablet\\nsig: give 1 tablet (40 mg) by oral route once daily', 'lasix 20mg  bid', 'torsemide 100 mg  two times per day', 'furosemide 40 mg qd', 'lasix 80mg po bid', 'lasix 40mg qd; aldactone 50mg qd', 'lasix 20mg qg', 'furosemide 40mg  qd\\nspironolactone 25mg qd', 'lasix 80mg qd', 'furosemide oral tablet 20 mg, mg, qd-every day', 'lasix 20mg hs', 'furosemide tab 40mg bid', 'lasix 20mg qd\\naldactone 25mg qd', 'furosemide oral tablet 20 mg qd', 'bumex 1 mg qd', 'bumetanide 3 mg qd,', 'furosemide 20mg*3tab qd', 'torsemide 60mg qd\\nspironolactone 25mg qd', 'furosemide oral tablet 40 mg, qd-every day', 'torsemide 40mg qd', 'furosemide 40 mg 2 times per day', 'lasix 40mg q48h', 'lasix oral tablet 40 mg, qd', 'furosemide oral tablet 20 mg', 'torsemide 20mg*2tab qd', 'aldactone 25mg *0.5tab qd', 'furosemide 80mg qd\\nfurosemide 20mg hs', 'furosemide oral tablet 40 mg qd\\nspironolactone 25 mg qd', 'bumetanide 2mg q12h', 'bumetanide 1 mg*3tb qd', 'indapamide 1.25 mg qd\\nlasix 20mg qd', 'furosemide 80mg 1x', 'spironolactone 25mg qd\\ntorsemide 100mg qd', 'furosemid 20mg qd\\nlasix 20mg qd', 'lasix 40mg bid', 'lasix oral tab 20mg bid', 'bumetanide 1mg  two times per day\\nmetolazone 5mg qd', 'sildenafil 20 mg q 8h,', 'furosemide 40mg qd hold if bp <90/50', 'lasix40 mg qd', 'lasix oral tablet 40 mg qd', 'furosemide oral tablet 20 mg qd\\nspironolactone 25mg qd', 'cdre', 'lasix oral tab 40mg qd', 'metolazone 5mg  tiw\\naldactone 25mg  tiw\\nlasix 40mg  bid', 'metolazone 5mg qd  \\nfurosemide 40mg bid', 'furosemide 40mg qd\\nfurosemide 40mg qd (untill 05142018)', 'metolazone 2.5mg po q48hrs\\nbumetanide 1mg *3tab bid', 'furosemide 80mg bid', 'metolazone 2.5mg qd', 'torsemide 40mg po daily', 'spironolactone 25mg qd\\nlasix 40mg q48h', 'furosemide 20 mg qd', 'eliquis', 'furosemide', 'lasix 20mg *2tab bid', 'torsemide 20mg *4tab bid', 'bumex 1mg', 'lasix 20 mg every 12 hours', 'furosemide oral tablet 20 mg, qd-every day', 'furosemide oral tablet 20 mg daily', 'lasix oral tablet 40 mg q12 h', 'torsemide 80mg qd\\nmetolazone 2.5mg qd', 'furosemide 40mg+20mg qd', 'lasix 20 mg qd,', 'furosemide 40 mg', 'spironolactone 25mg qd', 'bumetadine 1mg qd', 'spironolactone 25mg q48h\\nlasix 20mg q48h', 'lasix 40 mg qd spironolactone 25mg qd', 'lasix 40mg qd\\nspironolactone 25mg *0.5tab qd', 'lasix 40mg bid (06232018-06262018)\\nlasix 40mg qd(since 06262018)', 'furosemide 40 mg tablet sig: give 1 tablet (40 mg) by oral route 2 times per day', 'furosemide 40mg qd\\nspironolactine 25mg *0.5tab qd', 'furosemide 40mg tid', 'furosemide 40mg*1.5tab 3 times per week', 'furosemide 20mg +40mg qd', 'n/a on records', 'lasix 20mg twice daily', 'lasix 40mg p.o. daily', 'lasix 40mg qd\\nspironolactone 25mg every other day', 'furosemide oral tablet 60 mg qd', 'lasix 60mg bid', 'lasix 40mg qd', 'torsemide 100mg bid', 'lasix 80mg bid, aldactone 25mg qd, acetazolamide 250mg bid.', 'furosemide 20mg daily, special instructions:hold for sbp <100*** ▼', 'lasix 60 mg bid', 'spironolactone 25mg qd\\nfurosemide 20mg qd', 'furosemide 40mg bid']\n",
      "1.0    490\n",
      "0.0    274\n",
      "Name: diuretics, dtype: int64\n",
      "num missing 167\n",
      "value counts before zero and one assignment: 0                                                                                                      167\n",
      "aspirin 81mg qd                                                                                        128\n",
      "aspirin 81 mg qd                                                                                        22\n",
      "none                                                                                                    18\n",
      "aspirin 81mg qd\\nclopidogrel 75mg qd                                                                    16\n",
      "eliquis 5mg q12h                                                                                        14\n",
      "eliquis 2.5mg q12h                                                                                      13\n",
      "aspirin 81mg qd\\nplavix 75mg qd                                                                         12\n",
      "clopidogrel 75mg qd\\naspirin 81mg qd                                                                     9\n",
      "clopidogrel 75mg qd                                                                                      7\n",
      "xarelto 20mg qd                                                                                          7\n",
      "xarelto 15mg qd                                                                                          7\n",
      "eliquis 2.5mg bid                                                                                        6\n",
      "plavix 75mg qd\\naspirin 81mg qd                                                                          6\n",
      "heparin sodium (porcine) solution 5000 unit/ml q12h                                                      5\n",
      "eliquis 5mg bid                                                                                          4\n",
      "aspirin 325mg qd                                                                                         4\n",
      "asa 81mg qd                                                                                              4\n",
      "aspirin 81 mg daily                                                                                      4\n",
      "eliquis 2.5mg q12h\\naspirin 81mg qd                                                                      4\n",
      "plavix 75mg qd                                                                                           4\n",
      "asa 81 mg qd                                                                                             3\n",
      "coumadin 3mg qd                                                                                          3\n",
      "0                                                                                                        3\n",
      "eliquis 2.5mg twice daily                                                                                3\n",
      "apixaban 5mg bid                                                                                         3\n",
      "aspirin low strength oral tablet chewable 81 mg, qd-daily                                                3\n",
      "xarelto 20mg qd\\naspirin 81mg qd                                                                         3\n",
      "coumadin 7.5mg qd                                                                                        3\n",
      "aspirin oral tablet chewable 81 mg, qd-every day                                                         3\n",
      "                                                                                                      ... \n",
      "eliquis oral tab 2.5 mg q12h                                                                             1\n",
      "coumadin 7.5 mg hs                                                                                       1\n",
      "coumadin 5mg hs; aspirin 81mg qd                                                                         1\n",
      "clopidogrel 75mg qd\\naspirin 81mg qd\\nheparin sodium (porcine) solution 5000 unit/ml q12h                1\n",
      "xarelto 20mg qd\\naspirinin 81mg qd                                                                       1\n",
      "aspirin 81 mg qd\\ncoumadine oral tab 4mg +2.5mg hs\\nheparin sod  intravenous 100 unit/ml qs              1\n",
      "warfarin 1mg qd                                                                                          1\n",
      "eliquis 2.5mg two times per day\\naspirin 81mg qd                                                         1\n",
      "aspirin 325 mg daily and clopidogrel 75 mg daily                                                         1\n",
      "warfarin 7.5mg qd\\naspirin 81mg qd                                                                       1\n",
      "aspirin 81mgqd                                                                                           1\n",
      "aspirin oral tab chewable 81mg qd\\neliquis oral tab 2.5mg bid                                            1\n",
      "xarelto 20 mg once daily                                                                                 1\n",
      "aspir 81 mg daily                                                                                        1\n",
      "plavix oral tab 75 mg qd\\nxarelto 15mg qd                                                                1\n",
      "aspirin 81mg patch daily chewing tablet vs. patch for lower back (verify records in emr, please ms)      1\n",
      "aspirin 81mg qd\\ncoumadin 1mg+6mg qd                                                                     1\n",
      "aspirin 81mg qd\\nplavix 75mg qd\\nranexa 500mg q12h                                                       1\n",
      "aspirin oral tablet chewable 81 mg - qd\\neliquis 5mg qd                                                  1\n",
      "apixaban 2.5 q12h; asa 81mg qd                                                                           1\n",
      "aspirin chewable 81 mg qd                                                                                1\n",
      "aspirin ec low dose oral tablet delayed release 81 mg, qd-every day                                      1\n",
      "aspirin 81 mg 7/24/2017                                                                                  1\n",
      "coumadin 4 mg hs  every sun, tue, thu, sat\\ncoumadin 2mg hs every mon, wed, fri                          1\n",
      "eliquis 2.5 mg bid,                                                                                      1\n",
      "aspirin ec low dose 81mg- qd\\neliquis tab 5mg bid                                                        1\n",
      "aspirin ec oral tablet delayed release 325 mg daily                                                      1\n",
      "aspirin 81mg qd\\napixaban 2.5mg bid                                                                      1\n",
      "heparin (porcine) 5,000 unit/ml injection solution q12h                                                  1\n",
      "asa 81mg daily                                                                                           1\n",
      "Name: anticoagulant, Length: 282, dtype: int64\n",
      "zero values: ['none', 'none\\nother cardiac meds: digoxin 0.25mg daily; amiodarone 100mg qd; isosorbide 10mg q8h;', 'none, hx. paf/a-fib not on ac, w/he of frequent nose bleed, required prbc x 2 within 2 weeks, upper gi bleed, allergic to asa', 'none, hx. paf/a-fib not on ac, w/he of frequent nose bleed, required prbc x 2 within 2 weeks, upper gi bleed, allergic to asa']\n",
      "Values set to 1.0: \n",
      " ['aspirin 81mg qd\\nlovenox 80mg q12h', 'aspirin ec low dose oral tablet delayed release 81 mg, qd-daily', 'aspirin 81mg qd\\neliquis 5mg q12h\\nclopidogrel 75mg qd', 'coumadin 4mg hs', 'eliquis 2.5mg q12h\\naspirin 81mg qd', 'plavix 75mg', 'enoxaparin sodium solution 40 mg/0.4ml 40 milligram subcutaneously qd', 'coumadin 2.5+5mg qd', 'oncologist rec. to d/c eliquis; asa 81mg qd', 'eliquis 2.5mg two times per day \\nclopidogrel 75mg qd', 'aspirin low dose oral tablet 81 mg', 'xarelto 20 mg hs', 'aspirin 81 mg qd  \\ncoumadine  3mg hs', 'coumadin 4mg qd\\naspirin 81mg qd', 'aspirin 81mg qd\\nheparin sodium (porcine) solution 5000 unit/ml q12h', 'eliquis 5mg bid\\nclopidogrel 75mg qd', 'heparin 5000unit/ml q12h', 'plavix oral tablet 75mg qd', 'eliquis 5mg q12h; furosemide 20mg qd', 'aspirin 81mg and eliquis 5mg', 'coumadin 1mg qd', 'plavix 75mg qd\\nxarelto 20mg bid', 'aspirin 81mg qd, apixaban 5mg q12h', 'xarelto 20mg qd\\naspirinin 81mg qd', 'aspirin 81mg qd\\napixaban 2.5mg q12h', 'coumadin 7.5mg qd', 'aspirin 81mg p.o. daily', 'coumadin 2mg qd twice weekly on tuesday and thursday\\ncoumadin 6mg qd twice weekly on tuesday and thursday\\ncoumadin 5mg qd every sun, mon, wed, fri, sat', 'warfarin 2.5 mg + 4mg hs-bedtime', 'brilinta 90mg q12h\\naspirin 81mg qd', 'warfarin 3mg qd\\naspirin 81mg qd', 'warfarin 2.5mg qd', 'enoxaparin sodium solution 40 mg/0.4ml inject 40 milligram subcutaneously qd', 'aspirin 81mg qd\\nwarfarin 4mg qd', 'coumadin 5mg qd', 'warfarin 1mg+4mg  hs', 'xarelto 15mg qd\\naspirin 81mg qd', 'eliquis 5mg bid', 'coumadin 3mg qd', 'bumetanide 2mg qd', 'aspirin 81mg qd\\nheparin sodium (porcine) solution 5000 unit/ml q8h\\nclopidogrel 75mg qd', 'eliquis 2.5 mg- six times a week', 'aspirin 81 mg chewable tablet\\nsig: give one tablet by mouth every day for prophylaxis', 'eliquis 5mg q12h\\naspirin 81mg qd', 'asa 81 mg qd, plavix 75 mg qd', 'aspirin low dose oral tablet 81 mg, qd-every day\\nplavix 75mg qd', 'enoxaparin sodium solution 60 mg/0.6ml inject 60 milligram subcutaneously one time a day\\naspirin 81mg qd', 'brilinta 90mg q12h', 'coumadin 2.5mg qd', 'heparin 5000unit/ml q8h', 'coumadin 2.5mg+1mg qd', 'aspirin 81mg qd\\neliquis 5mg bid', 'aspirin ec low dose oral tablet delayed release 81 mg, qd-every day\\nbrilinta tab 90mg q12h', 'plavix 75mg; aspirin 81mg qd', 'hx. of gib(was taken off coumadin as per wife)', 'coumandin 1mg qd\\naspirin 325mg qd', 'plavix 75mg qd\\naspirin 81mg qd', 'coumadin 2.5+3mg qd\\naspirin 81mg qd', 'warfarin 5mg qd', 'aspirin 81mg qd\\nheparin sodium injection solution 5000unit/ml hs', 'aspirin low dose oral tablet 81 mg, qd\\neliquis 5mg bid', 'eliquis 2.5mg q12h\\naspirin 81 mg qd', 'aspirin 81 mg qd\\ncoumadine oral tab 4mg +2.5mg hs\\nheparin sod  intravenous 100 unit/ml qs', 'aspirin 81mg daily', 'aspirin 81mg qd\\nwarfarin 2mg qd', 'eliquis 5mg 2times per day', 'clopidogrel 75mg daily and aspirin 81 mg 1 tablet (81 mg) by oral route once daily', 'xarelto 20mg qd\\naspirin 81mg qd', 'asa 81 mg qd', 'aspirin 81mg qd\\nwarfarin 5 mg qd', 'aspirin low dose oral tablet 81 mg, qd-every day', 'eliquis 5mg q12h2', 'aspirin low dose oral tablet 81 mg qd\\neliquis 2.5mg q12h', 'aspirin 81 mg 2 tablets daily', 'aspirin low dose oral tablet 81 mg qd\\nheparin sodium (porcine) solution 5000 unit/ml q12h', 'aspirin 81mg qd\\nheparin sodium (porcine) injection solution 5000 unit/ml- q8h', 'eliquis tab 5mg bid', 'aspirin 81 mg qd', 'aspirin 81 mg daily\\nwarfarin 6 mg', 'heparin 5000ml/unit q12h', 'eliquis 5mg', 'warfarin sodium 3 mg hs\\naspirin ec 81 mg qd', 'warfarin 1mg qd sunday/tus/th/saturday\\nwarfarin 2mg qd mon/wed/friday', 'clopidogrel tab 75mg q48h\\naspirin 81mg q2d\\n\\nother cardiac meds: isosorbide mononitrate er 30mg qd.', 'warfarin 4mg qd', 'aspirin 81 mg 1 tablet (81 mg) by oral route once daily; eliquis 5 mg 1 tablet (5 mg) by oral route 2 times per day', 'plavix 75mg qd;  warfarin 3mg hs', 'pradaxa 75mg q12h', 'aspirin 81mg q12h', 'coumadin 6mg qd+ 1mg', 'aspirin 81 mg 7/24/2017', 'aspirin 81mg qd\\nxarelto 20mg hs', 'xarelto 15mg qd', 'warfarin 7.5mg hs', 'coumadin 5mg qd\\naspirin 81mg qd', 'plavix 75mg qd; aspirin 81mg qd', 'eliquis 5 mg q12h', 'coumadin oral tab 2.5 mg hs', 'clopidogrel 75mg qd2; aspirin 81mg', 'coumadin 10mg qd', 'plavix 75mg qd\\nxarelto 15mg qd', 'brilinta 90mg twice daily\\naspirin 81mg qd', 'aspirin 81 mg daily', 'aspirin 81mg qd\\nlovenox 100mg/ml inject 0.9ml q12h', 'asa 81mg qd; xarelto 20mg qd', 'xarelto 20mg hs', 'clopidogrel 75mg qd\\ncoumadin oral tab 2.5 mg+1mg  hs', 'aspirin 81mg qd', 'warfarin 2mg qd\\nwarfarin 2mg every week on sunday am', 'coumadin 4mg  qd  sunday/ tuesday/thursday/saturday\\ncoumadin 5mg  qd  monday wednesday friday', 'eliquis 2.5mg two times a day', 'eliquis tab 5mg q12h', 'aspirin 325mg', 'eliquis 2.5 mg q12, aspirin 81 mg qd', 'eliquis 5mg bid\\naspirin 81mg qd', 'eliquis 5 mg every 12 hours', 'aspirin low strength oral tablet chewable 81 mg, qd-daily', 'coumadin oral tablet 5 mg- hs', 'aspirin 81mg qd and clopidogrel 75mg qd', 'eliquis 2.5 mg qd', 'warfarin 6mg hs', 'warfarin sodium 2mg hs-bedtime', 'aspirin ec low dose  81mg qd\\nxarelto 15mg qd', 'plavix 75mg po daily\\naspirin 81mg po daily', 'eliquis 2.5mg twice daily', 'aspirin 81 mg qd, xarelto 20 mg hs', 'asa 81mg', 'aspirin ec 81 mg qd\\neliquis 2.5 mg q12h', 'aspirin 325mg ec qd', 'eliquis 2.5mg bid\\naspirin 81mg qd', 'aspirin 81mg  qd\\nxarelto 10mg qd', 'asa 81mg daily', 'aspirin 81mg po daily', 'aspirin 81 mg qd\\nclopidogrel 75 mg qd', 'apixaban 5mg q12h', 'eliquis 2.5 mg bid', 'aspirin 81mg every mon, wed, fr', 'coumadin 2.5mg hs', 'heparin sodium (porcine) solution 5000 unit/ml q8h\\naspirin 81mg qd\\nplavix 75mg qd', 'eliquis 5mg bid aspirin 81mg qd', 'aspirin 81mg qd2', 'aspirin ec low dose oral tablet delayed release 81 mg, qd', 'coumadin 8 mg hs, aspirin 81 mg qd', 'aspirin  ec low dose 81mg qd\\nwarfarin 6mg hs- bedtime', 'aspirin ec low dose oral tablet', 'aspirin oral tablet chewable 81 mg, qd-every day', 'aspirin low strength oral tablet chewable 81 mg, qd-every day', 'asa 81 mg qd, eliqius 2.5 mg bid', 'aspir-low tab 81mg qd', 'brilinta 60mg bid\\naspirin 81mg *2tab qd', 'asa 81mgod and plavix 75mg od', 'warfarin 5mg hs', 'coumadin 10mg qd\\naspirin 81mg qd', 'aspirin low strength oral tablet chewable 81 mg - qd-every day', 'aspirin 81mg', 'warfarin 2mg qd', 'aspirin 81mg patch daily chewing tablet vs. patch for lower back (verify records in emr, please ms)', 'plavix 75mg qd', 'eliquis 2.5mg q12h', 'heparin (porcine) 5,000 unit/ml injection solution q12h', 'aspirin 81mg qd\\napixaban 2.5mg bid', 'aspirin ec low dose 81mg- qd\\neliquis tab 5mg bid', 'apixaban 2.5mg q12h', 'coumadin 4 mg hs  every sun, tue, thu, sat\\ncoumadin 2mg hs every mon, wed, fri', 'aspirin 81mg qd\\neliquis 2.5mg q12h', 'aspirin ec low dose oral tablet delayed release 81 mg, qd-every day', 'aspirin chewable 81 mg qd', 'apixaban 2.5 q12h; asa 81mg qd', 'eliquis 2.5mg q12h\\nclopidogrel 75mg qd', 'aspirin oral tablet chewable 81 mg - qd\\neliquis 5mg qd', 'aspirin 81 mg', 'aspir-low oral tablet 81 mg daily', 'aspirin 81mg qd\\nplavix 75mg qd\\nranexa 500mg q12h', 'aspirin 81mg qd\\ncoumadin 1mg+6mg qd', 'plavix oral tab 75 mg qd\\nxarelto 15mg qd', 'plavix 75mg daily', 'eliquis oral tab 2.5 mg q12h', 'aspir 81 mg daily', 'xarelto 20 mg once daily', 'aspirin ec tab 81mg qd\\nwarfarin sodium oral tab 2mg qiw\\nwarfarin sodium oral tab 1mg tiw\\nplavix 75mg qd', 'aspirin oral tab chewable 81mg qd\\neliquis oral tab 2.5mg bid', 'aspirin 81mgqd', 'clopidogrel bisulfate  75 mg qd\\naspirin 81mg qd', 'coumadin 7.5 mg hs', 'warfarin 7.5mg qd\\naspirin 81mg qd', 'heparin sodium (porcine) solution 5000 unit/ml q12h', 'aspirin 81mg qd\\neliquis 2.5mg bid', 'eliquis 2.5mg two times per day\\naspirin 81mg qd', 'aspirin 325 mg daily and clopidogrel 75 mg daily', 'aspir 81 mg hs', 'warfarin 1mg qd', 'xarelto 20mg qd', 'plavix oral tablet 75 mg\\naspirin 81mg qd', 'coumadin 5mg hs; aspirin 81mg qd', 'aspirin 81mg qd\\ncoumadin 2.5+1mg qd', 'aspirin 81mg, plavix 75mg', 'ranexa 500mg bid', 'pradaxa 150mg q12h', 'clopidogrel 75mg qd\\naspirin 81mg qd', 'eliquis 5mg q12h; aspirin 81mg qd', 'aspirin 81mg qd\\nplavix 75mg qd\\nxarelto 20mg qd', 'aspirin 325 mg  qd', 'aspirin 81mg bid', 'coumadin 2mg qd\\naspirin 81mg qd', 'clopidogrel 75mg qd\\neliquis 5mg bid', 'eliquis 2.5 mg bid,', 'aspirin 81mg qd\\nplavix 75mg qd', 'aspirin 81 mg, qd\\nplavix 75mg qd', 'coumadin 2mg qd', 'aspirin 81mg qd\\nclopidogrel tab 75mg qd', 'aspirin 81mg qd\\nbrilinta 90mg q12h', 'clopidogrel 75mg qd\\naspirin low dose 81 mg qd', 'aspirin 81 mg 7/31/17 daily', 'plavix and lovenox', 'eliquis 5mg two times a day', 'love of 40mg daily', 'aspirin 325mg qd', 'aspirin 81mg qd\\nclopidogrel 75mg qd', 'hvav', 'clopidogrel 75mg qd, apixaban 2.5mg bid', 'brilinta 90mg bid', 'aspirin 81mg qd\\nwarfarin sodium tablet \\t\\ngive 1 mg by mouth at bedtime', 'apixaban 5mg bid', 'aspirin chewable 81mg qd, apixaban 5 mg q12h', 'clopidogrel 75mg qd\\naspirin 81mg qd\\nheparin sodium (porcine) solution 5000 unit/ml q12h', 'aspirin 81 mg tablet,delayed release sig: give 1 tablet (81 mg) by oral route once daily', 'aspirin ec low dose oral tablet delayed release 81 mg', 'aggrenox capsule extended release 12 hour 25-200 mg (aspirin-dipyridamole er) qd', 'aspirin 81 mg and plavix 75 mg daily', 'pradaxa 150mg bid', 'aspirin oral tablet chewable 81 mg, qd-every day\\neliquis 2.5mg q12h', 'aspirin 81mg qd  \\nclopidogrel 75mg qd', 'aspirin 81mg qd, ticagrelor 90mg q12h', 'aspirin 325mg qd\\nclopidogrel 75mg qd\\napixaban 5mg q12h', 'aspirin ec low dose oral tablet delayed release 81 mg, ds', 'heparin sodium (porcine) injection solution 5000 unit/ml, qd - every day\\naspirin low strength oral tablet chewable 81 mg, qd - every day', 'aspirin 81 mg qd,', 'xarelto 20mg daily', 'aspirin ec 81mg qd\\nclopidogrel 75mg qd', 'heparine injection 5000', 'aspirin 81mg qd; plavix 75mg qd', 'aspirin 81mg qd\\ncoumadin 5mg hs', 'heparin 5000 s/ml - 1ml q12h; aspirin 81mg qd', 'asa 81mg qd', 'eliquis 5mg q12h', 'coumadin 6mg qd', 'aspirin 81mg qd\\npradaxa 75mg q12h', 'coumadin 6mg', 'brillinta 90mg q12h\\naspirin 81mg qd', 'furosemide oral tablet 20 mg, qd-every day', 'aspirin 81mg qd\\nxarelto 20mg qd', 'plavix 75 mg qd,', 'aspirin 81mg qd\\ncoumadin  3mg hs- bedtime', 'aspirin ec oral tablet delayed release 325 mg daily', 'aspirin ec low dose oral tablet delayed release 81 mg qd\\nplavix 75mg qd', 'asa', 'warfarin 10mg qd\\naspirin 81mg qd', 'clopidogrel 75mg qd', 'clopidogrel 75mg qd\\nequis 5mg q12h', 'aspirin 81mg qd\\nheparin sodium (porcine) solution 5000 unit/ml q8h', 'aspirin low strength oral tablet chewable 81 mg, qd', 'aspirin 81 mg 1x', 'coumadin oral tablet 5 mg 1 tablet(s) by mouth hour of sleep', 'warfarin 6mg  qd\\naspirin 81mg qd', 'coumadin 4mg qd', 'n/a on records', 'eliquis 2.5 mg q12, asa 81mg qd', 'aspirin 81mg qd\\neliquis 5mg q12h', 'clopidogrel 75 mg daily', 'plavix 75 mg qd', 'clopidogrel 75mg qd\\ncoumadin 2.5mg+4mg give 1 tablet (2.5 mg) by oral route once daily add 4 mg with 2.5 mg total 6.5mg', 'plavix 75mg po daily (stop on 9/19/18)\\naspirin 325mg po daily', 'eliquis 2.5mg bid', 'pradaxa 75mg qd', 'warfarin 2+2.5mg qd', 'aspirin oral tablet chewable 81mg qd', 'clopidogrel 75mg qd\\nwarfarin 10mg hs\\naspirin 81mg qd']\n",
      "1.0    574\n",
      "0.0    190\n",
      "Name: anticoagulant, dtype: int64\n",
      "num missing 675\n",
      "value counts before zero and one assignment: 0                                                                                                                                                                                                                                                    675\n",
      "none                                                                                                                                                                                                                                                  31\n",
      "digoxin 125mcg qd                                                                                                                                                                                                                                     14\n",
      "digoxin 0.125mg qd                                                                                                                                                                                                                                    10\n",
      "digoxin 125mcg q48h                                                                                                                                                                                                                                    3\n",
      "digox 0.125mg qd                                                                                                                                                                                                                                       3\n",
      "digox 0.125mg tiw                                                                                                                                                                                                                                      1\n",
      "digoxin 0.25mg qd                                                                                                                                                                                                                                      1\n",
      "digoxin 125mcg orally qd                                                                                                                                                                                                                               1\n",
      "digoxin 125 mcg once daily three times a week                                                                                                                                                                                                          1\n",
      "digoxin 250mcg qd                                                                                                                                                                                                                                      1\n",
      "digoixin 125mcg qd                                                                                                                                                                                                                                     1\n",
      "digoxin 0.125mg q2d                                                                                                                                                                                                                                    1\n",
      "dopamine drips via curling pump in continuous mode concentration : 1.6 mg/ml . bag volume: 500 ml . prog volume : 288 ml . rate : 12 ml/ hr time : 24 hrs . kvo 10 ml/hr . coram to dispense premixed bag 800 mg/500 ml . concentration 1.6 mg/ml      1\n",
      "digoxin 125mcg qd hold medication and call md if heart rate is below 60                                                                                                                                                                                1\n",
      "digoxin solution 0.05 mg/ml - give 2.5ml qd                                                                                                                                                                                                            1\n",
      "amiodarone hcl 200 mg qd                                                                                                                                                                                                                               1\n",
      "digox 125mcg every other day                                                                                                                                                                                                                           1\n",
      "digoxin 125mcg qd, diltiazem hcl er 120 mg q12h                                                                                                                                                                                                        1\n",
      "digoxin 125mcg q48h, , milrinone lactate solution  0.375 mcg/hr intravenously every shift related to acute on chronic systolic (congestive) heart failure (i50.23) 0.375mcg/kg/min to run 5.8ml/hr                                                     1\n",
      "digoxin 0.125 mg qd                                                                                                                                                                                                                                    1\n",
      "iv dobutamine 4mcg/kg/min @ 4ml/hr for wt. of 66kg                                                                                                                                                                                                     1\n",
      "digoxin 0.125 mg biw                                                                                                                                                                                                                                   1\n",
      "digoin 125mcg qd                                                                                                                                                                                                                                       1\n",
      "digoxin 125mcgqd                                                                                                                                                                                                                                       1\n",
      "dobutamine 8mcg/kg/min                                                                                                                                                                                                                                 1\n",
      "digoxin 0.125mg qd orally                                                                                                                                                                                                                              1\n",
      "aspirin 81mg qd                                                                                                                                                                                                                                        1\n",
      "digox 125mcg qd                                                                                                                                                                                                                                        1\n",
      "digoxin 125mcg qd every other day                                                                                                                                                                                                                      1\n",
      "n/a on records                                                                                                                                                                                                                                         1\n",
      "digoxin 0.125mg q48h                                                                                                                                                                                                                                   1\n",
      "eliqus 2.5mg q12h                                                                                                                                                                                                                                      1\n",
      "digoxin 125mcg qd every mon, thu                                                                                                                                                                                                                       1\n",
      "Name: ionotropes, dtype: int64\n",
      "zero values: ['none', 'digoxin 125mcg q48h, , milrinone lactate solution  0.375 mcg/hr intravenously every shift related to acute on chronic systolic (congestive) heart failure (i50.23) 0.375mcg/kg/min to run 5.8ml/hr']\n",
      "Values set to 1.0: \n",
      " ['digoxin 125mcg q48h', 'digoxin 125mcg orally qd', 'digoxin 125 mcg once daily three times a week', 'digoxin 250mcg qd', 'digoixin 125mcg qd', 'digoxin 0.125mg q2d', 'dopamine drips via curling pump in continuous mode concentration : 1.6 mg/ml . bag volume: 500 ml . prog volume : 288 ml . rate : 12 ml/ hr time : 24 hrs . kvo 10 ml/hr . coram to dispense premixed bag 800 mg/500 ml . concentration 1.6 mg/ml', 'digoxin 125mcg qd hold medication and call md if heart rate is below 60', 'digoxin solution 0.05 mg/ml - give 2.5ml qd', 'digoxin 125mcg qd, diltiazem hcl er 120 mg q12h', 'digoxin 0.25mg qd', 'dobutamine 8mcg/kg/min', 'iv dobutamine 4mcg/kg/min @ 4ml/hr for wt. of 66kg', 'digoxin 0.125mg qd', 'digoxin 0.125mg q48h', 'amiodarone hcl 200 mg qd', 'digoin 125mcg qd', 'digoxin 125mcgqd', 'digoxin 0.125mg qd orally', 'aspirin 81mg qd', 'digox 125mcg qd', 'digoxin 125mcg qd every other day', 'n/a on records', 'digox 0.125mg qd', 'digox 125mcg every other day', 'eliqus 2.5mg q12h', 'digoxin 0.125 mg qd', 'digox 0.125mg tiw', 'digoxin 125mcg qd', 'digoxin 0.125 mg biw', 'digoxin 125mcg qd every mon, thu']\n",
      "0.0    707\n",
      "1.0     57\n",
      "Name: ionotropes, dtype: int64\n",
      "num missing 507\n",
      "value counts before zero and one assignment: 0                                                                     507\n",
      "none                                                                   82\n",
      "0                                                                      74\n",
      "no                                                                     28\n",
      "pacemaker                                                              25\n",
      "aicd                                                                   14\n",
      "yes                                                                     7\n",
      "no aicd or pacemaker                                                    3\n",
      "life vest                                                               2\n",
      "ppm                                                                     2\n",
      "lifevest                                                                2\n",
      "hld, htn                                                                1\n",
      "aicd 2014                                                               1\n",
      "pace maker only                                                         1\n",
      "no on life vest                                                         1\n",
      "aicd-dual chamber                                                       1\n",
      "no (ppm only)                                                           1\n",
      "ppm mobitz i 2013                                                       1\n",
      "z95.810  presence of automatic (implantable) cardiac defibrillator      1\n",
      "zoll life vest                                                          1\n",
      "0.25                                                                    1\n",
      "zoll lifevest                                                           1\n",
      "pacemaker 6/11/18                                                       1\n",
      "left chest wall                                                         1\n",
      "o                                                                       1\n",
      "s/p ppm/aicd                                                            1\n",
      "aicd(turned off), has zoll lifevest                                     1\n",
      "pacemaker, prosthetic heart valve                                       1\n",
      "combined aicd and pacemaker                                             1\n",
      "Name: aicd, dtype: int64\n",
      "zero values: ['none', 'no aicd or pacemaker', 'no (ppm only)', 'no', 'no on life vest']\n",
      "Values set to 1.0: \n",
      " ['pace maker only', 'aicd-dual chamber', 'pacemaker', 'z95.810  presence of automatic (implantable) cardiac defibrillator', '0.25', 'zoll life vest', 'zoll lifevest', 'lifevest', 'o', 'ppm', 'aicd', 'aicd 2014', 'hld, htn', 's/p ppm/aicd', 'left chest wall', 'pacemaker 6/11/18', 'combined aicd and pacemaker', 'pacemaker, prosthetic heart valve', 'ppm mobitz i 2013', 'life vest', 'yes', 'aicd(turned off), has zoll lifevest']\n",
      "0.0    696\n",
      "1.0     68\n",
      "Name: aicd, dtype: int64\n",
      "num missing 254\n",
      "value counts before zero and one assignment: 0                                                                                                                                                                      254\n",
      "atorvastatin 40mg qd                                                                                                                                                    35\n",
      "atorvastatin 80mg qd                                                                                                                                                    22\n",
      "amlodipine 10mg qd                                                                                                                                                      19\n",
      "amlodipine 5mg qd                                                                                                                                                       15\n",
      "simvastatin 20mg qd                                                                                                                                                     12\n",
      "atorvastatin 20mg qd                                                                                                                                                    11\n",
      "amiodarone 200mg qd                                                                                                                                                      9\n",
      "lipitor 40mg qd                                                                                                                                                          8\n",
      "no cardiac meds on the record                                                                                                                                            6\n",
      "simvastatin 10mg qd                                                                                                                                                      6\n",
      "simvastatin 40mg qd                                                                                                                                                      5\n",
      "nifedipine 60mg qd                                                                                                                                                       5\n",
      "isosorbide mono 30mg qd                                                                                                                                                  4\n",
      "atorvastatin 40 mg hs                                                                                                                                                    4\n",
      "nifedipine 30mg qd                                                                                                                                                       4\n",
      "hydralazine 100mg  q8h;isosorbide mono 30mg qd; simvastatin 20mg hs                                                                                                      4\n",
      "nifedipine 90mg qd                                                                                                                                                       4\n",
      "simvastatin 10mg hs                                                                                                                                                      4\n",
      "lipitor 20mg qd                                                                                                                                                          4\n",
      "lipitor 10mg qd                                                                                                                                                          3\n",
      "norvasc 10mg qd                                                                                                                                                          3\n",
      "norvasc 5mg qd                                                                                                                                                           3\n",
      "amlodipine 2.5mg qd                                                                                                                                                      3\n",
      "none                                                                                                                                                                     3\n",
      "isosorbide din 20mg tid                                                                                                                                                  2\n",
      "rosuvastatin 5mg qd                                                                                                                                                      2\n",
      "amlodipine 10mg qd, isosorbide din 10mg tid, hydralazine 25mg q8h, crestor 40mg hs                                                                                       2\n",
      "hydrochlorothiazide 25mg qd                                                                                                                                              2\n",
      "metolazone 5mg 1 tablet (5 mg) by oral route 2 times per week on monday and thursday at 6:30 pm (30 minutes after torsemide)                                             2\n",
      "                                                                                                                                                                      ... \n",
      "nifedipine 90mg qd2; hydralazine 100mg q8h2; cilostazol 50mg bid2; atorvastatin 20mg q evenings                                                                          1\n",
      "amlodipine 5mg qd, hydralazine 25mg q8h                                                                                                                                  1\n",
      "simvastatin 20mg qd, nitroglycerin tablet sublingual 0.4 mg \\tgive 1 tablet sublingually every 5 minutes as needed for chest pain x 3 doses. if no relief, call md.      1\n",
      "atorvastatin 40mg qd, amiodarone 200mg q12h                                                                                                                              1\n",
      "hydralazine 50mg tid, lipitor 10mg qd, nifedipine 60mg qd                                                                                                                1\n",
      "norvasc                                                                                                                                                                  1\n",
      "amlodipine 10mg qd, atorvastatin 40mg, isosorbide din 20mg tid                                                                                                           1\n",
      "atorvastatin 40mg qd, amlodipine 10mg qd                                                                                                                                 1\n",
      "amlodipine 5mg qd, hydralazine 25mg q8h,isosorbide din 10mg *0.5tab tid                                                                                                  1\n",
      "ranitidine hcl 150 mg qd; simvastatin 20 mg hs                                                                                                                           1\n",
      "norvasc 5mg qd; lipitor 20mg hs                                                                                                                                          1\n",
      "isosrobide mononitrate 10mg qd, atorvastatin 20mg qd                                                                                                                     1\n",
      "atorvastatin 40mg qd, amlodipin 5mg qd                                                                                                                                   1\n",
      "simvastatin 10mg q evening                                                                                                                                               1\n",
      "amlodipine 2.5mg qd, atorvastatin 20mg qd                                                                                                                                1\n",
      "nitroglycerin tablet sublingual 0.4 mg every 5mins, isosorbide mono 6-mg qd, atorvastatin 80mg qd                                                                        1\n",
      "simvastatin 20 mg hs, digoxin 0.125 mg qod                                                                                                                               1\n",
      "pravastatin 20mg qd                                                                                                                                                      1\n",
      "amiodarone 400 mg qd                                                                                                                                                     1\n",
      "amiodarone 200mg*0.5tab  qd, simvastatin 20mg qd                                                                                                                         1\n",
      "metolazone 5mg qd                                                                                                                                                        1\n",
      "nifedipine er 60mg                                                                                                                                                       1\n",
      "pravastatin 40 mg once daily,                                                                                                                                            1\n",
      "nifedipine 90mg qd; atorvastatin 40mg hs                                                                                                                                 1\n",
      "simvastatin 20mg qd2                                                                                                                                                     1\n",
      "atorvastain 20mg qd                                                                                                                                                      1\n",
      "amlodipine 10mg qd, simvastatin 10mg 1hs                                                                                                                                 1\n",
      "midodrine 10mg q8h; amiodarone 200 mg qd                                                                                                                                 1\n",
      "isosorbide mono 120mg qd simvastatin 20mg qd                                                                                                                             1\n",
      "isosorbide din 10mg q8h, atorvastatin 10mg qd                                                                                                                            1\n",
      "Name: other cardiac meds, Length: 319, dtype: int64\n",
      "zero values: ['none', 'milrinone lactate in dextros solution 40-5 mg/200ml%', 'no cardiac meds on the record', 'no orders found on the record', 'no cardiac meds available on the record', '12/26: no med records in \"orders\" pointclickcare']\n",
      "Values set to 1.0: \n",
      " ['norvasc 2.5mg qd', 'potassium chloride er 20 meq daily with food', 'hydralazine 50mg q8 h; nifedipine 60mg qd, diovan 320mg qd, atorvastatin 40mg qd', 'atorvastatin 4mg qd', 'amlodipine 10mg qd, atorvastatn 10mg qd', 'pravastatine 80mg qd', 'lipitor 40mg qd, isosorbide mono 30mg qd, hydralazine 50mg q8h', 'amiodarone 200 mg qd; ; norvasc 5mg qd, atorvastatin 40mg qd', 'nifedipine 60mg qd, simvastatin 40mg qd', 'hydralazine 50mg q8h; nifedipine er 60mg qd', 'hydrochlorothiazide 25mg qd, atorvastatin 10mg qd', 'hydralazine 50mg q8h, nifedipine 30mg qd', 'hydralazine 100mg  q8h;isosorbide mono 30mg qd; simvastatin 20mg hs', 'isosorbid mono 30mg qd, atorvastatin 20mg qd', 'hydrochlorothiazide 25mg qd', 'nitrostat sublingual 0.4mg prn, simvastatin 10mg hs', 'amlodipine 10mg qd, nifedipine 30mg qd', 'hydralazine 10mg tid', 'hydralazine 100mg tid', 'hydralazine 50mg tid, isosorbide din 10mg tid', 'atorvastatin 20mg qd, amlodipine 5 mg q12h', 'atorvastatin 20mg qd, nifedipine 60mg qd', 'atorvastatin 40mg qd,  amlodipine 10mg qd', 'atorvastatin 10mg qd, amlodipine 5mg qd', 'amlodipine 5mg qd', 'hydralazine 100mg 3x daily; nifedipine 60mg qd', 'isosorbide mono 30mg qd', 'hydralazine 50mg fid, simvastatin 10mg qd', 'hydralazine 10 mg q8h', 'amlodipine 2.5 mg qd, simvastatin 10mg qd', 'norvasc 10 mg tablet sig: give 1 tablet (10 mg) by oral route once daily,', 'digoxin 0.125 mg qd', 'rosuvastatin calcium 5 mg qd,  amlodipine besylate5 mg qd', 'acetazolamide tablet 250 mg tid, lipitor 40mg qd', 'atorvastatin 40mg qd, entresto tablet 49-51 mg (sacubitril-valsartan) bid', 'amlodipine 10mg po daily; hydralazine 25mg po q8h', 'isosorbide mono 120mg qd', 'atorvastatin 20mg qd, nifedipine 90mg qd', 'hydralazine 25mg q8h, amlodipine 5mg qd', 'isosorbide mono 30mg *3tab qd, amlodipine 10mg qd, atorvastatin 80mg qd, hydralazine 100mg q8h', 'norvasc 10 mg (amlodipine besylate)1 in the morning', 'amlodipine besy-benazepril hcl capsule 5-20 mg qd, atorvastatin 20mg qd', 'nifedipin 60mg qd, rosuvastatin 5mg qd, isosorbide din 20mg q8h', 'atorvastatin 40mg hs; isosorbide dinitrate 30mg qd', 'amlodipine 2.5mg qd, atorvastatin 20mg qd', 'nifedipine er 60mg', 'nifedipine 90mg qd; atorvastatin 40mg hs', 'simvastatin 20mg qd2', 'lipitor 20 mg hs', 'midodrine 10mg q8h; amiodarone 200 mg qd', 'atorvastain 40mg qd', 'atorvastatin 80mg qd, nifedipine 30mg qd', 'simvastatin 10mg hs', 'atorvastatin 10mg qd, hydralazine 100mg q8h, isosorbide mono 60mg qd', 'hydralazine 25mg q8h, isosorbide mono 20mg qd', 'nifedipine er 90mg qd', 'potassium chloride 10meq qd2', ', atorvastatin 20mg qd', 'amlodipine 10mg qd, zetia(ezetimibe) 10mg qd', 'amlodipine 10mg qd, atorvasatin 10mg qd', 'digoxin 0.125mg qd; norvasc 10mg qd; atorvastatin 80mg hs', 'hydralazine 50mg q6h', 'atorvastatin 40mg qd, hydralazine 100mg q8h, isosorbide mono 60mg qd', 'isosorbide din 20mg q8h, simvastatin 40mg qd', 'amlodipine 5mg hs, lipitor 40mg qd', 'isosorbide mononitrate 30mg qd', 'potassium chloride er 20 meq tablet,extended release sig: give 1 tablet (20 meq) by oral route once daily with food', 'amiodarone 200mg qd, simvastatin 10mg qd', 'isosorbide din 10mg q8h, atorvastatin 40mg qd, nitroglycerin tablet sublingual 0.3 mg every 5mins', 'atorvastatin 80mg qd', 'isosorbide mono 30mg qd, hydralazine 25mg tid, simvastatin 20mg qd', 'n/a on records', 'midrodrine 10mg tid', 'hydralazine 50mg tid, hydrochlorothiazide 12.5mg qd, nifedipine 90mg qd', 'atorvastatin 40mg qd, hydralazine 100mg q8h, isosorbide din 30mg *2tab tid', 'atorvastatin 80mg qd, isosorbide mono 30mg qd', 'simvastatin 10mg qd', 'atorvastatin 20mg qd, hydralazine 10mg q8h', 'isosorbide din 5mg*2tab bid,', 'hydralazine 10mg qid, isosorbide din 10mg tid', 'hydralazine 25mg tid, atorvastatin 80mg qd, isosorbide mono 30mg qd', 'amlodipine 5mg qd, isosorbide din 30mg qd, atorvastatin 40mg qd', 'metolazone 5mg qd 30 minutes after torsemide, simvastatin 20mg qd', 'hydralazine 25mg tid; isosorbide mononitrate er 30mg qd', '10/23/17 inc. hydralazine 100mg q8h; amlopdine 10mg qd; isosorbide mon. er 120mg qd', 'atorvasatin 80mg qd', 'atorvastatin 20mg qd, hydralazine 10mg tid, amlodipine 10mg qd', 'hydralazine 50 mg q 8 h, atorvastatin 40 mg hs', 'digoxin 0.125 mg hs', 'atorvastatin 10mg qd', 'isosorbide mono 30mg qd, hydralazine 25mg q8h,atorvastatin 40mg qd', 'hydralazine 10mg tid, atorvastatin 40mg qd', 'isosorbide mononitrate er 30 mg 1 tablet (30 mg) by oral route once daily; hydralazine 25 mg every 8 hours; atorvastatin 40 mg once daily at bedtime', 'hydralazine 100mg q8h, nifedipine 60mg*2tab qd, atorvastatin 20mg qd', 'atorvasatin 20mg qd', 'hydralazine 100mg q8h, nifedipine 60mg qd, atorvastatin 40mg qd, amodipine 5mg qd', 'simvastatin 20mg qd', 'isosorbide mono 30mg qd, nitroglycerin tablet sublingual 0.3 mg give 1 tablet sublingually every 5 minutes as needed for chest pain dissolve 1 tab under the tongue or in buccal pouch at first sign of an acute anginal attack. dose may be repeated approx every 5 mins until relief is obtained up to 3 doses. notify md/np at first c/o symptom', 'amlodipine 10mg qd', 'isosorbide mono er 30mg qd', 'amiodarone 200mg q12h, rosuvastatin 10mg qd', 'atorvastatin 40 mg hs', 'hydralazine 75mg q8h, isosorbide mono 30mg qd, atorvastatin 80mg qd', 'isosorbide dinitrate 20mg q8h; amlodipine 10mg qd; hydralazine 50mg q8h', 'isosorbide mono 60mg qd', 'amlodipine 5mg qd, atorvastatin 20mg qd', 'acetazolamide 125mg qd', 'amiodarone 200mg qd, atorvastatin 40mg qd', 'isosorbide din 10mg q8h, atorvastatin 10mg qd', 'profile is incomplete', 'isosorbide mono 30mg qd, rosuvastatin 20mg qd', 'atorvastattin 80mg qd', 'isosorbide mono 30mg*3tab qd, atorvastatin 20mg qd', 'isosorbide din 20mg*2tab q8h, hydralazine 25mg*3tab tid. amlodipine 10mg  qd,nitroglycerin tablet sublingual 0.4 mg 1 tablet sublingually every 5 minutes for 3 doses as needed for chest pain - if no relief call md', 'aldactone 25mg qhs; amiodarone 200mg q12; coreg 6.25mg bid; hydralazine hcl 10mg bid.', 'hydralazine 25mg q8h, simvastatin 20mg qd', 'sildenafil 20mg q8h', 'pravastatin 80mg qd, sildenafil 20mg tid', 'isosorbide din 10mg tid, rosuvastatin 5mg qd, hydralazine 25mg q8h', 'simvastatin 20 mg hs, digoxin 0.125 mg qod', 'pravastatin 20mg qd', 'metolazone 5mg qd', 'norvasc', 'hydralazine 50mg q6h, simvastatin 10mg qd', 'atorvastatin 40mg qd, amlodipin 5mg qd', 'rosuvastatin 5mg qd', 'lipitor 40mg qd', 'nifedipine 90mg qd2; hydralazine 100mg q8h2; cilostazol 50mg bid2; atorvastatin 20mg q evenings', 'simvastatin 20mg qd, nitroglycerin tablet sublingual 0.4 mg \\tgive 1 tablet sublingually every 5 minutes as needed for chest pain x 3 doses. if no relief, call md.', 'rosuvastatin 20mg qd', 'atorvastatin 40mg qd, amlodipine 10mg qd', 'atorvastatin 20mg qd', 'ranitidine hcl 150 mg qd; simvastatin 20 mg hs', 'amlodipine 5mg qd, atorvastain 10mg qd', 'simvastatin 40mg qd, amiodarone 200mg qd', 'hydralazine 25mg q8h, isosorbide mono 30mg qd, lipitor 10mg qd', 'isosorbide din 20mg tid', 'atorvastatin 40mg qd, amiodarone 200mg q12h', 'nitroglycerin tablet sublingual 0.4 mg 1 tablet sublingually every 5 minutes for chest pain for 3 doses if no relief call md, atorvastatin 20mg qd', 'atorvastatin 80mg qd,  hydralazine 25mg tid, nifedipine 60mg qd', 'amiodarone 200mg *0.5 tab q12h, isosorbide din 30mg qd,', 'atorvastatin 80mg hs', 'hyrdalazine 25mg q8h', 'atorvastatin 20mg qd, isosorbide mono 60mg qd', 'atorvastatin 20mg hs', 'nitroglycerin sublingual 0.4mg prn, atorvastatin 40mg qn', 'amiodarone 400mg qd', 'hydralazine 25 mg*3tab +50mg q 8 h , atorvastatin 40 mg hs, isosorbide din 10mg tid', 'hydralazine 25mg q6h when sys bp>150', 'hydralazine 50mg tid, lipitor 10mg qd, nifedipine 60mg qd', 'amlodipine 10mg qd, rosuvastatin 20mg qd', 'hydralazine 50mg and 25mg tid (both active orders); amlodipine 10mg qd', 'atorvastatin 20mg qd, amiodarone 200mg qd', 'gemfibrozil 600mg qd', 'nifedipine er 30mg qd', 'atorvastatin 80mg qd; isosorbide mono er 60mg qd, hydralazine hcl tablet 50 mg q8h , nitroglycerin tablet sublingual every 5min', 'nifedipine 30mg qd', 'isosorbide din 30mg tid, hydralazine 50mg tid', 'simvastatin 5mg qd', 'atorvastain 20mg qd, hydrochlorothiazide 12.5mg qd', 'lipitor 20mg qd', 'atorvastatin 40mg hs2', 'crestor 20mg qd', 'atorvasatin 20mg hs', 'rosuvastatin 10mg qd, hydralazine 25mg*3tab q8h', 'cardizem 120mg qd2; pravastatin 10mg qd-dn', 'cardizem 30mg q 8 h', 'spronolactone 25mg every other day', 'simvastatine 20mg hs', 'lovastatin 20mg qevening', 'metolazone 5mg 1 tablet (5 mg) by oral route 2 times per week on monday and thursday at 6:30 pm (30 minutes after torsemide)', 'amlodipine  5mg qd', 'amlodipine besy-benazepril hcl capsule 5-10 mg qd, atorvastatin 40mg qd', 'zocor 40mg hs2', 'amlodipine 5mg qd, hydrochlorothiazide 25mg qd, hydralazine 50mg tid', 'lipitor 10mg qd', 'diltiazem 90mg q6h', 'simvastatin 40mg qd, hydralazine 10mg tid', 'isosorbide mononitrate 30mg qd, hydralazine 25mg tid, simvastatin 49mg es', 'atorvastatin 40mg qd, hydralazine 25mg q8h; isordil 10mg tid', 'nifedipine 90mg qd', 'metolazone 10mg bid', 'lipitor 10mg q evening; nitrostat sl 0.4 qd; amlodipine 10mg qd; clonidine 0.2mg q6h', 'atorvastatin 40mg qd, hydralazine 100mg q12h, isosorbide mono 30mg qd', 'minoxidil 2.5mg daily, amlodipine 10mg daily, nifedipine 90mg daily', 'atorvasatin 10mg qd', 'atorvastatin 10mg qd, nifedipine 60mg qd', 'atorvastatin 40mghs', 'hydralazine 25mg q6h, isosorbide 10mg q6h', 'simvastatin 40 mg daily', 'amlodipine 2.5mg qd, amiodarone 100mg qd, hydrochlorothiazide 12.5mg qd', 'amlodipine 5mg q12h', 'rosuvastatin 20mg qd, isosorbide mono 60mg qd', 'atorvastatin 10mg qd, amlodipine 10mg qd', 'nifedipine 30mg qd , nitrostat 0.4 mg sublingual tablet  by sublingual route every 5 minutes as neededfor chest pain', 'norvasc 5mg qd, hydralazine 25mg tid', 'hydrochlorothiazide 12.5mg qd', 'atorvastatin 80mg qd, hydralazine 25mg tid, isosorbide mono 60mg qd', 'amlodipine 5mg qd, simvastatin 40mg qd, hydrochlorothiazide 25mg qd', 'isosorbide mono 30mg qd, hydralazine 50mg q8h, amlodipine 10mg qd, amiodarone 200mg qd', 'amlodipine 5mg qd, atorvastatin 40mg qd', 'atorvastatin 20mg qd,', 'atorvastatin 10mg hs; nifedipine 30mg qd', 'atorvastatin 10mg hs', 'amiodarone 100mg qd', 'norvasc 10mg qd; isosorbide dinitrate 10mg  bid, atorvastatin 40mg qd', 'rosuvastatn 20mg qd', 'isosorbide din 30mg qd, atorvasatin 80mg qd, amlodipine 5mg qd', 'pravastatin sodium tablet 10 mg qd, amlodipine 5mg qd', 'amlodipine 5mg qd, atorvastatin 80mg qd', 'lipitor 40mg qd, acetazolamide 250mg bid', 'amiodarone 400 mg qd', 'amlodipine 10mg qd, simvastatin 10mg 1hs', 'simvastatin 10mg q evening', 'hydralazine 25mg q8h, isosorbide din 20mg tid', 'atorvastatin 20mg qd, hydralazine 25mg q8h, isosorbide din 10mg tid', 'amiodarone 200mg*0.5tab  qd, simvastatin 20mg qd', 'hydralazine 25mg tid', 'hydralazine 50mg*1.5tab q8h; isosorbide dinitrate 40mg q8h', 'amiodarone 200mg bid, atorvastatin 40mg qd', 'lipitor 80mg qd', 'amiodarone 200mg qd, diltiazem 60mg fid', 'lipitor tablet 40 mg hs, nifedipine er 60 mg*2tab qd,isosorbide din 10mg tid', 'isosorbide mono 30mg qd, amlodipine 10mg qd', 'simvastatin 20mg qd; potassium chloride 10 meq qd', 'hydralazine 100mg q8h, isosorbide din 20mg *2tab tid, amlodipine 5mg qd', 'atorvastatin 80mg qd, amlodipine 10mg qd, hydralazine 100mg q8h', 'amlodipine 10mg qd, atorvastatin 80mg qd, hydralazine 25mg q8h', 'amlodipine 5mg qd, rosuvastatin 40mg qd', 'atorvastatin 40mg qd, hydralazine 50mg *2tab bid, niedipine 60mg bid', 'nitroglycerin tablet sublingual 0.4 mg every 5mins, isosorbide mono 6-mg qd, atorvastatin 80mg qd', 'zocor 20mg qd', 'pravastatin sodium tablet 40 mg qd', 'hydralazine 50mg q8h', 'simvastatin 10 mg hs', 'amlodipine 5mg qd; hydralazine 25mg 3x/day; isosorbide mononitrate er 120mg qd', 'hydralazine 50mg tid, isosorbide mono 30mg qd, atorvastatin 40mg qd, amlodipine 10mg qd', 'norvasc 10mg qd', 'amlodipine 5 mg qd', 'hydralazine 25mg q8h, amlodipine 10mg qd, atorvastatin 40mg qd', 'vasotec 5mg qd [was previously on isosorbide and hydralazine-d/c 7/17/18.', 'isosorbide mono 120mg qd simvastatin 20mg qd', 'amlodipine 2.5mg qd', 'simvastatin 40mg qd', 'crestor 10mg qd', 'rosuvastatin 10mg qd, amlodipine 10mg qd', 'atorvastatin 20 mg tablet sig: give 1 tablet (20 mg) by oral route once daily at bedtime ;', 'amlodipine 5mg qd, hydralazine 25mg q8h', 'amiodarone 400mg qd, atorvastatin 80mg qd', 'diamox 250 bid', 'amlodipine 10mg qd, simvastatin 20mg qd', 'entresto tablet 24-26 mg (sacubitril-valsartan) bid, atorvastatin 20mg qd', 'pravastatin 40mg qd', 'hydralazine 10mg tid, nifedipine 60mg qd', 'zocor 10mg qd', 'isosorbide dinitrate 10mg q8h, amlodipine 10mg qd, hydralazine 75mg q8h; and clonidine 0.3mg bid.', 'atorvastatin 40mg daily; nitrostat sublingual 0.4mg daily', 'zocor 20mg qd, amiodarone 200mg bid', 'atorvastatin 80mg qd, diltiazem hcl 90mg q8h hold if systolic below 100.', 'atorvastatin 20mg qd, amlodipine 10mg qd', 'atorvastain 10mg qd', 'amiodarone 200mg qd', 'nifedipine 60mg qd', '10/23/17 hydralazine inc. to 100mg q8h; nifedipine er 30gm qd', 'atorvastatin 40mg qd', 'amlodipine 5mg qd, isosorbide mono 30mg qd', 'atorvastatin 20mg qd, isosorbide mono 30mg qd', 'lipitor 40mg qd, isosorbide din 10mg tid', 'simvastatin 40 mg hs', 'hydralazine 50mg every 8 hours (hold if bp <95/60)', 'amlodipine 10mg qd, atorvastatin 40mg hs', 'norvasc 5mg qd', 'amlodipine 5mg *2 qd', 'atorvastatin 40mg qd, hydralazine 25mg tid', 'amlodipine 10mg qd, atorvastatin 80mg qd', 'norvasc 10mg qd, hydralazine 100mg tid', 'lipitor 20mg qd, , nitroglycerin 0.4 mg sublingual table every 5min', 'nifedipine 90mg qd; amlodipine 10mg qd', 'atorvastatin 40mg hs', 'nifedipine er 90mg qd, rosuvastatin 20mg qd', 'digoxin 0.125mg qd', 'amiodarone 100mg qd; midodrine hcl tablet 10 mg 3x/day', 'isosorbide din 10mg two times a day', 'atorvastain 20mg qd', 'pravastatin 40 mg once daily,', 'isosrobide mononitrate 10mg qd, atorvastatin 20mg qd', '10/23/17 added isosorbide dinitrate 10mg tid; nifedipine er 90mg qd; sl nitro 0.4mg prn', 'hydralazine 25mg q12h', \"nitroglycerin 0.4mg every 5 minutes as needed for chest pain, don't exceed 3 doses in 15 minutes, isosorbide mononitrate 60mg qd, atorvastatin 40mg qd\", 'amlodipine 10mg qd, atorvastatin 40mg, isosorbide din 20mg tid', 'amlodipine 5mg qd, hydralazine 25mg q8h,isosorbide din 10mg *0.5tab tid', 'norvasc 5mg qd; lipitor 20mg hs', 'atorvastatin 40 mg qd', 'hydralazine 100mg tid, nifedipine 90mg (nifediac cc 30mg +nifedical xl 60mg) qd, atorvastatin 20mg qd, isosorbide din 30mg tid, pletal 50 mg (cilostazol) bid', 'nifedipine 90mg qd, rosuvastatin 40mg qd', 'amlodipine 10mg qd, isosorbide din 10mg tid, hydralazine 25mg q8h, crestor 40mg hs', 'amiodarone 200mg q12h, isosorbide mono 60mg qd, hydralazine 25mg q8h, lipitor 40mg qd', 'simvastatin 5mg qd, amlodipine 10mg qd', 'amlodipine 5mg qd, hydrochlorothiazide 12.5mg qd', 'norvasc 5mg qd, multaq 400 mg (dronedarone) bid', 'isosorbide mono 30mg qd, pravastatin 80mg qd, nifedipine 90mg qd', 'diltiazem 30mg q8h', 'atorvastatin 80mg qd, norvasc 10mg qd', 'cardizem 360mg po qd; diamox 250mg po qd', 'amiodarone 100mg qd, amlodipine 5mg qd', 'hydralazine 10mg q8h, simvastatin 10mg qd', 'isosorbide mononitrate er 30 mg tablet,extended release 24 hr sig: give 1 tablet (30 mg) by oral route once daily in the morning,     hydralazine 10 mg tablet sig: give 1 tablet (10 mg) by oral route 2 times per day  ,     atorvastatin 20 mg tablet sig: give 1 tablet (20 mg) by oral route once daily at bedtime', 'amiodarone 200mg od,atorvastatin 40mg hs,hydralazine 25mg q8h,isosorbide dinitrate 10mg q8h,asa 81mg od', 'nitroglycerin tablet sublingual 0.3 mg give 1 tablet sublingually every 5 minutes as needed for chest pain give q 5 minutes x3 for chest pain, atorvastatin 80mg qd', 'amiodarone 100mg qd, isosorbide din 10mg qd, hydralazine 10mg q8h', 'nifedipine 30mg qd, simvastatin 20mg qd', 'hydralazine 100mg q8h, lipitor 40mg hs']\n",
      "1.0    497\n",
      "0.0    267\n",
      "Name: other cardiac meds, dtype: int64\n"
     ]
    },
    {
     "name": "stdout",
     "output_type": "stream",
     "text": [
      "removing invalid row: 0\n",
      "\n",
      "patient_link                             n0EPhlbX\n",
      "enrollId                               n0EPhlbX_3\n",
      "Enrollment_Date                               NaN\n",
      "name                                 1 Tester, Mv\n",
      "create_user        notifications@providerloop.com\n",
      "Name: 0, dtype: object\n",
      "--------------------------------------------------\n",
      "\n",
      " \n",
      " Dropped 1 rows from the dataset\n",
      "New size of dataset: (763, 55)\n",
      "Setting outcome to 2 for patients that have been discharged but we don't have a status on them\n",
      "Setting outcome to 2 for patients that have been discharged but we don't have a status on them\n",
      "Setting outcome to 2 for patients that have been discharged but we don't have a status on them\n",
      "Setting outcome to 2 for patients that have been discharged but we don't have a status on them\n",
      "Setting outcome to 2 for patients that have been discharged but we don't have a status on them\n",
      "Setting outcome to 2 for patients that have been discharged but we don't have a status on them\n",
      "Setting outcome to 2 for patients that have been discharged but we don't have a status on them\n",
      "Setting outcome to 2 for patients that have been discharged but we don't have a status on them\n",
      "Setting outcome to 2 for patients that have been discharged but we don't have a status on them\n",
      "Setting outcome to 2 for patients that have been discharged but we don't have a status on them\n",
      "Setting outcome to 2 for patients that have been discharged but we don't have a status on them\n",
      "Setting outcome to 2 for patients that have been discharged but we don't have a status on them\n",
      "Setting outcome to 2 for patients that have been discharged but we don't have a status on them\n",
      "Setting outcome to 2 for patients that have been discharged but we don't have a status on them\n",
      "Setting outcome to 2 for patients that have been discharged but we don't have a status on them\n",
      "Setting outcome to 2 for patients that have been discharged but we don't have a status on them\n",
      "Setting outcome to 2 for patients that have been discharged but we don't have a status on them\n",
      "Setting outcome to 2 for patients that have been discharged but we don't have a status on them\n"
     ]
    },
    {
     "name": "stderr",
     "output_type": "stream",
     "text": [
      "/usr/lib/python3.7/site-packages/pandas/core/series.py:851: FutureWarning: \n",
      "Passing list-likes to .loc or [] with any missing label will raise\n",
      "KeyError in the future, you can use .reindex() as an alternative.\n",
      "\n",
      "See the documentation here:\n",
      "https://pandas.pydata.org/pandas-docs/stable/indexing.html#deprecate-loc-reindex-listlike\n",
      "  return self.loc[key]\n"
     ]
    }
   ],
   "source": [
    "df=meta_clean(df)"
   ]
  },
  {
   "cell_type": "markdown",
   "metadata": {},
   "source": [
    "Format columns"
   ]
  },
  {
   "cell_type": "code",
   "execution_count": 6,
   "metadata": {
    "scrolled": true
   },
   "outputs": [
    {
     "name": "stdout",
     "output_type": "stream",
     "text": [
      "========================================\n",
      "['date_of_birth'] columns set to datetime\n",
      "========================================\n",
      "['ef', 'admit_weight', 'weight', 'this_weight_change', 'weight_change_since_admit', 'bnp', 'this_bnp_change', 'bun', 'cr', 'sodium', 'potasium', 'mg', 'this_cr_change', 'resting_hr', 'systolic', 'diastolic', 'duration', 'age'] columns set to numeric\n",
      "========================================\n"
     ]
    }
   ],
   "source": [
    "from dtypeFun import *\n",
    "dtypePkl = \"pickle_jar/columnDtypes.pkl\"\n",
    "columnFormater(df, dtypePkl)"
   ]
  },
  {
   "cell_type": "markdown",
   "metadata": {},
   "source": [
    "Columns to keep"
   ]
  },
  {
   "cell_type": "code",
   "execution_count": 9,
   "metadata": {},
   "outputs": [],
   "source": [
    "column_dict=read_pkl('Models/model_columns.pkl')\n",
    "keep_cols=column_dict['keep_cols']\n",
    "pat_cols=column_dict['pat_cols']"
   ]
  },
  {
   "cell_type": "code",
   "execution_count": 7,
   "metadata": {},
   "outputs": [
    {
     "data": {
      "text/plain": [
       "Index(['patient_link', 'date_of_birth', 'patient_gender', 'ef',\n",
       "       'special_status', 'hospital_discharged_from', 'admit_weight',\n",
       "       'acute_or_chronic', 'aicd', 'status', 'discharge', 'cardiac_related',\n",
       "       'create_user', 'enrollId', 'name', 'patient_weight_date', 'weight',\n",
       "       'this_weight_change', 'weight_change_since_admit', 'bnp_date', 'bnp',\n",
       "       'this_bnp_change', 'cardiac_meds_date', 'ace', 'bb', 'diuretics',\n",
       "       'anticoagulant', 'ionotropes', 'other_cardiac_meds', 'labs_date', 'bun',\n",
       "       'cr', 'sodium', 'potasium', 'mg', 'this_cr_change', 'bp_date',\n",
       "       'resting_hr', 'systolic', 'diastolic', 'resting_bp',\n",
       "       'diastolic_heart_failure', 'cad/mi', 'heart_failure_unspecfied',\n",
       "       'systolic_chf', 'atrial_fibrilation', 'cardiomyoapthy', 'lvad', 'chf',\n",
       "       'duration', 'age', 'outcome', 'F_5nKZ993n', 'F_71ADiKaS', 'F_Fy1r9IXM',\n",
       "       'F_KYzNhByH', 'F_L1V04aB0', 'F_US4llDDz', 'F_Xxk5Yn3E', 'F_kIUZIzRp',\n",
       "       'F_mB0G57bu'],\n",
       "      dtype='object')"
      ]
     },
     "execution_count": 7,
     "metadata": {},
     "output_type": "execute_result"
    }
   ],
   "source": [
    "df.columns"
   ]
  },
  {
   "cell_type": "code",
   "execution_count": 11,
   "metadata": {},
   "outputs": [
    {
     "name": "stdout",
     "output_type": "stream",
     "text": [
      "['patient_gender', 'ef', 'admit_weight', 'acute_or_chronic', 'weight', 'this_weight_change', 'weight_change_since_admit', 'bnp', 'this_bnp_change', 'ace', 'bb', 'diuretics', 'anticoagulant', 'ionotropes', 'other_cardiac_meds', 'bun', 'cr', 'potasium', 'this_cr_change', 'resting_hr', 'systolic', 'diastolic', 'outcome', 'cad/mi', 'heart_failure_unspecfied', 'diastolic_heart_failure', 'systolic_chf', 'atrial_fibrilation', 'cardiomyoapthy', 'lvad', 'chf', 'duration', 'age', 'F_5nKZ993n', 'F_71ADiKaS', 'F_Fy1r9IXM', 'F_KYzNhByH', 'F_L1V04aB0', 'F_US4llDDz', 'F_Xxk5Yn3E', 'F_kIUZIzRp', 'F_mB0G57bu']\n"
     ]
    }
   ],
   "source": [
    "print(keep_cols)"
   ]
  },
  {
   "cell_type": "code",
   "execution_count": 12,
   "metadata": {},
   "outputs": [],
   "source": [
    "column_dict[\"keep_cols\"] = ['patient_gender', 'ef', 'admit_weight', 'weight', 'this_weight_change', 'weight_change_since_admit', 'bnp', 'this_bnp_change', 'ace', 'bb', 'diuretics', 'anticoagulant', 'ionotropes', 'other_cardiac_meds', 'bun', 'cr', 'potasium', 'this_cr_change', 'resting_hr', 'systolic', 'diastolic', 'outcome', 'cad/mi', 'heart_failure_unspecfied', 'diastolic_heart_failure', 'systolic_chf', 'atrial_fibrilation', 'cardiomyoapthy', 'lvad', 'chf', 'duration', 'age', 'F_5nKZ993n', 'F_71ADiKaS', 'F_Fy1r9IXM', 'F_KYzNhByH', 'F_L1V04aB0', 'F_US4llDDz', 'F_Xxk5Yn3E', 'F_kIUZIzRp', 'F_mB0G57bu']"
   ]
  },
  {
   "cell_type": "code",
   "execution_count": null,
   "metadata": {},
   "outputs": [],
   "source": [
    "write_pkl(c'Models/model_columns.pkl')"
   ]
  },
  {
   "cell_type": "markdown",
   "metadata": {},
   "source": [
    "## impute missing values"
   ]
  },
  {
   "cell_type": "code",
   "execution_count": 8,
   "metadata": {},
   "outputs": [
    {
     "name": "stdout",
     "output_type": "stream",
     "text": [
      "Successfully imputed for all missing values\n"
     ]
    }
   ],
   "source": [
    "final_imputation(df)"
   ]
  },
  {
   "cell_type": "markdown",
   "metadata": {},
   "source": [
    "there remains 20 annoying patients with many missing values"
   ]
  },
  {
   "cell_type": "code",
   "execution_count": 56,
   "metadata": {},
   "outputs": [],
   "source": [
    "df.loc[df.this_bnp_change < -10000, \"this_bnp_change\"] = np.nan"
   ]
  },
  {
   "cell_type": "code",
   "execution_count": 45,
   "metadata": {
    "scrolled": true
   },
   "outputs": [
    {
     "data": {
      "image/png": "[encoded data removed]",
      "text/plain": [
       "<Figure size 432x288 with 1 Axes>"
      ]
     },
     "metadata": {
      "needs_background": "light"
     },
     "output_type": "display_data"
    },
    {
     "data": {
      "image/png": "[encoded data removed]",
      "text/plain": [
       "<Figure size 432x288 with 1 Axes>"
      ]
     },
     "metadata": {
      "needs_background": "light"
     },
     "output_type": "display_data"
    },
    {
     "data": {
      "image/png": "[encoded data removed]",
      "text/plain": [
       "<Figure size 432x288 with 1 Axes>"
      ]
     },
     "metadata": {
      "needs_background": "light"
     },
     "output_type": "display_data"
    },
    {
     "data": {
      "image/png": "[encoded data removed]",
      "text/plain": [
       "<Figure size 432x288 with 1 Axes>"
      ]
     },
     "metadata": {
      "needs_background": "light"
     },
     "output_type": "display_data"
    },
    {
     "data": {
      "image/png": "[encoded data removed]",
      "text/plain": [
       "<Figure size 432x288 with 1 Axes>"
      ]
     },
     "metadata": {
      "needs_background": "light"
     },
     "output_type": "display_data"
    },
    {
     "data": {
      "image/png": "[encoded data removed]",
      "text/plain": [
       "<Figure size 432x288 with 1 Axes>"
      ]
     },
     "metadata": {
      "needs_background": "light"
     },
     "output_type": "display_data"
    }
   ],
   "source": [
    "log_cols=['admit_weight', 'weight', 'bnp', 'bun', 'cr', \"duration\"]\n",
    "for col in log_cols:\n",
    "    df[col]=np.log1p(df[col])\n",
    "    plt.hist(train(df)[col].dropna())\n",
    "    plt.title(str(col))\n",
    "    plt.show()"
   ]
  },
  {
   "cell_type": "markdown",
   "metadata": {},
   "source": [
    "Only keep columns we're using."
   ]
  },
  {
   "cell_type": "code",
   "execution_count": 59,
   "metadata": {},
   "outputs": [],
   "source": [
    "df = df[keep_cols]"
   ]
  },
  {
   "cell_type": "code",
   "execution_count": 63,
   "metadata": {},
   "outputs": [
    {
     "data": {
      "text/plain": [
       "['patient_gender',\n",
       " 'ef',\n",
       " 'admit_weight',\n",
       " 'acute_or_chronic',\n",
       " 'weight',\n",
       " 'this_weight_change',\n",
       " 'weight_change_since_admit',\n",
       " 'bnp',\n",
       " 'this_bnp_change',\n",
       " 'ace',\n",
       " 'bb',\n",
       " 'diuretics',\n",
       " 'anticoagulant',\n",
       " 'ionotropes',\n",
       " 'other_cardiac_meds',\n",
       " 'bun',\n",
       " 'cr',\n",
       " 'potasium',\n",
       " 'this_cr_change',\n",
       " 'resting_hr',\n",
       " 'systolic',\n",
       " 'diastolic',\n",
       " 'outcome',\n",
       " 'cad/mi',\n",
       " 'heart_failure_unspecfied',\n",
       " 'diastolic_heart_failure',\n",
       " 'systolic_chf',\n",
       " 'atrial_fibrilation',\n",
       " 'cardiomyoapthy',\n",
       " 'lvad',\n",
       " 'chf',\n",
       " 'duration',\n",
       " 'age',\n",
       " 'F_5nKZ993n',\n",
       " 'F_71ADiKaS',\n",
       " 'F_Fy1r9IXM',\n",
       " 'F_KYzNhByH',\n",
       " 'F_L1V04aB0',\n",
       " 'F_US4llDDz',\n",
       " 'F_Xxk5Yn3E',\n",
       " 'F_kIUZIzRp',\n",
       " 'F_mB0G57bu']"
      ]
     },
     "execution_count": 63,
     "metadata": {},
     "output_type": "execute_result"
    }
   ],
   "source": [
    "keep_cols"
   ]
  },
  {
   "cell_type": "code",
   "execution_count": 60,
   "metadata": {},
   "outputs": [
    {
     "data": {
      "text/plain": [
       "patient_gender                 0\n",
       "ef                             0\n",
       "admit_weight                 132\n",
       "acute_or_chronic              30\n",
       "weight                         0\n",
       "this_weight_change             0\n",
       "weight_change_since_admit      0\n",
       "bnp                            0\n",
       "this_bnp_change                0\n",
       "ace                            0\n",
       "bb                             0\n",
       "diuretics                      0\n",
       "anticoagulant                  0\n",
       "ionotropes                     0\n",
       "other_cardiac_meds             0\n",
       "bun                            0\n",
       "cr                             0\n",
       "potasium                       0\n",
       "this_cr_change                 0\n",
       "resting_hr                     0\n",
       "systolic                       0\n",
       "diastolic                      0\n",
       "outcome                      303\n",
       "cad/mi                         0\n",
       "heart_failure_unspecfied       0\n",
       "diastolic_heart_failure        0\n",
       "systolic_chf                   0\n",
       "atrial_fibrilation             0\n",
       "cardiomyoapthy                 0\n",
       "lvad                           0\n",
       "chf                            0\n",
       "duration                      70\n",
       "age                            0\n",
       "F_5nKZ993n                     0\n",
       "F_71ADiKaS                     0\n",
       "F_Fy1r9IXM                     0\n",
       "F_KYzNhByH                     0\n",
       "F_L1V04aB0                     0\n",
       "F_US4llDDz                     0\n",
       "F_Xxk5Yn3E                     0\n",
       "F_kIUZIzRp                     0\n",
       "F_mB0G57bu                     0\n",
       "dtype: int64"
      ]
     },
     "execution_count": 60,
     "metadata": {},
     "output_type": "execute_result"
    }
   ],
   "source": [
    "df.isna().sum()"
   ]
  },
  {
   "cell_type": "code",
   "execution_count": 30,
   "metadata": {},
   "outputs": [],
   "source": [
    "train(df).isnull().sum()\n",
    "df.dropna(inplace=True)"
   ]
  },
  {
   "cell_type": "code",
   "execution_count": 31,
   "metadata": {},
   "outputs": [
    {
     "data": {
      "text/plain": [
       "(23, 42)"
      ]
     },
     "execution_count": 31,
     "metadata": {},
     "output_type": "execute_result"
    }
   ],
   "source": [
    "df.shape"
   ]
  },
  {
   "cell_type": "markdown",
   "metadata": {},
   "source": [
    "Remove patients with unknown outcome"
   ]
  },
  {
   "cell_type": "code",
   "execution_count": 52,
   "metadata": {},
   "outputs": [],
   "source": [
    "df = df[df.outcome < 2]"
   ]
  },
  {
   "cell_type": "markdown",
   "metadata": {},
   "source": [
    "### train-test split"
   ]
  },
  {
   "cell_type": "code",
   "execution_count": 62,
   "metadata": {},
   "outputs": [],
   "source": [
    "from sklearn import linear_model\n",
    "from sklearn.model_selection import GridSearchCV, train_test_split\n",
    "from sklearn.metrics import confusion_matrix\n",
    "import itertools\n",
    "\n",
    "x=train(df).drop('outcome',axis=1)\n",
    "y=train(df).outcome\n",
    "\n",
    "x_train, x_test, y_train, y_test = train_test_split(x,y)"
   ]
  },
  {
   "cell_type": "code",
   "execution_count": 63,
   "metadata": {
    "scrolled": false
   },
   "outputs": [
    {
     "data": {
      "text/plain": [
       "0.0    166\n",
       "1.0    161\n",
       "Name: outcome, dtype: int64"
      ]
     },
     "execution_count": 63,
     "metadata": {},
     "output_type": "execute_result"
    }
   ],
   "source": [
    "y_train.value_counts()"
   ]
  },
  {
   "cell_type": "markdown",
   "metadata": {},
   "source": [
    "### Attempt to fit logistic regression"
   ]
  },
  {
   "cell_type": "code",
   "execution_count": 19,
   "metadata": {},
   "outputs": [],
   "source": [
    "from sklearn.linear_model import LogisticRegression"
   ]
  },
  {
   "cell_type": "code",
   "execution_count": 65,
   "metadata": {},
   "outputs": [
    {
     "name": "stdout",
     "output_type": "stream",
     "text": [
      "0.6422018348623854\n",
      "{'C': 0.013894954943731374}\n"
     ]
    },
    {
     "data": {
      "text/plain": [
       "array([[32, 19],\n",
       "       [17, 42]])"
      ]
     },
     "execution_count": 65,
     "metadata": {},
     "output_type": "execute_result"
    }
   ],
   "source": [
    "logistic = LogisticRegression()\n",
    "grid_param=10**np.linspace(-2,5,50)\n",
    "my_param_grid = {'C': grid_param }\n",
    "para_search = GridSearchCV(estimator=logistic, param_grid= my_param_grid, scoring='accuracy', cv=5, return_train_score=True) #param_grid=grid_param,\n",
    "para_search.fit(x_train,y_train)\n",
    "print(para_search.best_score_)\n",
    "print(para_search.best_params_)\n",
    "prediction=para_search.predict(x_test)\n",
    "cnf_matrix = confusion_matrix(y_test, prediction)\n",
    "cnf_matrix"
   ]
  },
  {
   "cell_type": "code",
   "execution_count": 66,
   "metadata": {},
   "outputs": [
    {
     "data": {
      "text/plain": [
       "patient_gender               0\n",
       "ef                           0\n",
       "admit_weight                 0\n",
       "acute_or_chronic             0\n",
       "weight                       0\n",
       "this_weight_change           0\n",
       "weight_change_since_admit    0\n",
       "bnp                          0\n",
       "this_bnp_change              0\n",
       "ace                          0\n",
       "bb                           0\n",
       "diuretics                    0\n",
       "anticoagulant                0\n",
       "ionotropes                   0\n",
       "other_cardiac_meds           0\n",
       "bun                          0\n",
       "cr                           0\n",
       "potasium                     0\n",
       "this_cr_change               0\n",
       "resting_hr                   0\n",
       "systolic                     0\n",
       "diastolic                    0\n",
       "cad/mi                       0\n",
       "heart_failure_unspecfied     0\n",
       "diastolic_heart_failure      0\n",
       "systolic_chf                 0\n",
       "atrial_fibrilation           0\n",
       "cardiomyoapthy               0\n",
       "lvad                         0\n",
       "chf                          0\n",
       "duration                     0\n",
       "age                          0\n",
       "F_5nKZ993n                   0\n",
       "F_71ADiKaS                   0\n",
       "F_Fy1r9IXM                   0\n",
       "F_KYzNhByH                   0\n",
       "F_L1V04aB0                   0\n",
       "F_US4llDDz                   0\n",
       "F_Xxk5Yn3E                   0\n",
       "F_kIUZIzRp                   0\n",
       "F_mB0G57bu                   0\n",
       "dtype: int64"
      ]
     },
     "execution_count": 66,
     "metadata": {},
     "output_type": "execute_result"
    }
   ],
   "source": [
    "x_train.isna().sum()"
   ]
  },
  {
   "cell_type": "code",
   "execution_count": 74,
   "metadata": {},
   "outputs": [
    {
     "data": {
      "text/plain": [
       "LogisticRegression(C=1.0, class_weight=None, dual=False, fit_intercept=True,\n",
       "          intercept_scaling=1, max_iter=100, multi_class='ovr', n_jobs=1,\n",
       "          penalty='l2', random_state=None, solver='liblinear', tol=0.0001,\n",
       "          verbose=0, warm_start=False)"
      ]
     },
     "execution_count": 74,
     "metadata": {},
     "output_type": "execute_result"
    }
   ],
   "source": [
    "logistic.fit(x_train, y_train)"
   ]
  },
  {
   "cell_type": "code",
   "execution_count": 99,
   "metadata": {},
   "outputs": [
    {
     "data": {
      "text/plain": [
       "0.691131498470948"
      ]
     },
     "execution_count": 99,
     "metadata": {},
     "output_type": "execute_result"
    }
   ],
   "source": [
    "logistic.score(x_train, y_train)"
   ]
  },
  {
   "cell_type": "code",
   "execution_count": 97,
   "metadata": {},
   "outputs": [
    {
     "data": {
      "text/plain": [
       "0.6090909090909091"
      ]
     },
     "execution_count": 97,
     "metadata": {},
     "output_type": "execute_result"
    }
   ],
   "source": [
    "logistic.score(x_test, y_test)"
   ]
  },
  {
   "cell_type": "code",
   "execution_count": 80,
   "metadata": {},
   "outputs": [],
   "source": [
    "coefficients = pd.DataFrame({\"features\" : x_train.columns, \"coeffs\" : logistic.coef_[0]})"
   ]
  },
  {
   "cell_type": "code",
   "execution_count": 83,
   "metadata": {},
   "outputs": [
    {
     "name": "stdout",
     "output_type": "stream",
     "text": [
      "                     features    coeffs\n",
      "37                 F_US4llDDz -0.622779\n",
      "29                        chf -0.510551\n",
      "36                 F_L1V04aB0 -0.510551\n",
      "38                 F_Xxk5Yn3E -0.314692\n",
      "40                 F_mB0G57bu -0.242063\n",
      "1                          ef -0.236024\n",
      "13                 ionotropes -0.194296\n",
      "10                         bb -0.189787\n",
      "23   heart_failure_unspecfied -0.180370\n",
      "25               systolic_chf -0.129216\n",
      "27             cardiomyoapthy -0.125408\n",
      "24    diastolic_heart_failure -0.087585\n",
      "32                 F_5nKZ993n -0.061970\n",
      "19                 resting_hr -0.025114\n",
      "17                   potasium -0.023104\n",
      "15                        bun -0.021386\n",
      "30                   duration -0.002148\n",
      "4                      weight -0.001645\n",
      "18             this_cr_change -0.001420\n",
      "7                         bnp -0.000299\n",
      "21                  diastolic  0.000485\n",
      "8             this_bnp_change  0.000646\n",
      "2                admit_weight  0.002790\n",
      "5          this_weight_change  0.004779\n",
      "20                   systolic  0.007435\n",
      "16                         cr  0.009912\n",
      "31                        age  0.015421\n",
      "14         other_cardiac_meds  0.019784\n",
      "6   weight_change_since_admit  0.021905\n",
      "9                         ace  0.040776\n",
      "26         atrial_fibrilation  0.057750\n",
      "33                 F_71ADiKaS  0.115835\n",
      "12              anticoagulant  0.146410\n",
      "0              patient_gender  0.249139\n",
      "3            acute_or_chronic  0.259118\n",
      "28                       lvad  0.350860\n",
      "11                  diuretics  0.419763\n",
      "22                     cad/mi  0.435794\n",
      "35                 F_KYzNhByH  0.547808\n",
      "34                 F_Fy1r9IXM  0.646803\n",
      "39                 F_kIUZIzRp  0.691903\n"
     ]
    }
   ],
   "source": [
    "print(coefficients.sort_values(\"coeffs\"))"
   ]
  },
  {
   "cell_type": "markdown",
   "metadata": {},
   "source": [
    "## Random Forest"
   ]
  },
  {
   "cell_type": "code",
   "execution_count": 85,
   "metadata": {},
   "outputs": [
    {
     "name": "stderr",
     "output_type": "stream",
     "text": [
      "/usr/lib/python3.7/site-packages/sklearn/ensemble/weight_boosting.py:29: DeprecationWarning: numpy.core.umath_tests is an internal NumPy module and should not be imported. It will be removed in a future NumPy release.\n",
      "  from numpy.core.umath_tests import inner1d\n"
     ]
    }
   ],
   "source": [
    "from sklearn import ensemble"
   ]
  },
  {
   "cell_type": "code",
   "execution_count": 86,
   "metadata": {},
   "outputs": [],
   "source": [
    "randomForest = ensemble.RandomForestClassifier()\n",
    "\n",
    "randomForest.fit(x_train, y_train)"
   ]
  },
  {
   "cell_type": "code",
   "execution_count": 96,
   "metadata": {},
   "outputs": [
    {
     "data": {
      "text/plain": [
       "0.6090909090909091"
      ]
     },
     "execution_count": 96,
     "metadata": {},
     "output_type": "execute_result"
    }
   ],
   "source": [
    "randomForest.score(x_test, y_test)"
   ]
  },
  {
   "cell_type": "code",
   "execution_count": 100,
   "metadata": {},
   "outputs": [
    {
     "data": {
      "text/plain": [
       "array([[36, 15],\n",
       "       [28, 31]])"
      ]
     },
     "execution_count": 100,
     "metadata": {},
     "output_type": "execute_result"
    }
   ],
   "source": [
    "confusion_matrix(y_test, randomForest.predict(x_test))"
   ]
  },
  {
   "cell_type": "code",
   "execution_count": 91,
   "metadata": {},
   "outputs": [],
   "source": [
    "forestImportance = pd.DataFrame({\"features\" : x_train.columns, \"scores\" : randomForest.feature_importances_})"
   ]
  },
  {
   "cell_type": "code",
   "execution_count": 98,
   "metadata": {},
   "outputs": [
    {
     "name": "stdout",
     "output_type": "stream",
     "text": [
      "                     features    scores\n",
      "30                   duration  0.092459\n",
      "15                        bun  0.078817\n",
      "19                 resting_hr  0.065027\n",
      "7                         bnp  0.057685\n",
      "8             this_bnp_change  0.057246\n",
      "31                        age  0.057059\n",
      "17                   potasium  0.055620\n",
      "4                      weight  0.053579\n",
      "18             this_cr_change  0.051636\n",
      "21                  diastolic  0.049646\n",
      "5          this_weight_change  0.048773\n",
      "2                admit_weight  0.048224\n",
      "6   weight_change_since_admit  0.038529\n",
      "20                   systolic  0.038237\n",
      "16                         cr  0.038136\n",
      "1                          ef  0.036718\n",
      "39                 F_kIUZIzRp  0.013767\n",
      "23   heart_failure_unspecfied  0.010482\n",
      "3            acute_or_chronic  0.010177\n",
      "37                 F_US4llDDz  0.010125\n",
      "38                 F_Xxk5Yn3E  0.009973\n",
      "10                         bb  0.008451\n",
      "34                 F_Fy1r9IXM  0.008224\n",
      "9                         ace  0.007599\n",
      "22                     cad/mi  0.006833\n",
      "33                 F_71ADiKaS  0.005749\n",
      "26         atrial_fibrilation  0.005387\n",
      "40                 F_mB0G57bu  0.005233\n",
      "0              patient_gender  0.004788\n",
      "29                        chf  0.003871\n",
      "35                 F_KYzNhByH  0.003854\n",
      "14         other_cardiac_meds  0.003740\n",
      "13                 ionotropes  0.003670\n",
      "11                  diuretics  0.003406\n",
      "12              anticoagulant  0.002938\n",
      "25               systolic_chf  0.002430\n",
      "27             cardiomyoapthy  0.001118\n",
      "24    diastolic_heart_failure  0.000796\n",
      "28                       lvad  0.000000\n",
      "32                 F_5nKZ993n  0.000000\n",
      "36                 F_L1V04aB0  0.000000\n"
     ]
    }
   ],
   "source": [
    "print(forestImportance.sort_values(\"scores\", ascending=False))"
   ]
  },
  {
   "cell_type": "code",
   "execution_count": 101,
   "metadata": {},
   "outputs": [
    {
     "data": {
      "text/plain": [
       "10.395"
      ]
     },
     "execution_count": 101,
     "metadata": {},
     "output_type": "execute_result"
    }
   ],
   "source": [
    "df.ef.max()"
   ]
  },
  {
   "cell_type": "markdown",
   "metadata": {},
   "source": [
    "## PCA"
   ]
  },
  {
   "cell_type": "code",
   "execution_count": 65,
   "metadata": {
    "scrolled": true
   },
   "outputs": [
    {
     "data": {
      "text/plain": [
       "PCA(copy=True, iterated_power='auto', n_components=3, random_state=None,\n",
       "  svd_solver='auto', tol=0.0, whiten=False)"
      ]
     },
     "execution_count": 65,
     "metadata": {},
     "output_type": "execute_result"
    }
   ],
   "source": [
    "# %%\n",
    "\n",
    "from sklearn import decomposition\n",
    "#from sklearn.pipeline import Pipeline\n",
    "#from sklearn.cross_validation import train_test_split\n",
    "#from sklearn.model_selection import GridSearchCV\n",
    "#from sklearn.metrics import confusion_matrix\n",
    "import itertools\n",
    "\n",
    "# %%\n",
    "x=train(df)[keep_cols].drop('outcome',axis=1).dropna()\n",
    "y=train(df)[keep_cols].dropna()['outcome']\n",
    "\n",
    "# x_train, x_test, y_train, y_test = train_test_split(x,y)\n",
    "\n",
    "# logistic = linear_model.LogisticRegression()\n",
    "pca = decomposition.PCA(n_components=3)\n",
    "# pipe = Pipeline(steps=[('pca', pca), ('logistic', logistic)])\n",
    "\n",
    "pca.fit(x)\n",
    "\n",
    "\n"
   ]
  },
  {
   "cell_type": "code",
   "execution_count": 66,
   "metadata": {},
   "outputs": [
    {
     "data": {
      "text/html": [
       "<div>\n",
       "<style scoped>\n",
       "    .dataframe tbody tr th:only-of-type {\n",
       "        vertical-align: middle;\n",
       "    }\n",
       "\n",
       "    .dataframe tbody tr th {\n",
       "        vertical-align: top;\n",
       "    }\n",
       "\n",
       "    .dataframe thead th {\n",
       "        text-align: right;\n",
       "    }\n",
       "</style>\n",
       "<table border=\"1\" class=\"dataframe\">\n",
       "  <thead>\n",
       "    <tr style=\"text-align: right;\">\n",
       "      <th></th>\n",
       "      <th>feature</th>\n",
       "      <th>pca_1</th>\n",
       "    </tr>\n",
       "  </thead>\n",
       "  <tbody>\n",
       "    <tr>\n",
       "      <th>8</th>\n",
       "      <td>this_bnp_change</td>\n",
       "      <td>-9.992738e-01</td>\n",
       "    </tr>\n",
       "    <tr>\n",
       "      <th>30</th>\n",
       "      <td>duration</td>\n",
       "      <td>-3.798963e-02</td>\n",
       "    </tr>\n",
       "    <tr>\n",
       "      <th>21</th>\n",
       "      <td>diastolic</td>\n",
       "      <td>-1.636649e-03</td>\n",
       "    </tr>\n",
       "    <tr>\n",
       "      <th>18</th>\n",
       "      <td>this_cr_change</td>\n",
       "      <td>-1.099966e-03</td>\n",
       "    </tr>\n",
       "    <tr>\n",
       "      <th>38</th>\n",
       "      <td>F_Xxk5Yn3E</td>\n",
       "      <td>-7.020640e-05</td>\n",
       "    </tr>\n",
       "    <tr>\n",
       "      <th>22</th>\n",
       "      <td>cad/mi</td>\n",
       "      <td>-6.818232e-05</td>\n",
       "    </tr>\n",
       "    <tr>\n",
       "      <th>25</th>\n",
       "      <td>systolic_chf</td>\n",
       "      <td>-6.309404e-05</td>\n",
       "    </tr>\n",
       "    <tr>\n",
       "      <th>12</th>\n",
       "      <td>anticoagulant</td>\n",
       "      <td>-5.636411e-05</td>\n",
       "    </tr>\n",
       "    <tr>\n",
       "      <th>16</th>\n",
       "      <td>cr</td>\n",
       "      <td>-5.225822e-05</td>\n",
       "    </tr>\n",
       "    <tr>\n",
       "      <th>7</th>\n",
       "      <td>bnp</td>\n",
       "      <td>-5.148290e-05</td>\n",
       "    </tr>\n",
       "    <tr>\n",
       "      <th>13</th>\n",
       "      <td>ionotropes</td>\n",
       "      <td>-4.956271e-05</td>\n",
       "    </tr>\n",
       "    <tr>\n",
       "      <th>37</th>\n",
       "      <td>F_US4llDDz</td>\n",
       "      <td>-4.854140e-05</td>\n",
       "    </tr>\n",
       "    <tr>\n",
       "      <th>23</th>\n",
       "      <td>heart_failure_unspecfied</td>\n",
       "      <td>-1.935726e-05</td>\n",
       "    </tr>\n",
       "    <tr>\n",
       "      <th>15</th>\n",
       "      <td>bun</td>\n",
       "      <td>-1.652497e-05</td>\n",
       "    </tr>\n",
       "    <tr>\n",
       "      <th>4</th>\n",
       "      <td>weight</td>\n",
       "      <td>-1.011298e-05</td>\n",
       "    </tr>\n",
       "    <tr>\n",
       "      <th>2</th>\n",
       "      <td>admit_weight</td>\n",
       "      <td>-7.956150e-06</td>\n",
       "    </tr>\n",
       "    <tr>\n",
       "      <th>1</th>\n",
       "      <td>ef</td>\n",
       "      <td>-7.326839e-06</td>\n",
       "    </tr>\n",
       "    <tr>\n",
       "      <th>28</th>\n",
       "      <td>lvad</td>\n",
       "      <td>-5.872224e-06</td>\n",
       "    </tr>\n",
       "    <tr>\n",
       "      <th>36</th>\n",
       "      <td>F_L1V04aB0</td>\n",
       "      <td>-6.599367e-07</td>\n",
       "    </tr>\n",
       "    <tr>\n",
       "      <th>29</th>\n",
       "      <td>chf</td>\n",
       "      <td>-6.599367e-07</td>\n",
       "    </tr>\n",
       "    <tr>\n",
       "      <th>5</th>\n",
       "      <td>this_weight_change</td>\n",
       "      <td>2.777726e-07</td>\n",
       "    </tr>\n",
       "    <tr>\n",
       "      <th>32</th>\n",
       "      <td>F_5nKZ993n</td>\n",
       "      <td>9.681647e-07</td>\n",
       "    </tr>\n",
       "    <tr>\n",
       "      <th>17</th>\n",
       "      <td>potasium</td>\n",
       "      <td>2.674007e-06</td>\n",
       "    </tr>\n",
       "    <tr>\n",
       "      <th>35</th>\n",
       "      <td>F_KYzNhByH</td>\n",
       "      <td>5.646716e-06</td>\n",
       "    </tr>\n",
       "    <tr>\n",
       "      <th>40</th>\n",
       "      <td>F_mB0G57bu</td>\n",
       "      <td>9.599529e-06</td>\n",
       "    </tr>\n",
       "    <tr>\n",
       "      <th>6</th>\n",
       "      <td>weight_change_since_admit</td>\n",
       "      <td>9.830573e-06</td>\n",
       "    </tr>\n",
       "    <tr>\n",
       "      <th>34</th>\n",
       "      <td>F_Fy1r9IXM</td>\n",
       "      <td>1.028942e-05</td>\n",
       "    </tr>\n",
       "    <tr>\n",
       "      <th>31</th>\n",
       "      <td>age</td>\n",
       "      <td>1.216031e-05</td>\n",
       "    </tr>\n",
       "    <tr>\n",
       "      <th>33</th>\n",
       "      <td>F_71ADiKaS</td>\n",
       "      <td>1.366568e-05</td>\n",
       "    </tr>\n",
       "    <tr>\n",
       "      <th>14</th>\n",
       "      <td>other_cardiac_meds</td>\n",
       "      <td>1.613771e-05</td>\n",
       "    </tr>\n",
       "    <tr>\n",
       "      <th>0</th>\n",
       "      <td>patient_gender</td>\n",
       "      <td>1.683102e-05</td>\n",
       "    </tr>\n",
       "    <tr>\n",
       "      <th>26</th>\n",
       "      <td>atrial_fibrilation</td>\n",
       "      <td>2.290184e-05</td>\n",
       "    </tr>\n",
       "    <tr>\n",
       "      <th>10</th>\n",
       "      <td>bb</td>\n",
       "      <td>3.586151e-05</td>\n",
       "    </tr>\n",
       "    <tr>\n",
       "      <th>24</th>\n",
       "      <td>diastolic_heart_failure</td>\n",
       "      <td>5.739958e-05</td>\n",
       "    </tr>\n",
       "    <tr>\n",
       "      <th>3</th>\n",
       "      <td>acute_or_chronic</td>\n",
       "      <td>6.103820e-05</td>\n",
       "    </tr>\n",
       "    <tr>\n",
       "      <th>11</th>\n",
       "      <td>diuretics</td>\n",
       "      <td>6.618129e-05</td>\n",
       "    </tr>\n",
       "    <tr>\n",
       "      <th>27</th>\n",
       "      <td>cardiomyoapthy</td>\n",
       "      <td>6.741658e-05</td>\n",
       "    </tr>\n",
       "    <tr>\n",
       "      <th>39</th>\n",
       "      <td>F_kIUZIzRp</td>\n",
       "      <td>7.923823e-05</td>\n",
       "    </tr>\n",
       "    <tr>\n",
       "      <th>9</th>\n",
       "      <td>ace</td>\n",
       "      <td>1.075168e-04</td>\n",
       "    </tr>\n",
       "    <tr>\n",
       "      <th>19</th>\n",
       "      <td>resting_hr</td>\n",
       "      <td>1.426099e-04</td>\n",
       "    </tr>\n",
       "    <tr>\n",
       "      <th>20</th>\n",
       "      <td>systolic</td>\n",
       "      <td>2.179230e-03</td>\n",
       "    </tr>\n",
       "  </tbody>\n",
       "</table>\n",
       "</div>"
      ],
      "text/plain": [
       "                      feature         pca_1\n",
       "8             this_bnp_change -9.992738e-01\n",
       "30                   duration -3.798963e-02\n",
       "21                  diastolic -1.636649e-03\n",
       "18             this_cr_change -1.099966e-03\n",
       "38                 F_Xxk5Yn3E -7.020640e-05\n",
       "22                     cad/mi -6.818232e-05\n",
       "25               systolic_chf -6.309404e-05\n",
       "12              anticoagulant -5.636411e-05\n",
       "16                         cr -5.225822e-05\n",
       "7                         bnp -5.148290e-05\n",
       "13                 ionotropes -4.956271e-05\n",
       "37                 F_US4llDDz -4.854140e-05\n",
       "23   heart_failure_unspecfied -1.935726e-05\n",
       "15                        bun -1.652497e-05\n",
       "4                      weight -1.011298e-05\n",
       "2                admit_weight -7.956150e-06\n",
       "1                          ef -7.326839e-06\n",
       "28                       lvad -5.872224e-06\n",
       "36                 F_L1V04aB0 -6.599367e-07\n",
       "29                        chf -6.599367e-07\n",
       "5          this_weight_change  2.777726e-07\n",
       "32                 F_5nKZ993n  9.681647e-07\n",
       "17                   potasium  2.674007e-06\n",
       "35                 F_KYzNhByH  5.646716e-06\n",
       "40                 F_mB0G57bu  9.599529e-06\n",
       "6   weight_change_since_admit  9.830573e-06\n",
       "34                 F_Fy1r9IXM  1.028942e-05\n",
       "31                        age  1.216031e-05\n",
       "33                 F_71ADiKaS  1.366568e-05\n",
       "14         other_cardiac_meds  1.613771e-05\n",
       "0              patient_gender  1.683102e-05\n",
       "26         atrial_fibrilation  2.290184e-05\n",
       "10                         bb  3.586151e-05\n",
       "24    diastolic_heart_failure  5.739958e-05\n",
       "3            acute_or_chronic  6.103820e-05\n",
       "11                  diuretics  6.618129e-05\n",
       "27             cardiomyoapthy  6.741658e-05\n",
       "39                 F_kIUZIzRp  7.923823e-05\n",
       "9                         ace  1.075168e-04\n",
       "19                 resting_hr  1.426099e-04\n",
       "20                   systolic  2.179230e-03"
      ]
     },
     "execution_count": 66,
     "metadata": {},
     "output_type": "execute_result"
    }
   ],
   "source": [
    "pd.DataFrame({\"feature\" : x.columns, \"pca_1\" : pca.components_[0]}).sort_values(\"pca_1\")"
   ]
  },
  {
   "cell_type": "code",
   "execution_count": 67,
   "metadata": {},
   "outputs": [
    {
     "data": {
      "text/html": [
       "<div>\n",
       "<style scoped>\n",
       "    .dataframe tbody tr th:only-of-type {\n",
       "        vertical-align: middle;\n",
       "    }\n",
       "\n",
       "    .dataframe tbody tr th {\n",
       "        vertical-align: top;\n",
       "    }\n",
       "\n",
       "    .dataframe thead th {\n",
       "        text-align: right;\n",
       "    }\n",
       "</style>\n",
       "<table border=\"1\" class=\"dataframe\">\n",
       "  <thead>\n",
       "    <tr style=\"text-align: right;\">\n",
       "      <th></th>\n",
       "      <th>feature</th>\n",
       "      <th>pca_2</th>\n",
       "    </tr>\n",
       "  </thead>\n",
       "  <tbody>\n",
       "    <tr>\n",
       "      <th>8</th>\n",
       "      <td>this_bnp_change</td>\n",
       "      <td>-0.038002</td>\n",
       "    </tr>\n",
       "    <tr>\n",
       "      <th>3</th>\n",
       "      <td>acute_or_chronic</td>\n",
       "      <td>-0.000682</td>\n",
       "    </tr>\n",
       "    <tr>\n",
       "      <th>19</th>\n",
       "      <td>resting_hr</td>\n",
       "      <td>-0.000524</td>\n",
       "    </tr>\n",
       "    <tr>\n",
       "      <th>23</th>\n",
       "      <td>heart_failure_unspecfied</td>\n",
       "      <td>-0.000341</td>\n",
       "    </tr>\n",
       "    <tr>\n",
       "      <th>25</th>\n",
       "      <td>systolic_chf</td>\n",
       "      <td>-0.000324</td>\n",
       "    </tr>\n",
       "    <tr>\n",
       "      <th>22</th>\n",
       "      <td>cad/mi</td>\n",
       "      <td>-0.000315</td>\n",
       "    </tr>\n",
       "    <tr>\n",
       "      <th>14</th>\n",
       "      <td>other_cardiac_meds</td>\n",
       "      <td>-0.000297</td>\n",
       "    </tr>\n",
       "    <tr>\n",
       "      <th>26</th>\n",
       "      <td>atrial_fibrilation</td>\n",
       "      <td>-0.000213</td>\n",
       "    </tr>\n",
       "    <tr>\n",
       "      <th>11</th>\n",
       "      <td>diuretics</td>\n",
       "      <td>-0.000167</td>\n",
       "    </tr>\n",
       "    <tr>\n",
       "      <th>32</th>\n",
       "      <td>F_5nKZ993n</td>\n",
       "      <td>-0.000159</td>\n",
       "    </tr>\n",
       "    <tr>\n",
       "      <th>33</th>\n",
       "      <td>F_71ADiKaS</td>\n",
       "      <td>-0.000156</td>\n",
       "    </tr>\n",
       "    <tr>\n",
       "      <th>7</th>\n",
       "      <td>bnp</td>\n",
       "      <td>-0.000127</td>\n",
       "    </tr>\n",
       "    <tr>\n",
       "      <th>27</th>\n",
       "      <td>cardiomyoapthy</td>\n",
       "      <td>-0.000075</td>\n",
       "    </tr>\n",
       "    <tr>\n",
       "      <th>34</th>\n",
       "      <td>F_Fy1r9IXM</td>\n",
       "      <td>-0.000069</td>\n",
       "    </tr>\n",
       "    <tr>\n",
       "      <th>10</th>\n",
       "      <td>bb</td>\n",
       "      <td>-0.000060</td>\n",
       "    </tr>\n",
       "    <tr>\n",
       "      <th>0</th>\n",
       "      <td>patient_gender</td>\n",
       "      <td>-0.000021</td>\n",
       "    </tr>\n",
       "    <tr>\n",
       "      <th>16</th>\n",
       "      <td>cr</td>\n",
       "      <td>-0.000017</td>\n",
       "    </tr>\n",
       "    <tr>\n",
       "      <th>2</th>\n",
       "      <td>admit_weight</td>\n",
       "      <td>-0.000017</td>\n",
       "    </tr>\n",
       "    <tr>\n",
       "      <th>5</th>\n",
       "      <td>this_weight_change</td>\n",
       "      <td>-0.000010</td>\n",
       "    </tr>\n",
       "    <tr>\n",
       "      <th>29</th>\n",
       "      <td>chf</td>\n",
       "      <td>-0.000010</td>\n",
       "    </tr>\n",
       "    <tr>\n",
       "      <th>36</th>\n",
       "      <td>F_L1V04aB0</td>\n",
       "      <td>-0.000010</td>\n",
       "    </tr>\n",
       "    <tr>\n",
       "      <th>4</th>\n",
       "      <td>weight</td>\n",
       "      <td>-0.000007</td>\n",
       "    </tr>\n",
       "    <tr>\n",
       "      <th>39</th>\n",
       "      <td>F_kIUZIzRp</td>\n",
       "      <td>-0.000006</td>\n",
       "    </tr>\n",
       "    <tr>\n",
       "      <th>13</th>\n",
       "      <td>ionotropes</td>\n",
       "      <td>-0.000003</td>\n",
       "    </tr>\n",
       "    <tr>\n",
       "      <th>31</th>\n",
       "      <td>age</td>\n",
       "      <td>0.000009</td>\n",
       "    </tr>\n",
       "    <tr>\n",
       "      <th>6</th>\n",
       "      <td>weight_change_since_admit</td>\n",
       "      <td>0.000016</td>\n",
       "    </tr>\n",
       "    <tr>\n",
       "      <th>24</th>\n",
       "      <td>diastolic_heart_failure</td>\n",
       "      <td>0.000029</td>\n",
       "    </tr>\n",
       "    <tr>\n",
       "      <th>28</th>\n",
       "      <td>lvad</td>\n",
       "      <td>0.000031</td>\n",
       "    </tr>\n",
       "    <tr>\n",
       "      <th>38</th>\n",
       "      <td>F_Xxk5Yn3E</td>\n",
       "      <td>0.000041</td>\n",
       "    </tr>\n",
       "    <tr>\n",
       "      <th>17</th>\n",
       "      <td>potasium</td>\n",
       "      <td>0.000043</td>\n",
       "    </tr>\n",
       "    <tr>\n",
       "      <th>37</th>\n",
       "      <td>F_US4llDDz</td>\n",
       "      <td>0.000043</td>\n",
       "    </tr>\n",
       "    <tr>\n",
       "      <th>15</th>\n",
       "      <td>bun</td>\n",
       "      <td>0.000043</td>\n",
       "    </tr>\n",
       "    <tr>\n",
       "      <th>1</th>\n",
       "      <td>ef</td>\n",
       "      <td>0.000051</td>\n",
       "    </tr>\n",
       "    <tr>\n",
       "      <th>40</th>\n",
       "      <td>F_mB0G57bu</td>\n",
       "      <td>0.000053</td>\n",
       "    </tr>\n",
       "    <tr>\n",
       "      <th>9</th>\n",
       "      <td>ace</td>\n",
       "      <td>0.000059</td>\n",
       "    </tr>\n",
       "    <tr>\n",
       "      <th>12</th>\n",
       "      <td>anticoagulant</td>\n",
       "      <td>0.000090</td>\n",
       "    </tr>\n",
       "    <tr>\n",
       "      <th>35</th>\n",
       "      <td>F_KYzNhByH</td>\n",
       "      <td>0.000263</td>\n",
       "    </tr>\n",
       "    <tr>\n",
       "      <th>20</th>\n",
       "      <td>systolic</td>\n",
       "      <td>0.003561</td>\n",
       "    </tr>\n",
       "    <tr>\n",
       "      <th>18</th>\n",
       "      <td>this_cr_change</td>\n",
       "      <td>0.007421</td>\n",
       "    </tr>\n",
       "    <tr>\n",
       "      <th>21</th>\n",
       "      <td>diastolic</td>\n",
       "      <td>0.008798</td>\n",
       "    </tr>\n",
       "    <tr>\n",
       "      <th>30</th>\n",
       "      <td>duration</td>\n",
       "      <td>0.999204</td>\n",
       "    </tr>\n",
       "  </tbody>\n",
       "</table>\n",
       "</div>"
      ],
      "text/plain": [
       "                      feature     pca_2\n",
       "8             this_bnp_change -0.038002\n",
       "3            acute_or_chronic -0.000682\n",
       "19                 resting_hr -0.000524\n",
       "23   heart_failure_unspecfied -0.000341\n",
       "25               systolic_chf -0.000324\n",
       "22                     cad/mi -0.000315\n",
       "14         other_cardiac_meds -0.000297\n",
       "26         atrial_fibrilation -0.000213\n",
       "11                  diuretics -0.000167\n",
       "32                 F_5nKZ993n -0.000159\n",
       "33                 F_71ADiKaS -0.000156\n",
       "7                         bnp -0.000127\n",
       "27             cardiomyoapthy -0.000075\n",
       "34                 F_Fy1r9IXM -0.000069\n",
       "10                         bb -0.000060\n",
       "0              patient_gender -0.000021\n",
       "16                         cr -0.000017\n",
       "2                admit_weight -0.000017\n",
       "5          this_weight_change -0.000010\n",
       "29                        chf -0.000010\n",
       "36                 F_L1V04aB0 -0.000010\n",
       "4                      weight -0.000007\n",
       "39                 F_kIUZIzRp -0.000006\n",
       "13                 ionotropes -0.000003\n",
       "31                        age  0.000009\n",
       "6   weight_change_since_admit  0.000016\n",
       "24    diastolic_heart_failure  0.000029\n",
       "28                       lvad  0.000031\n",
       "38                 F_Xxk5Yn3E  0.000041\n",
       "17                   potasium  0.000043\n",
       "37                 F_US4llDDz  0.000043\n",
       "15                        bun  0.000043\n",
       "1                          ef  0.000051\n",
       "40                 F_mB0G57bu  0.000053\n",
       "9                         ace  0.000059\n",
       "12              anticoagulant  0.000090\n",
       "35                 F_KYzNhByH  0.000263\n",
       "20                   systolic  0.003561\n",
       "18             this_cr_change  0.007421\n",
       "21                  diastolic  0.008798\n",
       "30                   duration  0.999204"
      ]
     },
     "execution_count": 67,
     "metadata": {},
     "output_type": "execute_result"
    }
   ],
   "source": [
    "pd.DataFrame({\"feature\" : x.columns, \"pca_2\" : pca.components_[1]}).sort_values(\"pca_2\")"
   ]
  },
  {
   "cell_type": "code",
   "execution_count": 68,
   "metadata": {},
   "outputs": [
    {
     "data": {
      "text/plain": [
       "array([0.8259417 , 0.16550641, 0.00375135])"
      ]
     },
     "execution_count": 68,
     "metadata": {},
     "output_type": "execute_result"
    }
   ],
   "source": [
    "pca.explained_variance_ratio_"
   ]
  },
  {
   "cell_type": "code",
   "execution_count": 69,
   "metadata": {},
   "outputs": [],
   "source": [
    "x_pca = pca.transform(x)"
   ]
  },
  {
   "cell_type": "code",
   "execution_count": 62,
   "metadata": {},
   "outputs": [
    {
     "data": {
      "image/png": "[encoded data removed]",
      "text/plain": [
       "<Figure size 1152x720 with 1 Axes>"
      ]
     },
     "metadata": {
      "needs_background": "light"
     },
     "output_type": "display_data"
    }
   ],
   "source": [
    "plt.rcParams['figure.figsize'] = (16,10)\n",
    "plt.scatter(x_pca[:, 0], x_pca[:, 1], c=y)\n",
    "plt.show()"
   ]
  },
  {
   "cell_type": "code",
   "execution_count": 79,
   "metadata": {},
   "outputs": [
    {
     "data": {
      "text/plain": [
       "<mpl_toolkits.mplot3d.art3d.Path3DCollection at 0x7f6fe5148278>"
      ]
     },
     "execution_count": 79,
     "metadata": {},
     "output_type": "execute_result"
    },
    {
     "data": {
      "image/png": "[encoded data removed]",
      "text/plain": [
       "<Figure size 1152x720 with 1 Axes>"
      ]
     },
     "metadata": {
      "needs_background": "light"
     },
     "output_type": "display_data"
    }
   ],
   "source": [
    "from mpl_toolkits.mplot3d import Axes3D\n",
    "fig = plt.figure()\n",
    "ax = fig.add_subplot(111, projection='3d')\n",
    "ax.scatter(xs = x_pca[:, 0], ys = x_pca[:, 1], zs = x_pca[:, 2], c=y)"
   ]
  },
  {
   "cell_type": "code",
   "execution_count": 83,
   "metadata": {},
   "outputs": [
    {
     "ename": "ModuleNotFoundError",
     "evalue": "No module named 'plotly'",
     "output_type": "error",
     "traceback": [
      "\u001b[0;31m---------------------------------------------------------------------------\u001b[0m",
      "\u001b[0;31mModuleNotFoundError\u001b[0m                       Traceback (most recent call last)",
      "\u001b[0;32m<ipython-input-83-888dc7ef1b7d>\u001b[0m in \u001b[0;36m<module>\u001b[0;34m()\u001b[0m\n\u001b[0;32m----> 1\u001b[0;31m \u001b[0;32mimport\u001b[0m \u001b[0mplotly\u001b[0m\u001b[0;34m.\u001b[0m\u001b[0mplotly\u001b[0m \u001b[0;32mas\u001b[0m \u001b[0mpy\u001b[0m\u001b[0;34m\u001b[0m\u001b[0m\n\u001b[0m\u001b[1;32m      2\u001b[0m \u001b[0;32mimport\u001b[0m \u001b[0mplotly\u001b[0m\u001b[0;34m.\u001b[0m\u001b[0mgraph_objs\u001b[0m \u001b[0;32mas\u001b[0m \u001b[0mgo\u001b[0m\u001b[0;34m\u001b[0m\u001b[0m\n\u001b[1;32m      3\u001b[0m \u001b[0mplotly\u001b[0m\u001b[0;34m.\u001b[0m\u001b[0moffline\u001b[0m\u001b[0;34m.\u001b[0m\u001b[0minit_notebook_mode\u001b[0m\u001b[0;34m(\u001b[0m\u001b[0mconnected\u001b[0m\u001b[0;34m=\u001b[0m\u001b[0;32mTrue\u001b[0m\u001b[0;34m)\u001b[0m\u001b[0;34m\u001b[0m\u001b[0m\n\u001b[1;32m      4\u001b[0m \u001b[0;34m\u001b[0m\u001b[0m\n\u001b[1;32m      5\u001b[0m trace1 = go.Scatter3d(\n",
      "\u001b[0;31mModuleNotFoundError\u001b[0m: No module named 'plotly'"
     ]
    }
   ],
   "source": [
    "import plotly.plotly as py\n",
    "import plotly.graph_objs as go\n",
    "plotly.offline.init_notebook_mode(connected=True)\n",
    "\n",
    "trace1 = go.Scatter3d(\n",
    "    x=x_pca[:, 0],\n",
    "    y=x_pca[:, 1],\n",
    "    z=x_pca[:, 2],\n",
    "    mode='markers',\n",
    "    marker=dict(\n",
    "        size=12,\n",
    "        color=y,                # set color to an array/list of desired values\n",
    "        colorscale='Viridis',   # choose a colorscale\n",
    "        opacity=0.8\n",
    "    )\n",
    ")\n",
    "\n",
    "data = [trace1]\n",
    "layout = go.Layout(\n",
    "    margin=dict(\n",
    "        l=0,\n",
    "        r=0,\n",
    "        b=0,\n",
    "        t=0\n",
    "    )\n",
    ")\n",
    "fig = go.Figure(data=data, layout=layout)\n",
    "py.iplot(fig, filename='3d-scatter-colorscale')"
   ]
  },
  {
   "cell_type": "code",
   "execution_count": 63,
   "metadata": {},
   "outputs": [
    {
     "data": {
      "text/plain": [
       "0       694.0\n",
       "454     704.0\n",
       "482     723.0\n",
       "450     760.0\n",
       "575     773.0\n",
       "623     827.0\n",
       "536     853.0\n",
       "444     904.0\n",
       "3      1276.0\n",
       "485    1390.0\n",
       "Name: duration, dtype: float64"
      ]
     },
     "execution_count": 63,
     "metadata": {},
     "output_type": "execute_result"
    }
   ],
   "source": [
    "x.duration.sort_values().tail(10)"
   ]
  },
  {
   "cell_type": "code",
   "execution_count": 64,
   "metadata": {},
   "outputs": [
    {
     "data": {
      "text/plain": [
       "758    1.0\n",
       "227    1.0\n",
       "567    1.0\n",
       "580    2.0\n",
       "136    3.0\n",
       "407    3.0\n",
       "670    3.0\n",
       "425    3.0\n",
       "57     4.0\n",
       "94     4.0\n",
       "Name: duration, dtype: float64"
      ]
     },
     "execution_count": 64,
     "metadata": {},
     "output_type": "execute_result"
    }
   ],
   "source": [
    "x.duration.sort_values().head(10)"
   ]
  },
  {
   "cell_type": "code",
   "execution_count": null,
   "metadata": {},
   "outputs": [],
   "source": [
    "# %% Plo the PCA Spectrum\n",
    "\n",
    "plt.figure(1, figsize=(8, 6))\n",
    "plt.clf()\n",
    "plt.axes([.2, .2, .7, .7])\n",
    "plt.plot(pca.explained_variance_, linewidth=2)\n",
    "plt.axis('tight')\n",
    "plt.xlabel('n_components')\n",
    "plt.ylabel('explained_variance_')\n",
    "\n",
    "# %%\n",
    "n_components=[1,2,3,5,10]\n",
    "\n",
    "Cs=10**np.linspace(-2,5,50)\n",
    "my_param_dict = {'pca__n_components':n_components,\n",
    "                    'logistic__C':Cs}\n",
    "estimator = GridSearchCV(pipe,\n",
    "                        my_param_dict)\n",
    "                            # scoring='accuracy', cv=5,\n",
    "                            #  return_train_score=True) #param_grid=grid_param,\n",
    "estimator.fit(x,y)\n",
    "\n",
    "plt.axvline(estimator.best_estimator_.named_steps['pca'].n_components,\n",
    "            linestyle=':', label='n_components chosen')\n",
    "plt.legend(prop=dict(size=12))\n",
    "plt.show()\n",
    "\n",
    "estimator.best_score_\n",
    "\n",
    "prediction=estimator.predict(x_test)\n",
    "cnf_matrix = confusion_matrix(y_test, prediction)\n",
    "cnf_matrix"
   ]
  }
 ],
 "metadata": {
  "kernelspec": {
   "display_name": "Python 3",
   "language": "python",
   "name": "python3"
  },
  "language_info": {
   "codemirror_mode": {
    "name": "ipython",
    "version": 3
   },
   "file_extension": ".py",
   "mimetype": "text/x-python",
   "name": "python",
   "nbconvert_exporter": "python",
   "pygments_lexer": "ipython3",
   "version": "3.7.0"
  }
 },
 "nbformat": 4,
 "nbformat_minor": 2
}

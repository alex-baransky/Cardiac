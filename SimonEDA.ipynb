{
 "cells": [
  {
   "cell_type": "markdown",
   "metadata": {},
   "source": [
    "- <a href=\"#acute_or_chronic\">acute_or_chronic</a><br>\n",
    "- <a href=\"#diagnoses\">diagnosis</a><br>\n",
    "- <a href=\"#labs\">Labs</a><br>\n",
    "- <a href=\"#pacemaker\">pacemaker</a><br>\n",
    "- <a href=\"#duration\">duration</a><br>\n",
    "- <a href=\"#\"></a><br>"
   ]
  },
  {
   "cell_type": "markdown",
   "metadata": {},
   "source": [
    "Load the data frame for EDA using %load Pipeline_clean.py"
   ]
  },
  {
   "cell_type": "code",
   "execution_count": 151,
   "metadata": {},
   "outputs": [
    {
     "name": "stdout",
     "output_type": "stream",
     "text": [
      "The autoreload extension is already loaded. To reload it, use:\n",
      "  %reload_ext autoreload\n"
     ]
    }
   ],
   "source": [
    "# %load Pipeline_clean.py\n",
    "%load_ext autoreload\n",
    "%autoreload 2\n",
    "import pandas as pd\n",
    "import numpy as np\n",
    "from data_merge import *\n",
    "from Clean_Fun import *\n",
    "from dtypeFun import *\n",
    "from Meta_fun import *\n",
    "\n",
    "df=pd.read_csv('Data/after_merge.csv',index_col=0)\n"
   ]
  },
  {
   "cell_type": "code",
   "execution_count": 152,
   "metadata": {
    "scrolled": true
   },
   "outputs": [
    {
     "name": "stdout",
     "output_type": "stream",
     "text": [
      "EF less than 0 set to None\n",
      "EF less than 0 set to None\n",
      "EF less than 0 set to None\n",
      "EF less than 0 set to None\n",
      "EF less than 0 set to None\n",
      "EF less than 0 set to None\n",
      "EF less than 0 set to None\n",
      "EF less than 0 set to None\n",
      "EF less than 0 set to None\n",
      "EF less than 0 set to None\n",
      "Couldn't extract EF so set to na_val\n",
      "51 (30 -35)\n",
      "num missing 383\n",
      "value counts before zero and one assignment: 0                                                      383\n",
      "lisinopril 5mg qd                                       41\n",
      "none                                                    35\n",
      "lisinopril 2.5mg qd                                     34\n",
      "losartan 50mg qd                                        21\n",
      "lisinopril 10mg qd                                      20\n",
      "losartan 100mg qd                                       19\n",
      "losartan 25mg qd                                        18\n",
      "lisinopril 20mg qd                                      12\n",
      "enalapril 5mg qd                                         8\n",
      "losartan potassium oral tablet 50 mg qd                  7\n",
      "enalapril 10mg qd                                        6\n",
      "lisinopril 5mg bid                                       4\n",
      "lisinopril                                               4\n",
      "enalapril 20mg qd                                        4\n",
      "losartan potassium oral tablet 50 mg daily               3\n",
      "lisinopril 2.5 mg qd                                     3\n",
      "enalapril maleate oral tablet 5 mg qd                    3\n",
      "enalapril 2.5mg qd                                       3\n",
      "losartan 100 mg qd                                       2\n",
      "lisinopril oral tablet 40 mg                             2\n",
      "lisinopril 5mg q12h                                      2\n",
      "enalapril maleate oral tablet 5 mg                       2\n",
      "lisinopril 40mg qd                                       2\n",
      "enalapril 5mg bid                                        2\n",
      "entresto tablet 24-26 mg (sacubitril-valsartan) bid      2\n",
      "lisinopril oral tablet 40 mg daily                       2\n",
      "losartan 50mg                                            2\n",
      "verapamil hcl er 180mg qd                                2\n",
      "cozaar 100mg qd                                          2\n",
      "                                                      ... \n",
      "enalapril 2.5 mg  qd                                     1\n",
      "amlodopine 2.5 mg qd                                     1\n",
      "losartan 50mg*0.5tab qd                                  1\n",
      "lisinopril 2.5mg po daily                                1\n",
      "lisinopril 5mg - bid                                     1\n",
      "isosorbide mononitrate 10mg daily                        1\n",
      "10/23/17 add lisinopril 5mg qd                           1\n",
      "lisinopril 2.5 mg qd,                                    1\n",
      "arb: losartan 50mg qd                                    1\n",
      "enalapril maleate oral tablet 2.5 mg                     1\n",
      "enalapril 20 mg qd                                       1\n",
      "lisinopril oral tablet 10 mg daily                       1\n",
      "lisinopril oral tablet 20 mg                             1\n",
      "vasotec 5mg qd                                           1\n",
      "lisinopril oral tablet 20 mg qd                          1\n",
      "enalapril 20mg daily                                     1\n",
      "lisinopril 5mg two times per day                         1\n",
      "losartan 25mg +50mg qd                                   1\n",
      "enalapril maleate oral tab 10mg bid                      1\n",
      "lisinopril 2.5mg od                                      1\n",
      "enalapril maleate oral tablet 10 mg                      1\n",
      "isosorbide mono 30mg qd2                                 1\n",
      "cozaar 100mg qd2                                         1\n",
      "hydralazine 25 tid; imdur 30 qd                          1\n",
      "enalapril 5 mg qd                                        1\n",
      "losartan 25 mg daily                                     1\n",
      "losartan potassium oral tablet 100 mg daily              1\n",
      "quinapril 20mg qd                                        1\n",
      "no ace or arb                                            1\n",
      "lisinopril 5mg qd\\nlosartan 50mg qd                      1\n",
      "Name: ace, Length: 139, dtype: int64\n",
      "zero values: ['none; allergic to lisinopril', 'none due renal impairment d/c papers', 'none', 'allergic to ace; \\non arb: 10/23/17 inc. to lorsartan potassium 100mg qd', 'allergic to ace', 'none; allergic to lisinopril', 'no ace or arb']\n",
      "Values set to 1.0: \n",
      " ['enalapril', 'lorsartan potassium 50mg qd', 'ramipril 2.5mg qd', 'lisinopril 2.5mg qd', 'lisinopril 5 mg qd', 'cozaar 100mg qd', 'lisinopril oral tablet 20 mg daily', 'lisinopril-hydrochlorothiazide tablet 20-25 mg qd', 'losartan potassium oral tablet 50 mg, qd2-every day', 'losartan 25 mg daily', 'enalapril 5mg qd', 'enalipiril', 'lisinopril oral tablet 40 mg', 'lisinopril 40 mg qd', 'lisinopril 10 mg qd', 'valsartan 320mg qd', 'entresto 24 mg-26 mg tablet bid', 'losartan 25 mg tablet\\nsig: give 1 tablet (25 mg) by oral route once daily', 'amlodipine 5 mg qd, entresto 24-26mg q12', 'enalapril 10 q12h', 'enalapril maleate oral tablet 5 mg', 'losartan 100mg qd', 'lisinopril 5mg ds', 'losartan 25mg qd', 'losartan potassium oral tablet 25 mg', 'arb: losartan 50mg qd', 'vasotec 10mg qd', 'enalapril 5mg q12h', 'lisinopril 20 mg', 'lisinopril oral tablet 20 mg*2 twice daily', 'ramipril 5mg qd', 'lisinopril 40mg qd', 'lisinopril 5 bid', 'enalapril 2.5 mg  qd', 'enalapril 2.5mg', 'enalapril maleate oral tablet 0.5 mg', 'enalapril maleate oral tablet 2.5 mg', 'lisinopril oral tablet 10 mg daily', 'losartan 25mg +50mg qd', 'enalapril maleate oral tab 10mg bid', 'lisinopril 2.5mg od', 'lisinopril 2.5mg', 'enalapril maleate oral tablet 10 mg', 'isosorbide mono 30mg qd2', 'losartan 50mg qd', 'quinapril 20mg qd', 'lisinopril oral tablet 5 mg daily', 'lisinopril 20mg qd', 'losartan 50mg*0.5tab qd', 'enalapril maleate oral tablet 2.5 mg qd', 'losartan potassium oral tablet 50 mg qd \"hold if syst bp is <110\"', 'enalapril maleate oral tablet 10 mg, qd', 'losartan potassium oral tablet 50mg*2tab  qd', 'losartan hctz tablet 50-12.5 mg qd', 'lisinopril', 'enalapril 2.5mg q12h', 'arb-losartan 50mg qd', 'enalapril 5mg bid', 'lisinopril oral tablet 2.5 mg daily', 'lisinopril 20mg q12h', 'entresto tablet 97-103 mg (sacubitril-valsartan) bid', 'cozaar 100mg qd2', 'enalapril maleate oral tablet 5 mg qd', 'lisinopril 40mg po daily', 'losartan potassium-hctz oral tablet 50-12.5 mg qd', 'lisinopril oral tablet 20 mg', 'verapamil hcl er 180mg qd', 'enalapril maleate oral tablet 20 mg qd', 'coreg 3.125mg q12h', 'losartan potassium oral tablet 50 mg qd', 'enalapril 5 mg qd', 'losartan 150mg qd', 'asdf', 'lisinopril 5mg*3tab bid hold for bp < 100', 'enalapril maleate  5 mg qd', 'cozaar 50mg qd', 'lisinopril 5mg q12h', 'lisinopril 20g qd', 'valsartan 160mg qd', 'enalapril maleate oral tablet 20 mg, bid', 'benicar tablet 20 mg (olmesartan medoxomil) qd', 'isosorbide dinitrate 5mg q12h', 'enalapril 2,5mg qd', 'lisinopril 5mg qd', 'hydralazine 100mg q6h', 'norvasc 10 mg qd', 'lisinopril oral tablet 20 mg qd', 'lisinopril tablet 5 mg od', 'lisinopril 5mg', 'lisinopril oral tablet 5 mg qd', 'benazepril 40mg bid2; clopidogrel 75mg qd2', 'losartan 100-25 mg qd', 'lisinopril 2.5mg qd  hold if b/p <90/50', 'lisinopril 5mg daily', 'lisinopril oral tablet 2.5 mg qd', 'lisinopril 5mg - bid', 'enalapril 2.5mg daily', 'isosorbide mononitrate 10mg daily', '10/23/17 add lisinopril 5mg qd', 'lisinopril 2.5 mg qd,', 'lisinopril 5mg qd\\nlosartan 50mg qd', 'vasotec 5mg qd', 'enalapril 20mg daily', 'lisinopril 5mg two times per day', 'losartan potassium oral tablet 100 mg daily', 'lisinopril 5 mg qd,', 'hydralazine 25 tid; imdur 30 qd', 'lisinopril oral tablet 40 mg daily', 'lisinopril 10mg qd', 'losartan potassium oral tablet 25 mg, qd-every day', 'losartan 50mg', 'amlodopine 2.5 mg qd', 'enalapril 20mg qd', 'entresto tablet 24-26 mg (sacubitril-valsartan) bid', 'enalapril 20 mg qd', 'lisinopril oral tablet 2.5 mg, qd', 'enalapril 10mg qd', 'lisinopril oral tablet 5 mg, qd', 'lisinopril oral tablet 10 mg', 'lisinopril oral tablet 10 mg qd', 'n/a on records', 'losartan potassium oral tab 100mg qd', 'losartan potassium oral tablet 50 mg daily', 'enalapril 10 mg bid', 'enalapril 20mg q12h', 'enalapril 2.5mg qd', 'lisinopril 5mg bid', 'lisinopril 10mg bid', 'lisinopril 2.5 mg qd', \"ramipril 5mg qd d/c'd 2/2 to chronic cough\", 'losartan 100 mg qd', 'lisinopril 2.5mg po daily']\n",
      "0.0    423\n",
      "1.0    341\n",
      "Name: ace, dtype: int64\n",
      "num missing 194\n",
      "value counts before zero and one assignment: 0                                                                                                  194\n",
      "metoprolol 25mg qd                                                                                  38\n",
      "metoprolol 50mg qd                                                                                  33\n",
      "metoprolol 25mg q12h                                                                                22\n",
      "none                                                                                                20\n",
      "metoprolol 100mg qd                                                                                 18\n",
      "metoprolol 50mg q12h                                                                                17\n",
      "metoprolol 25mg bid                                                                                 13\n",
      "carvedilol 25mg q12h                                                                                10\n",
      "coreg 6.25mg bid                                                                                    10\n",
      "carvedilol 12.5mg q12h                                                                              10\n",
      "metoprolol 50mg bid                                                                                  9\n",
      "carvedilol 6.25mg q12h                                                                               9\n",
      "carvedilol 6.25mg bid                                                                                8\n",
      "metoprolol 200mg qd                                                                                  8\n",
      "metoprolol 100mg q12h                                                                                7\n",
      "carvedilol 12.5mg bid                                                                                7\n",
      "carvedilol 3.125mg bid                                                                               7\n",
      "labetalol 200mg q12h                                                                                 6\n",
      "carvedilol 25mg bid                                                                                  6\n",
      "carvedilol 3.125mg q12h                                                                              6\n",
      "carvedilol oral tablet 6.25 mg q12h                                                                  4\n",
      "atenolol 25mg qd                                                                                     4\n",
      "coreg 6.25mg q12h                                                                                    4\n",
      "metoprolol 25mg *0.5tab q12h                                                                         4\n",
      "toprol 25 mg qd                                                                                      3\n",
      "metoprolol tartrate oral tablet 25 mg bid                                                            3\n",
      "metoprolol 50mg q8h                                                                                  3\n",
      "carvedilol oral tablet 6.25 mg bid                                                                   3\n",
      "metoprolol tartrate 25mg q12h                                                                        3\n",
      "                                                                                                  ... \n",
      "metoprolol  succ er 25mg qd                                                                          1\n",
      "carvedilol 6.25 mg bid  hold if bp <90/60                                                            1\n",
      "metoprlol 50mg qd                                                                                    1\n",
      "coreg 3.125mg q12h                                                                                   1\n",
      "coreg 3.125mg twice daily                                                                            1\n",
      "cravedilol 25mg q12h\\nmetoprolol 50mg qd                                                             1\n",
      "metoprolol  50 mg qd                                                                                 1\n",
      "metoprolol 25mg *0.5tab two times per day                                                            1\n",
      "carvedilol oral tablet 25 mg every 12 hours                                                          1\n",
      "labetolol 200mg bid                                                                                  1\n",
      "metoprolol 25mg *3tab q12h                                                                           1\n",
      "metoprolol tartrate 25 mg two times per day                                                          1\n",
      "coreg 6.25 mg bid                                                                                    1\n",
      "metoprolol 25 mg er qd,                                                                              1\n",
      "carvedilol 25mg twice daily                                                                          1\n",
      "metoprolol succinate er 100 mg  once daily  hold for hr <60, bp < 100 systolic and notify md/np      1\n",
      "metoprolol 50mg  qd                                                                                  1\n",
      "labetalol 300 mg q 8 h,                                                                              1\n",
      "metoprolol 25mg*2tb q12h                                                                             1\n",
      "metoprolol tartrate oral tablet 50 mg                                                                1\n",
      "metoprolol 50 mg q12h                                                                                1\n",
      "coreg 3.125 mg bid,                                                                                  1\n",
      "labetalol 200mg tid                                                                                  1\n",
      "labetalol 200mg *2tab bid                                                                            1\n",
      "metoprolol 50 twice daily                                                                            1\n",
      "metoprolol 50 mg bid                                                                                 1\n",
      "carvedilol 12.5mg bid2                                                                               1\n",
      "coreg 6.25 bid                                                                                       1\n",
      "metoprolol 50 mg *2tab bid                                                                           1\n",
      "metoprolol succ er  25 mg qd                                                                         1\n",
      "Name: bb, Length: 258, dtype: int64\n",
      "zero values: ['none']\n",
      "Values set to 1.0: \n",
      " ['coreg 6.25mg qd', 'labetalol 200mg bid', 'metoprolol er 50 mg qd', 'coreg 25mg q12h', 'metoprolol tartrate oral tablet 100 mg, q12h', 'metoprolol tartrate 50mg q12h', 'metoprolol tartrate 25mg *0.5  two times per day', 'metoprolol succ er 50 mg qd', 'carvedilol 6.25mg q12h', 'metoprolol 12.5 mg q12, coreg 6.25 mg q12,', 'carvedilol 3.125mg*0.5tab q12h  hold if b/p <100/60, pulse <60', 'metoprolol 75mg bid', 'metoprolol 25mg *0.5tab two times a day', 'carvedilol 6.25mgbid', 'metoprolol 25 mg bid', 'metoprolol  succ er 25mg qd', 'carvedilol oral tablet 3.125 mg every 12 hours', 'metoprolol 100 mg qd', 'coreg 3.125mg bid', 'metoprolol er 100mg qd', 'carvedilol 3.125mg bid', 'metoprolol 50 mg q12h', 'coreg 3.125 po q12h', 'metoprolol 50 mg bid,', 'metoprolol succ 100mg qd', 'metoprolol 25 mg daily', 'metoprolol tartrate oral tablet 25 mg* 0.5tab, q6h-every 6 hours', 'metoprolol 25mg q12 h', 'labetalol 200 mg bid', 'atenolol oral tablet 50 mg, qd-every day', 'carvedilol 3.125mg', 'metoprolol succinate er oral tablet extended release 24 hour 25 mg qd', 'labetalol 200mg*2tab tid', 'carvedilol 25mg*0.5tab bid', 'metoprolol succinate er oral tablet extended release 24 hour 100 mg daily', 'carvedilol 3.125 mg q12h', 'coreg 3,125mg bid', 'metoprolol succ er 100mg qd', \"bisoprolol d/c'd 11/20/17\", 'bystolic 10mg qd', 'carvedilol oral tablet 3.125 mg bid', 'coreg 6.25mg q12h', 'metoprolol 75mg q12h', 'labetalol 200mg q12h', 'metoprolol tartrate oral tablet 25 mg, q12h-every 12 hours', 'atenolol 25mg po daily', 'carvedilol oral tablet 12.5 mg', 'atenolol oral tablet 25 mg 0.5 tablet qd', 'metoprolol succ 25 mg daily', 'metoprolol er 50mg qd', 'carvedilol 6.25mg bid', 'metoprolol 25mg *3tab qd', 'metoprolol 50mg qd\\ntoprol 25mg qd', 'metoprolol 50mg bid', 'coreg 6.25mg bid', 'metoprolol 25 mg q12h', 'metoprolol 25mg', 'atenolol oral tablet 100 mg daily', 'coreg 6.25 mg bid', 'metoprolol 50mg+25mg qd', 'labetalol 200mg *2tab q12h', 'metoprolol succ er 25mg qd', 'toprol xl oral tablet extended release 24 hour 25 mg, qd-every day', 'coreg 6.25 bid', 'metoprolol 100mg q8h', 'metoprolol 75mg qd', 'coreg 12.5mg bid', 'toprol xl 12.5mg qd', 'metoprolol tartrate oral tablet 50 mg q12 h', 'metoprolol tartrate oral tablet 50 mg, tid hold if systolic below 120 diastolic below 60', 'atenolol 25 mg 1 tablet once daily hold for bp < 110/70', 'carvedilol 12.5 mg bid', 'carvedilol 3.125 mg bid', 'metoprolol 25mg po daily', 'carvedilol 6.25mg qd', 'labetalol 300 mg bid', 'metoprolol tartrate 25mg *0.5tabqd', 'cravedilol 25mg q12h', 'carvedilol 12.5mg*0.5tab q12h', 'carvedilol 12.5mg *3tab q12h', 'toprol xl 25mg qd', 'metoprolol tartrate oral tablet 50 mg tid', 'carvedilol oral tablet 6.25 mg bid', 'metoprolol tartrate 25mg  q12h', 'amiodarone 200 mg qd', 'metoprolol succ er 25 mg qd', 'metoprolol 100mg qd', 'bisoprolol 5mg qd', 'metoprolol 25mg  qd', 'toprol 25mg *0.5tab qd', 'metoprolol tartrate 50 mg tablet sig: give 1 tablet (50 mg) by oral route every 12 hours', 'carvedilol 6.25mg two times per day', 'metoprolol 25mg bid', 'carvedilol 3.125mg q12h', 'carvedlol 12.5mg q12h', 'coreg 12.5mg q12h', 'metoprolol 25mg *0.5tab bid', 'metoprolol tartrate oral tablet 100 mg bid', 'metoprolol succinate 25mg qd', 'metoprolol 25mg  bid', 'metoprolol 50mg q8h', 'labetalol 300mg q8h', 'metoprolol 100mg two times per day', 'carvedilol', 'coreg 3.125mg two times a day', 'metoprolol 100mg bid', 'metoprolol tartrate oral tablet 25mg qd', 'atenolol-chlorthalidone tablet 100-25 mg qd', 'carvedilol 12.5mg q12h', 'carvedilol12.5mg q12h', 'metoprolol succ 25mg qd', 'metoprlol 50mg qd', 'metoprolol tartrate oral tab 75mg bid', 'carvedilol 25mg bid', 'carvedilol oral tablet 25 mg every 12 hours', 'carvedilol 6.25 mg bid', 'toprol 25mg*0.5tab qd', 'carvedilol 12.5 mg 1 tablet (12.5 mg) by oral route every 12 hours', 'toprol xl 25mg daily', 'metoprolol 200 mg qd', 'metoprolol tartrate oral tablet 25 mg bid', 'labetalol 200 mg q12hrs', 'labetalol 100mg q12h', 'carvedilol 12.5mg bid', 'carvedilol 12.5 mg', 'metoprolol  25mg q12h', 'labetalol 300mg twice daily', 'metoprolol succinate 25 mg qd', 'metoprolol 50 mg\\t q12h hours hold if systolic bp is less than 100 and/or pulse is less than 60', 'labetalol hcl oral tablet 100 mg every 8 hours', 'rera', 'labetalol 300mg q12h', 'metoprolol tartrate oral tablet 25 mg, q12h  if systolic bp less than 100 then hold medication \\n\\nif pulse less than 60 then hold medication', 'labetalol', 'labetalol 100mg q8h', 'metoprolol 25mg  q12h', 'coreg 25mg bid', 'metoprolol 25mg*0.5tab qd', 'coreg 25 bid', 'carvedilol 3.125mg qd, metoprolol tart 50mg q12h', 'metoprolol tart 100mg q12h', 'coreg 3.125mg q12h', 'toprol 25mg qd', 'coreg 3.125mg twice daily', 'cravedilol 25mg q12h\\nmetoprolol 50mg qd', 'metoprolol 25mg*2tb q12h', 'metoprolol tartrate oral tab 25mg q12h', 'metoprolol 50 mg *2tab bid', 'metoprolol 25 mg er qd,', 'carvedilol oral tablet 25 mg bid', 'metoprolol er 50mg qd\\nmetoprolol tartrate 25mg qd\\nsotalolhcl  80mg qd', 'carvedilol 12.5mg bid2', 'metoprolol tartrate 25mg q12h', 'metoprolol 50 mg bid', 'metoprolol 50 twice daily', 'metoprolol 50mg  qd', 'labetalol 200mg tid', 'atenolol 100mg qd', 'metoprolol100mg q12h', 'coreg 3.125 mg bid,', 'metoprolol succinate er oral tablet extended release 24 hour 50 mg qd', 'metoprolol tartrate oral tablet 50 mg', 'metoprolol tartrate oral tablet 25 mg', 'coreg cr capsule extended release 24 hour 10 mg (carvedilol phosphate er) qd', 'metoprolol  50 mg qd', 'metoprolol succinate er 100 mg  once daily  hold for hr <60, bp < 100 systolic and notify md/np', 'metoprolol 25mg *0.5tab qd', 'metoprolol 200mg qd', 'metoprolol 25mg*2tab  qd', 'metoprolol 100mg q12h', 'metoprolol tartrate 25 mg two times per day', 'metoprolol 25mg *3tab q12h', 'labetolol 200mg bid', 'metoprolol 50mg', 'metoprolol 25mg *0.5tab two times per day', 'metoprolol tartrate oral tablet 25 mg  - bid', 'metoprolol tartrate oral tab 100mg q12h', 'metoprolol succ er 50 mg q12h', 'metoprolol 25mg *1.5tab bid', 'carvedilol 6.25 mg 1 tablet (6.25 mg) by oral route 2 times per day', 'labetalol hcl oral tablet 200 mg daily', 'carvedilol oral tab 25 mg bid', 'toprol 50mg qd', 'coreg 3.125 mg bid', 'metoprolol tartrate oral tablet 50 mg, q12h', 'atenolol oral tablet 25 mg, qd-every day', 'coreg 25mg q12', 'toprol 50 qd', 'metoprolol succinate er oral tablet extended release 24 hour 25 mg', 'carvedilol 12.5 mg two times per day', 'carvedilol 6.25mg q8h', 'toprol 100mg +50mg qd', 'metoprolol tartrate oral tablet 50 mg, q8h-every 8 hours  if systolic < 110 then hold medications and call md if hr < 60 hold medication and call md', 'labetalol 200mg *2tab bid', 'metoprolol 25 mg*0.5tab qd', 'labetolol 100mg po q12', 'atenolol 25mg qd', 'lopressor 50mg q12h', 'metoprolol 25mg  q8h hold if sbp <90 or hr <60', 'labetalol 300 mg q 8 h,', 'labetalol 200mg *2tab q8h', 'metoprolol tartrate oral tablet 50 mg, bid', 'metoprolol 12.5mg qd', 'metoprolol tartrate 25mg bid', 'metoprolol 50 mg  q12h', 'metoprolol 50mg qd', 'metoprolol tartrate oral tablet 25mg bid', 'bystolic tab 5mg qd', 'coreg 6.25 mg*2tab bid', 'metoprolol 50 mg qd', 'metoprolol tartrate 200mg qd(05292018-06282018)', 'metoprolol 25mg q8h', 'carvedilol 6.25mg bid2', 'metoprolol succinate er  25mg qd', 'carvedilol oral tablet 6.25 mg, 0.5 tablets twice daily', 'labetalol 200mg q8h', 'coreg 6.25mg q12,', 'metoprolol 100mg + 25mg qd', 'metoprolol 100mg  qd', 'metoprolol 25mg *0.5tab q12h', 'metoprolol 25mg q12h', 'carvedilol 25mg two times a day', 'metoprolol succinate er oral tablet extended release 24 hour 25 mg, qd-every day', 'metoprolol succ 50mg qd', 'metoprolol 50mg q12h', 'bisoprolol 5 mg qd', 'carvedilol 6.25mg two times a day', 'carvedilol 3.125mg 2x', 'metoprolol 25mg q12h2', 'carvedilol oral tablet 6.25 mg', 'carvedilol oral tablet 3.125 mg', 'metoprolol 50mg q12h,', 'toprol xl 50mg qd', 'coreg 3.125mg qd', 'metoprolol 200mg q12h', 'carvedilol 25mg twice daily', 'metoprolol tartrate oral tablet 25 mg, bid-twice daily', 'carvedilol 25mg two times per day', 'carvedilol oral tablet 6.25 mg q12h', 'n/a on records', 'metoprolol', 'toprol 25 mg qd', 'metoprolol 25mg qd', 'toprol 100mg qd', 'atenolol 50mg ds', 'carvedilol 25mg q12h', 'carvedilol 6.25 mg bid  hold if bp <90/60', 'metoprolol 25mg p.o. bid', 'metoprolol 25mg*2tab q12h', 'metoprolol succinate er oral tablet extended release 24 hour 50 mg, qd-every day', 'metoprolol tartrate oral tablet 25 mg 3 tablets every 12 hours', 'toprol 25 mg daily', 'metoprolol 100mg po daily', 'metoprlol 25mg qd', 'metoprolol succ er  25 mg qd']\n",
      "1.0    547\n",
      "0.0    217\n",
      "Name: bb, dtype: int64\n",
      "num missing 251\n",
      "value counts before zero and one assignment: 0                                                                                                    251\n",
      "lasix 40mg qd                                                                                         45\n",
      "furosemide 40mg qd                                                                                    38\n",
      "furosemide 20mg qd                                                                                    36\n",
      "lasix 20mg qd                                                                                         34\n",
      "none                                                                                                  19\n",
      "furosemide 40mg bid                                                                                   15\n",
      "furosemide 80mg qd                                                                                    10\n",
      "lasix 40mg bid                                                                                         8\n",
      "torsemide 20mg qd                                                                                      7\n",
      "furosemide oral tablet 40 mg qd                                                                        7\n",
      "furosemide 20mg bid                                                                                    6\n",
      "furosemide 80mg bid                                                                                    5\n",
      "furosemide oral tablet 20 mg                                                                           4\n",
      "furosemide 40mg q12h                                                                                   4\n",
      "furosemide oral tablet 20 mg, qd                                                                       4\n",
      "spironolactone 25mg qd                                                                                 4\n",
      "lasix                                                                                                  3\n",
      "furosemide 60mg qd                                                                                     3\n",
      "spironolactone 25mg qd\\nfurosemide 40mg qd                                                             3\n",
      "0                                                                                                      3\n",
      "torsemide 20mg *2tab qd                                                                                3\n",
      "lasix 40 mg qd                                                                                         3\n",
      "bumetanide 2mg qd                                                                                      3\n",
      "lasix oral tablet 40 mg                                                                                2\n",
      "lasix 80mg qd                                                                                          2\n",
      "lasix 60mg qd                                                                                          2\n",
      "torsemide 40mg qd                                                                                      2\n",
      "bumex 1mg bid                                                                                          2\n",
      "bumetanide 2mg bid                                                                                     2\n",
      "                                                                                                    ... \n",
      "furosemide 40mg  qd\\nspironolactone 25mg qd                                                            1\n",
      "lasix 80 mg qd, metolazone 2.5 mg qd                                                                   1\n",
      "bumetadine 1mg qd                                                                                      1\n",
      "lasix oral tablet 40 mg, qd                                                                            1\n",
      "furosemide oral tablet 40 mg, qd-every day                                                             1\n",
      "lasix 40mg qd\\nspironolactone 25mg *0.5tab qd                                                          1\n",
      "eliquis                                                                                                1\n",
      "lasix 20mg qd\\naldactone 25mg qd                                                                       1\n",
      "furosemide oral tablet 20 mg qd\\nspironolactone 25mg qd                                                1\n",
      "furosemide oral tablet 80 mg qd\\n11/18/17 zaroxolyn 5mg 1/2hr before lasix x 5days                     1\n",
      "furosemide 40mg qd\\nspironolactine 25mg *0.5tab qd                                                     1\n",
      "metolazone 2.5mg qd\\nspironolactone 50mg qd\\ntorsemide 20mg *2tab bid                                  1\n",
      "spironolactone 25 mg*0.5tab qd                                                                         1\n",
      "furosemide 60mg qd\\nfurosemide 80mg qd                                                                 1\n",
      "spironolactone 25mg qd\\nlasix 40mg q48h                                                                1\n",
      "furosemide oral tablet 40 mg                                                                           1\n",
      "spironolactone 25mg bid\\nlasix 20mg qd                                                                 1\n",
      "spironolactone 25mg *0.5tab qd\\nfurosemide 80mg qd                                                     1\n",
      "lasix oral tab 20mg bid                                                                                1\n",
      "bumetanide tab 2mg bid                                                                                 1\n",
      "furosemide 40mg 2x                                                                                     1\n",
      "furosemide 80 mg bid                                                                                   1\n",
      "lasix 20mg qg                                                                                          1\n",
      "furosemide oral tablet 40 mg bid                                                                       1\n",
      "lasix oral tablet 60 mg qd\\nspirinolactone 12.5mg qd\\n10/11/17 diuril 250mg orally added x 4 days      1\n",
      "furosemide oral tablet 20 mg, qd-daily                                                                 1\n",
      "furosemide 20mg *2tab qd                                                                               1\n",
      "spironolactone 25mg *0.5tab qd                                                                         1\n",
      "furosemide 40 mg                                                                                       1\n",
      "furosemide oral tablet 20 mg, mg, qd-every day                                                         1\n",
      "Name: diuretics, Length: 245, dtype: int64\n",
      "zero values: ['lasix 40mg qd; eplerenone 25mg qd\\nspironolactone 25mg qd', 'none']\n",
      "Values set to 1.0: \n",
      " ['furosemide 40mg qd', 'furosemide 20mg*3tab qd', 'torsemide 80mg qd', 'metolazone 2.5mg bid\\nspironolactone 25mg qd', 'furosemide 20 mg qd\\nspironolactone 25mg qd', 'furosemide 20mg daily, special instructions:hold for sbp <100*** ▼', 'spironolactone 50mg qd', 'furosemide 40mg qd\\nspirinolactone 25mg*0.5tab qd', 'lasix oral tab 40mg qd', 'torsemide 20mg qd\\nspironolactone 25mg qd', 'spironolactone 25mg bid\\nlasix 20mg qd', 'lasix 60mg bid', 'furosemide 80 mg every 12 hours', 'furosemide 40mg qd\\nspironolactone 25mg bid', 'spironolactone 25mg qd furosemide 20mg qd', 'bumetadine 1mg +0.5mg qd', 'bumetanide 3 mg qd,', 'furosemide 80mg 1x', 'furosemide 80mg bid\\nspironolactone 50mg qd', 'furosemide oral tablet 40 mg, qd', 'lasix 80mg qd\\nmetolazone 2.5mg every other day', 'furosemide 80mg q8h', 'lasix 20mg *2tb qd', 'bumetanide 0.5mg q2d', 'furosemide 20mg bid', 'lasix 40mg qd; aldactone 50mg qd', 'bumex 2mg bid', 'edecrin oral tab 25mg qd', 'furosemide 20mg  every other day', 'spironolactone 25mg*2tab qd\\ntorsemide 100mg 0.5tab bid', 'torsemide 100mg bid', 'furosemide 40mg qd\\nlasix 40mg qd for 5 days(starting 05202018)', 'lasix 60mg qd', 'furosemide 40mg  qd\\nspironolactone 25mg qd', 'metolazone 2.5mg  in the morning every 2 day(s)', 'lasix 20mg *2tab bid', 'furosemide 20mg*3tab  qd', 'bumetanide 2mg bid', 'lasix 40mg *2tab qd', 'furosemide 20mg +40mg qd', 'lasix 40mg q12h(until 05242018)\\nlasin 20mg qd(on hold)', 'furosemide oral tablet 20 mg daily', 'lasix 40mg po daily', 'metolazone 5mg qd  \\nfurosemide 40mg bid', 'lasix 20mg qd\\nfurosemide 40mg qd', 'spironolactone 25mg qd\\nclopidogrel 75mg qd', 'furosemide 20mg two times a day', 'furosemide 40mg*1.5tab 3 times per week', 'lasix 80mg qd', 'lasix 20mg qd(until 08/05)\\nfurosemide 40mg qd', 'lasix tablet 20 mg (furosemide) qd', 'furosemide 40mg *1.5tab q12h', 'torsemide 20mg *4tab bid', 'lasix 40mg q48h', 'furosemide oral tablet 80 mg qd\\n11/18/17 zaroxolyn 5mg 1/2hr before lasix x 5days', 'torsemide 100 mg  two times per day', 'lasix 20mg qd\\nlasix 40mg qd', 'bumex 1mg', 'furosemide 80mg qd every tue, thu, sat', 'lasix 20 mg*2tab qd', 'metolazone 5mg  tiw\\naldactone 25mg  tiw\\nlasix 40mg  bid', 'furosemide 20mg qd hold if bp is less than 90/60', 'bumetanide 2 mg 1 tablet (2 mg) by oral route 2 times per day', 'lasix 20mg twice daily', 'spironolactone 25 mg*0.5tab qd', 'bumetanide 1 mg*3tb qd', 'lasix 20 mg every 12 hours', 'indapamide 1.25 mg qd\\nlasix 20mg qd', 'furosemide 40 mg tablet sig: give 1 tablet (40 mg) by oral route 2 times per day', 'furosemide 20mg*3tab  qd\\nbumetanide 2mg qd', 'bumex 1mg bid', 'torsemide 20mg qd', 'furosemide tab 40mg bid', 'furosemid 20mg qd\\nlasix 20mg qd', 'spironolactone 25mg qd\\nlasix 40mg q48h', 'sildenafil 20 mg q 8h,', 'spironolactone  25mg qd', 'lasix oral tablet 40 mg qd', 'lasix 40mg qd\\naldactone 25mg*0.5tab qd', 'lasix 20 mg qd', 'bumetadine 1mg qd', 'furosemide tab 20mg qd', 'metolazone 2.5mg qd\\nspironolactone 50mg qd\\ntorsemide 20mg *2tab bid', 'bumetanide 1 mg, spironolactone 25 mg', 'lasix 20mg daily', 'torsemide 80mg qd\\ntorsemide 20mg qd ( until 09/05)\\nspironlactone 25mg qd', 'furosemide oral tablet 40 mg bid', 'furosemide 40mg+20mg qd', 'furosemide oral tablet 40 mg, qd2 - every day', 'furosemide 20mg*3tab  3x per week on non-dialysis day mwf', 'quinapril 20mg qd', 'lasix 40mg daily', 'lasix 40 mg qd spironolactone 25mg qd', 'metolazone 2.5mg qd\\ntorsemide 10mg *3tab bid', 'lasix 20mg qd (06092018-06112018)', 'furosemide 80mg qd', 'furosemide solution 40 mg/4ml - 20mg qd', 'spironolactone 25mg*0.5tabqd', 'furosemide oral tablet 40 mg qd', 'lasix 20mg qd\\naldactone 25mg q48h\\nmetolazone 2.5mg q48h', 'torsemide 20mg q12h', 'lasix 80 mg bid\\naldactone 25mg qd', 'furosemide oral tablet 20 mg qd\\nspironolactone 25mg qd', 'furosemide 20mg every other day hold if bp less than ,100/60', 'furosemide 40 mg qd', 'furosemide 40mg *0.5tab qd', 'furosemide oral tablet 20 mg qd', 'bumex 1 mg qd', 'metolazone 2.5mg qd', 'lasix oral tablet 40 mg, hs', 'aldactone 25mg *0.5tab qd', 'metolazone 2.5mg qd  every mon, thu\\ntorsemide 20mg*2 tab qd with breakfast', 'furosemide 40 mg 2 times per day', 'furosemide 40mg qd\\nspironolactone 25mg qd', 'spironolactone 25mg qd', 'furosemide 80mg bid', 'spironolactone 25mg q48h\\nlasix 20mg q48h', 'furosemide 60mg qd', 'lasix 80 mg qd, metolazone 2.5 mg qd', 'lasix 80mg po bid', 'furosemide 20mg *3tabqd\\nspirinolactone 25mg *0.5tab qd', 'lasix', 'lasix 40mg qd2', 'lasix oral tablet 20 mg qd', 'spironolactone 25mg*0.5tab qd\\nfurosemide 20mg qd', 'lasix 80mg bid, aldactone 25mg qd, acetazolamide 250mg bid.', 'furosemide oral tablet 20 mg, mg, qd-every day', 'furosemide 40mg qd\\nlasix 40mg qd (untill 08/03)', 'furosemide 20mg qd', 'lasix 20mg *3tab bid', 'bumetanide oral tab 2mg qd', 'lasix 40mg bid (06232018-06262018)\\nlasix 40mg qd(since 06262018)', 'furosemide 20mg *3tab qd', 'furosemide 40mg tid', 'lasix 40mg qd \\nspironolactone 25mg qd', 'reduce bumex to 2mg daily and hold spironolactone, touch base on 8/4 with labs', 'lasix 40 mg q 12', 'furosemide oral tablet 20 mg, qd', 'furosemide oral tablet 60 mg qd', 'furosemide 40mg qd hold if bp <90/50', 'lasix oral tablet 60 mg bid', 'lasix 60 mg bid', 'torsemide 20mg *2tab qd\\nmetolazone 5mg q48h', 'bumetanide 1mg qd', 'bumetanide 2mg qd', 'lasix 20 mg qd,', 'lasix 20 mg every other day', 'lasix 40mg qd\\nlasix 20mg qd( untill 0905)', 'spironolactone 25mg qd; bumetadine 2mg bid; metolazone 2.5mg tid2', 'lasix 20 mg qd2', 'lasix oral tablet 40 mg, qd', 'lasix 40mg qd\\nspironolactone 25mg *0.5tab qd', 'furosemide 40 mg', 'spironolactone 25mg *0.5tab qd', 'furosemide 20mg *2tab qd', 'furosemide oral tablet 20 mg, qd-daily', 'torsemide 20mg*2tab qd', 'metolazone 2.5mg daily', 'lasix oral tablet 60 mg qd\\nspirinolactone 12.5mg qd\\n10/11/17 diuril 250mg orally added x 4 days', 'lasix 20mg qg', 'furosemide 80 mg bid', 'furosemide 40mg 2x', 'bumetanide tab 2mg bid', 'lasix oral tab 20mg bid', 'spironolactone 25mg *0.5tab qd\\nfurosemide 80mg qd', 'furosemide oral tablet 40 mg', 'furosemide 40mg qd\\nspironolactine 25mg *0.5tab qd', 'spironolactone 25mg qd\\nfurosemide 80mg qd  2 times per week monday and thrusday', 'lasix 20mg qd\\naldactone 25mg qd', 'eliquis', 'furosemide oral tablet 40 mg, qd-every day', 'furosemide 20 mg qd', 'lasix 40mg qd\\nspironolactone 25mg every other day', 'bumetanide 1mg bid', 'torsemide 100mg q12h', 'furosemide  40 mg q12h', 'furosemide oral tablet 40 mg qd\\nspironolactone 25 mg qd', 'spironolactone 25mg qd- on hold x 7 days', 'furosemide 40mg q12h', 'lasix 20mg  bid', 'bumetanide 2mg q12h', 'spironolactone 25mg*0.5tab qd\\nfurosemide 40mg qd', 'furosemide oral tablet 20 mg, qd-every day', 'torsemide 40mg po daily', 'furosemide 80mg qd\\nmetolazone 5 mg qd', 'furosemide 40 mg tablet\\nsig: give 1 tablet (40 mg) by oral route once daily', 'spironolactone 25mg qd\\ntorsemide 100mg qd', 'lasix 40mg bid', 'lasix40 mg qd', 'furosemide 80mg qd\\nfurosemide 20mg hs', 'lasix 40mg qd\\nquinapril 5mg qd', 'torsemide 40mg qd', 'spironolactone 25mg qd\\ntorsemide 60mg qd', 'metolazone 5mg qd', 'furosemide', 'lasix oral tablet 40 mg', 'spironolactone 25mg qd\\nfurosemide 20mg qd', 'furosemide 60mg qd\\nfurosemide 80mg qd', 'torsemide 100mg qd', 'furosemide 40mg qd\\nfurosemide 40mg qd (untill 05142018)', 'lasix 20mg qd\\nspironolactone 50mg qd', 'hctz 50mg qd', 'lasix 40mg p.o. daily', 'lasix 20mg bid', 'lasix 40mg', 'furosemide 40mg bid', 'metolazone 5mg bid\\nlasix 40mg qd', 'lasix 40 mg qd', 'lasix 40mg qd', 'lasix 40mg daily (spironolactone ended 08/13/17)', 'torsemide 80mg qd\\nmetolazone 2.5mg qd', 'lasix 40mg qd\\nspironolactone 100mg qd', 'lasix 20mg qd\\nspironolactone 25mg qd', 'metolazone 2.5mg po q48hrs\\nbumetanide 1mg *3tab bid', 'cdre', 'lasix 80mg bid\\naldactone 25mg *0.5tab qd\\nmetolazone 2.5mg qd every m/w/f', 'bumex 1mg qd', 'lasix 80mg qd\\naldactone 50mg qd', 'lasix 40mg*1.5tab bid', 'lasix 20mg qd', 'lasix oral tablet 40 mg q12 h', 'furosemide oral tablet 20 mg', 'furosemide 20mg and spironolactone 25mg daily', 'spirolactone 25mg qd', 'lasix 20mg qd2', 'n/a on records', 'torsemide 20mg *2tab qd', 'spironolactone 25mg qd\\nfurosemide 40mg qd', 'lasix 80mg bid', 'bumetanide 1mg  two times per day\\nmetolazone 5mg qd', 'lasix 40mg bid2', 'lasix 20 qd', 'lasix 40mg qd\\naldactone 50mg qd', 'lasix 40mgbid and zaroxolyn 2.5mg od', 'furosemide 40mg qd\\nfurosemide 80mg qd', 'torsemide 60mg qd\\nspironolactone 25mg qd', 'lasix 40mg *1.5tab qd\\nspironolactone 25mg*0.5tab qd', 'spironolactone 100mg bid \\nlasix 40mg bid', 'lasix 40mg*3tab  qd', 'lasix 20mg hs', 'lasix 60mg qd; aldactone 25mg qd']\n",
      "1.0    490\n",
      "0.0    274\n",
      "Name: diuretics, dtype: int64\n",
      "num missing 167\n",
      "value counts before zero and one assignment: 0                                                                                                        167\n",
      "aspirin 81mg qd                                                                                          128\n",
      "aspirin 81 mg qd                                                                                          22\n",
      "none                                                                                                      18\n",
      "aspirin 81mg qd\\nclopidogrel 75mg qd                                                                      16\n",
      "eliquis 5mg q12h                                                                                          14\n",
      "eliquis 2.5mg q12h                                                                                        13\n",
      "aspirin 81mg qd\\nplavix 75mg qd                                                                           12\n",
      "clopidogrel 75mg qd\\naspirin 81mg qd                                                                       9\n",
      "xarelto 15mg qd                                                                                            7\n",
      "xarelto 20mg qd                                                                                            7\n",
      "clopidogrel 75mg qd                                                                                        7\n",
      "eliquis 2.5mg bid                                                                                          6\n",
      "plavix 75mg qd\\naspirin 81mg qd                                                                            6\n",
      "heparin sodium (porcine) solution 5000 unit/ml q12h                                                        5\n",
      "eliquis 2.5mg q12h\\naspirin 81mg qd                                                                        4\n",
      "aspirin 325mg qd                                                                                           4\n",
      "asa 81mg qd                                                                                                4\n",
      "eliquis 5mg bid                                                                                            4\n",
      "aspirin 81 mg daily                                                                                        4\n",
      "plavix 75mg qd                                                                                             4\n",
      "apixaban 5mg bid                                                                                           3\n",
      "coumadin 7.5mg qd                                                                                          3\n",
      "aspirin low strength oral tablet chewable 81 mg, qd-daily                                                  3\n",
      "xarelto 20mg qd\\naspirin 81mg qd                                                                           3\n",
      "asa 81 mg qd                                                                                               3\n",
      "eliquis 2.5mg twice daily                                                                                  3\n",
      "coumadin 3mg qd                                                                                            3\n",
      "pradaxa 150mg q12h                                                                                         3\n",
      "aspirin 81 mg                                                                                              3\n",
      "                                                                                                        ... \n",
      "clopidogrel 75mg qd\\nwarfarin 10mg hs\\naspirin 81mg qd                                                     1\n",
      "aspirin 81mg qd\\nplavix 75mg qd\\nranexa 500mg q12h                                                         1\n",
      "aspirin 81mg qd and clopidogrel 75mg qd                                                                    1\n",
      "asa 81mg daily                                                                                             1\n",
      "warfarin 6mg  qd\\naspirin 81mg qd                                                                          1\n",
      "aspirin low strength oral tablet chewable 81 mg, qd                                                        1\n",
      "coumadin 6mg qd                                                                                            1\n",
      "love of 40mg daily                                                                                         1\n",
      "aspirin 81mg po daily                                                                                      1\n",
      "heparin 5000unit/ml q12h                                                                                   1\n",
      "enoxaparin sodium solution 40 mg/0.4ml inject 40 milligram subcutaneously qd                               1\n",
      "aspirin 81 mg 1x                                                                                           1\n",
      "eliquis 2.5mg q12h\\naspirin 81 mg qd                                                                       1\n",
      "warfarin sodium 3 mg hs\\naspirin ec 81 mg qd                                                               1\n",
      "clopidogrel tab 75mg q48h\\naspirin 81mg q2d\\n\\nother cardiac meds: isosorbide mononitrate er 30mg qd.      1\n",
      "eliquis 5 mg q12h                                                                                          1\n",
      "aspir 81 mg daily                                                                                          1\n",
      "coumadin 6mg qd+ 1mg                                                                                       1\n",
      "asa 81mgod and plavix 75mg od                                                                              1\n",
      "aspirin 81mg qd\\nplavix 75mg qd\\nxarelto 20mg qd                                                           1\n",
      "aspirin 325mg                                                                                              1\n",
      "coumandin 1mg qd\\naspirin 325mg qd                                                                         1\n",
      "eliquis 2.5 mg bid,                                                                                        1\n",
      "eliquis 2.5 mg q12, asa 81mg qd                                                                            1\n",
      "pradaxa 150mg bid                                                                                          1\n",
      "aspirin 81 mg qd\\nclopidogrel 75 mg qd                                                                     1\n",
      "aspirin oral tablet chewable 81mg qd                                                                       1\n",
      "aspirin 81mg qd2                                                                                           1\n",
      "asa                                                                                                        1\n",
      "aspirin low dose oral tablet 81 mg                                                                         1\n",
      "Name: anticoagulant, Length: 282, dtype: int64\n",
      "zero values: ['none\\nother cardiac meds: digoxin 0.25mg daily; amiodarone 100mg qd; isosorbide 10mg q8h;', 'none, hx. paf/a-fib not on ac, w/he of frequent nose bleed, required prbc x 2 within 2 weeks, upper gi bleed, allergic to asa', 'none', 'none, hx. paf/a-fib not on ac, w/he of frequent nose bleed, required prbc x 2 within 2 weeks, upper gi bleed, allergic to asa']\n",
      "Values set to 1.0: \n",
      " ['aspirin 81mg', 'eliquis 2.5mg q12h\\nclopidogrel 75mg qd', 'coumadin 2.5mg qd', 'aspirin 81mg qd and clopidogrel 75mg qd', 'aspirin low dose oral tablet 81 mg, qd-every day\\nplavix 75mg qd', 'clopidogrel 75mg qd', 'aspirin oral tab chewable 81mg qd\\neliquis oral tab 2.5mg bid', 'eliquis tab 5mg q12h', 'eliquis 2.5mg twice daily', 'clopidogrel 75mg qd\\naspirin 81mg qd\\nheparin sodium (porcine) solution 5000 unit/ml q12h', 'xarelto 20mg hs', 'aspirin low dose oral tablet 81 mg, qd\\neliquis 5mg bid', 'aspirin 81 mg 7/24/2017', 'coumadin 3mg qd', 'warfarin 3mg qd\\naspirin 81mg qd', 'aspirin low dose oral tablet 81 mg qd\\nheparin sodium (porcine) solution 5000 unit/ml q12h', 'aspirin 325 mg  qd', 'aspirin 81mg every mon, wed, fr', 'plavix 75mg qd;  warfarin 3mg hs', 'aspirin low dose oral tablet 81 mg', 'aspirin 325mg qd', 'plavix oral tablet 75 mg\\naspirin 81mg qd', 'aspirin 81mg bid', 'coumadin 2.5+3mg qd\\naspirin 81mg qd', 'aspirin 81mg qd; plavix 75mg qd', 'eliquis 5mg q12h; aspirin 81mg qd', 'heparin sodium (porcine) solution 5000 unit/ml q8h\\naspirin 81mg qd\\nplavix 75mg qd', 'plavix 75mg qd\\nxarelto 15mg qd', 'ranexa 500mg bid', 'aspirin ec 81mg qd\\nclopidogrel 75mg qd', 'aspirin 81mg qd\\nheparin sodium (porcine) solution 5000 unit/ml q12h', 'warfarin 2+2.5mg qd', 'eliquis 2.5mg bid', 'aspirin ec low dose oral tablet delayed release 81 mg, qd-every day', 'aspirin 81mg daily', 'brillinta 90mg q12h\\naspirin 81mg qd', 'aspirin 81mg qd\\nheparin sodium (porcine) solution 5000 unit/ml q8h\\nclopidogrel 75mg qd', 'hvav', 'aspirin low strength oral tablet chewable 81 mg - qd-every day', 'aspirin 81 mg qd  \\ncoumadine  3mg hs', 'coumadin 4mg hs', 'aspirin  ec low dose 81mg qd\\nwarfarin 6mg hs- bedtime', 'aspirin 81mg qd\\ncoumadin  3mg hs- bedtime', 'xarelto 20mg qd\\naspirinin 81mg qd', 'coumadin 4mg qd\\naspirin 81mg qd', 'aspirin 325mg qd\\nclopidogrel 75mg qd\\napixaban 5mg q12h', 'heparin 5000unit/ml q12h', 'eliquis 2.5 mg q12, aspirin 81 mg qd', 'eliquis 5mg', 'aspirin 81mg qd\\nclopidogrel tab 75mg qd', 'aspirin 81mg  qd\\nxarelto 10mg qd', 'aspirin 81 mg and plavix 75 mg daily', 'aspirin ec oral tablet delayed release 325 mg daily', 'warfarin 10mg qd\\naspirin 81mg qd', 'aspirin 81mg qd\\nwarfarin 5 mg qd', 'clopidogrel 75mg qd\\naspirin 81mg qd', 'eliquis 5mg q12h; furosemide 20mg qd', 'plavix oral tab 75 mg qd\\nxarelto 15mg qd', 'aspirin 81mg qd\\nxarelto 20mg hs', 'plavix 75mg', 'asa 81mg qd', 'coumadin 5mg qd\\naspirin 81mg qd', 'xarelto 20mg daily', 'brilinta 60mg bid\\naspirin 81mg *2tab qd', 'coumadin 2mg qd\\naspirin 81mg qd', 'enoxaparin sodium solution 40 mg/0.4ml 40 milligram subcutaneously qd', 'coumadin 4mg qd', 'aspirin 81 mg', 'aspirin ec low dose  81mg qd\\nxarelto 15mg qd', 'plavix 75mg po daily (stop on 9/19/18)\\naspirin 325mg po daily', 'aspirin 81 mg qd,', 'brilinta 90mg bid', 'aspirin 81mg qd\\nwarfarin sodium tablet \\t\\ngive 1 mg by mouth at bedtime', 'eliquis 5mg bid\\nclopidogrel 75mg qd', 'eliquis 5mg bid aspirin 81mg qd', 'xarelto 15mg qd\\naspirin 81mg qd', 'asa 81 mg qd', 'brilinta 90mg twice daily\\naspirin 81mg qd', 'coumadin 10mg qd', 'aspirin low strength oral tablet chewable 81 mg, qd-daily', 'aspirin 81 mg qd', 'aspirin 81 mg tablet,delayed release sig: give 1 tablet (81 mg) by oral route once daily', 'warfarin 2mg qd', 'eliquis 2.5mg q12h\\naspirin 81mg qd', 'aspirin 81mg patch daily chewing tablet vs. patch for lower back (verify records in emr, please ms)', 'aspirin oral tablet chewable 81 mg, qd-every day', 'eliquis 2.5mg two times per day \\nclopidogrel 75mg qd', 'aspirin 325mg ec qd', 'love of 40mg daily', 'aspirin 81mg qd\\ncoumadin 2.5+1mg qd', 'xarelto 20 mg hs', 'aggrenox capsule extended release 12 hour 25-200 mg (aspirin-dipyridamole er) qd', 'heparin sodium (porcine) solution 5000 unit/ml q12h', 'aspirin 81mg qd\\nlovenox 80mg q12h', 'plavix 75mg qd\\naspirin 81mg qd', 'coumadin 2.5mg+1mg qd', 'aspirin 81mg qd\\nlovenox 100mg/ml inject 0.9ml q12h', 'xarelto 20mg qd', 'warfarin 1mg+4mg  hs', 'aspirin 81 mg daily\\nwarfarin 6 mg', 'aspirin 81mg qd\\napixaban 2.5mg bid', 'warfarin 1mg qd sunday/tus/th/saturday\\nwarfarin 2mg qd mon/wed/friday', 'plavix 75mg; aspirin 81mg qd', 'eliquis 2.5mg two times a day', 'apixaban 5mg bid', 'aspirin low dose oral tablet 81 mg, qd-every day', 'aspirin 81 mg 2 tablets daily', 'aspirin chewable 81mg qd, apixaban 5 mg q12h', 'warfarin 6mg hs', 'eliquis 2.5 mg qd', 'coumadin 6mg', 'aspirin 81 mg 7/31/17 daily', 'warfarin 4mg qd', 'aspirin 81mg qd\\neliquis 5mg q12h', 'aspirin chewable 81 mg qd', 'xarelto 20 mg once daily', 'heparin 5000ml/unit q12h', 'coumadin 7.5mg qd', 'aspirin 81 mg qd, xarelto 20 mg hs', 'eliquis 5mg q12h', 'coumadin 2mg qd twice weekly on tuesday and thursday\\ncoumadin 6mg qd twice weekly on tuesday and thursday\\ncoumadin 5mg qd every sun, mon, wed, fri, sat', 'aspirin 81mg qd\\ncoumadin 5mg hs', 'pradaxa 75mg q12h', 'clopidogrel 75mg qd\\ncoumadin oral tab 2.5 mg+1mg  hs', 'eliquis tab 5mg bid', 'asa 81 mg qd, plavix 75 mg qd', 'coumadin 10mg qd\\naspirin 81mg qd', 'aspir-low tab 81mg qd', 'coumadin 4mg  qd  sunday/ tuesday/thursday/saturday\\ncoumadin 5mg  qd  monday wednesday friday', 'warfarin 5mg hs', 'coumadin 4 mg hs  every sun, tue, thu, sat\\ncoumadin 2mg hs every mon, wed, fri', 'enoxaparin sodium solution 60 mg/0.6ml inject 60 milligram subcutaneously one time a day\\naspirin 81mg qd', 'aspirin 81mg qd, apixaban 5mg q12h', 'aspirin oral tablet chewable 81 mg, qd-every day\\neliquis 2.5mg q12h', 'aspirin 81 mg 1 tablet (81 mg) by oral route once daily; eliquis 5 mg 1 tablet (5 mg) by oral route 2 times per day', 'aspirin 325 mg daily and clopidogrel 75 mg daily', 'heparin 5000unit/ml q8h', 'clopidogrel 75mg qd\\naspirin low dose 81 mg qd', 'eliquis 2.5 mg bid', 'plavix oral tablet 75mg qd', 'aspirin ec low dose oral tablet delayed release 81 mg, qd-every day\\nbrilinta tab 90mg q12h', 'plavix 75mg po daily\\naspirin 81mg po daily', 'xarelto 15mg qd', 'coumadin 2.5+5mg qd', 'aspirin 81mg qd\\npradaxa 75mg q12h', 'plavix 75mg qd\\nxarelto 20mg bid', 'aspirin 81mg qd\\neliquis 5mg q12h\\nclopidogrel 75mg qd', 'aspirin 81mg qd\\neliquis 2.5mg bid', 'coumadin 2.5mg hs', 'apixaban 2.5mg q12h', 'eliquis 5mg bid\\naspirin 81mg qd', 'clopidogrel 75mg qd, apixaban 2.5mg bid', 'clopidogrel 75mg qd2; aspirin 81mg', 'aspirin ec low dose 81mg- qd\\neliquis tab 5mg bid', 'aspirin ec low dose oral tablet delayed release 81 mg, qd', 'aspirin ec tab 81mg qd\\nwarfarin sodium oral tab 2mg qiw\\nwarfarin sodium oral tab 1mg tiw\\nplavix 75mg qd', 'aspirin 81 mg chewable tablet\\nsig: give one tablet by mouth every day for prophylaxis', 'warfarin 2.5 mg + 4mg hs-bedtime', 'aspirin ec low dose oral tablet delayed release 81 mg, ds', 'coumadin 7.5 mg hs', 'bumetanide 2mg qd', 'aspirin ec low dose oral tablet delayed release 81 mg', 'clopidogrel 75 mg daily', 'clopidogrel 75mg qd\\nequis 5mg q12h', 'clopidogrel bisulfate  75 mg qd\\naspirin 81mg qd', 'brilinta 90mg q12h', 'aspirin 81mg qd\\nbrilinta 90mg q12h', 'aspirin 81mg qd\\neliquis 5mg bid', 'eliquis 5 mg q12h', 'aspirin 81mg qd2', 'aspirin 81mg qd\\nplavix 75mg qd', 'aspirin oral tablet chewable 81mg qd', 'aspirin 81 mg qd\\nclopidogrel 75 mg qd', 'pradaxa 150mg bid', 'eliquis 2.5 mg q12, asa 81mg qd', 'eliquis 2.5 mg bid,', 'aspirin 325mg', 'aspirin 81mg qd\\nplavix 75mg qd\\nxarelto 20mg qd', 'asa 81mgod and plavix 75mg od', 'warfarin 2mg qd\\nwarfarin 2mg every week on sunday am', 'coumadin 6mg qd+ 1mg', 'clopidogrel tab 75mg q48h\\naspirin 81mg q2d\\n\\nother cardiac meds: isosorbide mononitrate er 30mg qd.', 'clopidogrel 75mg qd\\nwarfarin 10mg hs\\naspirin 81mg qd', 'aspir 81 mg daily', 'warfarin sodium 3 mg hs\\naspirin ec 81 mg qd', 'aspirin 81 mg 1x', 'enoxaparin sodium solution 40 mg/0.4ml inject 40 milligram subcutaneously qd', 'eliquis 5mg q12h\\naspirin 81mg qd', 'plavix 75mg qd', 'aspirin 81mg po daily', 'coumadin 6mg qd', 'aspirin low strength oral tablet chewable 81 mg, qd', 'plavix 75 mg qd', 'asa 81mg daily', 'warfarin 6mg  qd\\naspirin 81mg qd', 'aspirin 81mg p.o. daily', 'eliquis 5mg two times a day', 'coumadin 5mg hs; aspirin 81mg qd', 'aspirin 81mg qd\\napixaban 2.5mg q12h', 'aspirin 81mg qd\\nwarfarin 4mg qd', 'eliquis 2.5mg two times per day\\naspirin 81mg qd', 'eliquis 5mg bid', 'aspirin 81mg qd  \\nclopidogrel 75mg qd', 'coumadin 2mg qd', 'plavix 75 mg qd,', 'asa 81 mg qd, eliqius 2.5 mg bid', 'coumadin 8 mg hs, aspirin 81 mg qd', 'furosemide oral tablet 20 mg, qd-every day', 'aspirin ec low dose oral tablet delayed release 81 mg qd\\nplavix 75mg qd', 'warfarin sodium 2mg hs-bedtime', 'asa 81mg qd; xarelto 20mg qd', 'plavix 75mg daily', 'aspirin 81mg qd\\nclopidogrel 75mg qd', 'aspirin low strength oral tablet chewable 81 mg, qd-every day', 'xarelto 20mg qd\\naspirin 81mg qd', 'eliquis 2.5mg bid\\naspirin 81mg qd', 'clopidogrel 75mg qd\\ncoumadin 2.5mg+4mg give 1 tablet (2.5 mg) by oral route once daily add 4 mg with 2.5 mg total 6.5mg', 'aspirin 81mg qd\\nheparin sodium (porcine) injection solution 5000 unit/ml- q8h', 'warfarin 7.5mg qd\\naspirin 81mg qd', 'heparin (porcine) 5,000 unit/ml injection solution q12h', 'clopidogrel 75mg daily and aspirin 81 mg 1 tablet (81 mg) by oral route once daily', 'aspirin ec low dose oral tablet', 'aspirin 81mg qd\\nheparin sodium (porcine) solution 5000 unit/ml q8h', 'aspirin 81 mg, qd\\nplavix 75mg qd', 'aspirin ec 81 mg qd\\neliquis 2.5 mg q12h', 'aspirin low dose oral tablet 81 mg qd\\neliquis 2.5mg q12h', 'aspirin 81mg qd\\ncoumadin 1mg+6mg qd', 'eliquis oral tab 2.5 mg q12h', 'coumadin oral tablet 5 mg- hs', 'aspirin 81 mg qd\\ncoumadine oral tab 4mg +2.5mg hs\\nheparin sod  intravenous 100 unit/ml qs', 'warfarin 2.5mg qd', 'apixaban 2.5 q12h; asa 81mg qd', 'apixaban 5mg q12h', 'heparin 5000 s/ml - 1ml q12h; aspirin 81mg qd', 'coumadin 1mg qd', 'heparine injection 5000', 'coumadin oral tablet 5 mg 1 tablet(s) by mouth hour of sleep', 'warfarin 7.5mg hs', 'asa', 'coumandin 1mg qd\\naspirin 325mg qd', 'eliquis 2.5 mg- six times a week', 'eliquis 5mg 2times per day', 'eliquis 5 mg every 12 hours', 'plavix 75mg qd; aspirin 81mg qd', 'coumadin 5mg qd', 'heparin sodium (porcine) injection solution 5000 unit/ml, qd - every day\\naspirin low strength oral tablet chewable 81 mg, qd - every day', 'aspirin 81mgqd', 'aspirin 81mg and eliquis 5mg', 'hx. of gib(was taken off coumadin as per wife)', 'aspirin 81mg qd\\nheparin sodium injection solution 5000unit/ml hs', 'clopidogrel 75mg qd\\neliquis 5mg bid', 'aspirin 81 mg daily', 'pradaxa 150mg q12h', 'brilinta 90mg q12h\\naspirin 81mg qd', 'aspir-low oral tablet 81 mg daily', 'warfarin 5mg qd', 'aspirin 81mg qd\\nwarfarin 2mg qd', 'aspir 81 mg hs', 'aspirin 81mg, plavix 75mg', 'aspirin 81mg qd', 'aspirin 81mg q12h', 'asa 81mg', 'aspirin oral tablet chewable 81 mg - qd\\neliquis 5mg qd', 'warfarin 1mg qd', 'coumadin oral tab 2.5 mg hs', 'plavix and lovenox', 'pradaxa 75mg qd', 'n/a on records', 'aspirin 81mg qd, ticagrelor 90mg q12h', 'aspirin ec low dose oral tablet delayed release 81 mg, qd-daily', 'eliquis 2.5mg q12h\\naspirin 81 mg qd', 'eliquis 5mg q12h2', 'aspirin 81mg qd\\neliquis 2.5mg q12h', 'aspirin 81mg qd\\nplavix 75mg qd\\nranexa 500mg q12h', 'aspirin 81mg qd\\nxarelto 20mg qd', 'oncologist rec. to d/c eliquis; asa 81mg qd', 'eliquis 2.5mg q12h']\n",
      "1.0    574\n",
      "0.0    190\n",
      "Name: anticoagulant, dtype: int64\n",
      "num missing 675\n",
      "value counts before zero and one assignment: 0                                                                                                                                                                                                                                                    675\n",
      "none                                                                                                                                                                                                                                                  31\n",
      "digoxin 125mcg qd                                                                                                                                                                                                                                     14\n",
      "digoxin 0.125mg qd                                                                                                                                                                                                                                    10\n",
      "digox 0.125mg qd                                                                                                                                                                                                                                       3\n",
      "digoxin 125mcg q48h                                                                                                                                                                                                                                    3\n",
      "digoxin 0.125mg qd orally                                                                                                                                                                                                                              1\n",
      "digoxin 0.125mg q48h                                                                                                                                                                                                                                   1\n",
      "digoxin 125mcg qd hold medication and call md if heart rate is below 60                                                                                                                                                                                1\n",
      "digoxin 0.125 mg qd                                                                                                                                                                                                                                    1\n",
      "amiodarone hcl 200 mg qd                                                                                                                                                                                                                               1\n",
      "digoxin 125mcg q48h, , milrinone lactate solution  0.375 mcg/hr intravenously every shift related to acute on chronic systolic (congestive) heart failure (i50.23) 0.375mcg/kg/min to run 5.8ml/hr                                                     1\n",
      "dobutamine 8mcg/kg/min                                                                                                                                                                                                                                 1\n",
      "digoxin 0.125mg q2d                                                                                                                                                                                                                                    1\n",
      "digoxin 125mcgqd                                                                                                                                                                                                                                       1\n",
      "eliqus 2.5mg q12h                                                                                                                                                                                                                                      1\n",
      "digoxin 125mcg orally qd                                                                                                                                                                                                                               1\n",
      "digoixin 125mcg qd                                                                                                                                                                                                                                     1\n",
      "digox 125mcg qd                                                                                                                                                                                                                                        1\n",
      "digoxin solution 0.05 mg/ml - give 2.5ml qd                                                                                                                                                                                                            1\n",
      "digox 0.125mg tiw                                                                                                                                                                                                                                      1\n",
      "dopamine drips via curling pump in continuous mode concentration : 1.6 mg/ml . bag volume: 500 ml . prog volume : 288 ml . rate : 12 ml/ hr time : 24 hrs . kvo 10 ml/hr . coram to dispense premixed bag 800 mg/500 ml . concentration 1.6 mg/ml      1\n",
      "digoxin 0.125 mg biw                                                                                                                                                                                                                                   1\n",
      "aspirin 81mg qd                                                                                                                                                                                                                                        1\n",
      "digox 125mcg every other day                                                                                                                                                                                                                           1\n",
      "digoin 125mcg qd                                                                                                                                                                                                                                       1\n",
      "digoxin 125mcg qd, diltiazem hcl er 120 mg q12h                                                                                                                                                                                                        1\n",
      "digoxin 250mcg qd                                                                                                                                                                                                                                      1\n",
      "digoxin 125mcg qd every mon, thu                                                                                                                                                                                                                       1\n",
      "digoxin 125mcg qd every other day                                                                                                                                                                                                                      1\n",
      "digoxin 0.25mg qd                                                                                                                                                                                                                                      1\n",
      "iv dobutamine 4mcg/kg/min @ 4ml/hr for wt. of 66kg                                                                                                                                                                                                     1\n",
      "n/a on records                                                                                                                                                                                                                                         1\n",
      "digoxin 125 mcg once daily three times a week                                                                                                                                                                                                          1\n",
      "Name: ionotropes, dtype: int64\n",
      "zero values: ['digoxin 125mcg q48h, , milrinone lactate solution  0.375 mcg/hr intravenously every shift related to acute on chronic systolic (congestive) heart failure (i50.23) 0.375mcg/kg/min to run 5.8ml/hr', 'none']\n",
      "Values set to 1.0: \n",
      " ['digoxin 125mcg qd hold medication and call md if heart rate is below 60', 'digoxin 0.125 mg qd', 'amiodarone hcl 200 mg qd', 'digoxin 125mcg qd', 'digox 0.125mg qd', 'dobutamine 8mcg/kg/min', 'digoxin 0.125mg q2d', 'digoxin 125mcg q48h', 'digoxin 125mcgqd', 'digoxin 125mcg orally qd', 'digoixin 125mcg qd', 'digoxin 0.125mg q48h', 'digox 125mcg qd', 'dopamine drips via curling pump in continuous mode concentration : 1.6 mg/ml . bag volume: 500 ml . prog volume : 288 ml . rate : 12 ml/ hr time : 24 hrs . kvo 10 ml/hr . coram to dispense premixed bag 800 mg/500 ml . concentration 1.6 mg/ml', 'digoxin 0.125mg qd', 'digoxin 0.125 mg biw', 'aspirin 81mg qd', 'digox 125mcg every other day', 'digoin 125mcg qd', 'digoxin 125mcg qd, diltiazem hcl er 120 mg q12h', 'digoxin 250mcg qd', 'digoxin 0.125mg qd orally', 'digoxin 125mcg qd every mon, thu', 'digoxin 125mcg qd every other day', 'digoxin 0.25mg qd', 'iv dobutamine 4mcg/kg/min @ 4ml/hr for wt. of 66kg', 'n/a on records', 'digoxin solution 0.05 mg/ml - give 2.5ml qd', 'eliqus 2.5mg q12h', 'digox 0.125mg tiw', 'digoxin 125 mcg once daily three times a week']\n",
      "0.0    707\n",
      "1.0     57\n",
      "Name: ionotropes, dtype: int64\n",
      "num missing 507\n",
      "value counts before zero and one assignment: 0                                                                     507\n",
      "none                                                                   82\n",
      "0                                                                      74\n",
      "no                                                                     28\n",
      "pacemaker                                                              25\n",
      "aicd                                                                   14\n",
      "yes                                                                     7\n",
      "no aicd or pacemaker                                                    3\n",
      "life vest                                                               2\n",
      "ppm                                                                     2\n",
      "lifevest                                                                2\n",
      "s/p ppm/aicd                                                            1\n",
      "no on life vest                                                         1\n",
      "aicd 2014                                                               1\n",
      "pacemaker 6/11/18                                                       1\n",
      "pace maker only                                                         1\n",
      "left chest wall                                                         1\n",
      "aicd-dual chamber                                                       1\n",
      "combined aicd and pacemaker                                             1\n",
      "no (ppm only)                                                           1\n",
      "0.25                                                                    1\n",
      "ppm mobitz i 2013                                                       1\n",
      "aicd(turned off), has zoll lifevest                                     1\n",
      "zoll lifevest                                                           1\n",
      "z95.810  presence of automatic (implantable) cardiac defibrillator      1\n",
      "hld, htn                                                                1\n",
      "pacemaker, prosthetic heart valve                                       1\n",
      "o                                                                       1\n",
      "zoll life vest                                                          1\n",
      "Name: aicd, dtype: int64\n",
      "zero values: ['none', 'no (ppm only)', 'no', 'no on life vest', 'no aicd or pacemaker']\n",
      "Values set to 1.0: \n",
      " ['pace maker only', 'pacemaker 6/11/18', 'life vest', 'aicd 2014', 'hld, htn', 'pacemaker', 'left chest wall', 's/p ppm/aicd', 'combined aicd and pacemaker', '0.25', 'lifevest', 'zoll life vest', 'ppm mobitz i 2013', 'aicd(turned off), has zoll lifevest', 'zoll lifevest', 'ppm', 'z95.810  presence of automatic (implantable) cardiac defibrillator', 'aicd', 'pacemaker, prosthetic heart valve', 'o', 'yes', 'aicd-dual chamber']\n",
      "0.0    696\n",
      "1.0     68\n",
      "Name: aicd, dtype: int64\n",
      "num missing 254\n",
      "value counts before zero and one assignment: 0                                                                                                                               254\n",
      "atorvastatin 40mg qd                                                                                                             35\n",
      "atorvastatin 80mg qd                                                                                                             22\n",
      "amlodipine 10mg qd                                                                                                               19\n",
      "amlodipine 5mg qd                                                                                                                15\n",
      "simvastatin 20mg qd                                                                                                              12\n",
      "atorvastatin 20mg qd                                                                                                             11\n",
      "amiodarone 200mg qd                                                                                                               9\n",
      "lipitor 40mg qd                                                                                                                   8\n",
      "simvastatin 10mg qd                                                                                                               6\n",
      "no cardiac meds on the record                                                                                                     6\n",
      "nifedipine 60mg qd                                                                                                                5\n",
      "simvastatin 40mg qd                                                                                                               5\n",
      "nifedipine 30mg qd                                                                                                                4\n",
      "nifedipine 90mg qd                                                                                                                4\n",
      "hydralazine 100mg  q8h;isosorbide mono 30mg qd; simvastatin 20mg hs                                                               4\n",
      "isosorbide mono 30mg qd                                                                                                           4\n",
      "lipitor 20mg qd                                                                                                                   4\n",
      "atorvastatin 40 mg hs                                                                                                             4\n",
      "simvastatin 10mg hs                                                                                                               4\n",
      "norvasc 10mg qd                                                                                                                   3\n",
      "norvasc 5mg qd                                                                                                                    3\n",
      "lipitor 10mg qd                                                                                                                   3\n",
      "amlodipine 2.5mg qd                                                                                                               3\n",
      "none                                                                                                                              3\n",
      "nifedipine er 90mg qd                                                                                                             2\n",
      "metolazone 5mg 1 tablet (5 mg) by oral route 2 times per week on monday and thursday at 6:30 pm (30 minutes after torsemide)      2\n",
      "rosuvastatin 20mg qd                                                                                                              2\n",
      "simvastatin 5mg qd                                                                                                                2\n",
      "atorvastatin 40mg qd, hydralazine 100mg q8h, isosorbide din 30mg *2tab tid                                                        2\n",
      "                                                                                                                               ... \n",
      "amiodarone 200mg od,atorvastatin 40mg hs,hydralazine 25mg q8h,isosorbide dinitrate 10mg q8h,asa 81mg od                           1\n",
      "isosorbide mono 30mg qd, amlodipine 10mg qd                                                                                       1\n",
      "hydralazine 100mg q8h, nifedipine 60mg*2tab qd, atorvastatin 20mg qd                                                              1\n",
      "isosorbid mono 30mg qd, atorvastatin 20mg qd                                                                                      1\n",
      "amiodarone 100mg qd; midodrine hcl tablet 10 mg 3x/day                                                                            1\n",
      "hydralazine 10mg tid, nifedipine 60mg qd                                                                                          1\n",
      "simvastatin 40mg qd, hydralazine 10mg tid                                                                                         1\n",
      "amiodarone 100mg qd, amlodipine 5mg qd                                                                                            1\n",
      "isosorbide din 10mg tid, rosuvastatin 5mg qd, hydralazine 25mg q8h                                                                1\n",
      "lipitor 40mg qd, isosorbide mono 30mg qd, hydralazine 50mg q8h                                                                    1\n",
      "atorvastatin 80mg qd, amlodipine 10mg qd, hydralazine 100mg q8h                                                                   1\n",
      "amlodipine besy-benazepril hcl capsule 5-20 mg qd, atorvastatin 20mg qd                                                           1\n",
      "digoxin 0.125mg qd; norvasc 10mg qd; atorvastatin 80mg hs                                                                         1\n",
      "atorvastatin 80mg qd,  hydralazine 25mg tid, nifedipine 60mg qd                                                                   1\n",
      "isosorbide dinitrate 20mg q8h; amlodipine 10mg qd; hydralazine 50mg q8h                                                           1\n",
      "amlodipine 5mg qd; hydralazine 25mg 3x/day; isosorbide mononitrate er 120mg qd                                                    1\n",
      "amlodipine 10mg qd, simvastatin 20mg qd                                                                                           1\n",
      "amlodipine 10mg qd, rosuvastatin 20mg qd                                                                                          1\n",
      "amlodipine 5mg qd, hydralazine 25mg q8h                                                                                           1\n",
      "pravastatin sodium tablet 10 mg qd, amlodipine 5mg qd                                                                             1\n",
      "nifedipine er 30mg qd                                                                                                             1\n",
      "10/23/17 inc. hydralazine 100mg q8h; amlopdine 10mg qd; isosorbide mon. er 120mg qd                                               1\n",
      "10/23/17 added isosorbide dinitrate 10mg tid; nifedipine er 90mg qd; sl nitro 0.4mg prn                                           1\n",
      "atorvastatin 80mg qd, nifedipine 30mg qd                                                                                          1\n",
      "hydralazine 50mg*1.5tab q8h; isosorbide dinitrate 40mg q8h                                                                        1\n",
      "atorvasatin 10mg qd                                                                                                               1\n",
      "pravastatin 80mg qd, sildenafil 20mg tid                                                                                          1\n",
      "norvasc 10mg qd; isosorbide dinitrate 10mg  bid, atorvastatin 40mg qd                                                             1\n",
      "norvasc 5mg qd; lipitor 20mg hs                                                                                                   1\n",
      "amlodipine 5mg qd, hydrochlorothiazide 25mg qd, hydralazine 50mg tid                                                              1\n",
      "Name: other cardiac meds, Length: 319, dtype: int64\n",
      "zero values: ['milrinone lactate in dextros solution 40-5 mg/200ml%', 'none', 'no orders found on the record', 'no cardiac meds available on the record', 'no cardiac meds on the record', '12/26: no med records in \"orders\" pointclickcare']\n",
      "Values set to 1.0: \n",
      " ['pravastatine 80mg qd', 'amlodipine 5mg q12h', 'isosorbide mono 30mg qd, hydralazine 25mg tid, simvastatin 20mg qd', 'rosuvastatin 10mg qd, hydralazine 25mg*3tab q8h', 'lipitor 40mg qd, acetazolamide 250mg bid', 'lipitor 10mg qd', 'isosorbide mono 30mg qd, hydralazine 25mg q8h,atorvastatin 40mg qd', 'isosorbide mono 30mg qd, hydralazine 50mg q8h, amlodipine 10mg qd, amiodarone 200mg qd', 'atorvastatin 10mg qd, nifedipine 60mg qd', 'amlodipine 10mg qd, atorvastatin 40mg, isosorbide din 20mg tid', 'amiodarone 100mg qd; midodrine hcl tablet 10 mg 3x/day', 'norvasc 5mg qd', 'amlodipine 5mg hs, lipitor 40mg qd', 'hydralazine 25mg q8h, isosorbide mono 30mg qd, lipitor 10mg qd', 'simvastatin 10mg q evening', 'amiodarone 200mg *0.5 tab q12h, isosorbide din 30mg qd,', 'atorvasatin 80mg qd', 'atorvastatin 20mg hs', 'amiodarone 200mg qd, simvastatin 10mg qd', 'atorvastatin 40mg hs', 'isosorbide mono 30mg qd, rosuvastatin 20mg qd', 'crestor 10mg qd', 'nitroglycerin tablet sublingual 0.3 mg give 1 tablet sublingually every 5 minutes as needed for chest pain give q 5 minutes x3 for chest pain, atorvastatin 80mg qd', 'pravastatin sodium tablet 10 mg qd, amlodipine 5mg qd', 'atorvastatin 10mg hs', 'amlodipine 2.5mg qd, atorvastatin 20mg qd', 'atorvastatin 80mg hs', 'amlodipine 5mg qd', 'nitroglycerin sublingual 0.4mg prn, atorvastatin 40mg qn', 'hydralazine 10mg tid, nifedipine 60mg qd', 'simvastatin 20mg qd', 'amiodarone 100mg qd, amlodipine 5mg qd', \"nitroglycerin 0.4mg every 5 minutes as needed for chest pain, don't exceed 3 doses in 15 minutes, isosorbide mononitrate 60mg qd, atorvastatin 40mg qd\", 'hydrochlorothiazide 25mg qd, atorvastatin 10mg qd', 'lipitor tablet 40 mg hs, nifedipine er 60 mg*2tab qd,isosorbide din 10mg tid', 'nitrostat sublingual 0.4mg prn, simvastatin 10mg hs', 'atorvastatin 40mg qd, hydralazine 25mg tid', 'zocor 10mg qd', 'pravastatin 40mg qd', 'norvasc 10 mg (amlodipine besylate)1 in the morning', 'atorvastatin 20mg qd, nifedipine 90mg qd', 'hydralazine 25mg q6h, isosorbide 10mg q6h', 'atorvastatin 80mg qd', '10/23/17 added isosorbide dinitrate 10mg tid; nifedipine er 90mg qd; sl nitro 0.4mg prn', 'hyrdalazine 25mg q8h', 'nitroglycerin tablet sublingual 0.4 mg 1 tablet sublingually every 5 minutes for chest pain for 3 doses if no relief call md, atorvastatin 20mg qd', 'acetazolamide tablet 250 mg tid, lipitor 40mg qd', 'nifedipine 60mg qd', 'atorvastatin 20mg qd', 'amlodipine besy-benazepril hcl capsule 5-20 mg qd, atorvastatin 20mg qd', 'simvastatin 20mg qd; potassium chloride 10 meq qd', 'hydralazine 10mg tid', 'simvastatine 20mg hs', 'amlodipine 5mg qd, hydralazine 25mg q8h,isosorbide din 10mg *0.5tab tid', 'amlodipine 10mg qd, atorvastatn 10mg qd', 'digoxin 0.125 mg qd', 'simvastatin 20mg qd2', 'rosuvastatin 5mg qd', 'amlodipine 10mg qd, atorvasatin 10mg qd', 'atorvastatin 20mg qd, nifedipine 60mg qd', 'hydralazine 25mg q12h', 'entresto tablet 24-26 mg (sacubitril-valsartan) bid, atorvastatin 20mg qd', 'hydralazine 50mg q8 h; nifedipine 60mg qd, diovan 320mg qd, atorvastatin 40mg qd', 'hydralazine 25mg tid', 'hydralazine 100mg tid, nifedipine 90mg (nifediac cc 30mg +nifedical xl 60mg) qd, atorvastatin 20mg qd, isosorbide din 30mg tid, pletal 50 mg (cilostazol) bid', 'isosorbide din 30mg tid, hydralazine 50mg tid', 'hydralazine 10mg tid, atorvastatin 40mg qd', 'nifedipine 30mg qd', 'atorvastatin 40mg qd, amlodipine 10mg qd', 'simvastatin 40 mg hs', 'atorvastatin 40mg qd, amiodarone 200mg q12h', 'amlodipine 5mg qd, simvastatin 40mg qd, hydrochlorothiazide 25mg qd', 'amlodipine 10mg qd, nifedipine 30mg qd', 'amiodarone 200mg qd', 'crestor 20mg qd', 'hydralazine 75mg q8h, isosorbide mono 30mg qd, atorvastatin 80mg qd', 'minoxidil 2.5mg daily, amlodipine 10mg daily, nifedipine 90mg daily', 'atorvastain 10mg qd', 'hydralazine 50mg every 8 hours (hold if bp <95/60)', 'lipitor 20mg qd', 'atorvastatin 80mg qd, diltiazem hcl 90mg q8h hold if systolic below 100.', 'isosorbide mono 30mg qd, pravastatin 80mg qd, nifedipine 90mg qd', 'pravastatin 40 mg once daily,', 'amlodipine  5mg qd', 'hydralazine 25mg q6h when sys bp>150', 'amlodipine 2.5mg qd, amiodarone 100mg qd, hydrochlorothiazide 12.5mg qd', 'hydralazine 100mg 3x daily; nifedipine 60mg qd', 'simvastatin 5mg qd', 'hydralazine 50mg q8h; nifedipine er 60mg qd', 'atorvastatin 10mg qd, amlodipine 5mg qd', 'potassium chloride er 20 meq daily with food', 'norvasc 10 mg tablet sig: give 1 tablet (10 mg) by oral route once daily,', 'hydralazine 50mg tid, isosorbide din 10mg tid', 'atorvastatin 40 mg qd', 'isosorbide din 20mg tid', 'rosuvastatn 20mg qd', 'hydralazine 25 mg*3tab +50mg q 8 h , atorvastatin 40 mg hs, isosorbide din 10mg tid', 'cardizem 120mg qd2; pravastatin 10mg qd-dn', 'diltiazem 90mg q6h', 'amiodarone 400mg qd', 'isosrobide mononitrate 10mg qd, atorvastatin 20mg qd', 'amiodarone 200mg q12h, isosorbide mono 60mg qd, hydralazine 25mg q8h, lipitor 40mg qd', 'amlodipine 5mg qd, atorvastatin 20mg qd', 'atorvastatin 20mg qd, hydralazine 25mg q8h, isosorbide din 10mg tid', 'potassium chloride 10meq qd2', 'hydralazine 25mg q8h, simvastatin 20mg qd', 'norvasc 10mg qd', 'nifedipine 90mg qd; amlodipine 10mg qd', 'amlodipine 10mg qd, atorvastatin 40mg hs', 'norvasc 10mg qd, hydralazine 100mg tid', 'amlodipine 10mg qd, zetia(ezetimibe) 10mg qd', 'hydralazine 50mg and 25mg tid (both active orders); amlodipine 10mg qd', 'amlodipine 5mg *2 qd', 'nitroglycerin tablet sublingual 0.4 mg every 5mins, isosorbide mono 6-mg qd, atorvastatin 80mg qd', 'hydralazine 50mg tid, hydrochlorothiazide 12.5mg qd, nifedipine 90mg qd', 'isosorbide mono 120mg qd', 'norvasc 5mg qd, multaq 400 mg (dronedarone) bid', 'atorvastatin 80mg qd; isosorbide mono er 60mg qd, hydralazine hcl tablet 50 mg q8h , nitroglycerin tablet sublingual every 5min', 'hydralazine 50mg q8h, nifedipine 30mg qd', 'norvasc 5mg qd; lipitor 20mg hs', 'atorvasatin 10mg qd', 'atorvastatin 20mg qd, amiodarone 200mg qd', 'hydralazine 50mg*1.5tab q8h; isosorbide dinitrate 40mg q8h', 'amlodipine 10mg qd, rosuvastatin 20mg qd', 'hydralazine 100mg q8h, nifedipine 60mg*2tab qd, atorvastatin 20mg qd', 'atorvastatin 80mg qd, amlodipine 10mg qd, hydralazine 100mg q8h', 'amiodarone 100mg qd, isosorbide din 10mg qd, hydralazine 10mg q8h', 'isosorbide din 5mg*2tab bid,', 'atorvastattin 80mg qd', 'amiodarone 400mg qd, atorvastatin 80mg qd', 'metolazone 10mg bid', 'simvastatin 5mg qd, amlodipine 10mg qd', 'hydrochlorothiazide 12.5mg qd', 'hydralazine 50mg q8h', 'amiodarone 200mg*0.5tab  qd, simvastatin 20mg qd', 'nifedipine 60mg qd, simvastatin 40mg qd', 'simvastatin 10 mg hs', 'rosuvastatin 20mg qd, isosorbide mono 60mg qd', 'digoxin 0.125mg qd; norvasc 10mg qd; atorvastatin 80mg hs', 'atorvastatin 40mg qd, hydralazine 100mg q8h, isosorbide mono 60mg qd', 'sildenafil 20mg q8h', 'atorvastatin 80mg qd, hydralazine 25mg tid, isosorbide mono 60mg qd', 'atorvastatin 40mg hs2', 'norvasc', 'atorvastatin 40mg qd, hydralazine 100mg q12h, isosorbide mono 30mg qd', 'isosorbide mononitrate 30mg qd', 'hydralazine 100mg q8h, nifedipine 60mg qd, atorvastatin 40mg qd, amodipine 5mg qd', 'atorvastatin 40mghs', 'atorvastatin 10mg qd, amlodipine 10mg qd', 'nifedipine er 30mg qd', 'cardizem 30mg q 8 h', 'spronolactone 25mg every other day', 'isosorbide din 10mg q8h, atorvastatin 10mg qd', 'diltiazem 30mg q8h', 'isosorbide dinitrate 10mg q8h, amlodipine 10mg qd, hydralazine 75mg q8h; and clonidine 0.3mg bid.', 'isosorbide din 30mg qd, atorvasatin 80mg qd, amlodipine 5mg qd', 'ranitidine hcl 150 mg qd; simvastatin 20 mg hs', 'nifedipine 30mg qd , nitrostat 0.4 mg sublingual tablet  by sublingual route every 5 minutes as neededfor chest pain', 'metolazone 5mg 1 tablet (5 mg) by oral route 2 times per week on monday and thursday at 6:30 pm (30 minutes after torsemide)', 'isosorbide dinitrate 20mg q8h; amlodipine 10mg qd; hydralazine 50mg q8h', ', atorvastatin 20mg qd', '10/23/17 hydralazine inc. to 100mg q8h; nifedipine er 30gm qd', 'amlodipine 5mg qd, atorvastatin 40mg qd', 'atorvastatin 40mg qd, amlodipin 5mg qd', 'nifedipine er 90mg qd', 'simvastatin 40mg qd, amiodarone 200mg qd', 'atorvastatin 10mg hs; nifedipine 30mg qd', 'atorvastain 20mg qd, hydrochlorothiazide 12.5mg qd', 'pravastatin 80mg qd, sildenafil 20mg tid', 'atorvastatin 20mg qd, isosorbide mono 60mg qd', 'zocor 20mg qd, amiodarone 200mg bid', 'acetazolamide 125mg qd', 'nifedipine er 90mg qd, rosuvastatin 20mg qd', 'atorvastatin 20 mg tablet sig: give 1 tablet (20 mg) by oral route once daily at bedtime ;', 'amlodipine 5mg qd, isosorbide mono 30mg qd', 'zocor 20mg qd', 'isosorbide mononitrate 30mg qd, hydralazine 25mg tid, simvastatin 49mg es', 'lipitor 20mg qd, , nitroglycerin 0.4 mg sublingual table every 5min', 'amlodipine 10mg qd, atorvastatin 80mg qd, hydralazine 25mg q8h', 'amiodarone 200 mg qd; ; norvasc 5mg qd, atorvastatin 40mg qd', 'isosorbide mono 60mg qd', 'hydralazine 100mg tid', 'atorvastatin 40mg qd, hydralazine 25mg q8h; isordil 10mg tid', 'atorvastatin 40mg qd, entresto tablet 49-51 mg (sacubitril-valsartan) bid', 'zocor 40mg hs2', 'hydralazine 50 mg q 8 h, atorvastatin 40 mg hs', 'isosorbide mono 120mg qd simvastatin 20mg qd', 'norvasc 5mg qd, hydralazine 25mg tid', 'lipitor 80mg qd', 'amiodarone 100mg qd', 'amlodipine 5mg qd, hydrochlorothiazide 25mg qd, hydralazine 50mg tid', 'amiodarone 200mg od,atorvastatin 40mg hs,hydralazine 25mg q8h,isosorbide dinitrate 10mg q8h,asa 81mg od', 'nifedipine 90mg qd, rosuvastatin 40mg qd', 'nifedipine 90mg qd2; hydralazine 100mg q8h2; cilostazol 50mg bid2; atorvastatin 20mg q evenings', 'isosorbide mono er 30mg qd', 'hydralazine 25mg q8h, isosorbide mono 20mg qd', 'hydralazine 50mg q6h', 'hydrochlorothiazide 25mg qd', 'cardizem 360mg po qd; diamox 250mg po qd', 'isosorbide mono 30mg*3tab qd, atorvastatin 20mg qd', 'atorvastain 40mg qd', 'isosorbide mono 30mg qd', 'midodrine 10mg q8h; amiodarone 200 mg qd', 'atorvastatin 40mg qd, hydralazine 50mg *2tab bid, niedipine 60mg bid', 'amlodipine 10mg qd, simvastatin 10mg 1hs', 'isosorbide din 10mg tid, rosuvastatin 5mg qd, hydralazine 25mg q8h', 'norvasc 10mg qd; isosorbide dinitrate 10mg  bid, atorvastatin 40mg qd', 'amlodipine 10mg po daily; hydralazine 25mg po q8h', 'gemfibrozil 600mg qd', 'amlodipine 5mg qd, hydralazine 25mg q8h', 'aldactone 25mg qhs; amiodarone 200mg q12; coreg 6.25mg bid; hydralazine hcl 10mg bid.', 'amlodipine 10mg qd, simvastatin 20mg qd', 'amlodipine 5mg qd; hydralazine 25mg 3x/day; isosorbide mononitrate er 120mg qd', 'amlodipine 5mg qd, rosuvastatin 40mg qd', 'isosorbide mono 30mg qd, amlodipine 10mg qd', 'atorvastatin 40mg qd', 'hydralazine 10 mg q8h', 'hydralazine 10mg qid, isosorbide din 10mg tid', 'isosorbide mono 30mg qd, nitroglycerin tablet sublingual 0.3 mg give 1 tablet sublingually every 5 minutes as needed for chest pain dissolve 1 tab under the tongue or in buccal pouch at first sign of an acute anginal attack. dose may be repeated approx every 5 mins until relief is obtained up to 3 doses. notify md/np at first c/o symptom', 'hydralazine 50mg tid, isosorbide mono 30mg qd, atorvastatin 40mg qd, amlodipine 10mg qd', 'isosorbide din 10mg q8h, atorvastatin 40mg qd, nitroglycerin tablet sublingual 0.3 mg every 5mins', 'isosorbide din 10mg two times a day', 'isosorbide din 20mg q8h, simvastatin 40mg qd', 'midrodrine 10mg tid', 'pravastatin 20mg qd', 'rosuvastatin 10mg qd, amlodipine 10mg qd', 'atorvastatin 40mg qd,  amlodipine 10mg qd', 'atorvastatin 40mg daily; nitrostat sublingual 0.4mg daily', 'simvastatin 10mg qd', 'nifedipine 30mg qd, simvastatin 20mg qd', 'amiodarone 200mg qd, diltiazem 60mg fid', 'digoxin 0.125mg qd', 'lipitor 40mg qd, isosorbide din 10mg tid', 'atorvastatin 4mg qd', 'nifedipin 60mg qd, rosuvastatin 5mg qd, isosorbide din 20mg q8h', 'atorvastatin 20mg qd, amlodipine 10mg qd', 'lipitor 40mg qd', 'isosorbide mononitrate er 30 mg 1 tablet (30 mg) by oral route once daily; hydralazine 25 mg every 8 hours; atorvastatin 40 mg once daily at bedtime', 'amiodarone 200mg q12h, rosuvastatin 10mg qd', 'atorvastain 20mg qd', 'isosorbide mono 30mg *3tab qd, amlodipine 10mg qd, atorvastatin 80mg qd, hydralazine 100mg q8h', 'amiodarone 200mg qd, atorvastatin 40mg qd', 'atorvastatin 20mg qd, hydralazine 10mg tid, amlodipine 10mg qd', 'amlodipine 5 mg qd', 'atorvastatin 80mg qd, norvasc 10mg qd', 'atorvastatin 40mg qd, hydralazine 100mg q8h, isosorbide din 30mg *2tab tid', 'atorvastatin 10mg qd, hydralazine 100mg q8h, isosorbide mono 60mg qd', 'simvastatin 20mg qd, nitroglycerin tablet sublingual 0.4 mg \\tgive 1 tablet sublingually every 5 minutes as needed for chest pain x 3 doses. if no relief, call md.', 'norvasc 2.5mg qd', 'atorvastatin 10mg qd', 'atorvastatin 80mg qd, isosorbide mono 30mg qd', 'amiodarone 400 mg qd', 'atorvasatin 20mg hs', 'isosorbid mono 30mg qd, atorvastatin 20mg qd', 'atorvastatin 20mg qd, isosorbide mono 30mg qd', 'atorvastatin 20mg qd, amlodipine 5 mg q12h', 'amlodipine 5mg qd, atorvastain 10mg qd', 'hydralazine 25mg tid, atorvastatin 80mg qd, isosorbide mono 30mg qd', 'hydralazine 100mg  q8h;isosorbide mono 30mg qd; simvastatin 20mg hs', 'hydralazine 100mg q8h, lipitor 40mg hs', 'vasotec 5mg qd [was previously on isosorbide and hydralazine-d/c 7/17/18.', 'simvastatin 20 mg hs, digoxin 0.125 mg qod', 'amiodarone 200mg bid, atorvastatin 40mg qd', 'atorvastatin 80mg qd, nifedipine 30mg qd', 'nifedipine 90mg qd', 'amlodipine 10mg qd', 'hydralazine 25mg q8h, amlodipine 5mg qd', 'nifedipine er 60mg', 'atorvasatin 20mg qd', 'hydralazine 25mg q8h, isosorbide din 20mg tid', 'metolazone 5mg qd 30 minutes after torsemide, simvastatin 20mg qd', 'atorvastatin 40mg hs; isosorbide dinitrate 30mg qd', 'amlodipine 2.5 mg qd, simvastatin 10mg qd', 'amlodipine 10mg qd, atorvastatin 80mg qd', 'amlodipine 5mg qd, atorvastatin 80mg qd', 'simvastatin 40 mg daily', 'isosorbide mononitrate er 30 mg tablet,extended release 24 hr sig: give 1 tablet (30 mg) by oral route once daily in the morning,     hydralazine 10 mg tablet sig: give 1 tablet (10 mg) by oral route 2 times per day  ,     atorvastatin 20 mg tablet sig: give 1 tablet (20 mg) by oral route once daily at bedtime', 'profile is incomplete', 'digoxin 0.125 mg hs', '10/23/17 inc. hydralazine 100mg q8h; amlopdine 10mg qd; isosorbide mon. er 120mg qd', 'atorvastatin 80mg qd,  hydralazine 25mg tid, nifedipine 60mg qd', 'simvastatin 40mg qd, hydralazine 10mg tid', 'hydralazine 100mg q8h, isosorbide din 20mg *2tab tid, amlodipine 5mg qd', 'lipitor 20 mg hs', 'rosuvastatin 20mg qd', 'amlodipine 5mg qd, isosorbide din 30mg qd, atorvastatin 40mg qd', 'rosuvastatin calcium 5 mg qd,  amlodipine besylate5 mg qd', 'atorvastatin 20mg qd,', 'metolazone 5mg qd', 'lipitor 10mg q evening; nitrostat sl 0.4 qd; amlodipine 10mg qd; clonidine 0.2mg q6h', 'atorvastatin 40 mg hs', 'amlodipine 5mg qd, hydrochlorothiazide 12.5mg qd', 'isosorbide din 20mg*2tab q8h, hydralazine 25mg*3tab tid. amlodipine 10mg  qd,nitroglycerin tablet sublingual 0.4 mg 1 tablet sublingually every 5 minutes for 3 doses as needed for chest pain - if no relief call md', 'nifedipine 90mg qd; atorvastatin 40mg hs', 'hydralazine 50mg fid, simvastatin 10mg qd', 'amlodipine 2.5mg qd', 'potassium chloride er 20 meq tablet,extended release sig: give 1 tablet (20 meq) by oral route once daily with food', 'hydralazine 25mg q8h, amlodipine 10mg qd, atorvastatin 40mg qd', 'simvastatin 10mg hs', 'hydralazine 10mg q8h, simvastatin 10mg qd', 'hydralazine 50mg tid, lipitor 10mg qd, nifedipine 60mg qd', 'simvastatin 40mg qd', 'lipitor 40mg qd, isosorbide mono 30mg qd, hydralazine 50mg q8h', 'hydralazine 25mg tid; isosorbide mononitrate er 30mg qd', 'amlodipine 10mg qd, isosorbide din 10mg tid, hydralazine 25mg q8h, crestor 40mg hs', 'amlodipine besy-benazepril hcl capsule 5-10 mg qd, atorvastatin 40mg qd', 'diamox 250 bid', 'n/a on records', 'pravastatin sodium tablet 40 mg qd', 'hydralazine 50mg q6h, simvastatin 10mg qd', 'atorvastatin 20mg qd, hydralazine 10mg q8h', 'lovastatin 20mg qevening']\n",
      "1.0    497\n",
      "0.0    267\n",
      "Name: other cardiac meds, dtype: int64\n"
     ]
    },
    {
     "name": "stdout",
     "output_type": "stream",
     "text": [
      "removing invalid row: 0\n",
      "\n",
      "patient_link                             n0EPhlbX\n",
      "enrollId                               n0EPhlbX_3\n",
      "Enrollment_Date                               NaN\n",
      "name                                 1 Tester, Mv\n",
      "create_user        notifications@providerloop.com\n",
      "Name: 0, dtype: object\n",
      "--------------------------------------------------\n",
      "\n",
      " \n",
      " Dropped 1 rows from the dataset\n",
      "New size of dataset: (763, 55)\n",
      "Setting outcome to 2 for patients that have been discharged but we don't have a status on them\n",
      "Setting outcome to 2 for patients that have been discharged but we don't have a status on them\n",
      "Setting outcome to 2 for patients that have been discharged but we don't have a status on them\n",
      "Setting outcome to 2 for patients that have been discharged but we don't have a status on them\n",
      "Setting outcome to 2 for patients that have been discharged but we don't have a status on them\n",
      "Setting outcome to 2 for patients that have been discharged but we don't have a status on them\n",
      "Setting outcome to 2 for patients that have been discharged but we don't have a status on them\n",
      "Setting outcome to 2 for patients that have been discharged but we don't have a status on them\n",
      "Setting outcome to 2 for patients that have been discharged but we don't have a status on them\n",
      "Setting outcome to 2 for patients that have been discharged but we don't have a status on them\n",
      "Setting outcome to 2 for patients that have been discharged but we don't have a status on them\n",
      "Setting outcome to 2 for patients that have been discharged but we don't have a status on them\n",
      "Setting outcome to 2 for patients that have been discharged but we don't have a status on them\n",
      "Setting outcome to 2 for patients that have been discharged but we don't have a status on them\n",
      "Setting outcome to 2 for patients that have been discharged but we don't have a status on them\n",
      "Setting outcome to 2 for patients that have been discharged but we don't have a status on them\n",
      "Setting outcome to 2 for patients that have been discharged but we don't have a status on them\n",
      "Setting outcome to 2 for patients that have been discharged but we don't have a status on them\n"
     ]
    },
    {
     "name": "stderr",
     "output_type": "stream",
     "text": [
      "/usr/lib/python3.7/site-packages/pandas/core/series.py:851: FutureWarning: \n",
      "Passing list-likes to .loc or [] with any missing label will raise\n",
      "KeyError in the future, you can use .reindex() as an alternative.\n",
      "\n",
      "See the documentation here:\n",
      "https://pandas.pydata.org/pandas-docs/stable/indexing.html#deprecate-loc-reindex-listlike\n",
      "  return self.loc[key]\n"
     ]
    }
   ],
   "source": [
    "df=meta_clean(df)"
   ]
  },
  {
   "cell_type": "code",
   "execution_count": 153,
   "metadata": {
    "scrolled": true
   },
   "outputs": [
    {
     "name": "stdout",
     "output_type": "stream",
     "text": [
      "========================================\n",
      "['date_of_birth'] columns set to datetime\n",
      "========================================\n",
      "['ef', 'admit_weight', 'weight', 'this_weight_change', 'weight_change_since_admit', 'bnp', 'this_bnp_change', 'bun', 'cr', 'sodium', 'potasium', 'mg', 'this_cr_change', 'resting_hr', 'systolic', 'diastolic', 'duration', 'age'] columns set to numeric\n",
      "========================================\n"
     ]
    }
   ],
   "source": [
    "path = \"pickle_jar/columnDtypes.pkl\"\n",
    "columnFormater(df, path)"
   ]
  },
  {
   "cell_type": "code",
   "execution_count": 154,
   "metadata": {},
   "outputs": [],
   "source": [
    "keep_cols=['patient_gender', 'ef','admit_weight', 'acute_or_chronic',\n",
    "       'weight','this_weight_change','weight_change_since_admit', 'bnp',\n",
    "       'this_bnp_change','ace', 'bb', 'diuretics',\n",
    "       'anticoagulant', 'ionotropes', 'other_cardiac_meds', 'bun',\n",
    "       'cr', 'potasium', 'this_cr_change',\n",
    "       'resting_hr', 'systolic', 'diastolic', 'outcome',\n",
    "       'cad/mi', 'heart_failure_unspecfied', 'diastolic_heart_failure',\n",
    "       'systolic_chf', 'atrial_fibrilation', 'cardiomyoapthy', 'lvad',\n",
    "       'chf', 'duration', 'age' ,'F_5nKZ993n', 'F_71ADiKaS', 'F_Fy1r9IXM',\n",
    "       'F_KYzNhByH', 'F_L1V04aB0', 'F_US4llDDz', 'F_Xxk5Yn3E', 'F_kIUZIzRp',\n",
    "       'F_mB0G57bu']\n",
    "df=df[keep_cols]"
   ]
  },
  {
   "cell_type": "code",
   "execution_count": 155,
   "metadata": {
    "scrolled": false
   },
   "outputs": [
    {
     "data": {
      "text/html": [
       "<div>\n",
       "<style scoped>\n",
       "    .dataframe tbody tr th:only-of-type {\n",
       "        vertical-align: middle;\n",
       "    }\n",
       "\n",
       "    .dataframe tbody tr th {\n",
       "        vertical-align: top;\n",
       "    }\n",
       "\n",
       "    .dataframe thead th {\n",
       "        text-align: right;\n",
       "    }\n",
       "</style>\n",
       "<table border=\"1\" class=\"dataframe\">\n",
       "  <thead>\n",
       "    <tr style=\"text-align: right;\">\n",
       "      <th></th>\n",
       "      <th>patient_gender</th>\n",
       "      <th>ef</th>\n",
       "      <th>admit_weight</th>\n",
       "      <th>acute_or_chronic</th>\n",
       "      <th>weight</th>\n",
       "      <th>this_weight_change</th>\n",
       "      <th>weight_change_since_admit</th>\n",
       "      <th>bnp</th>\n",
       "      <th>this_bnp_change</th>\n",
       "      <th>ace</th>\n",
       "      <th>...</th>\n",
       "      <th>age</th>\n",
       "      <th>F_5nKZ993n</th>\n",
       "      <th>F_71ADiKaS</th>\n",
       "      <th>F_Fy1r9IXM</th>\n",
       "      <th>F_KYzNhByH</th>\n",
       "      <th>F_L1V04aB0</th>\n",
       "      <th>F_US4llDDz</th>\n",
       "      <th>F_Xxk5Yn3E</th>\n",
       "      <th>F_kIUZIzRp</th>\n",
       "      <th>F_mB0G57bu</th>\n",
       "    </tr>\n",
       "  </thead>\n",
       "  <tbody>\n",
       "    <tr>\n",
       "      <th>count</th>\n",
       "      <td>742.000000</td>\n",
       "      <td>586.000000</td>\n",
       "      <td>628.000000</td>\n",
       "      <td>737.000000</td>\n",
       "      <td>760.000000</td>\n",
       "      <td>760.000000</td>\n",
       "      <td>747.000000</td>\n",
       "      <td>760.000000</td>\n",
       "      <td>747.000000</td>\n",
       "      <td>760.000000</td>\n",
       "      <td>...</td>\n",
       "      <td>751.000000</td>\n",
       "      <td>760.000000</td>\n",
       "      <td>760.000000</td>\n",
       "      <td>760.000000</td>\n",
       "      <td>760.000000</td>\n",
       "      <td>760.000000</td>\n",
       "      <td>760.000000</td>\n",
       "      <td>760.000000</td>\n",
       "      <td>760.000000</td>\n",
       "      <td>760.000000</td>\n",
       "    </tr>\n",
       "    <tr>\n",
       "      <th>mean</th>\n",
       "      <td>0.509434</td>\n",
       "      <td>0.499463</td>\n",
       "      <td>170.598057</td>\n",
       "      <td>0.370421</td>\n",
       "      <td>170.278763</td>\n",
       "      <td>-0.002818</td>\n",
       "      <td>-0.003840</td>\n",
       "      <td>676.247342</td>\n",
       "      <td>-82.551513</td>\n",
       "      <td>0.443421</td>\n",
       "      <td>...</td>\n",
       "      <td>76.086551</td>\n",
       "      <td>0.081579</td>\n",
       "      <td>0.123684</td>\n",
       "      <td>0.039474</td>\n",
       "      <td>0.188158</td>\n",
       "      <td>0.001316</td>\n",
       "      <td>0.140789</td>\n",
       "      <td>0.122368</td>\n",
       "      <td>0.151316</td>\n",
       "      <td>0.151316</td>\n",
       "    </tr>\n",
       "    <tr>\n",
       "      <th>std</th>\n",
       "      <td>0.500248</td>\n",
       "      <td>0.436112</td>\n",
       "      <td>58.138915</td>\n",
       "      <td>0.483245</td>\n",
       "      <td>57.530758</td>\n",
       "      <td>0.029379</td>\n",
       "      <td>0.072110</td>\n",
       "      <td>2714.392657</td>\n",
       "      <td>2468.881019</td>\n",
       "      <td>0.497116</td>\n",
       "      <td>...</td>\n",
       "      <td>16.664268</td>\n",
       "      <td>0.273902</td>\n",
       "      <td>0.329438</td>\n",
       "      <td>0.194847</td>\n",
       "      <td>0.391096</td>\n",
       "      <td>0.036274</td>\n",
       "      <td>0.348033</td>\n",
       "      <td>0.327927</td>\n",
       "      <td>0.358592</td>\n",
       "      <td>0.358592</td>\n",
       "    </tr>\n",
       "    <tr>\n",
       "      <th>min</th>\n",
       "      <td>0.000000</td>\n",
       "      <td>0.100000</td>\n",
       "      <td>75.000000</td>\n",
       "      <td>0.000000</td>\n",
       "      <td>71.200000</td>\n",
       "      <td>-0.195455</td>\n",
       "      <td>-0.198198</td>\n",
       "      <td>1.990000</td>\n",
       "      <td>-66618.000000</td>\n",
       "      <td>0.000000</td>\n",
       "      <td>...</td>\n",
       "      <td>-30.000000</td>\n",
       "      <td>0.000000</td>\n",
       "      <td>0.000000</td>\n",
       "      <td>0.000000</td>\n",
       "      <td>0.000000</td>\n",
       "      <td>0.000000</td>\n",
       "      <td>0.000000</td>\n",
       "      <td>0.000000</td>\n",
       "      <td>0.000000</td>\n",
       "      <td>0.000000</td>\n",
       "    </tr>\n",
       "    <tr>\n",
       "      <th>25%</th>\n",
       "      <td>0.000000</td>\n",
       "      <td>0.400000</td>\n",
       "      <td>131.500000</td>\n",
       "      <td>0.000000</td>\n",
       "      <td>132.075000</td>\n",
       "      <td>-0.010680</td>\n",
       "      <td>-0.047776</td>\n",
       "      <td>74.750000</td>\n",
       "      <td>-38.000000</td>\n",
       "      <td>0.000000</td>\n",
       "      <td>...</td>\n",
       "      <td>69.000000</td>\n",
       "      <td>0.000000</td>\n",
       "      <td>0.000000</td>\n",
       "      <td>0.000000</td>\n",
       "      <td>0.000000</td>\n",
       "      <td>0.000000</td>\n",
       "      <td>0.000000</td>\n",
       "      <td>0.000000</td>\n",
       "      <td>0.000000</td>\n",
       "      <td>0.000000</td>\n",
       "    </tr>\n",
       "    <tr>\n",
       "      <th>50%</th>\n",
       "      <td>1.000000</td>\n",
       "      <td>0.522500</td>\n",
       "      <td>156.800000</td>\n",
       "      <td>0.000000</td>\n",
       "      <td>158.000000</td>\n",
       "      <td>0.000000</td>\n",
       "      <td>0.000000</td>\n",
       "      <td>228.500000</td>\n",
       "      <td>0.000000</td>\n",
       "      <td>0.000000</td>\n",
       "      <td>...</td>\n",
       "      <td>79.000000</td>\n",
       "      <td>0.000000</td>\n",
       "      <td>0.000000</td>\n",
       "      <td>0.000000</td>\n",
       "      <td>0.000000</td>\n",
       "      <td>0.000000</td>\n",
       "      <td>0.000000</td>\n",
       "      <td>0.000000</td>\n",
       "      <td>0.000000</td>\n",
       "      <td>0.000000</td>\n",
       "    </tr>\n",
       "    <tr>\n",
       "      <th>75%</th>\n",
       "      <td>1.000000</td>\n",
       "      <td>0.600000</td>\n",
       "      <td>196.850000</td>\n",
       "      <td>1.000000</td>\n",
       "      <td>195.325000</td>\n",
       "      <td>0.006516</td>\n",
       "      <td>0.031571</td>\n",
       "      <td>578.250000</td>\n",
       "      <td>49.000000</td>\n",
       "      <td>1.000000</td>\n",
       "      <td>...</td>\n",
       "      <td>87.000000</td>\n",
       "      <td>0.000000</td>\n",
       "      <td>0.000000</td>\n",
       "      <td>0.000000</td>\n",
       "      <td>0.000000</td>\n",
       "      <td>0.000000</td>\n",
       "      <td>0.000000</td>\n",
       "      <td>0.000000</td>\n",
       "      <td>0.000000</td>\n",
       "      <td>0.000000</td>\n",
       "    </tr>\n",
       "    <tr>\n",
       "      <th>max</th>\n",
       "      <td>1.000000</td>\n",
       "      <td>10.395000</td>\n",
       "      <td>498.000000</td>\n",
       "      <td>1.000000</td>\n",
       "      <td>468.000000</td>\n",
       "      <td>0.170732</td>\n",
       "      <td>0.199243</td>\n",
       "      <td>68432.000000</td>\n",
       "      <td>2580.000000</td>\n",
       "      <td>1.000000</td>\n",
       "      <td>...</td>\n",
       "      <td>103.000000</td>\n",
       "      <td>1.000000</td>\n",
       "      <td>1.000000</td>\n",
       "      <td>1.000000</td>\n",
       "      <td>1.000000</td>\n",
       "      <td>1.000000</td>\n",
       "      <td>1.000000</td>\n",
       "      <td>1.000000</td>\n",
       "      <td>1.000000</td>\n",
       "      <td>1.000000</td>\n",
       "    </tr>\n",
       "  </tbody>\n",
       "</table>\n",
       "<p>8 rows × 42 columns</p>\n",
       "</div>"
      ],
      "text/plain": [
       "       patient_gender          ef  admit_weight  acute_or_chronic      weight  \\\n",
       "count      742.000000  586.000000    628.000000        737.000000  760.000000   \n",
       "mean         0.509434    0.499463    170.598057          0.370421  170.278763   \n",
       "std          0.500248    0.436112     58.138915          0.483245   57.530758   \n",
       "min          0.000000    0.100000     75.000000          0.000000   71.200000   \n",
       "25%          0.000000    0.400000    131.500000          0.000000  132.075000   \n",
       "50%          1.000000    0.522500    156.800000          0.000000  158.000000   \n",
       "75%          1.000000    0.600000    196.850000          1.000000  195.325000   \n",
       "max          1.000000   10.395000    498.000000          1.000000  468.000000   \n",
       "\n",
       "       this_weight_change  weight_change_since_admit           bnp  \\\n",
       "count          760.000000                 747.000000    760.000000   \n",
       "mean            -0.002818                  -0.003840    676.247342   \n",
       "std              0.029379                   0.072110   2714.392657   \n",
       "min             -0.195455                  -0.198198      1.990000   \n",
       "25%             -0.010680                  -0.047776     74.750000   \n",
       "50%              0.000000                   0.000000    228.500000   \n",
       "75%              0.006516                   0.031571    578.250000   \n",
       "max              0.170732                   0.199243  68432.000000   \n",
       "\n",
       "       this_bnp_change         ace     ...             age  F_5nKZ993n  \\\n",
       "count       747.000000  760.000000     ...      751.000000  760.000000   \n",
       "mean        -82.551513    0.443421     ...       76.086551    0.081579   \n",
       "std        2468.881019    0.497116     ...       16.664268    0.273902   \n",
       "min      -66618.000000    0.000000     ...      -30.000000    0.000000   \n",
       "25%         -38.000000    0.000000     ...       69.000000    0.000000   \n",
       "50%           0.000000    0.000000     ...       79.000000    0.000000   \n",
       "75%          49.000000    1.000000     ...       87.000000    0.000000   \n",
       "max        2580.000000    1.000000     ...      103.000000    1.000000   \n",
       "\n",
       "       F_71ADiKaS  F_Fy1r9IXM  F_KYzNhByH  F_L1V04aB0  F_US4llDDz  F_Xxk5Yn3E  \\\n",
       "count  760.000000  760.000000  760.000000  760.000000  760.000000  760.000000   \n",
       "mean     0.123684    0.039474    0.188158    0.001316    0.140789    0.122368   \n",
       "std      0.329438    0.194847    0.391096    0.036274    0.348033    0.327927   \n",
       "min      0.000000    0.000000    0.000000    0.000000    0.000000    0.000000   \n",
       "25%      0.000000    0.000000    0.000000    0.000000    0.000000    0.000000   \n",
       "50%      0.000000    0.000000    0.000000    0.000000    0.000000    0.000000   \n",
       "75%      0.000000    0.000000    0.000000    0.000000    0.000000    0.000000   \n",
       "max      1.000000    1.000000    1.000000    1.000000    1.000000    1.000000   \n",
       "\n",
       "       F_kIUZIzRp  F_mB0G57bu  \n",
       "count  760.000000  760.000000  \n",
       "mean     0.151316    0.151316  \n",
       "std      0.358592    0.358592  \n",
       "min      0.000000    0.000000  \n",
       "25%      0.000000    0.000000  \n",
       "50%      0.000000    0.000000  \n",
       "75%      0.000000    0.000000  \n",
       "max      1.000000    1.000000  \n",
       "\n",
       "[8 rows x 42 columns]"
      ]
     },
     "execution_count": 155,
     "metadata": {},
     "output_type": "execute_result"
    }
   ],
   "source": [
    "df.describe()"
   ]
  },
  {
   "cell_type": "code",
   "execution_count": 156,
   "metadata": {},
   "outputs": [
    {
     "data": {
      "text/plain": [
       "(760, 42)"
      ]
     },
     "execution_count": 156,
     "metadata": {},
     "output_type": "execute_result"
    }
   ],
   "source": [
    "df.shape"
   ]
  },
  {
   "cell_type": "markdown",
   "metadata": {},
   "source": [
    "### Numeric features"
   ]
  },
  {
   "cell_type": "markdown",
   "metadata": {},
   "source": [
    "## ef"
   ]
  },
  {
   "cell_type": "code",
   "execution_count": 157,
   "metadata": {},
   "outputs": [],
   "source": [
    "%matplotlib inline\n",
    "import matplotlib.pyplot as plt\n",
    "import seaborn as sns"
   ]
  },
  {
   "cell_type": "code",
   "execution_count": 158,
   "metadata": {},
   "outputs": [
    {
     "name": "stdout",
     "output_type": "stream",
     "text": [
      "Overwriting featureEDAfun.py\n"
     ]
    }
   ],
   "source": [
    "%%writefile featureEDAfun.py\n",
    "import pandas as pd\n",
    "import matplotlib.pyplot as plt\n",
    "\n",
    "def numericFeatureAnalysis(df, feature):\n",
    "    '''\n",
    "    Performs basic EDA on a single feature of a pandas data frame\n",
    "    \n",
    "    Keyword Arguments\n",
    "    -----------------\n",
    "    df -- The data frame\n",
    "    feature -- The feature to analyse\n",
    "    '''\n",
    "    print(\"=\"*40)\n",
    "    print(\"Summary Stats:\")\n",
    "    print(\"-\"*40)\n",
    "    print(df[feature].describe())\n",
    "    print(\"=\"*40)\n",
    "    print(\"Number of missing values:\")\n",
    "    print(\"-\"*40)\n",
    "    print(df[feature].isna().sum())\n",
    "    print(\"=\"*40)\n",
    "    print(\"Min 10 values:\")\n",
    "    print(\"-\"*40)\n",
    "    print(df[feature].dropna().sort_values().head(10))\n",
    "    print(\"=\"*40)\n",
    "    print(\"Max 10 values:\")\n",
    "    print(\"-\"*40)\n",
    "    print(df[feature].dropna().sort_values().tail(10))\n",
    "    print(\"=\"*40)\n",
    "    print(\"Histogram:\")\n",
    "    print(\"-\"*40)\n",
    "    plt.hist(df[feature].dropna())\n",
    "    "
   ]
  },
  {
   "cell_type": "code",
   "execution_count": 159,
   "metadata": {},
   "outputs": [],
   "source": [
    "from featureEDAfun import *"
   ]
  },
  {
   "cell_type": "markdown",
   "metadata": {},
   "source": [
    "### ef"
   ]
  },
  {
   "cell_type": "code",
   "execution_count": 161,
   "metadata": {},
   "outputs": [
    {
     "name": "stdout",
     "output_type": "stream",
     "text": [
      "========================================\n",
      "Summary Stats:\n",
      "----------------------------------------\n",
      "count    586.000000\n",
      "mean       0.499463\n",
      "std        0.436112\n",
      "min        0.100000\n",
      "25%        0.400000\n",
      "50%        0.522500\n",
      "75%        0.600000\n",
      "max       10.395000\n",
      "Name: ef, dtype: float64\n",
      "========================================\n",
      "Number of missing values:\n",
      "----------------------------------------\n",
      "174\n",
      "========================================\n",
      "Min 10 values:\n",
      "----------------------------------------\n",
      "6      0.100\n",
      "335    0.100\n",
      "240    0.125\n",
      "23     0.125\n",
      "698    0.140\n",
      "629    0.150\n",
      "191    0.150\n",
      "534    0.150\n",
      "365    0.165\n",
      "24     0.170\n",
      "Name: ef, dtype: float64\n",
      "========================================\n",
      "Max 10 values:\n",
      "----------------------------------------\n",
      "741     0.7100\n",
      "39      0.7500\n",
      "271     0.7500\n",
      "686     0.7500\n",
      "20      0.7750\n",
      "331     0.7800\n",
      "153     0.8000\n",
      "235     0.8002\n",
      "416     0.8200\n",
      "375    10.3950\n",
      "Name: ef, dtype: float64\n",
      "========================================\n",
      "Histogram:\n",
      "----------------------------------------\n"
     ]
    },
    {
     "data": {
      "image/png": "[encoded data removed]",
      "text/plain": [
       "<Figure size 432x288 with 1 Axes>"
      ]
     },
     "metadata": {
      "needs_background": "light"
     },
     "output_type": "display_data"
    }
   ],
   "source": [
    "numericFeatureAnalysis(df, \"ef\")"
   ]
  },
  {
   "cell_type": "markdown",
   "metadata": {},
   "source": [
    "Obvious outlier with ef of 10.3950."
   ]
  },
  {
   "cell_type": "code",
   "execution_count": 140,
   "metadata": {},
   "outputs": [
    {
     "data": {
      "text/plain": [
       "(array([ 10.,  48.,  41.,  47.,  74.,  88., 156.,  85.,  28.,   8.]),\n",
       " array([0.1  , 0.172, 0.244, 0.316, 0.388, 0.46 , 0.532, 0.604, 0.676,\n",
       "        0.748, 0.82 ]),\n",
       " <a list of 10 Patch objects>)"
      ]
     },
     "execution_count": 140,
     "metadata": {},
     "output_type": "execute_result"
    },
    {
     "data": {
      "image/png": "[encoded data removed]",
      "text/plain": [
       "<Figure size 432x288 with 1 Axes>"
      ]
     },
     "metadata": {
      "needs_background": "light"
     },
     "output_type": "display_data"
    }
   ],
   "source": [
    "plt.hist(df.ef[df.ef < 10].dropna())"
   ]
  },
  {
   "cell_type": "markdown",
   "metadata": {},
   "source": [
    "A bit skew, but not bad."
   ]
  },
  {
   "cell_type": "markdown",
   "metadata": {},
   "source": [
    "### admit_weight"
   ]
  },
  {
   "cell_type": "code",
   "execution_count": 162,
   "metadata": {},
   "outputs": [
    {
     "name": "stdout",
     "output_type": "stream",
     "text": [
      "========================================\n",
      "Summary Stats:\n",
      "----------------------------------------\n",
      "count    628.000000\n",
      "mean     170.598057\n",
      "std       58.138915\n",
      "min       75.000000\n",
      "25%      131.500000\n",
      "50%      156.800000\n",
      "75%      196.850000\n",
      "max      498.000000\n",
      "Name: admit_weight, dtype: float64\n",
      "========================================\n",
      "Number of missing values:\n",
      "----------------------------------------\n",
      "132\n",
      "========================================\n",
      "Min 10 values:\n",
      "----------------------------------------\n",
      "144    75.0\n",
      "239    76.6\n",
      "566    81.4\n",
      "393    85.0\n",
      "533    86.0\n",
      "706    86.0\n",
      "405    88.0\n",
      "143    89.2\n",
      "541    90.0\n",
      "344    90.0\n",
      "Name: admit_weight, dtype: float64\n",
      "========================================\n",
      "Max 10 values:\n",
      "----------------------------------------\n",
      "96     336.0\n",
      "206    358.0\n",
      "105    359.0\n",
      "235    365.0\n",
      "336    368.6\n",
      "34     378.8\n",
      "681    398.0\n",
      "720    427.0\n",
      "609    437.6\n",
      "436    498.0\n",
      "Name: admit_weight, dtype: float64\n",
      "========================================\n",
      "Histogram:\n",
      "----------------------------------------\n"
     ]
    },
    {
     "data": {
      "image/png": "[encoded data removed]",
      "text/plain": [
       "<Figure size 432x288 with 1 Axes>"
      ]
     },
     "metadata": {
      "needs_background": "light"
     },
     "output_type": "display_data"
    }
   ],
   "source": [
    "numericFeatureAnalysis(df, \"admit_weight\")"
   ]
  },
  {
   "cell_type": "markdown",
   "metadata": {},
   "source": [
    "Skew. A lot of missing. Impute current weight if available?"
   ]
  },
  {
   "cell_type": "markdown",
   "metadata": {},
   "source": [
    "### weight"
   ]
  },
  {
   "cell_type": "code",
   "execution_count": 163,
   "metadata": {},
   "outputs": [
    {
     "data": {
      "text/plain": [
       "Index(['patient_gender', 'ef', 'admit_weight', 'acute_or_chronic', 'weight',\n",
       "       'this_weight_change', 'weight_change_since_admit', 'bnp',\n",
       "       'this_bnp_change', 'ace', 'bb', 'diuretics', 'anticoagulant',\n",
       "       'ionotropes', 'other_cardiac_meds', 'bun', 'cr', 'potasium',\n",
       "       'this_cr_change', 'resting_hr', 'systolic', 'diastolic', 'outcome',\n",
       "       'cad/mi', 'heart_failure_unspecfied', 'diastolic_heart_failure',\n",
       "       'systolic_chf', 'atrial_fibrilation', 'cardiomyoapthy', 'lvad', 'chf',\n",
       "       'duration', 'age', 'F_5nKZ993n', 'F_71ADiKaS', 'F_Fy1r9IXM',\n",
       "       'F_KYzNhByH', 'F_L1V04aB0', 'F_US4llDDz', 'F_Xxk5Yn3E', 'F_kIUZIzRp',\n",
       "       'F_mB0G57bu'],\n",
       "      dtype='object')"
      ]
     },
     "execution_count": 163,
     "metadata": {},
     "output_type": "execute_result"
    }
   ],
   "source": [
    "df.columns"
   ]
  },
  {
   "cell_type": "code",
   "execution_count": 142,
   "metadata": {},
   "outputs": [
    {
     "data": {
      "text/plain": [
       "0"
      ]
     },
     "execution_count": 142,
     "metadata": {},
     "output_type": "execute_result"
    }
   ],
   "source": [
    "df.weight.isna().sum()"
   ]
  },
  {
   "cell_type": "markdown",
   "metadata": {},
   "source": [
    "No missing weight numbers, seems like a good way to impute."
   ]
  },
  {
   "cell_type": "code",
   "execution_count": 143,
   "metadata": {
    "scrolled": false
   },
   "outputs": [
    {
     "data": {
      "text/plain": [
       "<matplotlib.axes._subplots.AxesSubplot at 0x7fad7ddd5da0>"
      ]
     },
     "execution_count": 143,
     "metadata": {},
     "output_type": "execute_result"
    },
    {
     "data": {
      "image/png": "[encoded data removed]",
      "text/plain": [
       "<Figure size 432x288 with 1 Axes>"
      ]
     },
     "metadata": {
      "needs_background": "light"
     },
     "output_type": "display_data"
    }
   ],
   "source": [
    "(df.admit_weight).map(np.log).hist()"
   ]
  },
  {
   "cell_type": "code",
   "execution_count": 150,
   "metadata": {
    "scrolled": false
   },
   "outputs": [
    {
     "data": {
      "text/plain": [
       "<matplotlib.axes._subplots.AxesSubplot at 0x7fad7dfb8e48>"
      ]
     },
     "execution_count": 150,
     "metadata": {},
     "output_type": "execute_result"
    },
    {
     "data": {
      "image/png": "[encoded data removed]",
      "text/plain": [
       "<Figure size 432x288 with 1 Axes>"
      ]
     },
     "metadata": {
      "needs_background": "light"
     },
     "output_type": "display_data"
    }
   ],
   "source": [
    "(df.admit_weight-50).map(np.log).hist()"
   ]
  },
  {
   "cell_type": "markdown",
   "metadata": {},
   "source": [
    "Log plot is better, but still a bit skew."
   ]
  },
  {
   "cell_type": "code",
   "execution_count": 165,
   "metadata": {},
   "outputs": [
    {
     "data": {
      "text/html": [
       "<div>\n",
       "<style scoped>\n",
       "    .dataframe tbody tr th:only-of-type {\n",
       "        vertical-align: middle;\n",
       "    }\n",
       "\n",
       "    .dataframe tbody tr th {\n",
       "        vertical-align: top;\n",
       "    }\n",
       "\n",
       "    .dataframe thead th {\n",
       "        text-align: right;\n",
       "    }\n",
       "</style>\n",
       "<table border=\"1\" class=\"dataframe\">\n",
       "  <thead>\n",
       "    <tr style=\"text-align: right;\">\n",
       "      <th></th>\n",
       "      <th>patient_gender</th>\n",
       "      <th>ef</th>\n",
       "      <th>admit_weight</th>\n",
       "      <th>acute_or_chronic</th>\n",
       "      <th>weight</th>\n",
       "      <th>this_weight_change</th>\n",
       "      <th>weight_change_since_admit</th>\n",
       "      <th>bnp</th>\n",
       "      <th>this_bnp_change</th>\n",
       "      <th>ace</th>\n",
       "      <th>...</th>\n",
       "      <th>age</th>\n",
       "      <th>F_5nKZ993n</th>\n",
       "      <th>F_71ADiKaS</th>\n",
       "      <th>F_Fy1r9IXM</th>\n",
       "      <th>F_KYzNhByH</th>\n",
       "      <th>F_L1V04aB0</th>\n",
       "      <th>F_US4llDDz</th>\n",
       "      <th>F_Xxk5Yn3E</th>\n",
       "      <th>F_kIUZIzRp</th>\n",
       "      <th>F_mB0G57bu</th>\n",
       "    </tr>\n",
       "  </thead>\n",
       "  <tbody>\n",
       "    <tr>\n",
       "      <th>614</th>\n",
       "      <td>NaN</td>\n",
       "      <td>NaN</td>\n",
       "      <td>NaN</td>\n",
       "      <td>NaN</td>\n",
       "      <td>344.0</td>\n",
       "      <td>0.062849</td>\n",
       "      <td>NaN</td>\n",
       "      <td>165.0</td>\n",
       "      <td>87.0</td>\n",
       "      <td>0.0</td>\n",
       "      <td>...</td>\n",
       "      <td>NaN</td>\n",
       "      <td>0</td>\n",
       "      <td>0</td>\n",
       "      <td>0</td>\n",
       "      <td>1</td>\n",
       "      <td>0</td>\n",
       "      <td>0</td>\n",
       "      <td>0</td>\n",
       "      <td>0</td>\n",
       "      <td>0</td>\n",
       "    </tr>\n",
       "    <tr>\n",
       "      <th>660</th>\n",
       "      <td>1.0</td>\n",
       "      <td>0.28</td>\n",
       "      <td>NaN</td>\n",
       "      <td>NaN</td>\n",
       "      <td>123.0</td>\n",
       "      <td>0.170732</td>\n",
       "      <td>NaN</td>\n",
       "      <td>3849.0</td>\n",
       "      <td>1439.0</td>\n",
       "      <td>1.0</td>\n",
       "      <td>...</td>\n",
       "      <td>53.0</td>\n",
       "      <td>0</td>\n",
       "      <td>0</td>\n",
       "      <td>0</td>\n",
       "      <td>0</td>\n",
       "      <td>0</td>\n",
       "      <td>0</td>\n",
       "      <td>0</td>\n",
       "      <td>0</td>\n",
       "      <td>1</td>\n",
       "    </tr>\n",
       "    <tr>\n",
       "      <th>661</th>\n",
       "      <td>1.0</td>\n",
       "      <td>0.56</td>\n",
       "      <td>NaN</td>\n",
       "      <td>NaN</td>\n",
       "      <td>107.4</td>\n",
       "      <td>0.005587</td>\n",
       "      <td>NaN</td>\n",
       "      <td>35.0</td>\n",
       "      <td>-428.0</td>\n",
       "      <td>0.0</td>\n",
       "      <td>...</td>\n",
       "      <td>52.0</td>\n",
       "      <td>0</td>\n",
       "      <td>0</td>\n",
       "      <td>0</td>\n",
       "      <td>0</td>\n",
       "      <td>0</td>\n",
       "      <td>0</td>\n",
       "      <td>1</td>\n",
       "      <td>0</td>\n",
       "      <td>0</td>\n",
       "    </tr>\n",
       "  </tbody>\n",
       "</table>\n",
       "<p>3 rows × 42 columns</p>\n",
       "</div>"
      ],
      "text/plain": [
       "     patient_gender    ef  admit_weight  acute_or_chronic  weight  \\\n",
       "614             NaN   NaN           NaN               NaN   344.0   \n",
       "660             1.0  0.28           NaN               NaN   123.0   \n",
       "661             1.0  0.56           NaN               NaN   107.4   \n",
       "\n",
       "     this_weight_change  weight_change_since_admit     bnp  this_bnp_change  \\\n",
       "614            0.062849                        NaN   165.0             87.0   \n",
       "660            0.170732                        NaN  3849.0           1439.0   \n",
       "661            0.005587                        NaN    35.0           -428.0   \n",
       "\n",
       "     ace     ...       age  F_5nKZ993n  F_71ADiKaS  F_Fy1r9IXM  F_KYzNhByH  \\\n",
       "614  0.0     ...       NaN           0           0           0           1   \n",
       "660  1.0     ...      53.0           0           0           0           0   \n",
       "661  0.0     ...      52.0           0           0           0           0   \n",
       "\n",
       "     F_L1V04aB0  F_US4llDDz  F_Xxk5Yn3E  F_kIUZIzRp  F_mB0G57bu  \n",
       "614           0           0           0           0           0  \n",
       "660           0           0           0           0           1  \n",
       "661           0           0           1           0           0  \n",
       "\n",
       "[3 rows x 42 columns]"
      ]
     },
     "execution_count": 165,
     "metadata": {},
     "output_type": "execute_result"
    }
   ],
   "source": [
    "df[df.weight_change_since_admit.isna() & df.admit_weight.isna()]"
   ]
  },
  {
   "cell_type": "markdown",
   "metadata": {},
   "source": [
    "### weight"
   ]
  },
  {
   "cell_type": "code",
   "execution_count": 144,
   "metadata": {
    "scrolled": true
   },
   "outputs": [
    {
     "name": "stdout",
     "output_type": "stream",
     "text": [
      "========================================\n",
      "Summary Stats:\n",
      "----------------------------------------\n",
      "count    760.000000\n",
      "mean     170.278763\n",
      "std       57.530758\n",
      "min       71.200000\n",
      "25%      132.075000\n",
      "50%      158.000000\n",
      "75%      195.325000\n",
      "max      468.000000\n",
      "Name: weight, dtype: float64\n",
      "========================================\n",
      "Number of missing values:\n",
      "----------------------------------------\n",
      "0\n",
      "========================================\n",
      "Min 10 values:\n",
      "----------------------------------------\n",
      "738    71.20\n",
      "144    72.00\n",
      "239    73.00\n",
      "351    75.80\n",
      "690    76.60\n",
      "706    79.20\n",
      "606    80.20\n",
      "480    80.52\n",
      "393    82.00\n",
      "346    86.00\n",
      "Name: weight, dtype: float64\n",
      "========================================\n",
      "Max 10 values:\n",
      "----------------------------------------\n",
      "336    340.1\n",
      "614    344.0\n",
      "623    374.8\n",
      "34     378.8\n",
      "681    386.0\n",
      "582    390.5\n",
      "720    401.2\n",
      "324    410.0\n",
      "609    432.0\n",
      "436    468.0\n",
      "Name: weight, dtype: float64\n",
      "========================================\n",
      "Histogram:\n",
      "----------------------------------------\n"
     ]
    },
    {
     "data": {
      "image/png": "[encoded data removed]",
      "text/plain": [
       "<Figure size 432x288 with 1 Axes>"
      ]
     },
     "metadata": {
      "needs_background": "light"
     },
     "output_type": "display_data"
    }
   ],
   "source": [
    "numericFeatureAnalysis(df, \"weight\")"
   ]
  },
  {
   "cell_type": "markdown",
   "metadata": {},
   "source": [
    "Skew."
   ]
  },
  {
   "cell_type": "code",
   "execution_count": 145,
   "metadata": {},
   "outputs": [
    {
     "data": {
      "text/plain": [
       "<matplotlib.axes._subplots.AxesSubplot at 0x7fad7dd8da90>"
      ]
     },
     "execution_count": 145,
     "metadata": {},
     "output_type": "execute_result"
    },
    {
     "data": {
      "image/png": "[encoded data removed]",
      "text/plain": [
       "<Figure size 432x288 with 1 Axes>"
      ]
     },
     "metadata": {
      "needs_background": "light"
     },
     "output_type": "display_data"
    }
   ],
   "source": [
    "(df.weight).map(np.log).hist()"
   ]
  },
  {
   "cell_type": "markdown",
   "metadata": {},
   "source": [
    "Better, still a bit skew."
   ]
  },
  {
   "cell_type": "markdown",
   "metadata": {},
   "source": [
    "### this_weight_change"
   ]
  },
  {
   "cell_type": "code",
   "execution_count": 146,
   "metadata": {
    "scrolled": false
   },
   "outputs": [
    {
     "name": "stdout",
     "output_type": "stream",
     "text": [
      "========================================\n",
      "Summary Stats:\n",
      "----------------------------------------\n",
      "count    760.000000\n",
      "mean      -0.002818\n",
      "std        0.029379\n",
      "min       -0.195455\n",
      "25%       -0.010680\n",
      "50%        0.000000\n",
      "75%        0.006516\n",
      "max        0.170732\n",
      "Name: this_weight_change, dtype: float64\n",
      "========================================\n",
      "Number of missing values:\n",
      "----------------------------------------\n",
      "0\n",
      "========================================\n",
      "Min 10 values:\n",
      "----------------------------------------\n",
      "736   -0.195455\n",
      "746   -0.159492\n",
      "516   -0.140777\n",
      "286   -0.140244\n",
      "480   -0.127670\n",
      "483   -0.117117\n",
      "325   -0.116466\n",
      "136   -0.108871\n",
      "436   -0.108120\n",
      "279   -0.107190\n",
      "Name: this_weight_change, dtype: float64\n",
      "========================================\n",
      "Max 10 values:\n",
      "----------------------------------------\n",
      "755    0.070085\n",
      "107    0.071429\n",
      "64     0.073421\n",
      "320    0.085455\n",
      "46     0.089674\n",
      "711    0.102510\n",
      "386    0.120536\n",
      "375    0.148021\n",
      "400    0.159322\n",
      "660    0.170732\n",
      "Name: this_weight_change, dtype: float64\n",
      "========================================\n",
      "Histogram:\n",
      "----------------------------------------\n"
     ]
    },
    {
     "data": {
      "image/png": "[encoded data removed]",
      "text/plain": [
       "<Figure size 432x288 with 1 Axes>"
      ]
     },
     "metadata": {
      "needs_background": "light"
     },
     "output_type": "display_data"
    }
   ],
   "source": [
    "numericFeatureAnalysis(df, \"this_weight_change\")"
   ]
  },
  {
   "cell_type": "markdown",
   "metadata": {},
   "source": [
    "### weight_change_since_admit"
   ]
  },
  {
   "cell_type": "code",
   "execution_count": 147,
   "metadata": {},
   "outputs": [
    {
     "name": "stdout",
     "output_type": "stream",
     "text": [
      "========================================\n",
      "Summary Stats:\n",
      "----------------------------------------\n",
      "count    747.000000\n",
      "mean      -0.003840\n",
      "std        0.072110\n",
      "min       -0.198198\n",
      "25%       -0.047776\n",
      "50%        0.000000\n",
      "75%        0.031571\n",
      "max        0.199243\n",
      "Name: weight_change_since_admit, dtype: float64\n",
      "========================================\n",
      "Number of missing values:\n",
      "----------------------------------------\n",
      "13\n",
      "========================================\n",
      "Min 10 values:\n",
      "----------------------------------------\n",
      "483   -0.198198\n",
      "641   -0.195795\n",
      "180   -0.194222\n",
      "722   -0.194030\n",
      "593   -0.193182\n",
      "690   -0.192428\n",
      "454   -0.188213\n",
      "372   -0.183359\n",
      "422   -0.169697\n",
      "332   -0.165533\n",
      "Name: weight_change_since_admit, dtype: float64\n",
      "========================================\n",
      "Max 10 values:\n",
      "----------------------------------------\n",
      "717    0.182530\n",
      "759    0.185455\n",
      "334    0.186885\n",
      "572    0.188049\n",
      "182    0.188144\n",
      "400    0.189831\n",
      "425    0.193126\n",
      "129    0.193222\n",
      "106    0.194659\n",
      "536    0.199243\n",
      "Name: weight_change_since_admit, dtype: float64\n",
      "========================================\n",
      "Histogram:\n",
      "----------------------------------------\n"
     ]
    },
    {
     "data": {
      "image/png": "[encoded data removed]",
      "text/plain": [
       "<Figure size 432x288 with 1 Axes>"
      ]
     },
     "metadata": {
      "needs_background": "light"
     },
     "output_type": "display_data"
    }
   ],
   "source": [
    "numericFeatureAnalysis(df, \"weight_change_since_admit\")"
   ]
  },
  {
   "cell_type": "markdown",
   "metadata": {},
   "source": [
    "Hist looks OK. Impute missing as 0 or by weight change since last measurement?"
   ]
  },
  {
   "cell_type": "markdown",
   "metadata": {},
   "source": [
    "<p><a name=\"labs\"></a></p>\n",
    "## Labs"
   ]
  },
  {
   "cell_type": "markdown",
   "metadata": {},
   "source": [
    "<p><a name=\"bnp\"></a></p>\n",
    "### BNP"
   ]
  },
  {
   "cell_type": "code",
   "execution_count": 166,
   "metadata": {},
   "outputs": [
    {
     "name": "stdout",
     "output_type": "stream",
     "text": [
      "========================================\n",
      "Summary Stats:\n",
      "----------------------------------------\n",
      "count      760.000000\n",
      "mean       676.247342\n",
      "std       2714.392657\n",
      "min          1.990000\n",
      "25%         74.750000\n",
      "50%        228.500000\n",
      "75%        578.250000\n",
      "max      68432.000000\n",
      "Name: bnp, dtype: float64\n",
      "========================================\n",
      "Number of missing values:\n",
      "----------------------------------------\n",
      "0\n",
      "========================================\n",
      "Min 10 values:\n",
      "----------------------------------------\n",
      "152    1.99\n",
      "206    1.99\n",
      "474    2.00\n",
      "151    2.00\n",
      "715    2.00\n",
      "35     2.00\n",
      "700    2.00\n",
      "146    2.00\n",
      "10     2.00\n",
      "640    6.00\n",
      "Name: bnp, dtype: float64\n",
      "========================================\n",
      "Max 10 values:\n",
      "----------------------------------------\n",
      "286     5000.0\n",
      "24      5000.0\n",
      "599     5000.0\n",
      "409     5000.0\n",
      "684     5000.0\n",
      "287     5000.0\n",
      "387     5000.0\n",
      "16      5000.0\n",
      "207    19085.0\n",
      "15     68432.0\n",
      "Name: bnp, dtype: float64\n",
      "========================================\n",
      "Histogram:\n",
      "----------------------------------------\n"
     ]
    },
    {
     "data": {
      "image/png": "[encoded data removed]",
      "text/plain": [
       "<Figure size 432x288 with 1 Axes>"
      ]
     },
     "metadata": {
      "needs_background": "light"
     },
     "output_type": "display_data"
    }
   ],
   "source": [
    "numericFeatureAnalysis(df, \"bnp\")"
   ]
  },
  {
   "cell_type": "markdown",
   "metadata": {},
   "source": [
    "Heavily skewed plot! Are values greater than 5000 outliers/typos?"
   ]
  },
  {
   "cell_type": "code",
   "execution_count": 99,
   "metadata": {},
   "outputs": [
    {
     "data": {
      "text/plain": [
       "(array([  9.,  13.,  23.,  78., 115., 134., 167., 113.,  57.,  49.]),\n",
       " array([0.68813464, 1.47104049, 2.25394635, 3.0368522 , 3.81975806,\n",
       "        4.60266392, 5.38556977, 6.16847563, 6.95138148, 7.73428734,\n",
       "        8.51719319]),\n",
       " <a list of 10 Patch objects>)"
      ]
     },
     "execution_count": 99,
     "metadata": {},
     "output_type": "execute_result"
    },
    {
     "data": {
      "image/png": "[encoded data removed]",
      "text/plain": [
       "<Figure size 432x288 with 1 Axes>"
      ]
     },
     "metadata": {
      "needs_background": "light"
     },
     "output_type": "display_data"
    }
   ],
   "source": [
    "plt.hist(df.bnp[df.bnp < 5001].map(np.log))"
   ]
  },
  {
   "cell_type": "markdown",
   "metadata": {},
   "source": [
    "log plot is much better! Box-Cox?"
   ]
  },
  {
   "cell_type": "markdown",
   "metadata": {},
   "source": [
    "### this_bnp_change"
   ]
  },
  {
   "cell_type": "code",
   "execution_count": 100,
   "metadata": {
    "scrolled": false
   },
   "outputs": [
    {
     "name": "stdout",
     "output_type": "stream",
     "text": [
      "========================================\n",
      "Summary Stats:\n",
      "----------------------------------------\n",
      "count      747.000000\n",
      "mean       -82.551513\n",
      "std       2468.881019\n",
      "min     -66618.000000\n",
      "25%        -38.000000\n",
      "50%          0.000000\n",
      "75%         49.000000\n",
      "max       2580.000000\n",
      "Name: this_bnp_change, dtype: float64\n",
      "========================================\n",
      "Number of missing values:\n",
      "----------------------------------------\n",
      "13\n",
      "========================================\n",
      "Min 10 values:\n",
      "----------------------------------------\n",
      "424   -66618.0\n",
      "207    -2966.0\n",
      "93     -2600.0\n",
      "259    -1848.0\n",
      "301    -1780.0\n",
      "549    -1774.0\n",
      "584    -1725.0\n",
      "59     -1699.0\n",
      "41     -1549.0\n",
      "202    -1419.0\n",
      "Name: this_bnp_change, dtype: float64\n",
      "========================================\n",
      "Max 10 values:\n",
      "----------------------------------------\n",
      "377    1304.0\n",
      "249    1433.0\n",
      "660    1439.0\n",
      "221    1480.0\n",
      "568    1510.0\n",
      "478    1556.0\n",
      "588    1704.0\n",
      "673    1816.0\n",
      "676    2393.0\n",
      "94     2580.0\n",
      "Name: this_bnp_change, dtype: float64\n",
      "========================================\n",
      "Histogram:\n",
      "----------------------------------------\n"
     ]
    },
    {
     "data": {
      "image/png": "[encoded data removed]",
      "text/plain": [
       "<Figure size 432x288 with 1 Axes>"
      ]
     },
     "metadata": {
      "needs_background": "light"
     },
     "output_type": "display_data"
    }
   ],
   "source": [
    "numericFeatureAnalysis(df, \"this_bnp_change\")"
   ]
  },
  {
   "cell_type": "markdown",
   "metadata": {},
   "source": [
    "Few missing. Suggest imputing 0? Perhaps they only have one bnp measurement.\n",
    "\n",
    "-66618 bnp change is a ludicrous outlier"
   ]
  },
  {
   "cell_type": "markdown",
   "metadata": {},
   "source": [
    "2580 is an outlier, but perhaps not rediculous."
   ]
  },
  {
   "cell_type": "code",
   "execution_count": 101,
   "metadata": {
    "scrolled": false
   },
   "outputs": [
    {
     "data": {
      "text/plain": [
       "(array([  6.,   2.,  14.,  19., 187., 338.,  26.,  14.,   6.,   5.]),\n",
       " array([-1848. , -1481.6, -1115.2,  -748.8,  -382.4,   -16. ,   350.4,\n",
       "          716.8,  1083.2,  1449.6,  1816. ]),\n",
       " <a list of 10 Patch objects>)"
      ]
     },
     "execution_count": 101,
     "metadata": {},
     "output_type": "execute_result"
    },
    {
     "data": {
      "image/png": "[encoded data removed]",
      "text/plain": [
       "<Figure size 432x288 with 1 Axes>"
      ]
     },
     "metadata": {
      "needs_background": "light"
     },
     "output_type": "display_data"
    }
   ],
   "source": [
    "plt.hist(df.this_bnp_change.dropna()[(df.this_bnp_change > -2000)&(df.this_bnp_change != 0)&(df.this_bnp_change < 2000)])"
   ]
  },
  {
   "cell_type": "markdown",
   "metadata": {},
   "source": [
    "## Labs"
   ]
  },
  {
   "cell_type": "markdown",
   "metadata": {},
   "source": [
    "### bun"
   ]
  },
  {
   "cell_type": "code",
   "execution_count": 102,
   "metadata": {},
   "outputs": [
    {
     "name": "stdout",
     "output_type": "stream",
     "text": [
      "========================================\n",
      "Summary Stats:\n",
      "----------------------------------------\n",
      "count    759.000000\n",
      "mean      34.026350\n",
      "std       21.315121\n",
      "min        0.000000\n",
      "25%       19.000000\n",
      "50%       28.000000\n",
      "75%       43.000000\n",
      "max      205.000000\n",
      "Name: bun, dtype: float64\n",
      "========================================\n",
      "Number of missing values:\n",
      "----------------------------------------\n",
      "1\n",
      "========================================\n",
      "Min 10 values:\n",
      "----------------------------------------\n",
      "420    0.0\n",
      "559    0.0\n",
      "284    8.0\n",
      "324    9.0\n",
      "648    9.0\n",
      "609    9.0\n",
      "607    9.0\n",
      "441    9.0\n",
      "282    9.0\n",
      "666    9.0\n",
      "Name: bun, dtype: float64\n",
      "========================================\n",
      "Max 10 values:\n",
      "----------------------------------------\n",
      "101     99.0\n",
      "436     99.0\n",
      "617    100.0\n",
      "482    102.0\n",
      "479    105.0\n",
      "234    106.0\n",
      "382    109.0\n",
      "165    125.0\n",
      "555    128.0\n",
      "404    205.0\n",
      "Name: bun, dtype: float64\n",
      "========================================\n",
      "Histogram:\n",
      "----------------------------------------\n"
     ]
    },
    {
     "data": {
      "image/png": "[encoded data removed]",
      "text/plain": [
       "<Figure size 432x288 with 1 Axes>"
      ]
     },
     "metadata": {
      "needs_background": "light"
     },
     "output_type": "display_data"
    }
   ],
   "source": [
    "numericFeatureAnalysis(df, \"bun\")"
   ]
  },
  {
   "cell_type": "markdown",
   "metadata": {},
   "source": [
    "Impute single missing with mean?\n",
    "\n",
    "max value outlier?\n",
    "\n",
    "Skew Hist.\n",
    "\n",
    "Why the 0 values? If imputed, I suggest changing the imputation to be the average."
   ]
  },
  {
   "cell_type": "code",
   "execution_count": 103,
   "metadata": {},
   "outputs": [
    {
     "data": {
      "text/plain": [
       "(array([ 32.,  59., 159., 153., 143., 107.,  64.,  36.,   3.,   1.]),\n",
       " array([2.07944154, 2.40379839, 2.72815523, 3.05251207, 3.37686892,\n",
       "        3.70122576, 4.0255826 , 4.34993945, 4.67429629, 4.99865314,\n",
       "        5.32300998]),\n",
       " <a list of 10 Patch objects>)"
      ]
     },
     "execution_count": 103,
     "metadata": {},
     "output_type": "execute_result"
    },
    {
     "data": {
      "image/png": "[encoded data removed]",
      "text/plain": [
       "<Figure size 432x288 with 1 Axes>"
      ]
     },
     "metadata": {
      "needs_background": "light"
     },
     "output_type": "display_data"
    }
   ],
   "source": [
    "plt.hist((df.bun[df.bun > 0]).map(np.log))"
   ]
  },
  {
   "cell_type": "markdown",
   "metadata": {},
   "source": [
    "Log plot is better. Box-Cox?"
   ]
  },
  {
   "cell_type": "markdown",
   "metadata": {},
   "source": [
    "### cr"
   ]
  },
  {
   "cell_type": "code",
   "execution_count": 104,
   "metadata": {},
   "outputs": [
    {
     "name": "stdout",
     "output_type": "stream",
     "text": [
      "========================================\n",
      "Summary Stats:\n",
      "----------------------------------------\n",
      "count    759.000000\n",
      "mean       1.547655\n",
      "std        1.364306\n",
      "min        0.000000\n",
      "25%        0.800000\n",
      "50%        1.100000\n",
      "75%        1.600000\n",
      "max        9.100000\n",
      "Name: cr, dtype: float64\n",
      "========================================\n",
      "Number of missing values:\n",
      "----------------------------------------\n",
      "1\n",
      "========================================\n",
      "Min 10 values:\n",
      "----------------------------------------\n",
      "420    0.0\n",
      "559    0.0\n",
      "677    0.2\n",
      "690    0.3\n",
      "164    0.3\n",
      "474    0.3\n",
      "400    0.3\n",
      "276    0.3\n",
      "500    0.4\n",
      "353    0.4\n",
      "Name: cr, dtype: float64\n",
      "========================================\n",
      "Max 10 values:\n",
      "----------------------------------------\n",
      "409    7.10\n",
      "410    7.80\n",
      "599    7.92\n",
      "596    8.13\n",
      "639    8.24\n",
      "7      8.30\n",
      "27     8.40\n",
      "663    8.80\n",
      "404    8.90\n",
      "508    9.10\n",
      "Name: cr, dtype: float64\n",
      "========================================\n",
      "Histogram:\n",
      "----------------------------------------\n"
     ]
    },
    {
     "data": {
      "image/png": "[encoded data removed]",
      "text/plain": [
       "<Figure size 432x288 with 1 Axes>"
      ]
     },
     "metadata": {
      "needs_background": "light"
     },
     "output_type": "display_data"
    }
   ],
   "source": [
    "numericFeatureAnalysis(df, \"cr\")"
   ]
  },
  {
   "cell_type": "markdown",
   "metadata": {},
   "source": [
    "Impute missing using mean?\n",
    "\n",
    "Nonsensical zero values? Treat as missing?\n",
    "\n",
    "Skew plot!"
   ]
  },
  {
   "cell_type": "code",
   "execution_count": 105,
   "metadata": {
    "scrolled": true
   },
   "outputs": [
    {
     "data": {
      "text/plain": [
       "(array([  1.,  15.,  65., 194., 216., 125.,  66.,  30.,  29.,  16.]),\n",
       " array([-1.60943791, -1.22766668, -0.84589545, -0.46412421, -0.08235298,\n",
       "         0.29941825,  0.68118948,  1.06296072,  1.44473195,  1.82650318,\n",
       "         2.20827441]),\n",
       " <a list of 10 Patch objects>)"
      ]
     },
     "execution_count": 105,
     "metadata": {},
     "output_type": "execute_result"
    },
    {
     "data": {
      "image/png": "[encoded data removed]",
      "text/plain": [
       "<Figure size 432x288 with 1 Axes>"
      ]
     },
     "metadata": {
      "needs_background": "light"
     },
     "output_type": "display_data"
    }
   ],
   "source": [
    "plt.hist((df.cr[df.cr > 0]).map(np.log))"
   ]
  },
  {
   "cell_type": "markdown",
   "metadata": {},
   "source": [
    "Log plot is better but still seems a bit skewed. Box-Cox?"
   ]
  },
  {
   "cell_type": "markdown",
   "metadata": {},
   "source": [
    "### sodium"
   ]
  },
  {
   "cell_type": "code",
   "execution_count": 106,
   "metadata": {},
   "outputs": [
    {
     "ename": "AttributeError",
     "evalue": "'DataFrame' object has no attribute 'sodium'",
     "output_type": "error",
     "traceback": [
      "\u001b[0;31m---------------------------------------------------------------------------\u001b[0m",
      "\u001b[0;31mAttributeError\u001b[0m                            Traceback (most recent call last)",
      "\u001b[0;32m<ipython-input-106-d5af102b965d>\u001b[0m in \u001b[0;36m<module>\u001b[0;34m()\u001b[0m\n\u001b[0;32m----> 1\u001b[0;31m \u001b[0mdf\u001b[0m\u001b[0;34m.\u001b[0m\u001b[0msodium\u001b[0m\u001b[0;34m.\u001b[0m\u001b[0mdescribe\u001b[0m\u001b[0;34m(\u001b[0m\u001b[0;34m)\u001b[0m\u001b[0;34m\u001b[0m\u001b[0m\n\u001b[0m",
      "\u001b[0;32m/usr/lib/python3.7/site-packages/pandas/core/generic.py\u001b[0m in \u001b[0;36m__getattr__\u001b[0;34m(self, name)\u001b[0m\n\u001b[1;32m   4374\u001b[0m             \u001b[0;32mif\u001b[0m \u001b[0mself\u001b[0m\u001b[0;34m.\u001b[0m\u001b[0m_info_axis\u001b[0m\u001b[0;34m.\u001b[0m\u001b[0m_can_hold_identifiers_and_holds_name\u001b[0m\u001b[0;34m(\u001b[0m\u001b[0mname\u001b[0m\u001b[0;34m)\u001b[0m\u001b[0;34m:\u001b[0m\u001b[0;34m\u001b[0m\u001b[0m\n\u001b[1;32m   4375\u001b[0m                 \u001b[0;32mreturn\u001b[0m \u001b[0mself\u001b[0m\u001b[0;34m[\u001b[0m\u001b[0mname\u001b[0m\u001b[0;34m]\u001b[0m\u001b[0;34m\u001b[0m\u001b[0m\n\u001b[0;32m-> 4376\u001b[0;31m             \u001b[0;32mreturn\u001b[0m \u001b[0mobject\u001b[0m\u001b[0;34m.\u001b[0m\u001b[0m__getattribute__\u001b[0m\u001b[0;34m(\u001b[0m\u001b[0mself\u001b[0m\u001b[0;34m,\u001b[0m \u001b[0mname\u001b[0m\u001b[0;34m)\u001b[0m\u001b[0;34m\u001b[0m\u001b[0m\n\u001b[0m\u001b[1;32m   4377\u001b[0m \u001b[0;34m\u001b[0m\u001b[0m\n\u001b[1;32m   4378\u001b[0m     \u001b[0;32mdef\u001b[0m \u001b[0m__setattr__\u001b[0m\u001b[0;34m(\u001b[0m\u001b[0mself\u001b[0m\u001b[0;34m,\u001b[0m \u001b[0mname\u001b[0m\u001b[0;34m,\u001b[0m \u001b[0mvalue\u001b[0m\u001b[0;34m)\u001b[0m\u001b[0;34m:\u001b[0m\u001b[0;34m\u001b[0m\u001b[0m\n",
      "\u001b[0;31mAttributeError\u001b[0m: 'DataFrame' object has no attribute 'sodium'"
     ]
    }
   ],
   "source": [
    "df.sodium.describe()"
   ]
  },
  {
   "cell_type": "code",
   "execution_count": 107,
   "metadata": {},
   "outputs": [
    {
     "ename": "AttributeError",
     "evalue": "'DataFrame' object has no attribute 'sodium'",
     "output_type": "error",
     "traceback": [
      "\u001b[0;31m---------------------------------------------------------------------------\u001b[0m",
      "\u001b[0;31mAttributeError\u001b[0m                            Traceback (most recent call last)",
      "\u001b[0;32m<ipython-input-107-1eb05ea946c1>\u001b[0m in \u001b[0;36m<module>\u001b[0;34m()\u001b[0m\n\u001b[0;32m----> 1\u001b[0;31m \u001b[0mdf\u001b[0m\u001b[0;34m.\u001b[0m\u001b[0msodium\u001b[0m\u001b[0;34m.\u001b[0m\u001b[0misna\u001b[0m\u001b[0;34m(\u001b[0m\u001b[0;34m)\u001b[0m\u001b[0;34m.\u001b[0m\u001b[0msum\u001b[0m\u001b[0;34m(\u001b[0m\u001b[0;34m)\u001b[0m\u001b[0;34m\u001b[0m\u001b[0m\n\u001b[0m",
      "\u001b[0;32m/usr/lib/python3.7/site-packages/pandas/core/generic.py\u001b[0m in \u001b[0;36m__getattr__\u001b[0;34m(self, name)\u001b[0m\n\u001b[1;32m   4374\u001b[0m             \u001b[0;32mif\u001b[0m \u001b[0mself\u001b[0m\u001b[0;34m.\u001b[0m\u001b[0m_info_axis\u001b[0m\u001b[0;34m.\u001b[0m\u001b[0m_can_hold_identifiers_and_holds_name\u001b[0m\u001b[0;34m(\u001b[0m\u001b[0mname\u001b[0m\u001b[0;34m)\u001b[0m\u001b[0;34m:\u001b[0m\u001b[0;34m\u001b[0m\u001b[0m\n\u001b[1;32m   4375\u001b[0m                 \u001b[0;32mreturn\u001b[0m \u001b[0mself\u001b[0m\u001b[0;34m[\u001b[0m\u001b[0mname\u001b[0m\u001b[0;34m]\u001b[0m\u001b[0;34m\u001b[0m\u001b[0m\n\u001b[0;32m-> 4376\u001b[0;31m             \u001b[0;32mreturn\u001b[0m \u001b[0mobject\u001b[0m\u001b[0;34m.\u001b[0m\u001b[0m__getattribute__\u001b[0m\u001b[0;34m(\u001b[0m\u001b[0mself\u001b[0m\u001b[0;34m,\u001b[0m \u001b[0mname\u001b[0m\u001b[0;34m)\u001b[0m\u001b[0;34m\u001b[0m\u001b[0m\n\u001b[0m\u001b[1;32m   4377\u001b[0m \u001b[0;34m\u001b[0m\u001b[0m\n\u001b[1;32m   4378\u001b[0m     \u001b[0;32mdef\u001b[0m \u001b[0m__setattr__\u001b[0m\u001b[0;34m(\u001b[0m\u001b[0mself\u001b[0m\u001b[0;34m,\u001b[0m \u001b[0mname\u001b[0m\u001b[0;34m,\u001b[0m \u001b[0mvalue\u001b[0m\u001b[0;34m)\u001b[0m\u001b[0;34m:\u001b[0m\u001b[0;34m\u001b[0m\u001b[0m\n",
      "\u001b[0;31mAttributeError\u001b[0m: 'DataFrame' object has no attribute 'sodium'"
     ]
    }
   ],
   "source": [
    "df.sodium.isna().sum()"
   ]
  },
  {
   "cell_type": "markdown",
   "metadata": {},
   "source": [
    "Loads of missing! How to impute?"
   ]
  },
  {
   "cell_type": "code",
   "execution_count": 108,
   "metadata": {},
   "outputs": [
    {
     "ename": "AttributeError",
     "evalue": "'DataFrame' object has no attribute 'sodium'",
     "output_type": "error",
     "traceback": [
      "\u001b[0;31m---------------------------------------------------------------------------\u001b[0m",
      "\u001b[0;31mAttributeError\u001b[0m                            Traceback (most recent call last)",
      "\u001b[0;32m<ipython-input-108-30083bf92e0b>\u001b[0m in \u001b[0;36m<module>\u001b[0;34m()\u001b[0m\n\u001b[0;32m----> 1\u001b[0;31m \u001b[0mplt\u001b[0m\u001b[0;34m.\u001b[0m\u001b[0mhist\u001b[0m\u001b[0;34m(\u001b[0m\u001b[0mdf\u001b[0m\u001b[0;34m.\u001b[0m\u001b[0msodium\u001b[0m\u001b[0;34m.\u001b[0m\u001b[0mdropna\u001b[0m\u001b[0;34m(\u001b[0m\u001b[0;34m)\u001b[0m\u001b[0;34m)\u001b[0m\u001b[0;34m\u001b[0m\u001b[0m\n\u001b[0m",
      "\u001b[0;32m/usr/lib/python3.7/site-packages/pandas/core/generic.py\u001b[0m in \u001b[0;36m__getattr__\u001b[0;34m(self, name)\u001b[0m\n\u001b[1;32m   4374\u001b[0m             \u001b[0;32mif\u001b[0m \u001b[0mself\u001b[0m\u001b[0;34m.\u001b[0m\u001b[0m_info_axis\u001b[0m\u001b[0;34m.\u001b[0m\u001b[0m_can_hold_identifiers_and_holds_name\u001b[0m\u001b[0;34m(\u001b[0m\u001b[0mname\u001b[0m\u001b[0;34m)\u001b[0m\u001b[0;34m:\u001b[0m\u001b[0;34m\u001b[0m\u001b[0m\n\u001b[1;32m   4375\u001b[0m                 \u001b[0;32mreturn\u001b[0m \u001b[0mself\u001b[0m\u001b[0;34m[\u001b[0m\u001b[0mname\u001b[0m\u001b[0;34m]\u001b[0m\u001b[0;34m\u001b[0m\u001b[0m\n\u001b[0;32m-> 4376\u001b[0;31m             \u001b[0;32mreturn\u001b[0m \u001b[0mobject\u001b[0m\u001b[0;34m.\u001b[0m\u001b[0m__getattribute__\u001b[0m\u001b[0;34m(\u001b[0m\u001b[0mself\u001b[0m\u001b[0;34m,\u001b[0m \u001b[0mname\u001b[0m\u001b[0;34m)\u001b[0m\u001b[0;34m\u001b[0m\u001b[0m\n\u001b[0m\u001b[1;32m   4377\u001b[0m \u001b[0;34m\u001b[0m\u001b[0m\n\u001b[1;32m   4378\u001b[0m     \u001b[0;32mdef\u001b[0m \u001b[0m__setattr__\u001b[0m\u001b[0;34m(\u001b[0m\u001b[0mself\u001b[0m\u001b[0;34m,\u001b[0m \u001b[0mname\u001b[0m\u001b[0;34m,\u001b[0m \u001b[0mvalue\u001b[0m\u001b[0;34m)\u001b[0m\u001b[0;34m:\u001b[0m\u001b[0;34m\u001b[0m\u001b[0m\n",
      "\u001b[0;31mAttributeError\u001b[0m: 'DataFrame' object has no attribute 'sodium'"
     ]
    }
   ],
   "source": [
    "plt.hist(df.sodium.dropna())"
   ]
  },
  {
   "cell_type": "markdown",
   "metadata": {},
   "source": [
    "Not bad."
   ]
  },
  {
   "cell_type": "markdown",
   "metadata": {},
   "source": [
    "### potasium"
   ]
  },
  {
   "cell_type": "code",
   "execution_count": 109,
   "metadata": {},
   "outputs": [
    {
     "name": "stdout",
     "output_type": "stream",
     "text": [
      "========================================\n",
      "Summary Stats:\n",
      "----------------------------------------\n",
      "count    758.000000\n",
      "mean       4.431662\n",
      "std        0.916371\n",
      "min        0.000000\n",
      "25%        4.000000\n",
      "50%        4.400000\n",
      "75%        4.800000\n",
      "max       22.300000\n",
      "Name: potasium, dtype: float64\n",
      "========================================\n",
      "Number of missing values:\n",
      "----------------------------------------\n",
      "2\n",
      "========================================\n",
      "Min 10 values:\n",
      "----------------------------------------\n",
      "559    0.0\n",
      "420    0.0\n",
      "617    2.0\n",
      "684    2.4\n",
      "39     2.7\n",
      "692    2.8\n",
      "503    3.0\n",
      "418    3.0\n",
      "688    3.0\n",
      "710    3.0\n",
      "Name: potasium, dtype: float64\n",
      "========================================\n",
      "Max 10 values:\n",
      "----------------------------------------\n",
      "387     5.9\n",
      "14      5.9\n",
      "675     5.9\n",
      "673     5.9\n",
      "325     5.9\n",
      "219     6.0\n",
      "599     6.2\n",
      "56      7.3\n",
      "650     7.5\n",
      "515    22.3\n",
      "Name: potasium, dtype: float64\n",
      "========================================\n",
      "Histogram:\n",
      "----------------------------------------\n"
     ]
    },
    {
     "data": {
      "image/png": "[encoded data removed]",
      "text/plain": [
       "<Figure size 432x288 with 1 Axes>"
      ]
     },
     "metadata": {
      "needs_background": "light"
     },
     "output_type": "display_data"
    }
   ],
   "source": [
    "numericFeatureAnalysis(df, \"potasium\")"
   ]
  },
  {
   "cell_type": "markdown",
   "metadata": {},
   "source": [
    "Impute missing value with mean?\n",
    "\n",
    "Are 0 values Errors? Treat as missing?\n",
    "\n",
    "22.3 L value seems like crazy outlier? Treat as 2.3? Treat as missing?"
   ]
  },
  {
   "cell_type": "code",
   "execution_count": 110,
   "metadata": {},
   "outputs": [
    {
     "data": {
      "text/plain": [
       "(array([  2.,   6.,  60., 183., 304., 151.,  40.,   7.,   0.,   2.]),\n",
       " array([2.  , 2.55, 3.1 , 3.65, 4.2 , 4.75, 5.3 , 5.85, 6.4 , 6.95, 7.5 ]),\n",
       " <a list of 10 Patch objects>)"
      ]
     },
     "execution_count": 110,
     "metadata": {},
     "output_type": "execute_result"
    },
    {
     "data": {
      "image/png": "[encoded data removed]",
      "text/plain": [
       "<Figure size 432x288 with 1 Axes>"
      ]
     },
     "metadata": {
      "needs_background": "light"
     },
     "output_type": "display_data"
    }
   ],
   "source": [
    "plt.hist(df.potasium[(df.potasium < 20)&(df.potasium > 0)].dropna())"
   ]
  },
  {
   "cell_type": "markdown",
   "metadata": {},
   "source": [
    "Looks OK with 0 and outlier removed."
   ]
  },
  {
   "cell_type": "markdown",
   "metadata": {},
   "source": [
    "### mg"
   ]
  },
  {
   "cell_type": "code",
   "execution_count": 111,
   "metadata": {},
   "outputs": [
    {
     "data": {
      "text/plain": [
       "Index(['patient_gender', 'ef', 'admit_weight', 'acute_or_chronic', 'weight',\n",
       "       'this_weight_change', 'weight_change_since_admit', 'bnp',\n",
       "       'this_bnp_change', 'ace', 'bb', 'diuretics', 'anticoagulant',\n",
       "       'ionotropes', 'other_cardiac_meds', 'bun', 'cr', 'potasium',\n",
       "       'this_cr_change', 'resting_hr', 'systolic', 'diastolic', 'outcome',\n",
       "       'cad/mi', 'heart_failure_unspecfied', 'diastolic_heart_failure',\n",
       "       'systolic_chf', 'atrial_fibrilation', 'cardiomyoapthy', 'lvad', 'chf',\n",
       "       'duration', 'age', 'F_5nKZ993n', 'F_71ADiKaS', 'F_Fy1r9IXM',\n",
       "       'F_KYzNhByH', 'F_L1V04aB0', 'F_US4llDDz', 'F_Xxk5Yn3E', 'F_kIUZIzRp',\n",
       "       'F_mB0G57bu'],\n",
       "      dtype='object')"
      ]
     },
     "execution_count": 111,
     "metadata": {},
     "output_type": "execute_result"
    }
   ],
   "source": [
    "df.columns"
   ]
  },
  {
   "cell_type": "code",
   "execution_count": 112,
   "metadata": {},
   "outputs": [
    {
     "ename": "AttributeError",
     "evalue": "'DataFrame' object has no attribute 'mg'",
     "output_type": "error",
     "traceback": [
      "\u001b[0;31m---------------------------------------------------------------------------\u001b[0m",
      "\u001b[0;31mAttributeError\u001b[0m                            Traceback (most recent call last)",
      "\u001b[0;32m<ipython-input-112-6181405455ca>\u001b[0m in \u001b[0;36m<module>\u001b[0;34m()\u001b[0m\n\u001b[0;32m----> 1\u001b[0;31m \u001b[0mdf\u001b[0m\u001b[0;34m.\u001b[0m\u001b[0mmg\u001b[0m\u001b[0;34m.\u001b[0m\u001b[0misna\u001b[0m\u001b[0;34m(\u001b[0m\u001b[0;34m)\u001b[0m\u001b[0;34m.\u001b[0m\u001b[0msum\u001b[0m\u001b[0;34m(\u001b[0m\u001b[0;34m)\u001b[0m\u001b[0;34m\u001b[0m\u001b[0m\n\u001b[0m",
      "\u001b[0;32m/usr/lib/python3.7/site-packages/pandas/core/generic.py\u001b[0m in \u001b[0;36m__getattr__\u001b[0;34m(self, name)\u001b[0m\n\u001b[1;32m   4374\u001b[0m             \u001b[0;32mif\u001b[0m \u001b[0mself\u001b[0m\u001b[0;34m.\u001b[0m\u001b[0m_info_axis\u001b[0m\u001b[0;34m.\u001b[0m\u001b[0m_can_hold_identifiers_and_holds_name\u001b[0m\u001b[0;34m(\u001b[0m\u001b[0mname\u001b[0m\u001b[0;34m)\u001b[0m\u001b[0;34m:\u001b[0m\u001b[0;34m\u001b[0m\u001b[0m\n\u001b[1;32m   4375\u001b[0m                 \u001b[0;32mreturn\u001b[0m \u001b[0mself\u001b[0m\u001b[0;34m[\u001b[0m\u001b[0mname\u001b[0m\u001b[0;34m]\u001b[0m\u001b[0;34m\u001b[0m\u001b[0m\n\u001b[0;32m-> 4376\u001b[0;31m             \u001b[0;32mreturn\u001b[0m \u001b[0mobject\u001b[0m\u001b[0;34m.\u001b[0m\u001b[0m__getattribute__\u001b[0m\u001b[0;34m(\u001b[0m\u001b[0mself\u001b[0m\u001b[0;34m,\u001b[0m \u001b[0mname\u001b[0m\u001b[0;34m)\u001b[0m\u001b[0;34m\u001b[0m\u001b[0m\n\u001b[0m\u001b[1;32m   4377\u001b[0m \u001b[0;34m\u001b[0m\u001b[0m\n\u001b[1;32m   4378\u001b[0m     \u001b[0;32mdef\u001b[0m \u001b[0m__setattr__\u001b[0m\u001b[0;34m(\u001b[0m\u001b[0mself\u001b[0m\u001b[0;34m,\u001b[0m \u001b[0mname\u001b[0m\u001b[0;34m,\u001b[0m \u001b[0mvalue\u001b[0m\u001b[0;34m)\u001b[0m\u001b[0;34m:\u001b[0m\u001b[0;34m\u001b[0m\u001b[0m\n",
      "\u001b[0;31mAttributeError\u001b[0m: 'DataFrame' object has no attribute 'mg'"
     ]
    }
   ],
   "source": [
    "df.mg.isna().sum()"
   ]
  },
  {
   "cell_type": "markdown",
   "metadata": {},
   "source": [
    "A lot of missing!"
   ]
  },
  {
   "cell_type": "code",
   "execution_count": 113,
   "metadata": {},
   "outputs": [
    {
     "ename": "AttributeError",
     "evalue": "'DataFrame' object has no attribute 'mg'",
     "output_type": "error",
     "traceback": [
      "\u001b[0;31m---------------------------------------------------------------------------\u001b[0m",
      "\u001b[0;31mAttributeError\u001b[0m                            Traceback (most recent call last)",
      "\u001b[0;32m<ipython-input-113-bc41b2ade2b5>\u001b[0m in \u001b[0;36m<module>\u001b[0;34m()\u001b[0m\n\u001b[0;32m----> 1\u001b[0;31m \u001b[0mplt\u001b[0m\u001b[0;34m.\u001b[0m\u001b[0mhist\u001b[0m\u001b[0;34m(\u001b[0m\u001b[0mdf\u001b[0m\u001b[0;34m.\u001b[0m\u001b[0mmg\u001b[0m\u001b[0;34m.\u001b[0m\u001b[0mdropna\u001b[0m\u001b[0;34m(\u001b[0m\u001b[0;34m)\u001b[0m\u001b[0;34m)\u001b[0m\u001b[0;34m\u001b[0m\u001b[0m\n\u001b[0m",
      "\u001b[0;32m/usr/lib/python3.7/site-packages/pandas/core/generic.py\u001b[0m in \u001b[0;36m__getattr__\u001b[0;34m(self, name)\u001b[0m\n\u001b[1;32m   4374\u001b[0m             \u001b[0;32mif\u001b[0m \u001b[0mself\u001b[0m\u001b[0;34m.\u001b[0m\u001b[0m_info_axis\u001b[0m\u001b[0;34m.\u001b[0m\u001b[0m_can_hold_identifiers_and_holds_name\u001b[0m\u001b[0;34m(\u001b[0m\u001b[0mname\u001b[0m\u001b[0;34m)\u001b[0m\u001b[0;34m:\u001b[0m\u001b[0;34m\u001b[0m\u001b[0m\n\u001b[1;32m   4375\u001b[0m                 \u001b[0;32mreturn\u001b[0m \u001b[0mself\u001b[0m\u001b[0;34m[\u001b[0m\u001b[0mname\u001b[0m\u001b[0;34m]\u001b[0m\u001b[0;34m\u001b[0m\u001b[0m\n\u001b[0;32m-> 4376\u001b[0;31m             \u001b[0;32mreturn\u001b[0m \u001b[0mobject\u001b[0m\u001b[0;34m.\u001b[0m\u001b[0m__getattribute__\u001b[0m\u001b[0;34m(\u001b[0m\u001b[0mself\u001b[0m\u001b[0;34m,\u001b[0m \u001b[0mname\u001b[0m\u001b[0;34m)\u001b[0m\u001b[0;34m\u001b[0m\u001b[0m\n\u001b[0m\u001b[1;32m   4377\u001b[0m \u001b[0;34m\u001b[0m\u001b[0m\n\u001b[1;32m   4378\u001b[0m     \u001b[0;32mdef\u001b[0m \u001b[0m__setattr__\u001b[0m\u001b[0;34m(\u001b[0m\u001b[0mself\u001b[0m\u001b[0;34m,\u001b[0m \u001b[0mname\u001b[0m\u001b[0;34m,\u001b[0m \u001b[0mvalue\u001b[0m\u001b[0;34m)\u001b[0m\u001b[0;34m:\u001b[0m\u001b[0;34m\u001b[0m\u001b[0m\n",
      "\u001b[0;31mAttributeError\u001b[0m: 'DataFrame' object has no attribute 'mg'"
     ]
    }
   ],
   "source": [
    "plt.hist(df.mg.dropna())"
   ]
  },
  {
   "cell_type": "markdown",
   "metadata": {},
   "source": [
    "Not a bad plot"
   ]
  },
  {
   "cell_type": "code",
   "execution_count": 114,
   "metadata": {},
   "outputs": [
    {
     "ename": "AttributeError",
     "evalue": "'DataFrame' object has no attribute 'mg'",
     "output_type": "error",
     "traceback": [
      "\u001b[0;31m---------------------------------------------------------------------------\u001b[0m",
      "\u001b[0;31mAttributeError\u001b[0m                            Traceback (most recent call last)",
      "\u001b[0;32m<ipython-input-114-c0ec908e0e99>\u001b[0m in \u001b[0;36m<module>\u001b[0;34m()\u001b[0m\n\u001b[0;32m----> 1\u001b[0;31m \u001b[0;34m(\u001b[0m\u001b[0mdf\u001b[0m\u001b[0;34m.\u001b[0m\u001b[0mmg\u001b[0m \u001b[0;34m==\u001b[0m \u001b[0;36m0\u001b[0m\u001b[0;34m)\u001b[0m\u001b[0;34m.\u001b[0m\u001b[0msum\u001b[0m\u001b[0;34m(\u001b[0m\u001b[0;34m)\u001b[0m\u001b[0;34m\u001b[0m\u001b[0m\n\u001b[0m",
      "\u001b[0;32m/usr/lib/python3.7/site-packages/pandas/core/generic.py\u001b[0m in \u001b[0;36m__getattr__\u001b[0;34m(self, name)\u001b[0m\n\u001b[1;32m   4374\u001b[0m             \u001b[0;32mif\u001b[0m \u001b[0mself\u001b[0m\u001b[0;34m.\u001b[0m\u001b[0m_info_axis\u001b[0m\u001b[0;34m.\u001b[0m\u001b[0m_can_hold_identifiers_and_holds_name\u001b[0m\u001b[0;34m(\u001b[0m\u001b[0mname\u001b[0m\u001b[0;34m)\u001b[0m\u001b[0;34m:\u001b[0m\u001b[0;34m\u001b[0m\u001b[0m\n\u001b[1;32m   4375\u001b[0m                 \u001b[0;32mreturn\u001b[0m \u001b[0mself\u001b[0m\u001b[0;34m[\u001b[0m\u001b[0mname\u001b[0m\u001b[0;34m]\u001b[0m\u001b[0;34m\u001b[0m\u001b[0m\n\u001b[0;32m-> 4376\u001b[0;31m             \u001b[0;32mreturn\u001b[0m \u001b[0mobject\u001b[0m\u001b[0;34m.\u001b[0m\u001b[0m__getattribute__\u001b[0m\u001b[0;34m(\u001b[0m\u001b[0mself\u001b[0m\u001b[0;34m,\u001b[0m \u001b[0mname\u001b[0m\u001b[0;34m)\u001b[0m\u001b[0;34m\u001b[0m\u001b[0m\n\u001b[0m\u001b[1;32m   4377\u001b[0m \u001b[0;34m\u001b[0m\u001b[0m\n\u001b[1;32m   4378\u001b[0m     \u001b[0;32mdef\u001b[0m \u001b[0m__setattr__\u001b[0m\u001b[0;34m(\u001b[0m\u001b[0mself\u001b[0m\u001b[0;34m,\u001b[0m \u001b[0mname\u001b[0m\u001b[0;34m,\u001b[0m \u001b[0mvalue\u001b[0m\u001b[0;34m)\u001b[0m\u001b[0;34m:\u001b[0m\u001b[0;34m\u001b[0m\u001b[0m\n",
      "\u001b[0;31mAttributeError\u001b[0m: 'DataFrame' object has no attribute 'mg'"
     ]
    }
   ],
   "source": [
    "(df.mg == 0).sum()"
   ]
  },
  {
   "cell_type": "markdown",
   "metadata": {},
   "source": [
    "Are these 0 values errors? Change to mean? There's a lot of missing already..."
   ]
  },
  {
   "cell_type": "markdown",
   "metadata": {},
   "source": [
    "### this_cr_change"
   ]
  },
  {
   "cell_type": "code",
   "execution_count": 115,
   "metadata": {},
   "outputs": [
    {
     "name": "stdout",
     "output_type": "stream",
     "text": [
      "========================================\n",
      "Summary Stats:\n",
      "----------------------------------------\n",
      "count    724.000000\n",
      "mean       1.620801\n",
      "std       28.220469\n",
      "min     -300.000000\n",
      "25%       -9.090000\n",
      "50%        0.000000\n",
      "75%       12.550000\n",
      "max      100.000000\n",
      "Name: this_cr_change, dtype: float64\n",
      "========================================\n",
      "Number of missing values:\n",
      "----------------------------------------\n",
      "36\n",
      "========================================\n",
      "Min 10 values:\n",
      "----------------------------------------\n",
      "690   -300.00\n",
      "170   -133.33\n",
      "298   -127.27\n",
      "744   -111.11\n",
      "276   -100.00\n",
      "202    -93.33\n",
      "672    -88.89\n",
      "317    -80.00\n",
      "123    -75.00\n",
      "273    -70.00\n",
      "Name: this_cr_change, dtype: float64\n",
      "========================================\n",
      "Max 10 values:\n",
      "----------------------------------------\n",
      "229    100.0\n",
      "539    100.0\n",
      "430    100.0\n",
      "414    100.0\n",
      "584    100.0\n",
      "371    100.0\n",
      "30     100.0\n",
      "341    100.0\n",
      "161    100.0\n",
      "718    100.0\n",
      "Name: this_cr_change, dtype: float64\n",
      "========================================\n",
      "Histogram:\n",
      "----------------------------------------\n"
     ]
    },
    {
     "data": {
      "image/png": "[encoded data removed]",
      "text/plain": [
       "<Figure size 432x288 with 1 Axes>"
      ]
     },
     "metadata": {
      "needs_background": "light"
     },
     "output_type": "display_data"
    }
   ],
   "source": [
    "numericFeatureAnalysis(df, \"this_cr_change\")"
   ]
  },
  {
   "cell_type": "markdown",
   "metadata": {},
   "source": [
    "Significant missing values. Is there only a single cr measurement? If so impute 0?\n",
    "\n",
    "-300 looks like outlier. Treat as missing?\n",
    "\n",
    "Hist Looks OK."
   ]
  },
  {
   "cell_type": "markdown",
   "metadata": {},
   "source": [
    "### resting_hr"
   ]
  },
  {
   "cell_type": "code",
   "execution_count": 116,
   "metadata": {
    "scrolled": false
   },
   "outputs": [
    {
     "name": "stdout",
     "output_type": "stream",
     "text": [
      "========================================\n",
      "Summary Stats:\n",
      "----------------------------------------\n",
      "count    751.000000\n",
      "mean      76.687084\n",
      "std       11.531607\n",
      "min       38.000000\n",
      "25%       70.000000\n",
      "50%       76.000000\n",
      "75%       82.000000\n",
      "max      165.000000\n",
      "Name: resting_hr, dtype: float64\n",
      "========================================\n",
      "Number of missing values:\n",
      "----------------------------------------\n",
      "9\n",
      "========================================\n",
      "Min 10 values:\n",
      "----------------------------------------\n",
      "622    38.0\n",
      "688    50.0\n",
      "414    51.0\n",
      "237    52.0\n",
      "43     52.0\n",
      "695    54.0\n",
      "442    54.0\n",
      "337    54.0\n",
      "402    55.0\n",
      "445    55.0\n",
      "Name: resting_hr, dtype: float64\n",
      "========================================\n",
      "Max 10 values:\n",
      "----------------------------------------\n",
      "134    110.0\n",
      "476    111.0\n",
      "571    112.0\n",
      "103    112.0\n",
      "484    112.0\n",
      "92     115.0\n",
      "666    120.0\n",
      "58     120.0\n",
      "41     127.0\n",
      "44     165.0\n",
      "Name: resting_hr, dtype: float64\n",
      "========================================\n",
      "Histogram:\n",
      "----------------------------------------\n"
     ]
    },
    {
     "data": {
      "image/png": "[encoded data removed]",
      "text/plain": [
       "<Figure size 432x288 with 1 Axes>"
      ]
     },
     "metadata": {
      "needs_background": "light"
     },
     "output_type": "display_data"
    }
   ],
   "source": [
    "numericFeatureAnalysis(df, \"resting_hr\")"
   ]
  },
  {
   "cell_type": "markdown",
   "metadata": {},
   "source": [
    "Impute missing with mean?"
   ]
  },
  {
   "cell_type": "markdown",
   "metadata": {},
   "source": [
    "### systolic"
   ]
  },
  {
   "cell_type": "code",
   "execution_count": 117,
   "metadata": {
    "scrolled": false
   },
   "outputs": [
    {
     "name": "stdout",
     "output_type": "stream",
     "text": [
      "========================================\n",
      "Summary Stats:\n",
      "----------------------------------------\n",
      "count    753.000000\n",
      "mean     128.501992\n",
      "std       20.447658\n",
      "min       18.000000\n",
      "25%      116.000000\n",
      "50%      127.000000\n",
      "75%      140.000000\n",
      "max      201.000000\n",
      "Name: systolic, dtype: float64\n",
      "========================================\n",
      "Number of missing values:\n",
      "----------------------------------------\n",
      "7\n",
      "========================================\n",
      "Min 10 values:\n",
      "----------------------------------------\n",
      "434    18.0\n",
      "590    49.0\n",
      "304    60.0\n",
      "219    73.0\n",
      "416    78.0\n",
      "337    80.0\n",
      "392    82.0\n",
      "41     82.0\n",
      "305    84.0\n",
      "411    85.0\n",
      "Name: systolic, dtype: float64\n",
      "========================================\n",
      "Max 10 values:\n",
      "----------------------------------------\n",
      "420    178.0\n",
      "104    179.0\n",
      "163    179.0\n",
      "580    185.0\n",
      "503    187.0\n",
      "561    187.0\n",
      "697    192.0\n",
      "57     193.0\n",
      "109    197.0\n",
      "50     201.0\n",
      "Name: systolic, dtype: float64\n",
      "========================================\n",
      "Histogram:\n",
      "----------------------------------------\n"
     ]
    },
    {
     "data": {
      "image/png": "[encoded data removed]",
      "text/plain": [
       "<Figure size 432x288 with 1 Axes>"
      ]
     },
     "metadata": {
      "needs_background": "light"
     },
     "output_type": "display_data"
    }
   ],
   "source": [
    "numericFeatureAnalysis(df, \"systolic\")"
   ]
  },
  {
   "cell_type": "code",
   "execution_count": 169,
   "metadata": {},
   "outputs": [
    {
     "data": {
      "text/html": [
       "<div>\n",
       "<style scoped>\n",
       "    .dataframe tbody tr th:only-of-type {\n",
       "        vertical-align: middle;\n",
       "    }\n",
       "\n",
       "    .dataframe tbody tr th {\n",
       "        vertical-align: top;\n",
       "    }\n",
       "\n",
       "    .dataframe thead th {\n",
       "        text-align: right;\n",
       "    }\n",
       "</style>\n",
       "<table border=\"1\" class=\"dataframe\">\n",
       "  <thead>\n",
       "    <tr style=\"text-align: right;\">\n",
       "      <th></th>\n",
       "      <th>systolic</th>\n",
       "      <th>diastolic</th>\n",
       "    </tr>\n",
       "  </thead>\n",
       "  <tbody>\n",
       "    <tr>\n",
       "      <th>330</th>\n",
       "      <td>121.0</td>\n",
       "      <td>NaN</td>\n",
       "    </tr>\n",
       "    <tr>\n",
       "      <th>409</th>\n",
       "      <td>NaN</td>\n",
       "      <td>NaN</td>\n",
       "    </tr>\n",
       "    <tr>\n",
       "      <th>535</th>\n",
       "      <td>90.0</td>\n",
       "      <td>NaN</td>\n",
       "    </tr>\n",
       "    <tr>\n",
       "      <th>630</th>\n",
       "      <td>NaN</td>\n",
       "      <td>NaN</td>\n",
       "    </tr>\n",
       "    <tr>\n",
       "      <th>642</th>\n",
       "      <td>NaN</td>\n",
       "      <td>NaN</td>\n",
       "    </tr>\n",
       "    <tr>\n",
       "      <th>650</th>\n",
       "      <td>NaN</td>\n",
       "      <td>NaN</td>\n",
       "    </tr>\n",
       "    <tr>\n",
       "      <th>659</th>\n",
       "      <td>NaN</td>\n",
       "      <td>NaN</td>\n",
       "    </tr>\n",
       "    <tr>\n",
       "      <th>660</th>\n",
       "      <td>NaN</td>\n",
       "      <td>NaN</td>\n",
       "    </tr>\n",
       "    <tr>\n",
       "      <th>661</th>\n",
       "      <td>NaN</td>\n",
       "      <td>NaN</td>\n",
       "    </tr>\n",
       "  </tbody>\n",
       "</table>\n",
       "</div>"
      ],
      "text/plain": [
       "     systolic  diastolic\n",
       "330     121.0        NaN\n",
       "409       NaN        NaN\n",
       "535      90.0        NaN\n",
       "630       NaN        NaN\n",
       "642       NaN        NaN\n",
       "650       NaN        NaN\n",
       "659       NaN        NaN\n",
       "660       NaN        NaN\n",
       "661       NaN        NaN"
      ]
     },
     "execution_count": 169,
     "metadata": {},
     "output_type": "execute_result"
    }
   ],
   "source": [
    "df[df.diastolic.isna()][[\"systolic\", \"diastolic\"]]"
   ]
  },
  {
   "cell_type": "markdown",
   "metadata": {},
   "source": [
    "Impute missing with mean?\n",
    "\n",
    "Min value of 18 looks like an outlier."
   ]
  },
  {
   "cell_type": "code",
   "execution_count": 118,
   "metadata": {},
   "outputs": [
    {
     "data": {
      "text/plain": [
       "<matplotlib.axes._subplots.AxesSubplot at 0x7fad7df16710>"
      ]
     },
     "execution_count": 118,
     "metadata": {},
     "output_type": "execute_result"
    },
    {
     "data": {
      "image/png": "[encoded data removed]",
      "text/plain": [
       "<Figure size 432x288 with 1 Axes>"
      ]
     },
     "metadata": {
      "needs_background": "light"
     },
     "output_type": "display_data"
    }
   ],
   "source": [
    "df.systolic[df.systolic > 18].hist()"
   ]
  },
  {
   "cell_type": "markdown",
   "metadata": {},
   "source": [
    "### diastolic"
   ]
  },
  {
   "cell_type": "code",
   "execution_count": 119,
   "metadata": {},
   "outputs": [
    {
     "name": "stdout",
     "output_type": "stream",
     "text": [
      "========================================\n",
      "Summary Stats:\n",
      "----------------------------------------\n",
      "count    751.000000\n",
      "mean      70.713715\n",
      "std       10.576795\n",
      "min        1.000000\n",
      "25%       64.000000\n",
      "50%       70.000000\n",
      "75%       78.000000\n",
      "max      112.000000\n",
      "Name: diastolic, dtype: float64\n",
      "========================================\n",
      "Number of missing values:\n",
      "----------------------------------------\n",
      "9\n",
      "========================================\n",
      "Min 10 values:\n",
      "----------------------------------------\n",
      "304     1.0\n",
      "146    42.0\n",
      "46     42.0\n",
      "425    43.0\n",
      "498    44.0\n",
      "359    45.0\n",
      "475    45.0\n",
      "149    48.0\n",
      "396    49.0\n",
      "537    49.0\n",
      "Name: diastolic, dtype: float64\n",
      "========================================\n",
      "Max 10 values:\n",
      "----------------------------------------\n",
      "125     97.0\n",
      "420     97.0\n",
      "408     98.0\n",
      "666     99.0\n",
      "675     99.0\n",
      "540    100.0\n",
      "50     102.0\n",
      "73     103.0\n",
      "623    107.0\n",
      "234    112.0\n",
      "Name: diastolic, dtype: float64\n",
      "========================================\n",
      "Histogram:\n",
      "----------------------------------------\n"
     ]
    },
    {
     "data": {
      "image/png": "[encoded data removed]",
      "text/plain": [
       "<Figure size 432x288 with 1 Axes>"
      ]
     },
     "metadata": {
      "needs_background": "light"
     },
     "output_type": "display_data"
    }
   ],
   "source": [
    "numericFeatureAnalysis(df, \"diastolic\")"
   ]
  },
  {
   "cell_type": "markdown",
   "metadata": {},
   "source": [
    "Impute missing with mean?\n",
    "\n",
    "Min value 1 is an error"
   ]
  },
  {
   "cell_type": "code",
   "execution_count": 120,
   "metadata": {},
   "outputs": [
    {
     "data": {
      "text/plain": [
       "<matplotlib.axes._subplots.AxesSubplot at 0x7fad7df16630>"
      ]
     },
     "execution_count": 120,
     "metadata": {},
     "output_type": "execute_result"
    },
    {
     "data": {
      "image/png": "[encoded data removed]",
      "text/plain": [
       "<Figure size 432x288 with 1 Axes>"
      ]
     },
     "metadata": {
      "needs_background": "light"
     },
     "output_type": "display_data"
    }
   ],
   "source": [
    "df.diastolic[df.diastolic > 1].hist()"
   ]
  },
  {
   "cell_type": "markdown",
   "metadata": {},
   "source": [
    "Impute diastolic using systolic where possible. Function should not be too bad."
   ]
  },
  {
   "cell_type": "markdown",
   "metadata": {},
   "source": [
    "<p><a name=\"duration\"></a></p>\n",
    "## Duration"
   ]
  },
  {
   "cell_type": "code",
   "execution_count": 170,
   "metadata": {},
   "outputs": [
    {
     "name": "stdout",
     "output_type": "stream",
     "text": [
      "========================================\n",
      "Summary Stats:\n",
      "----------------------------------------\n",
      "count     730.000000\n",
      "mean      126.291781\n",
      "std       338.468257\n",
      "min     -3638.000000\n",
      "25%        29.000000\n",
      "50%        60.000000\n",
      "75%       181.500000\n",
      "max      2229.000000\n",
      "Name: duration, dtype: float64\n",
      "========================================\n",
      "Number of missing values:\n",
      "----------------------------------------\n",
      "30\n",
      "========================================\n",
      "Min 10 values:\n",
      "----------------------------------------\n",
      "666   -3638.0\n",
      "631   -2628.0\n",
      "410   -1783.0\n",
      "213   -1395.0\n",
      "278   -1393.0\n",
      "268   -1045.0\n",
      "295   -1028.0\n",
      "283   -1024.0\n",
      "564    -997.0\n",
      "354    -709.0\n",
      "Name: duration, dtype: float64\n",
      "========================================\n",
      "Max 10 values:\n",
      "----------------------------------------\n",
      "540    1006.0\n",
      "577    1064.0\n",
      "551    1105.0\n",
      "636    1115.0\n",
      "552    1206.0\n",
      "582    1257.0\n",
      "3      1276.0\n",
      "485    1390.0\n",
      "655    1976.0\n",
      "466    2229.0\n",
      "Name: duration, dtype: float64\n",
      "========================================\n",
      "Histogram:\n",
      "----------------------------------------\n"
     ]
    },
    {
     "data": {
      "image/png": "[encoded data removed]",
      "text/plain": [
       "<Figure size 432x288 with 1 Axes>"
      ]
     },
     "metadata": {
      "needs_background": "light"
     },
     "output_type": "display_data"
    }
   ],
   "source": [
    "numericFeatureAnalysis(df, \"duration\")"
   ]
  },
  {
   "cell_type": "markdown",
   "metadata": {},
   "source": [
    "Why all the negative durations?"
   ]
  },
  {
   "cell_type": "markdown",
   "metadata": {},
   "source": [
    "20 missing durations."
   ]
  },
  {
   "cell_type": "code",
   "execution_count": 171,
   "metadata": {},
   "outputs": [
    {
     "data": {
      "text/plain": [
       "25"
      ]
     },
     "execution_count": 171,
     "metadata": {},
     "output_type": "execute_result"
    }
   ],
   "source": [
    "(df.duration < 0).sum()"
   ]
  },
  {
   "cell_type": "code",
   "execution_count": 122,
   "metadata": {},
   "outputs": [
    {
     "data": {
      "text/plain": [
       "(array([553.,  82.,  34.,  19.,  10.,   4.,   1.,   0.,   1.,   1.]),\n",
       " array([   0. ,  222.9,  445.8,  668.7,  891.6, 1114.5, 1337.4, 1560.3,\n",
       "        1783.2, 2006.1, 2229. ]),\n",
       " <a list of 10 Patch objects>)"
      ]
     },
     "execution_count": 122,
     "metadata": {},
     "output_type": "execute_result"
    },
    {
     "data": {
      "image/png": "[encoded data removed]",
      "text/plain": [
       "<Figure size 432x288 with 1 Axes>"
      ]
     },
     "metadata": {
      "needs_background": "light"
     },
     "output_type": "display_data"
    }
   ],
   "source": [
    "plt.hist(df.duration[(df.duration > -1 )])"
   ]
  },
  {
   "cell_type": "markdown",
   "metadata": {},
   "source": [
    "Plot is heavily skewed."
   ]
  },
  {
   "cell_type": "code",
   "execution_count": 123,
   "metadata": {
    "scrolled": false
   },
   "outputs": [
    {
     "data": {
      "text/plain": [
       "(array([  4.,   7.,  27.,  58., 169., 171., 100.,  86.,  59.,   9.]),\n",
       " array([0.        , 0.77093083, 1.54186167, 2.3127925 , 3.08372333,\n",
       "        3.85465417, 4.625585  , 5.39651583, 6.16744667, 6.9383775 ,\n",
       "        7.70930833]),\n",
       " <a list of 10 Patch objects>)"
      ]
     },
     "execution_count": 123,
     "metadata": {},
     "output_type": "execute_result"
    },
    {
     "data": {
      "image/png": "[encoded data removed]",
      "text/plain": [
       "<Figure size 432x288 with 1 Axes>"
      ]
     },
     "metadata": {
      "needs_background": "light"
     },
     "output_type": "display_data"
    }
   ],
   "source": [
    "plt.hist(df.duration[df.duration > 0].map(np.log))"
   ]
  },
  {
   "cell_type": "markdown",
   "metadata": {},
   "source": [
    "Log histogram of non-missing values looks much more normal. Box-Cox transformation may be appropriate here."
   ]
  },
  {
   "cell_type": "markdown",
   "metadata": {},
   "source": [
    "### age"
   ]
  },
  {
   "cell_type": "code",
   "execution_count": 172,
   "metadata": {
    "scrolled": false
   },
   "outputs": [
    {
     "name": "stdout",
     "output_type": "stream",
     "text": [
      "========================================\n",
      "Summary Stats:\n",
      "----------------------------------------\n",
      "count    751.000000\n",
      "mean      76.086551\n",
      "std       16.664268\n",
      "min      -30.000000\n",
      "25%       69.000000\n",
      "50%       79.000000\n",
      "75%       87.000000\n",
      "max      103.000000\n",
      "Name: age, dtype: float64\n",
      "========================================\n",
      "Number of missing values:\n",
      "----------------------------------------\n",
      "9\n",
      "========================================\n",
      "Min 10 values:\n",
      "----------------------------------------\n",
      "445   -30.0\n",
      "514   -28.0\n",
      "475   -22.0\n",
      "447   -12.0\n",
      "454   -11.0\n",
      "446    -6.0\n",
      "442    -6.0\n",
      "13      0.0\n",
      "136     0.0\n",
      "168     0.0\n",
      "Name: age, dtype: float64\n",
      "========================================\n",
      "Max 10 values:\n",
      "----------------------------------------\n",
      "735    100.0\n",
      "488    100.0\n",
      "355    100.0\n",
      "150    100.0\n",
      "756    100.0\n",
      "580    101.0\n",
      "641    101.0\n",
      "115    101.0\n",
      "707    102.0\n",
      "653    103.0\n",
      "Name: age, dtype: float64\n",
      "========================================\n",
      "Histogram:\n",
      "----------------------------------------\n"
     ]
    },
    {
     "data": {
      "image/png": "[encoded data removed]",
      "text/plain": [
       "<Figure size 432x288 with 1 Axes>"
      ]
     },
     "metadata": {
      "needs_background": "light"
     },
     "output_type": "display_data"
    }
   ],
   "source": [
    "numericFeatureAnalysis(df, \"age\")"
   ]
  },
  {
   "cell_type": "markdown",
   "metadata": {},
   "source": [
    "Is there a sensible way to impute age?\n",
    "\n",
    "Are ages less than 20 reasonable? Some are negative!"
   ]
  },
  {
   "cell_type": "code",
   "execution_count": 173,
   "metadata": {
    "scrolled": true
   },
   "outputs": [
    {
     "data": {
      "text/plain": [
       "<matplotlib.axes._subplots.AxesSubplot at 0x7fad7dc35358>"
      ]
     },
     "execution_count": 173,
     "metadata": {},
     "output_type": "execute_result"
    },
    {
     "data": {
      "image/png": "[encoded data removed]",
      "text/plain": [
       "<Figure size 432x288 with 1 Axes>"
      ]
     },
     "metadata": {
      "needs_background": "light"
     },
     "output_type": "display_data"
    }
   ],
   "source": [
    "df.age[df.age > 20].hist()"
   ]
  },
  {
   "cell_type": "code",
   "execution_count": 175,
   "metadata": {},
   "outputs": [
    {
     "data": {
      "text/plain": [
       "13      0.0\n",
       "136     0.0\n",
       "168     0.0\n",
       "367     1.0\n",
       "404     1.0\n",
       "405     1.0\n",
       "442    -6.0\n",
       "445   -30.0\n",
       "446    -6.0\n",
       "447   -12.0\n",
       "454   -11.0\n",
       "475   -22.0\n",
       "514   -28.0\n",
       "541     5.0\n",
       "Name: age, dtype: float64"
      ]
     },
     "execution_count": 175,
     "metadata": {},
     "output_type": "execute_result"
    }
   ],
   "source": [
    "df.age[df.age < 20]"
   ]
  },
  {
   "cell_type": "code",
   "execution_count": 174,
   "metadata": {},
   "outputs": [
    {
     "data": {
      "text/plain": [
       "14"
      ]
     },
     "execution_count": 174,
     "metadata": {},
     "output_type": "execute_result"
    }
   ],
   "source": [
    "(df.age < 20).sum()"
   ]
  },
  {
   "cell_type": "code",
   "execution_count": 148,
   "metadata": {},
   "outputs": [
    {
     "data": {
      "text/plain": [
       "<matplotlib.axes._subplots.AxesSubplot at 0x7fad7dbb01d0>"
      ]
     },
     "execution_count": 148,
     "metadata": {},
     "output_type": "execute_result"
    },
    {
     "data": {
      "image/png": "[encoded data removed]",
      "text/plain": [
       "<Figure size 432x288 with 1 Axes>"
      ]
     },
     "metadata": {
      "needs_background": "light"
     },
     "output_type": "display_data"
    }
   ],
   "source": [
    "(df.age[df.age > 20]-30).hist()"
   ]
  },
  {
   "cell_type": "code",
   "execution_count": null,
   "metadata": {},
   "outputs": [],
   "source": []
  },
  {
   "cell_type": "markdown",
   "metadata": {},
   "source": [
    "<p><a name=\"acute_or_chronic\"></a></p>\n",
    "## acute_or_chronic"
   ]
  },
  {
   "cell_type": "code",
   "execution_count": 126,
   "metadata": {},
   "outputs": [
    {
     "data": {
      "text/plain": [
       " 0.0    464\n",
       " 1.0    273\n",
       "NaN      23\n",
       "Name: acute_or_chronic, dtype: int64"
      ]
     },
     "execution_count": 126,
     "metadata": {},
     "output_type": "execute_result"
    }
   ],
   "source": [
    "df.acute_or_chronic.value_counts(dropna=False)"
   ]
  },
  {
   "cell_type": "markdown",
   "metadata": {},
   "source": [
    "A lot of missing. Not sure how to impute."
   ]
  },
  {
   "cell_type": "markdown",
   "metadata": {},
   "source": [
    "<p><a name=\"diagnoses\"></a></p>\n",
    "## Diagnoses"
   ]
  },
  {
   "cell_type": "code",
   "execution_count": 127,
   "metadata": {
    "scrolled": true
   },
   "outputs": [
    {
     "data": {
      "text/plain": [
       "Index(['patient_gender', 'ef', 'admit_weight', 'acute_or_chronic', 'weight',\n",
       "       'this_weight_change', 'weight_change_since_admit', 'bnp',\n",
       "       'this_bnp_change', 'ace', 'bb', 'diuretics', 'anticoagulant',\n",
       "       'ionotropes', 'other_cardiac_meds', 'bun', 'cr', 'potasium',\n",
       "       'this_cr_change', 'resting_hr', 'systolic', 'diastolic', 'outcome',\n",
       "       'cad/mi', 'heart_failure_unspecfied', 'diastolic_heart_failure',\n",
       "       'systolic_chf', 'atrial_fibrilation', 'cardiomyoapthy', 'lvad', 'chf',\n",
       "       'duration', 'age', 'F_5nKZ993n', 'F_71ADiKaS', 'F_Fy1r9IXM',\n",
       "       'F_KYzNhByH', 'F_L1V04aB0', 'F_US4llDDz', 'F_Xxk5Yn3E', 'F_kIUZIzRp',\n",
       "       'F_mB0G57bu'],\n",
       "      dtype='object')"
      ]
     },
     "execution_count": 127,
     "metadata": {},
     "output_type": "execute_result"
    }
   ],
   "source": [
    "df.columns"
   ]
  },
  {
   "cell_type": "markdown",
   "metadata": {},
   "source": [
    "<p><a name=\"pacemaker\"></a></p>\n",
    "## Pacemaker (aicd)"
   ]
  },
  {
   "cell_type": "code",
   "execution_count": 128,
   "metadata": {},
   "outputs": [
    {
     "ename": "AttributeError",
     "evalue": "'DataFrame' object has no attribute 'aicd'",
     "output_type": "error",
     "traceback": [
      "\u001b[0;31m---------------------------------------------------------------------------\u001b[0m",
      "\u001b[0;31mAttributeError\u001b[0m                            Traceback (most recent call last)",
      "\u001b[0;32m<ipython-input-128-6deb303e7496>\u001b[0m in \u001b[0;36m<module>\u001b[0;34m()\u001b[0m\n\u001b[0;32m----> 1\u001b[0;31m \u001b[0mdf\u001b[0m\u001b[0;34m.\u001b[0m\u001b[0maicd\u001b[0m\u001b[0;34m.\u001b[0m\u001b[0mvalue_counts\u001b[0m\u001b[0;34m(\u001b[0m\u001b[0mdropna\u001b[0m \u001b[0;34m=\u001b[0m \u001b[0;32mFalse\u001b[0m\u001b[0;34m)\u001b[0m\u001b[0;34m\u001b[0m\u001b[0m\n\u001b[0m",
      "\u001b[0;32m/usr/lib/python3.7/site-packages/pandas/core/generic.py\u001b[0m in \u001b[0;36m__getattr__\u001b[0;34m(self, name)\u001b[0m\n\u001b[1;32m   4374\u001b[0m             \u001b[0;32mif\u001b[0m \u001b[0mself\u001b[0m\u001b[0;34m.\u001b[0m\u001b[0m_info_axis\u001b[0m\u001b[0;34m.\u001b[0m\u001b[0m_can_hold_identifiers_and_holds_name\u001b[0m\u001b[0;34m(\u001b[0m\u001b[0mname\u001b[0m\u001b[0;34m)\u001b[0m\u001b[0;34m:\u001b[0m\u001b[0;34m\u001b[0m\u001b[0m\n\u001b[1;32m   4375\u001b[0m                 \u001b[0;32mreturn\u001b[0m \u001b[0mself\u001b[0m\u001b[0;34m[\u001b[0m\u001b[0mname\u001b[0m\u001b[0;34m]\u001b[0m\u001b[0;34m\u001b[0m\u001b[0m\n\u001b[0;32m-> 4376\u001b[0;31m             \u001b[0;32mreturn\u001b[0m \u001b[0mobject\u001b[0m\u001b[0;34m.\u001b[0m\u001b[0m__getattribute__\u001b[0m\u001b[0;34m(\u001b[0m\u001b[0mself\u001b[0m\u001b[0;34m,\u001b[0m \u001b[0mname\u001b[0m\u001b[0;34m)\u001b[0m\u001b[0;34m\u001b[0m\u001b[0m\n\u001b[0m\u001b[1;32m   4377\u001b[0m \u001b[0;34m\u001b[0m\u001b[0m\n\u001b[1;32m   4378\u001b[0m     \u001b[0;32mdef\u001b[0m \u001b[0m__setattr__\u001b[0m\u001b[0;34m(\u001b[0m\u001b[0mself\u001b[0m\u001b[0;34m,\u001b[0m \u001b[0mname\u001b[0m\u001b[0;34m,\u001b[0m \u001b[0mvalue\u001b[0m\u001b[0;34m)\u001b[0m\u001b[0;34m:\u001b[0m\u001b[0;34m\u001b[0m\u001b[0m\n",
      "\u001b[0;31mAttributeError\u001b[0m: 'DataFrame' object has no attribute 'aicd'"
     ]
    }
   ],
   "source": [
    "df.aicd.value_counts(dropna = False)"
   ]
  },
  {
   "cell_type": "markdown",
   "metadata": {},
   "source": [
    "## Meds"
   ]
  },
  {
   "cell_type": "markdown",
   "metadata": {},
   "source": [
    "### Ace"
   ]
  },
  {
   "cell_type": "code",
   "execution_count": 131,
   "metadata": {},
   "outputs": [
    {
     "data": {
      "text/plain": [
       "0.0    268\n",
       "1.0    189\n",
       "Name: ace, dtype: int64"
      ]
     },
     "execution_count": 131,
     "metadata": {},
     "output_type": "execute_result"
    }
   ],
   "source": [
    "df.ace.value_counts(dropna = False)"
   ]
  },
  {
   "cell_type": "markdown",
   "metadata": {},
   "source": [
    "### bb"
   ]
  },
  {
   "cell_type": "code",
   "execution_count": 132,
   "metadata": {},
   "outputs": [
    {
     "data": {
      "text/plain": [
       "1.0    326\n",
       "0.0    131\n",
       "Name: bb, dtype: int64"
      ]
     },
     "execution_count": 132,
     "metadata": {},
     "output_type": "execute_result"
    }
   ],
   "source": [
    "df.bb.value_counts(dropna = False)"
   ]
  },
  {
   "cell_type": "markdown",
   "metadata": {},
   "source": [
    "### diuretics"
   ]
  },
  {
   "cell_type": "code",
   "execution_count": 133,
   "metadata": {},
   "outputs": [
    {
     "data": {
      "text/plain": [
       "1.0    295\n",
       "0.0    162\n",
       "Name: diuretics, dtype: int64"
      ]
     },
     "execution_count": 133,
     "metadata": {},
     "output_type": "execute_result"
    }
   ],
   "source": [
    "df.diuretics.value_counts(dropna = False)"
   ]
  },
  {
   "cell_type": "markdown",
   "metadata": {},
   "source": [
    "### anticoagulant"
   ]
  },
  {
   "cell_type": "code",
   "execution_count": 134,
   "metadata": {},
   "outputs": [
    {
     "data": {
      "text/plain": [
       "1.0    338\n",
       "0.0    119\n",
       "Name: anticoagulant, dtype: int64"
      ]
     },
     "execution_count": 134,
     "metadata": {},
     "output_type": "execute_result"
    }
   ],
   "source": [
    "df.anticoagulant.value_counts(dropna = False)"
   ]
  },
  {
   "cell_type": "markdown",
   "metadata": {},
   "source": [
    "### ionotropes"
   ]
  },
  {
   "cell_type": "code",
   "execution_count": 135,
   "metadata": {},
   "outputs": [
    {
     "data": {
      "text/plain": [
       "0.0    417\n",
       "1.0     40\n",
       "Name: ionotropes, dtype: int64"
      ]
     },
     "execution_count": 135,
     "metadata": {},
     "output_type": "execute_result"
    }
   ],
   "source": [
    "df.ionotropes.value_counts(dropna = False)"
   ]
  },
  {
   "cell_type": "markdown",
   "metadata": {},
   "source": [
    "### other cardiac meds"
   ]
  },
  {
   "cell_type": "code",
   "execution_count": 136,
   "metadata": {},
   "outputs": [
    {
     "data": {
      "text/plain": [
       "NaN                                                                                                                                                                    177\n",
       "Atorvastatin 40mg QD                                                                                                                                                    17\n",
       "Atorvastatin 80mg QD                                                                                                                                                    14\n",
       "Amlodipine 5mg QD                                                                                                                                                        8\n",
       "Amlodipine 10mg QD                                                                                                                                                       7\n",
       "Amiodarone 200mg QD                                                                                                                                                      7\n",
       "Atorvastatin 20mg QD                                                                                                                                                     6\n",
       "Simvastatin 20mg QD                                                                                                                                                      6\n",
       "no cardiac meds on the record                                                                                                                                            5\n",
       "Nifedipine 60mg QD                                                                                                                                                       4\n",
       "Simvastatin 10mg QD                                                                                                                                                      4\n",
       "Lipitor 40mg QD                                                                                                                                                          3\n",
       "Nifedipine 90mg QD                                                                                                                                                       3\n",
       "Simvastatin 40mg QD                                                                                                                                                      3\n",
       "Amlodipine 10mg Qd                                                                                                                                                       3\n",
       "Rosuvastatin 5mg QD                                                                                                                                                      2\n",
       "profile is incomplete                                                                                                                                                    2\n",
       "Hydralazine 10mg TID                                                                                                                                                     2\n",
       "Isosorbide mono 30mg QD                                                                                                                                                  2\n",
       "Atorvastatin 40mg QD, Hydralazine 25mg Q8H; Isordil 10mg tid                                                                                                             2\n",
       "Nifedipine 30mg QD                                                                                                                                                       2\n",
       "Atorvastatin 40 mg HS                                                                                                                                                    2\n",
       "Metolazone 5mg 1 tablet (5 mg) by oral route 2 times per week on Monday and Thursday at 6:30 pm (30 minutes after Torsemide)                                             2\n",
       "Atorvastatin 40mg QD, Hydralazine 100mg Q8H, Isosorbide din 30mg *2tab TID                                                                                               2\n",
       "Norvasc 5mg QD                                                                                                                                                           2\n",
       "Cardizem 360mg PO QD; Diamox 250mg PO QD                                                                                                                                 1\n",
       "Digoxin 0.125 mg HS                                                                                                                                                      1\n",
       "Isosorbide mono 30mg QD, Amlodipine 10mg QD                                                                                                                              1\n",
       "Rosuvastatin 20mg QD, Isosorbide mono 60mg QD                                                                                                                            1\n",
       "Hydralazine 25mg Q12H                                                                                                                                                    1\n",
       "                                                                                                                                                                      ... \n",
       "Hydralazine 50 mg Q 8 H, Atorvastatin 40 mg HS                                                                                                                           1\n",
       "Atorvastain 20mg QD, Hydrochlorothiazide 12.5mg QD                                                                                                                       1\n",
       "no orders found on the record                                                                                                                                            1\n",
       "Amlodipine 10mg qd                                                                                                                                                       1\n",
       "Nitroglycerin sublingual 0.4mg PRN, Atorvastatin 40mg QN                                                                                                                 1\n",
       "Hydralazine 50mg TID, Isosorbide mono 30mg QD, Atorvastatin 40mg QD, Amlodipine 10mg QD                                                                                  1\n",
       "Norvasc 10mg QD; Isosorbide dinitrate 10mg  BID, Atorvastatin 40mg QD                                                                                                    1\n",
       "Isosorbide mono 30mg QD, Hydralazine 25mg Q8H,Atorvastatin 40mg QD                                                                                                       1\n",
       "Hydralazine 25mg Q8H, Isosorbide din 20mg TID                                                                                                                            1\n",
       "Hydralazine 50mg TID, Lipitor 10mg QD, Nifedipine 60mg QD                                                                                                                1\n",
       "Hydralazine 100mg Q8H, Nifedipine 60mg*2tab QD, Atorvastatin 20mg QD                                                                                                     1\n",
       "Atorvastain 40mg QD                                                                                                                                                      1\n",
       "Amiodarone 100mg QD, Amlodipine 5mg QD                                                                                                                                   1\n",
       "Lipitor 20 mg HS                                                                                                                                                         1\n",
       "DIGOXIN 0.125 MG QD                                                                                                                                                      1\n",
       "Minoxidil 2.5mg daily, Amlodipine 10mg daily, Nifedipine 90mg daily                                                                                                      1\n",
       "Simvastatin 20mg QD; Potassium Chloride 10 MEQ QD                                                                                                                        1\n",
       "Nitroglycerin Tablet Sublingual 0.3 MG Give 1 tablet sublingually every 5 minutes as needed for chest pain give q 5 minutes x3 for chest pain, Atorvastatin 80mg QD      1\n",
       "Amlodipine 10mg QD, Isosorbide din 10mg TID, Hydralazine 25mg Q8H, Crestor 40mg HS                                                                                       1\n",
       "Hydralazine 25mg Q8H, Simvastatin 20mg QD                                                                                                                                1\n",
       "Amlodipine 5mg Qd                                                                                                                                                        1\n",
       "Amlodipine 5mg QD, Hydrochlorothiazide 12.5mg QD                                                                                                                         1\n",
       "Atorvastatin 40mg HS                                                                                                                                                     1\n",
       "Hydralazine 25mg TID; Isosorbide Mononitrate ER 30mg QD                                                                                                                  1\n",
       "Atorvasatin 80mg QD                                                                                                                                                      1\n",
       "Zocor 10mg QD                                                                                                                                                            1\n",
       "Spronolactone 25mg every other day                                                                                                                                       1\n",
       "Atorvastatin 40mg QD, Hydralazine 25mg TID                                                                                                                               1\n",
       "Simvastatin 20 mg HS, Digoxin 0.125 mg QOD                                                                                                                               1\n",
       "Amlodipine 5mg QD, Rosuvastatin 40mg QD                                                                                                                                  1\n",
       "Name: other_cardiac_meds, Length: 195, dtype: int64"
      ]
     },
     "execution_count": 136,
     "metadata": {},
     "output_type": "execute_result"
    }
   ],
   "source": [
    "df.other_cardiac_meds.value_counts(dropna = False)"
   ]
  },
  {
   "cell_type": "markdown",
   "metadata": {},
   "source": [
    "other cardiac meds column uncleaned?"
   ]
  }
 ],
 "metadata": {
  "kernelspec": {
   "display_name": "Python 3",
   "language": "python",
   "name": "python3"
  },
  "language_info": {
   "codemirror_mode": {
    "name": "ipython",
    "version": 3
   },
   "file_extension": ".py",
   "mimetype": "text/x-python",
   "name": "python",
   "nbconvert_exporter": "python",
   "pygments_lexer": "ipython3",
   "version": "3.7.0"
  }
 },
 "nbformat": 4,
 "nbformat_minor": 2
}

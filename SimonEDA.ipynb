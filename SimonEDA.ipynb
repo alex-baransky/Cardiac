{
 "cells": [
  {
   "cell_type": "markdown",
   "metadata": {},
   "source": [
    "- <a href=\"#acute_or_chronic\">acute_or_chronic</a><br>\n",
    "- <a href=\"#diagnoses\">diagnosis</a><br>\n",
    "- <a href=\"#labs\">Labs</a><br>\n",
    "- <a href=\"#pacemaker\">pacemaker</a><br>\n",
    "- <a href=\"#duration\">duration</a><br>\n",
    "- <a href=\"#\"></a><br>"
   ]
  },
  {
   "cell_type": "markdown",
   "metadata": {},
   "source": [
    "Load the data frame for EDA using %load Pipeline_clean.py"
   ]
  },
  {
   "cell_type": "code",
   "execution_count": 7,
   "metadata": {},
   "outputs": [
    {
     "name": "stdout",
     "output_type": "stream",
     "text": [
      "The autoreload extension is already loaded. To reload it, use:\n",
      "  %reload_ext autoreload\n"
     ]
    }
   ],
   "source": [
    "# %load Pipeline_clean.py\n",
    "%load_ext autoreload\n",
    "%autoreload 2\n",
    "import pandas as pd\n",
    "import numpy as np\n",
    "from data_merge import *\n",
    "from Clean_Fun import *\n",
    "from dtypeFun import *\n",
    "from Meta_fun import *\n",
    "%matplotlib inline\n",
    "import matplotlib.pyplot as plt\n",
    "import seaborn as sns\n",
    "from featureEDAfun import *"
   ]
  },
  {
   "cell_type": "code",
   "execution_count": 37,
   "metadata": {},
   "outputs": [],
   "source": [
    "df=pd.read_csv('Data/after_merge.csv',index_col=0)"
   ]
  },
  {
   "cell_type": "code",
   "execution_count": 38,
   "metadata": {
    "scrolled": true
   },
   "outputs": [
    {
     "name": "stdout",
     "output_type": "stream",
     "text": [
      "EF less than 0 set to None\n",
      "EF less than 0 set to None\n",
      "EF less than 0 set to None\n",
      "EF less than 0 set to None\n",
      "EF less than 0 set to None\n",
      "EF less than 0 set to None\n",
      "EF less than 0 set to None\n",
      "EF less than 0 set to None\n",
      "EF less than 0 set to None\n",
      "EF less than 0 set to None\n",
      "Couldn't extract EF so set to na_val\n",
      "51 (30 -35)\n",
      "Imputing 121.0,242.0 from other column\n",
      "Imputing 90.0,180.0 from other column\n",
      "Imputing 134,80 from Blood Pressure Column\n",
      "Imputing 116,73 from Blood Pressure Column\n",
      "Imputing 134,80 from Blood Pressure Column\n",
      "Imputing 116,73 from Blood Pressure Column\n",
      "num missing 383\n",
      "value counts before zero and one assignment: 0                                                       383\n",
      "lisinopril 5mg qd                                        41\n",
      "none                                                     35\n",
      "lisinopril 2.5mg qd                                      34\n",
      "losartan 50mg qd                                         21\n",
      "lisinopril 10mg qd                                       20\n",
      "losartan 100mg qd                                        19\n",
      "losartan 25mg qd                                         18\n",
      "lisinopril 20mg qd                                       12\n",
      "enalapril 5mg qd                                          8\n",
      "losartan potassium oral tablet 50 mg qd                   7\n",
      "enalapril 10mg qd                                         6\n",
      "enalapril 20mg qd                                         4\n",
      "lisinopril                                                4\n",
      "lisinopril 5mg bid                                        4\n",
      "enalapril maleate oral tablet 5 mg qd                     3\n",
      "losartan potassium oral tablet 50 mg daily                3\n",
      "enalapril 2.5mg qd                                        3\n",
      "lisinopril 2.5 mg qd                                      3\n",
      "lisinopril 5 mg qd                                        2\n",
      "cozaar 100mg qd                                           2\n",
      "enalapril maleate oral tablet 5 mg                        2\n",
      "entresto tablet 24-26 mg (sacubitril-valsartan) bid       2\n",
      "enalapril 5mg bid                                         2\n",
      "enalapril 2.5mg daily                                     2\n",
      "lisinopril 40mg qd                                        2\n",
      "losartan 100 mg qd                                        2\n",
      "losartan potassium oral tablet 25 mg, qd-every day        2\n",
      "lisinopril 5mg q12h                                       2\n",
      "lisinopril oral tablet 10 mg qd                           2\n",
      "                                                       ... \n",
      "lisinopril oral tablet 20 mg qd                           1\n",
      "benicar tablet 20 mg (olmesartan medoxomil) qd            1\n",
      "lorsartan potassium 50mg qd                               1\n",
      "n/a on records                                            1\n",
      "enalapril                                                 1\n",
      "hydralazine 25 tid; imdur 30 qd                           1\n",
      "ramipril 5mg qd d/c'd 2/2 to chronic cough                1\n",
      "enalapril maleate  5 mg qd                                1\n",
      "lisinopril 10 mg qd                                       1\n",
      "lisinopril 5mg*3tab bid hold for bp < 100                 1\n",
      "valsartan 160mg qd                                        1\n",
      "entresto tablet 97-103 mg (sacubitril-valsartan) bid      1\n",
      "lisinopril oral tablet 20 mg                              1\n",
      "enalapril maleate oral tablet 20 mg, bid                  1\n",
      "lisinopril 5 bid                                          1\n",
      "enalapril 10 q12h                                         1\n",
      "lisinopril 2.5mg po daily                                 1\n",
      "lisinopril 5mg                                            1\n",
      "enalapril maleate oral tablet 0.5 mg                      1\n",
      "losartan 25mg +50mg qd                                    1\n",
      "lisinopril oral tablet 20 mg daily                        1\n",
      "enalapril 20mg daily                                      1\n",
      "enalapril 20 mg qd                                        1\n",
      "allergic to ace                                           1\n",
      "enalapril 2.5 mg  qd                                      1\n",
      "losartan potassium oral tablet 50 mg, qd2-every day       1\n",
      "losartan potassium-hctz oral tablet 50-12.5 mg qd         1\n",
      "enalapril 2.5mg q12h                                      1\n",
      "benazepril 40mg bid2; clopidogrel 75mg qd2                1\n",
      "lisinopril oral tablet 5 mg qd                            1\n",
      "Name: ace, Length: 139, dtype: int64\n",
      "zero values: ['none due renal impairment d/c papers', 'none; allergic to lisinopril', 'none', 'allergic to ace', 'none; allergic to lisinopril', 'allergic to ace; \\non arb: 10/23/17 inc. to lorsartan potassium 100mg qd', 'no ace or arb']\n",
      "Values set to 1.0: \n",
      " ['isosorbide dinitrate 5mg q12h', 'quinapril 20mg qd', 'ramipril 2.5mg qd', 'lisinopril 20 mg', 'lisinopril 2.5mg qd', 'enalapril 5 mg qd', 'lisinopril 5mg ds', 'arb-losartan 50mg qd', 'enalipiril', 'lisinopril oral tablet 20 mg daily', 'lisinopril 5mg two times per day', 'lisinopril 5mg - bid', 'losartan 50mg*0.5tab qd', 'lisinopril 5 mg qd,', 'lisinopril oral tablet 2.5 mg qd', 'lisinopril oral tablet 10 mg qd', 'enalapril 2.5mg qd', 'cozaar 50mg qd', 'enalapril 20mg q12h', 'valsartan 320mg qd', 'lisinopril oral tablet 10 mg daily', 'lisinopril oral tablet 2.5 mg daily', 'isosorbide mononitrate 10mg daily', 'coreg 3.125mg q12h', 'lisinopril 10mg bid', 'lisinopril 10 mg qd', 'lisinopril oral tablet 20 mg', 'lisinopril 40mg qd', 'enalapril 5mg qd', 'enalapril maleate oral tablet 20 mg, bid', 'losartan hctz tablet 50-12.5 mg qd', 'lisinopril oral tablet 20 mg qd', 'enalapril maleate oral tablet 5 mg qd', 'entresto tablet 97-103 mg (sacubitril-valsartan) bid', 'lisinopril oral tablet 5 mg qd', 'enalapril 2.5mg daily', 'lisinopril 40mg po daily', 'losartan 25 mg daily', 'losartan potassium oral tablet 50 mg, qd2-every day', 'losartan potassium-hctz oral tablet 50-12.5 mg qd', 'amlodopine 2.5 mg qd', 'benazepril 40mg bid2; clopidogrel 75mg qd2', 'enalapril maleate oral tablet 0.5 mg', 'lisinopril 5 mg qd', 'n/a on records', 'lisinopril oral tablet 5 mg, qd', 'lisinopril 5mg qd', 'enalapril maleate oral tablet 2.5 mg qd', 'lisinopril oral tablet 40 mg', 'amlodipine 5 mg qd, entresto 24-26mg q12', 'lisinopril 5mg qd\\nlosartan 50mg qd', 'losartan 50mg qd', 'lisinopril 20mg q12h', 'enalapril maleate oral tab 10mg bid', 'norvasc 10 mg qd', 'cozaar 100mg qd', 'losartan 100-25 mg qd', 'losartan potassium oral tablet 100 mg daily', 'losartan 25 mg tablet\\nsig: give 1 tablet (25 mg) by oral route once daily', 'lisinopril oral tablet 40 mg daily', 'lorsartan potassium 50mg qd', 'vasotec 10mg qd', 'losartan potassium oral tablet 25 mg, qd-every day', '10/23/17 add lisinopril 5mg qd', 'ramipril 5mg qd', 'enalapril 5mg q12h', 'losartan potassium oral tablet 50mg*2tab  qd', 'enalapril 20mg qd', 'hydralazine 25 tid; imdur 30 qd', 'enalapril 20 mg qd', 'valsartan 160mg qd', 'losartan 50mg', 'hydralazine 100mg q6h', 'lisinopril', 'lisinopril 2.5mg qd  hold if b/p <90/50', 'enalapril maleate oral tablet 10 mg', 'isosorbide mono 30mg qd2', 'losartan potassium oral tablet 25 mg', 'enalapril maleate oral tablet 5 mg', 'lisinopril 20g qd', 'entresto tablet 24-26 mg (sacubitril-valsartan) bid', 'enalapril 2.5mg', 'enalapril maleate oral tablet 20 mg qd', 'losartan potassium oral tablet 50 mg daily', 'lisinopril 20mg qd', 'lisinopril 2.5mg', 'lisinopril oral tablet 5 mg daily', 'entresto 24 mg-26 mg tablet bid', 'losartan 25mg qd', 'enalapril 10mg qd', 'losartan 150mg qd', 'enalapril 10 mg bid', 'lisinopril 10mg qd', 'lisinopril oral tablet 10 mg', 'losartan 100mg qd', 'lisinopril 5mg q12h', 'lisinopril oral tablet 2.5 mg, qd', 'enalapril 2,5mg qd', 'losartan potassium oral tab 100mg qd', 'losartan 100 mg qd', 'enalapril 5mg bid', 'enalapril maleate  5 mg qd', 'enalapril 10 q12h', 'lisinopril 2.5mg po daily', 'cozaar 100mg qd2', 'lisinopril 5mg*3tab bid hold for bp < 100', 'lisinopril 5mg', 'losartan 25mg +50mg qd', 'losartan potassium oral tablet 50 mg qd \"hold if syst bp is <110\"', 'enalapril 2.5 mg  qd', 'lisinopril 5 bid', 'enalapril', 'lisinopril oral tablet 20 mg*2 twice daily', 'lisinopril-hydrochlorothiazide tablet 20-25 mg qd', 'losartan potassium oral tablet 50 mg qd', 'lisinopril tablet 5 mg od', 'benicar tablet 20 mg (olmesartan medoxomil) qd', 'enalapril maleate oral tablet 10 mg, qd', 'verapamil hcl er 180mg qd', 'vasotec 5mg qd', 'enalapril 2.5mg q12h', \"ramipril 5mg qd d/c'd 2/2 to chronic cough\", 'lisinopril 5mg daily', 'lisinopril 40 mg qd', 'enalapril maleate oral tablet 2.5 mg', 'lisinopril 2.5 mg qd,', 'arb: losartan 50mg qd', 'lisinopril 2.5mg od', 'lisinopril 2.5 mg qd', 'lisinopril 5mg bid', 'asdf', 'enalapril 20mg daily']\n",
      "0.0    423\n",
      "1.0    341\n",
      "Name: ace, dtype: int64\n",
      "num missing 194\n",
      "value counts before zero and one assignment: 0                                                                                                                                                       194\n",
      "metoprolol 25mg qd                                                                                                                                       38\n",
      "metoprolol 50mg qd                                                                                                                                       33\n",
      "metoprolol 25mg q12h                                                                                                                                     22\n",
      "none                                                                                                                                                     20\n",
      "metoprolol 100mg qd                                                                                                                                      18\n",
      "metoprolol 50mg q12h                                                                                                                                     17\n",
      "metoprolol 25mg bid                                                                                                                                      13\n",
      "carvedilol 12.5mg q12h                                                                                                                                   10\n",
      "coreg 6.25mg bid                                                                                                                                         10\n",
      "carvedilol 25mg q12h                                                                                                                                     10\n",
      "carvedilol 6.25mg q12h                                                                                                                                    9\n",
      "metoprolol 50mg bid                                                                                                                                       9\n",
      "carvedilol 6.25mg bid                                                                                                                                     8\n",
      "metoprolol 200mg qd                                                                                                                                       8\n",
      "metoprolol 100mg q12h                                                                                                                                     7\n",
      "carvedilol 12.5mg bid                                                                                                                                     7\n",
      "carvedilol 3.125mg bid                                                                                                                                    7\n",
      "labetalol 200mg q12h                                                                                                                                      6\n",
      "carvedilol 25mg bid                                                                                                                                       6\n",
      "carvedilol 3.125mg q12h                                                                                                                                   6\n",
      "metoprolol 25mg *0.5tab q12h                                                                                                                              4\n",
      "atenolol 25mg qd                                                                                                                                          4\n",
      "carvedilol oral tablet 6.25 mg q12h                                                                                                                       4\n",
      "coreg 6.25mg q12h                                                                                                                                         4\n",
      "metoprolol tartrate oral tablet 25 mg bid                                                                                                                 3\n",
      "atenolol 100mg qd                                                                                                                                         3\n",
      "carvedilol oral tablet 6.25 mg bid                                                                                                                        3\n",
      "metoprolol tartrate 25mg q12h                                                                                                                             3\n",
      "metoprolol 50mg q8h                                                                                                                                       3\n",
      "                                                                                                                                                       ... \n",
      "rera                                                                                                                                                      1\n",
      "metoprolol succ er 100mg qd                                                                                                                               1\n",
      "carvedilol 6.25mg two times a day                                                                                                                         1\n",
      "metoprolol 12.5mg qd                                                                                                                                      1\n",
      "metoprolol 75mg qd                                                                                                                                        1\n",
      "atenolol oral tablet 25 mg, qd-every day                                                                                                                  1\n",
      "metoprolol 25mg*2tb q12h                                                                                                                                  1\n",
      "metoprolol tartrate 200mg qd(05292018-06282018)                                                                                                           1\n",
      "labetolol 100mg po q12                                                                                                                                    1\n",
      "metoprolol succinate 25 mg qd                                                                                                                             1\n",
      "metoprolol 12.5 mg q12, coreg 6.25 mg q12,                                                                                                                1\n",
      "metoprolol 50mg  qd                                                                                                                                       1\n",
      "metoprolol 50mg q12h,                                                                                                                                     1\n",
      "metoprolol tartrate oral tablet 100 mg, q12h                                                                                                              1\n",
      "metoprolol succ 100mg qd                                                                                                                                  1\n",
      "metoprolol 50 mg q12h                                                                                                                                     1\n",
      "carvedilol oral tab 25 mg bid                                                                                                                             1\n",
      "metoprolol tartrate 50mg q12h                                                                                                                             1\n",
      "metoprolol 25mg  qd                                                                                                                                       1\n",
      "toprol xl 25mg qd                                                                                                                                         1\n",
      "metoprolol tartrate oral tablet 100 mg bid                                                                                                                1\n",
      "coreg 6.25mg q12,                                                                                                                                         1\n",
      "coreg 3.125 po q12h                                                                                                                                       1\n",
      "metoprolol tartrate oral tablet 50 mg, q8h-every 8 hours  if systolic < 110 then hold medications and call md if hr < 60 hold medication and call md      1\n",
      "metoprolol tartrate oral tablet 50 mg, bid                                                                                                                1\n",
      "bisoprolol d/c'd 11/20/17                                                                                                                                 1\n",
      "metoprolol 25mg*2tab  qd                                                                                                                                  1\n",
      "labetalol 200 mg bid                                                                                                                                      1\n",
      "carvedilol 3.125 mg bid                                                                                                                                   1\n",
      "metoprolol tart 100mg q12h                                                                                                                                1\n",
      "Name: bb, Length: 258, dtype: int64\n",
      "zero values: ['none']\n",
      "Values set to 1.0: \n",
      " ['toprol 50mg qd', 'metoprolol 25mg qd', 'metoprolol succ er 25 mg qd', 'coreg 6.25mg q12h', 'carvedilol 6.25 mg bid', 'toprol 50 qd', 'metoprolol 25 mg*0.5tab qd', 'metoprolol 50mg qd\\ntoprol 25mg qd', 'labetalol 300mg q8h', 'metoprolol  succ er 25mg qd', 'carvedilol12.5mg q12h', 'metoprolol 50mg qd', 'metoprolol 100mg q12h', 'carvedilol 12.5mg *3tab q12h', 'metoprolol 25mg *3tab q12h', 'toprol xl oral tablet extended release 24 hour 25 mg, qd-every day', 'coreg 25 bid', 'metoprolol succinate er  25mg qd', 'carvedilol 6.25 mg bid  hold if bp <90/60', 'labetalol hcl oral tablet 100 mg every 8 hours', 'coreg 25mg q12', 'metoprolol tartrate oral tablet 25mg bid', 'labetalol 200mg tid', 'metoprolol 25mg q12h2', 'metoprolol tartrate oral tablet 25 mg, q12h-every 12 hours', 'labetalol 100mg q12h', 'metoprolol tartrate 50 mg tablet sig: give 1 tablet (50 mg) by oral route every 12 hours', 'metoprolol 100mg qd', 'metoprolol tartrate 25mg *0.5  two times per day', 'metoprolol 100 mg qd', 'atenolol 25mg qd', 'amiodarone 200 mg qd', 'metoprlol 50mg qd', 'metoprolol 25mg *3tab qd', 'metoprolol 75mg q12h', 'carvedilol 12.5mg*0.5tab q12h', 'metoprolol succinate er oral tablet extended release 24 hour 50 mg, qd-every day', 'labetalol', 'coreg 12.5mg bid', 'metoprolol 200 mg qd', 'coreg 6.25 mg*2tab bid', 'metoprolol 25mg q12h', 'metoprolol tartrate oral tablet 100 mg, q12h', 'metoprolol tartrate oral tablet 50 mg, q12h', 'atenolol-chlorthalidone tablet 100-25 mg qd', 'metoprolol 75mg bid', 'metoprolol 25mg *0.5tab two times per day', 'coreg 6.25 mg bid', 'metoprolol tartrate oral tablet 25 mg, bid-twice daily', 'metoprolol succinate er oral tablet extended release 24 hour 25 mg, qd-every day', 'carvedilol 25mg two times per day', 'metoprolol er 50mg qd\\nmetoprolol tartrate 25mg qd\\nsotalolhcl  80mg qd', 'toprol 25mg *0.5tab qd', 'toprol 25 mg qd', 'coreg 3.125mg q12h', 'metoprolol 25mg*2tab q12h', 'metoprolol tartrate oral tablet 25 mg  - bid', 'carvedilol 12.5 mg', 'metoprolol 25mg *0.5tab bid', 'metoprolol tartrate oral tablet 100 mg bid', 'bisoprolol 5 mg qd', 'carvedilol 6.25 mg 1 tablet (6.25 mg) by oral route 2 times per day', 'coreg 3.125mg two times a day', 'cravedilol 25mg q12h\\nmetoprolol 50mg qd', 'metoprolol 50 mg *2tab bid', 'metoprolol 25mg p.o. bid', 'atenolol 25 mg 1 tablet once daily hold for bp < 110/70', 'metoprolol er 50mg qd', 'metoprolol 25mg  q12h', 'metoprolol succ 50mg qd', 'metoprolol 25mg *0.5tab two times a day', 'carvedilol 6.25mgbid', 'carvedilol 6.25mg two times per day', 'metoprolol 100mg po daily', 'carvedilol oral tablet 25 mg bid', 'metoprolol 25mg', 'metoprolol 50mg bid', 'metoprolol succ er 25mg qd', 'coreg 3,125mg bid', 'carvedilol 25mg twice daily', 'labetalol 200mg*2tab tid', 'toprol 100mg +50mg qd', 'metoprolol tartrate oral tablet 25mg qd', 'toprol 25mg qd', 'n/a on records', 'metoprolol tartrate oral tablet 25 mg* 0.5tab, q6h-every 6 hours', 'labetalol 300 mg bid', 'labetalol 300mg twice daily', 'metoprolol 25mg *0.5tab qd', 'metoprolol tartrate oral tab 25mg q12h', 'labetalol 200mg *2tab q12h', 'carvedilol oral tablet 6.25 mg bid', 'metoprolol 25 mg daily', 'metoprolol tartrate oral tablet 25 mg, q12h  if systolic bp less than 100 then hold medication \\n\\nif pulse less than 60 then hold medication', 'metoprolol 100mg  qd', 'bystolic tab 5mg qd', 'metoprolol 25mg  bid', 'labetalol 200mg q12h', 'coreg 3.125mg twice daily', 'metoprolol 50 mg bid,', 'toprol xl 25mg daily', 'metoprolol tartrate oral tablet 50 mg q12 h', 'metoprolol 50 mg\\t q12h hours hold if systolic bp is less than 100 and/or pulse is less than 60', 'labetalol 200mg *2tab bid', 'metoprolol100mg q12h', 'labetalol 200mg *2tab q8h', 'metoprolol 200mg qd', 'coreg cr capsule extended release 24 hour 10 mg (carvedilol phosphate er) qd', 'coreg 3.125 mg bid,', 'labetalol 200mg q8h', 'labetalol hcl oral tablet 200 mg daily', 'metoprolol 50 mg  q12h', 'carvedilol 6.25mg two times a day', 'metoprolol tartrate oral tablet 50 mg, tid hold if systolic below 120 diastolic below 60', 'metoprolol succ er 100mg qd', 'carvedilol 3.125mg q12h', 'coreg 12.5mg q12h', 'metoprolol succinate er oral tablet extended release 24 hour 25 mg', 'rera', 'carvedilol 25mg two times a day', 'carvedilol 12.5 mg bid', 'metoprolol 50mg q8h', 'carvedilol 25mg bid', 'metoprolol', 'cravedilol 25mg q12h', 'metoprolol 25mg*0.5tab qd', 'carvedilol 3.125mg', 'metoprolol 50 mg qd', 'carvedilol 12.5mg bid2', 'carvedilol oral tablet 3.125 mg bid', 'metoprolol 25mg *0.5tab q12h', 'labetalol 200mg bid', 'carvedilol 25mg q12h', 'metoprolol tart 100mg q12h', 'metoprolol 50 twice daily', 'metoprolol  50 mg qd', 'carvedilol oral tablet 3.125 mg', 'carvedilol oral tablet 6.25 mg', 'metoprolol tartrate oral tablet 50 mg tid', 'bystolic 10mg qd', 'metoprolol 25mg  q8h hold if sbp <90 or hr <60', 'metoprolol 25mg po daily', 'metoprolol 12.5mg qd', 'metoprolol tartrate 50mg q12h', 'metoprolol 75mg qd', 'atenolol oral tablet 25 mg, qd-every day', 'metoprolol 25mg q8h', 'metoprolol 25mg  qd', 'carvedilol 3.125 mg bid', 'labetalol 200 mg bid', 'metoprolol 25mg*2tab  qd', \"bisoprolol d/c'd 11/20/17\", 'carvedilol 12.5mg bid', 'coreg 25mg bid', 'metoprolol tartrate oral tablet 50 mg, bid', 'toprol 25mg*0.5tab qd', 'coreg 3.125 po q12h', 'coreg 6.25mg q12,', 'atenolol oral tablet 50 mg, qd-every day', 'metoprolol tartrate oral tablet 50 mg, q8h-every 8 hours  if systolic < 110 then hold medications and call md if hr < 60 hold medication and call md', 'toprol xl 25mg qd', 'metoprolol tartrate oral tablet 25 mg', 'metoprolol 25mg*2tb q12h', 'carvedilol oral tab 25 mg bid', 'metoprolol 50 mg q12h', 'labetalol 300 mg q 8 h,', 'metoprolol succ 100mg qd', 'metoprolol 50mg q12h,', 'metoprolol 50mg  qd', 'metoprolol 12.5 mg q12, coreg 6.25 mg q12,', 'metoprolol succ 25mg qd', 'metoprolol succinate 25 mg qd', 'labetolol 100mg po q12', 'carvedilol 6.25mg q12h', 'carvedilol 3.125mg bid', 'metoprlol 25mg qd', 'metoprolol 100mg two times per day', 'metoprolol 200mg q12h', 'metoprolol 100mg q8h', 'metoprolol tartrate 200mg qd(05292018-06282018)', 'carvedilol 6.25mg bid2', 'carvedilol', 'bisoprolol 5mg qd', 'metoprolol succinate er 100 mg  once daily  hold for hr <60, bp < 100 systolic and notify md/np', 'toprol xl 12.5mg qd', 'coreg 25mg q12h', 'metoprolol er 100mg qd', 'metoprolol 50mg+25mg qd', 'carvedilol 3.125mg 2x', 'toprol 25 mg daily', 'metoprolol succ 25 mg daily', 'metoprolol 25mg bid', 'metoprolol tartrate oral tab 100mg q12h', 'carvedilol oral tablet 6.25 mg q12h', 'metoprolol tartrate 25mg *0.5tabqd', 'atenolol oral tablet 100 mg daily', 'metoprolol er 50 mg qd', 'carvedilol 12.5 mg 1 tablet (12.5 mg) by oral route every 12 hours', 'metoprolol 25 mg bid', 'metoprolol tartrate 25mg q12h', 'metoprolol tartrate 25 mg two times per day', 'atenolol 50mg ds', 'metoprolol succinate 25mg qd', 'metoprolol 50 mg bid', 'labetolol 200mg bid', 'carvedilol oral tablet 12.5 mg', 'metoprolol 25mg *1.5tab bid', 'coreg 6.25mg bid', 'metoprolol succ er 50 mg qd', 'metoprolol tartrate 25mg  q12h', 'carvedilol 6.25mg q8h', 'coreg 3.125mg bid', 'carvedilol 25mg*0.5tab bid', 'metoprolol succinate er oral tablet extended release 24 hour 100 mg daily', 'metoprolol tartrate oral tablet 25 mg bid', 'atenolol 100mg qd', 'metoprolol 25mg q12 h', 'labetalol 100mg q8h', 'atenolol 25mg po daily', 'metoprolol 100mg + 25mg qd', 'metoprolol 50mg q12h', 'toprol xl 50mg qd', 'metoprolol  25mg q12h', 'metoprolol 100mg bid', 'coreg 3.125mg qd', 'carvedilol oral tablet 3.125 mg every 12 hours', 'labetalol 300mg q12h', 'carvedilol 12.5mg q12h', 'metoprolol succ er 50 mg q12h', 'metoprolol succinate er oral tablet extended release 24 hour 50 mg qd', 'metoprolol tartrate oral tablet 50 mg', 'carvedilol 3.125mg*0.5tab q12h  hold if b/p <100/60, pulse <60', 'coreg 6.25mg qd', 'coreg 3.125 mg bid', 'metoprolol 25 mg q12h', 'carvedilol oral tablet 25 mg every 12 hours', 'labetalol 200 mg q12hrs', 'carvedilol 12.5 mg two times per day', 'carvedilol 6.25mg qd', 'metoprolol tartrate 25mg bid', 'lopressor 50mg q12h', 'metoprolol tartrate oral tab 75mg bid', 'carvedilol oral tablet 6.25 mg, 0.5 tablets twice daily', 'metoprolol 50mg', 'coreg 6.25 bid', 'metoprolol succ er  25 mg qd', 'toprol 100mg qd', 'metoprolol tartrate oral tablet 25 mg 3 tablets every 12 hours', 'carvedilol 6.25mg bid', 'carvedilol 3.125mg qd, metoprolol tart 50mg q12h', 'atenolol oral tablet 25 mg 0.5 tablet qd', 'carvedilol 3.125 mg q12h', 'metoprolol 25 mg er qd,', 'metoprolol succinate er oral tablet extended release 24 hour 25 mg qd', 'carvedlol 12.5mg q12h']\n",
      "1.0    547\n",
      "0.0    217\n",
      "Name: bb, dtype: int64\n",
      "num missing 251\n",
      "value counts before zero and one assignment: 0                                                                                   251\n",
      "lasix 40mg qd                                                                        45\n",
      "furosemide 40mg qd                                                                   38\n",
      "furosemide 20mg qd                                                                   36\n",
      "lasix 20mg qd                                                                        34\n",
      "none                                                                                 19\n",
      "furosemide 40mg bid                                                                  15\n",
      "furosemide 80mg qd                                                                   10\n",
      "lasix 40mg bid                                                                        8\n",
      "torsemide 20mg qd                                                                     7\n",
      "furosemide oral tablet 40 mg qd                                                       7\n",
      "furosemide 20mg bid                                                                   6\n",
      "furosemide 80mg bid                                                                   5\n",
      "furosemide oral tablet 20 mg                                                          4\n",
      "spironolactone 25mg qd                                                                4\n",
      "furosemide 40mg q12h                                                                  4\n",
      "furosemide oral tablet 20 mg, qd                                                      4\n",
      "lasix                                                                                 3\n",
      "bumetanide 2mg qd                                                                     3\n",
      "lasix 40 mg qd                                                                        3\n",
      "furosemide 60mg qd                                                                    3\n",
      "spironolactone 25mg qd\\nfurosemide 40mg qd                                            3\n",
      "torsemide 20mg *2tab qd                                                               3\n",
      "0                                                                                     3\n",
      "lasix 80mg bid                                                                        2\n",
      "torsemide 40mg qd                                                                     2\n",
      "furosemide oral tablet 20 mg, qd-every day                                            2\n",
      "furosemide 20 mg qd                                                                   2\n",
      "lasix 20mg qd\\nspironolactone 25mg qd                                                 2\n",
      "lasix 80mg qd                                                                         2\n",
      "                                                                                   ... \n",
      "lasix oral tablet 40 mg q12 h                                                         1\n",
      "spironolactone 25mg qd\\nfurosemide 80mg qd  2 times per week monday and thrusday      1\n",
      "furosemide 80mg q8h                                                                   1\n",
      "bumetanide 1mg  two times per day\\nmetolazone 5mg qd                                  1\n",
      "lasix oral tablet 40 mg, qd                                                           1\n",
      "furosemide 80mg qd\\nmetolazone 5 mg qd                                                1\n",
      "furosemide 80mg bid\\nspironolactone 50mg qd                                           1\n",
      "furosemide oral tablet 40 mg                                                          1\n",
      "cdre                                                                                  1\n",
      "spironolactone 25mg *0.5tab qd                                                        1\n",
      "spironolactone 25mg qd furosemide 20mg qd                                             1\n",
      "lasix 40mg qd\\nquinapril 5mg qd                                                       1\n",
      "furosemide 20mg*3tab  qd\\nbumetanide 2mg qd                                           1\n",
      "spironolactone 25mg*0.5tab qd\\nfurosemide 40mg qd                                     1\n",
      "lasix 60mg bid                                                                        1\n",
      "furosemide oral tablet 20 mg qd\\nspironolactone 25mg qd                               1\n",
      "spironolactone 25mg qd\\ntorsemide 60mg qd                                             1\n",
      "torsemide 80mg qd                                                                     1\n",
      "indapamide 1.25 mg qd\\nlasix 20mg qd                                                  1\n",
      "lasix 20 qd                                                                           1\n",
      "spironolactone 25mg bid\\nlasix 20mg qd                                                1\n",
      "lasix 40mg *1.5tab qd\\nspironolactone 25mg*0.5tab qd                                  1\n",
      "spironolactone 25mg qd\\nlasix 40mg q48h                                               1\n",
      "eliquis                                                                               1\n",
      "bumex 1 mg qd                                                                         1\n",
      "lasix 20mg qd (06092018-06112018)                                                     1\n",
      "furosemide oral tablet 40 mg, qd                                                      1\n",
      "furosemide  40 mg q12h                                                                1\n",
      "lasix 80 mg qd, metolazone 2.5 mg qd                                                  1\n",
      "lasix 60mg qd; aldactone 25mg qd                                                      1\n",
      "Name: diuretics, Length: 245, dtype: int64\n",
      "zero values: ['lasix 40mg qd; eplerenone 25mg qd\\nspironolactone 25mg qd', 'none']\n",
      "Values set to 1.0: \n",
      " ['furosemide 40mg *1.5tab q12h', 'hctz 50mg qd', 'furosemide oral tablet 20 mg, qd', 'lasix 40 mg q 12', 'sildenafil 20 mg q 8h,', 'furosemide 40mg*1.5tab 3 times per week', 'lasix 40mg bid (06232018-06262018)\\nlasix 40mg qd(since 06262018)', 'quinapril 20mg qd', 'torsemide 20mg *2tab qd\\nmetolazone 5mg q48h', 'lasix 40 mg qd spironolactone 25mg qd', 'lasix 40mg q48h', 'lasix 40mg qd \\nspironolactone 25mg qd', 'bumetanide 0.5mg q2d', 'eliquis', 'furosemide 20mg *2tab qd', 'lasix 20 qd', 'lasix 40mg qd; aldactone 50mg qd', 'torsemide 20mg*2tab qd', 'lasix oral tablet 40 mg qd', 'torsemide 60mg qd\\nspironolactone 25mg qd', 'spironolactone  25mg qd', 'furosemide 20mg daily, special instructions:hold for sbp <100*** ▼', 'lasix 40mg qd', 'torsemide 80mg qd\\ntorsemide 20mg qd ( until 09/05)\\nspironlactone 25mg qd', 'furosemide 40mg qd\\nspirinolactone 25mg*0.5tab qd', 'lasix 20mg bid', 'lasix 40mg qd\\nspironolactone 25mg *0.5tab qd', 'furosemide 40mg qd\\nspironolactine 25mg *0.5tab qd', 'furosemide 20mg*3tab qd', 'furosemide 20 mg qd\\nspironolactone 25mg qd', 'furosemide 20mg every other day hold if bp less than ,100/60', 'furosemide tab 40mg bid', 'furosemide oral tablet 20 mg, mg, qd-every day', 'lasix 40mg *2tab qd', 'lasix oral tab 20mg bid', 'furosemide oral tablet 80 mg qd\\n11/18/17 zaroxolyn 5mg 1/2hr before lasix x 5days', 'spironolactone 25mg*0.5tabqd', 'lasix 40 mg qd', 'torsemide 40mg po daily', 'torsemide 100mg bid', 'lasix 40mg daily', 'lasix 60 mg bid', 'furosemide 20mg bid', 'metolazone 2.5mg qd\\nspironolactone 50mg qd\\ntorsemide 20mg *2tab bid', 'bumetanide 2mg qd', 'furosemid 20mg qd\\nlasix 20mg qd', 'lasix 40mg po daily', 'lasix 20mg qd\\naldactone 25mg q48h\\nmetolazone 2.5mg q48h', 'lasix 20mg qd(until 08/05)\\nfurosemide 40mg qd', 'lasix 80mg bid', 'furosemide 80mg qd every tue, thu, sat', 'lasix oral tablet 40 mg', 'furosemide 20mg and spironolactone 25mg daily', 'lasix 40mg qd\\nlasix 20mg qd( untill 0905)', 'lasix 20 mg qd', 'furosemide 20 mg qd', 'lasix 80mg qd\\naldactone 50mg qd', 'lasix 20 mg every 12 hours', 'spironolactone 25mg qd', 'torsemide 20mg q12h', 'furosemide 60mg qd\\nfurosemide 80mg qd', 'furosemide 40mg  qd\\nspironolactone 25mg qd', 'spironolactone 50mg qd', 'furosemide 40mg 2x', 'lasix 40mg bid', 'n/a on records', 'spironolactone 100mg bid \\nlasix 40mg bid', 'lasix 20mg qd\\nspironolactone 50mg qd', 'furosemide 20mg *3tabqd\\nspirinolactone 25mg *0.5tab qd', 'bumetanide tab 2mg bid', 'lasix 20mg qd\\nlasix 40mg qd', 'furosemide 40mg *0.5tab qd', 'spirolactone 25mg qd', 'furosemide solution 40 mg/4ml - 20mg qd', 'lasix 20mg qg', 'lasix 40mg qd\\nspironolactone 25mg every other day', 'lasix 20mg *2tb qd', 'lasix 40mg q12h(until 05242018)\\nlasin 20mg qd(on hold)', 'bumex 1mg', 'bumetanide 2mg q12h', 'furosemide 40mg qd', 'bumetanide 1 mg, spironolactone 25 mg', 'torsemide 100mg qd', 'lasix 40mg', 'furosemide oral tablet 60 mg qd', 'furosemide 40mg qd\\nspironolactone 25mg bid', 'metolazone 2.5mg qd  every mon, thu\\ntorsemide 20mg*2 tab qd with breakfast', 'furosemide 20mg +40mg qd', 'furosemide 40 mg tablet\\nsig: give 1 tablet (40 mg) by oral route once daily', 'lasix oral tablet 40 mg, qd', 'metolazone 5mg bid\\nlasix 40mg qd', 'furosemide oral tablet 40 mg qd', 'spironolactone 25mg qd\\nclopidogrel 75mg qd', 'furosemide 20mg qd', 'torsemide 20mg qd', 'lasix 20 mg every other day', 'furosemide 80mg 1x', 'bumetanide 1mg  two times per day\\nmetolazone 5mg qd', 'furosemide 40mg qd\\nspironolactone 25mg qd', 'spironolactone 25mg qd\\nfurosemide 80mg qd  2 times per week monday and thrusday', 'lasix oral tablet 40 mg q12 h', 'lasix oral tablet 60 mg qd\\nspirinolactone 12.5mg qd\\n10/11/17 diuril 250mg orally added x 4 days', 'lasix 40mg qd2', 'torsemide 20mg qd\\nspironolactone 25mg qd', 'furosemide oral tablet 40 mg qd\\nspironolactone 25 mg qd', 'furosemide 80mg bid', 'lasix 20mg twice daily', 'aldactone 25mg *0.5tab qd', 'lasix 20 mg qd,', 'spironolactone 25mg qd\\ntorsemide 100mg qd', 'furosemide', 'lasix 20mg  bid', 'bumex 1mg bid', 'furosemide 20mg*3tab  3x per week on non-dialysis day mwf', 'bumetanide 1 mg*3tb qd', 'lasix 80mg po bid', 'lasix 80mg bid, aldactone 25mg qd, acetazolamide 250mg bid.', 'lasix 60mg qd; aldactone 25mg qd', 'furosemide 80mg bid\\nspironolactone 50mg qd', 'furosemide oral tablet 40 mg', 'bumetanide 3 mg qd,', 'lasix 80 mg qd, metolazone 2.5 mg qd', 'furosemide oral tablet 20 mg daily', 'furosemide oral tablet 40 mg, qd', 'lasix 20mg qd (06092018-06112018)', 'bumex 1 mg qd', 'lasix 40mg *1.5tab qd\\nspironolactone 25mg*0.5tab qd', 'spironolactone 25mg bid\\nlasix 20mg qd', 'indapamide 1.25 mg qd\\nlasix 20mg qd', 'lasix oral tablet 40 mg, hs', 'cdre', 'lasix 80mg bid\\naldactone 25mg *0.5tab qd\\nmetolazone 2.5mg qd every m/w/f', 'torsemide 80mg qd', 'lasix 20mg qd', 'furosemide oral tablet 20 mg qd\\nspironolactone 25mg qd', 'lasix 60mg bid', 'spironolactone 25mg*0.5tab qd\\nfurosemide 40mg qd', 'lasix 80mg qd', 'bumetadine 1mg qd', 'lasix 20mg qd\\nspironolactone 25mg qd', 'edecrin oral tab 25mg qd', 'lasix', 'spironolactone 25mg qd furosemide 20mg qd', 'furosemide 20mg two times a day', 'furosemide 40mg qd\\nlasix 40mg qd (untill 08/03)', 'spironolactone 25mg qd\\nfurosemide 40mg qd', 'lasix tablet 20 mg (furosemide) qd', 'furosemide oral tablet 20 mg, qd-every day', 'reduce bumex to 2mg daily and hold spironolactone, touch base on 8/4 with labs', 'furosemide 20mg  every other day', 'bumetanide 2 mg 1 tablet (2 mg) by oral route 2 times per day', 'torsemide 80mg qd\\nmetolazone 2.5mg qd', 'lasix 20mg qd\\nfurosemide 40mg qd', 'metolazone 5mg qd  \\nfurosemide 40mg bid', 'furosemide 60mg qd', 'metolazone 5mg qd', 'lasix 20mg *3tab bid', 'furosemide 80 mg bid', 'lasix 20mg daily', 'lasix 40mg*3tab  qd', 'furosemide 80 mg every 12 hours', 'furosemide 40mg tid', 'bumetanide 2mg bid', 'furosemide 20mg*3tab  qd', 'metolazone 2.5mg  in the morning every 2 day(s)', 'lasix 40mg qd\\naldactone 25mg*0.5tab qd', 'metolazone 2.5mg po q48hrs\\nbumetanide 1mg *3tab bid', 'lasix 40mg bid2', 'furosemide 40 mg', 'lasix oral tablet 20 mg qd', 'spironolactone 25mg qd\\nfurosemide 20mg qd', 'lasix 40mg qd\\nspironolactone 100mg qd', 'bumetanide 1mg bid', 'bumetanide oral tab 2mg qd', 'furosemide 20mg qd hold if bp is less than 90/60', 'furosemide 40 mg tablet sig: give 1 tablet (40 mg) by oral route 2 times per day', 'lasix 40mg*1.5tab bid', 'lasix 20mg qd2', 'lasix 40mg daily (spironolactone ended 08/13/17)', 'spironolactone 25 mg*0.5tab qd', 'bumetanide 1mg qd', 'lasix40 mg qd', 'furosemide oral tablet 40 mg, qd-every day', 'torsemide 40mg qd', 'furosemide oral tablet 40 mg bid', 'torsemide 20mg *4tab bid', 'lasix 20 mg*2tab qd', 'spironolactone 25mg qd- on hold x 7 days', 'spironolactone 25mg*2tab qd\\ntorsemide 100mg 0.5tab bid', 'metolazone 2.5mg qd', 'spironolactone 25mg *0.5tab qd\\nfurosemide 80mg qd', 'lasix 60mg qd', 'furosemide 40mg qd\\nfurosemide 80mg qd', 'lasix oral tablet 60 mg bid', 'furosemide 20mg *3tab qd', 'spironolactone 25mg *0.5tab qd', 'furosemide oral tablet 20 mg, qd-daily', 'furosemide 40mg q12h', 'furosemide tab 20mg qd', 'lasix 20mg hs', 'lasix 20mg qd\\naldactone 25mg qd', 'furosemide 80mg qd', 'lasix 80mg qd\\nmetolazone 2.5mg every other day', 'torsemide 100 mg  two times per day', 'lasix 80 mg bid\\naldactone 25mg qd', 'furosemide 40mg qd\\nfurosemide 40mg qd (untill 05142018)', 'lasix 40mg qd\\nquinapril 5mg qd', 'metolazone 2.5mg daily', 'lasix 40mg qd\\naldactone 50mg qd', 'furosemide 20mg*3tab  qd\\nbumetanide 2mg qd', 'spironolactone 25mg qd\\nlasix 40mg q48h', 'furosemide  40 mg q12h', 'torsemide 20mg *2tab qd', 'furosemide oral tablet 40 mg, qd2 - every day', 'furosemide 40 mg qd', 'metolazone 5mg  tiw\\naldactone 25mg  tiw\\nlasix 40mg  bid', 'furosemide 80mg q8h', 'spironolactone 25mg qd\\ntorsemide 60mg qd', 'furosemide oral tablet 20 mg qd', 'metolazone 2.5mg qd\\ntorsemide 10mg *3tab bid', 'torsemide 100mg q12h', 'furosemide oral tablet 20 mg', 'furosemide 40mg qd hold if bp <90/50', 'lasix 20mg *2tab bid', 'furosemide 40 mg 2 times per day', 'furosemide 80mg qd\\nfurosemide 20mg hs', 'bumetadine 1mg +0.5mg qd', 'bumex 1mg qd', 'lasix 40mgbid and zaroxolyn 2.5mg od', 'metolazone 2.5mg bid\\nspironolactone 25mg qd', 'spironolactone 25mg q48h\\nlasix 20mg q48h', 'spironolactone 25mg*0.5tab qd\\nfurosemide 20mg qd', 'furosemide 40mg qd\\nlasix 40mg qd for 5 days(starting 05202018)', 'lasix 40mg p.o. daily', 'furosemide 40mg bid', 'spironolactone 25mg qd; bumetadine 2mg bid; metolazone 2.5mg tid2', 'furosemide 40mg+20mg qd', 'lasix 20 mg qd2', 'lasix oral tab 40mg qd', 'furosemide 80mg qd\\nmetolazone 5 mg qd', 'bumex 2mg bid']\n",
      "1.0    490\n",
      "0.0    274\n",
      "Name: diuretics, dtype: int64\n",
      "num missing 167\n",
      "value counts before zero and one assignment: 0                                                                                                                                167\n",
      "aspirin 81mg qd                                                                                                                  128\n",
      "aspirin 81 mg qd                                                                                                                  22\n",
      "none                                                                                                                              18\n",
      "aspirin 81mg qd\\nclopidogrel 75mg qd                                                                                              16\n",
      "eliquis 5mg q12h                                                                                                                  14\n",
      "eliquis 2.5mg q12h                                                                                                                13\n",
      "aspirin 81mg qd\\nplavix 75mg qd                                                                                                   12\n",
      "clopidogrel 75mg qd\\naspirin 81mg qd                                                                                               9\n",
      "xarelto 20mg qd                                                                                                                    7\n",
      "clopidogrel 75mg qd                                                                                                                7\n",
      "xarelto 15mg qd                                                                                                                    7\n",
      "plavix 75mg qd\\naspirin 81mg qd                                                                                                    6\n",
      "eliquis 2.5mg bid                                                                                                                  6\n",
      "heparin sodium (porcine) solution 5000 unit/ml q12h                                                                                5\n",
      "aspirin 81 mg daily                                                                                                                4\n",
      "eliquis 5mg bid                                                                                                                    4\n",
      "asa 81mg qd                                                                                                                        4\n",
      "eliquis 2.5mg q12h\\naspirin 81mg qd                                                                                                4\n",
      "aspirin 325mg qd                                                                                                                   4\n",
      "plavix 75mg qd                                                                                                                     4\n",
      "pradaxa 150mg q12h                                                                                                                 3\n",
      "eliquis 2.5mg twice daily                                                                                                          3\n",
      "xarelto 20mg qd\\naspirin 81mg qd                                                                                                   3\n",
      "asa 81 mg qd                                                                                                                       3\n",
      "0                                                                                                                                  3\n",
      "coumadin 3mg qd                                                                                                                    3\n",
      "aspirin low strength oral tablet chewable 81 mg, qd-daily                                                                          3\n",
      "coumadin 7.5mg qd                                                                                                                  3\n",
      "aspirin 81 mg                                                                                                                      3\n",
      "                                                                                                                                ... \n",
      "love of 40mg daily                                                                                                                 1\n",
      "eliquis 2.5 mg bid                                                                                                                 1\n",
      "xarelto 20mg hs                                                                                                                    1\n",
      "brilinta 90mg bid                                                                                                                  1\n",
      "none, hx. paf/a-fib not on ac, w/he of frequent nose bleed, required prbc x 2 within 2 weeks, upper gi bleed, allergic to asa      1\n",
      "asa 81 mg qd, plavix 75 mg qd                                                                                                      1\n",
      "aspirin 81mg qd\\napixaban 2.5mg q12h                                                                                               1\n",
      "aspirin 81 mg tablet,delayed release sig: give 1 tablet (81 mg) by oral route once daily                                           1\n",
      "aspirin 81mg every mon, wed, fr                                                                                                    1\n",
      "aspirin 81mg q12h                                                                                                                  1\n",
      "eliquis 5mg q12h; aspirin 81mg qd                                                                                                  1\n",
      "heparine injection 5000                                                                                                            1\n",
      "aspirin 325mg                                                                                                                      1\n",
      "eliquis 5mg bid\\naspirin 81mg qd                                                                                                   1\n",
      "eliquis 5mg q12h2                                                                                                                  1\n",
      "aspirin chewable 81mg qd, apixaban 5 mg q12h                                                                                       1\n",
      "eliquis 2.5 mg q12, aspirin 81 mg qd                                                                                               1\n",
      "xarelto 20mg qd\\naspirinin 81mg qd                                                                                                 1\n",
      "aggrenox capsule extended release 12 hour 25-200 mg (aspirin-dipyridamole er) qd                                                   1\n",
      "aspirin 81 mg 1x                                                                                                                   1\n",
      "aspirin 325mg qd\\nclopidogrel 75mg qd\\napixaban 5mg q12h                                                                           1\n",
      "aspirin 81mg qd\\napixaban 2.5mg bid                                                                                                1\n",
      "furosemide oral tablet 20 mg, qd-every day                                                                                         1\n",
      "aspirin 81mg qd\\nwarfarin 4mg qd                                                                                                   1\n",
      "warfarin 2+2.5mg qd                                                                                                                1\n",
      "heparin sodium (porcine) solution 5000 unit/ml q8h\\naspirin 81mg qd\\nplavix 75mg qd                                                1\n",
      "warfarin 7.5mg qd\\naspirin 81mg qd                                                                                                 1\n",
      "clopidogrel tab 75mg q48h\\naspirin 81mg q2d\\n\\nother cardiac meds: isosorbide mononitrate er 30mg qd.                              1\n",
      "aspirin 81 mg 1 tablet (81 mg) by oral route once daily; eliquis 5 mg 1 tablet (5 mg) by oral route 2 times per day                1\n",
      "aspirin 81 mg qd, xarelto 20 mg hs                                                                                                 1\n",
      "Name: anticoagulant, Length: 282, dtype: int64\n",
      "zero values: ['none, hx. paf/a-fib not on ac, w/he of frequent nose bleed, required prbc x 2 within 2 weeks, upper gi bleed, allergic to asa', 'none\\nother cardiac meds: digoxin 0.25mg daily; amiodarone 100mg qd; isosorbide 10mg q8h;', 'none', 'none, hx. paf/a-fib not on ac, w/he of frequent nose bleed, required prbc x 2 within 2 weeks, upper gi bleed, allergic to asa']\n",
      "Values set to 1.0: \n",
      " ['aspirin 81mg qd\\ncoumadin 2.5+1mg qd', 'coumadin 6mg', 'aspirin ec low dose  81mg qd\\nxarelto 15mg qd', 'xarelto 20 mg hs', 'aspirin low dose oral tablet 81 mg', 'coumadin 8 mg hs, aspirin 81 mg qd', 'oncologist rec. to d/c eliquis; asa 81mg qd', 'enoxaparin sodium solution 40 mg/0.4ml inject 40 milligram subcutaneously qd', 'eliquis tab 5mg bid', 'clopidogrel 75mg qd\\ncoumadin oral tab 2.5 mg+1mg  hs', 'aspirin 325 mg daily and clopidogrel 75 mg daily', 'aspirin 81mg qd2', 'coumadin 6mg qd+ 1mg', 'clopidogrel 75mg qd\\neliquis 5mg bid', 'aspirin low dose oral tablet 81 mg qd\\nheparin sodium (porcine) solution 5000 unit/ml q12h', 'coumadin oral tab 2.5 mg hs', 'hvav', 'warfarin 2mg qd\\nwarfarin 2mg every week on sunday am', 'eliquis 2.5mg bid', 'pradaxa 150mg bid', 'aspirin low dose oral tablet 81 mg, qd-every day\\nplavix 75mg qd', 'aspirin 81mg qd\\nheparin sodium injection solution 5000unit/ml hs', 'eliquis 5 mg q12h', 'brillinta 90mg q12h\\naspirin 81mg qd', 'eliquis 5mg bid aspirin 81mg qd', 'eliquis oral tab 2.5 mg q12h', 'clopidogrel 75mg daily and aspirin 81 mg 1 tablet (81 mg) by oral route once daily', 'aspirin ec 81mg qd\\nclopidogrel 75mg qd', 'plavix 75mg qd;  warfarin 3mg hs', 'coumadin 1mg qd', 'aspirin 81 mg qd\\nclopidogrel 75 mg qd', 'aspirin 81mg qd and clopidogrel 75mg qd', 'aspirin low dose oral tablet 81 mg, qd\\neliquis 5mg bid', 'brilinta 60mg bid\\naspirin 81mg *2tab qd', 'eliquis 2.5mg twice daily', 'aspirin 81mg qd, apixaban 5mg q12h', 'warfarin 6mg hs', 'coumadin 2.5mg hs', 'aspirin ec low dose oral tablet delayed release 81 mg, ds', 'eliquis 2.5mg two times a day', 'eliquis 2.5mg bid\\naspirin 81mg qd', 'heparin sodium (porcine) injection solution 5000 unit/ml, qd - every day\\naspirin low strength oral tablet chewable 81 mg, qd - every day', 'clopidogrel 75mg qd\\nwarfarin 10mg hs\\naspirin 81mg qd', 'eliquis 2.5mg q12h\\naspirin 81 mg qd', 'aspirin 81mg qd\\nwarfarin 2mg qd', 'aspirin oral tab chewable 81mg qd\\neliquis oral tab 2.5mg bid', 'asa 81mg daily', 'plavix 75mg qd\\nxarelto 15mg qd', 'aspirin low strength oral tablet chewable 81 mg - qd-every day', 'plavix 75mg po daily\\naspirin 81mg po daily', 'coumadin 2.5+3mg qd\\naspirin 81mg qd', 'xarelto 20mg qd\\naspirin 81mg qd', 'brilinta 90mg twice daily\\naspirin 81mg qd', 'aspirin 81mg qd; plavix 75mg qd', 'eliquis 5mg q12h', 'aspirin 81mg patch daily chewing tablet vs. patch for lower back (verify records in emr, please ms)', 'coumadin 6mg qd', 'aspirin 81mg qd\\ncoumadin 1mg+6mg qd', 'plavix 75mg; aspirin 81mg qd', 'warfarin 7.5mg hs', 'aspirin  ec low dose 81mg qd\\nwarfarin 6mg hs- bedtime', 'eliquis 2.5 mg q12, asa 81mg qd', 'warfarin 3mg qd\\naspirin 81mg qd', 'warfarin 10mg qd\\naspirin 81mg qd', 'bumetanide 2mg qd', 'aspirin 81mg qd\\nbrilinta 90mg q12h', 'aspirin 81mg qd\\nplavix 75mg qd', 'aspirin 81mg qd\\ncoumadin  3mg hs- bedtime', 'asa 81mgod and plavix 75mg od', 'plavix oral tablet 75 mg\\naspirin 81mg qd', 'aspirin 81 mg qd  \\ncoumadine  3mg hs', 'aspirin 81mg qd, ticagrelor 90mg q12h', 'heparin sodium (porcine) solution 5000 unit/ml q8h\\naspirin 81mg qd\\nplavix 75mg qd', 'aspirin 81mg bid', 'coumadin 7.5 mg hs', 'heparin 5000ml/unit q12h', 'eliquis 5mg q12h2', 'aspir 81 mg daily', 'asa 81 mg qd, eliqius 2.5 mg bid', 'aspirin 81 mg, qd\\nplavix 75mg qd', 'eliquis 2.5 mg qd', 'eliquis 2.5mg q12h\\nclopidogrel 75mg qd', 'aspirin 81 mg 7/31/17 daily', 'plavix 75mg qd', 'coumadin 2.5+5mg qd', 'aspirin ec low dose oral tablet delayed release 81 mg, qd-daily', 'aspirin ec low dose oral tablet delayed release 81 mg, qd-every day', 'aspirin 81mg daily', 'aspirin 81mg  qd\\nxarelto 10mg qd', 'aspirin oral tablet chewable 81 mg, qd-every day', 'eliquis 5mg q12h\\naspirin 81mg qd', 'aspirin 81mg qd\\nclopidogrel 75mg qd', 'n/a on records', 'xarelto 20mg daily', 'eliquis 5mg bid\\nclopidogrel 75mg qd', 'coumadin 3mg qd', 'aspir-low tab 81mg qd', 'aspirin oral tablet chewable 81 mg, qd-every day\\neliquis 2.5mg q12h', 'asa', 'aspirin 81mg qd\\nclopidogrel tab 75mg qd', 'plavix oral tab 75 mg qd\\nxarelto 15mg qd', 'aspirin 81mg qd\\nheparin sodium (porcine) solution 5000 unit/ml q12h', 'aspirin 81mg qd\\nxarelto 20mg qd', 'coumadin 4mg hs', 'coumadin 2.5mg+1mg qd', 'coumadin oral tablet 5 mg- hs', 'plavix 75mg qd; aspirin 81mg qd', 'aspirin 81 mg daily\\nwarfarin 6 mg', 'plavix oral tablet 75mg qd', 'clopidogrel 75 mg daily', 'warfarin 6mg  qd\\naspirin 81mg qd', 'heparin (porcine) 5,000 unit/ml injection solution q12h', 'warfarin 5mg qd', 'eliquis 5mg 2times per day', 'plavix 75 mg qd', 'aspirin 81mg qd\\neliquis 2.5mg q12h', 'clopidogrel 75mg qd', 'eliquis 2.5mg q12h\\naspirin 81mg qd', 'pradaxa 150mg q12h', 'apixaban 5mg q12h', 'plavix 75mg qd\\nxarelto 20mg bid', 'coumadin 10mg qd\\naspirin 81mg qd', 'aspirin 81mg qd\\nlovenox 100mg/ml inject 0.9ml q12h', 'hx. of gib(was taken off coumadin as per wife)', 'clopidogrel 75mg qd2; aspirin 81mg', 'warfarin 5mg hs', 'heparin 5000 s/ml - 1ml q12h; aspirin 81mg qd', 'aspirin 81mgqd', 'warfarin 2mg qd', 'aspirin 81 mg 7/24/2017', 'eliquis 2.5mg two times per day\\naspirin 81mg qd', 'warfarin sodium 3 mg hs\\naspirin ec 81 mg qd', 'aspirin 81mg qd\\neliquis 2.5mg bid', 'aspirin 81 mg 2 tablets daily', 'plavix 75mg qd\\naspirin 81mg qd', 'coumadin 5mg hs; aspirin 81mg qd', 'aspirin 81mg and eliquis 5mg', 'aspirin 81mg qd\\nwarfarin sodium tablet \\t\\ngive 1 mg by mouth at bedtime', 'eliquis 5mg bid', 'plavix 75mg daily', 'eliquis 5 mg every 12 hours', 'coumadin 10mg qd', 'plavix 75 mg qd,', 'aspirin 81 mg qd,', 'plavix 75mg po daily (stop on 9/19/18)\\naspirin 325mg po daily', 'aspirin 81 mg qd, xarelto 20 mg hs', 'ranexa 500mg bid', 'eliquis 5mg q12h; furosemide 20mg qd', 'eliquis 2.5mg q12h', 'aspirin ec low dose oral tablet delayed release 81 mg', 'aspirin low strength oral tablet chewable 81 mg, qd-daily', 'apixaban 2.5mg q12h', 'aspirin ec low dose oral tablet', 'aspirin low dose oral tablet 81 mg qd\\neliquis 2.5mg q12h', 'eliquis 2.5 mg- six times a week', 'warfarin 2.5 mg + 4mg hs-bedtime', 'aspirin 81mg qd\\neliquis 5mg q12h', 'aggrenox capsule extended release 12 hour 25-200 mg (aspirin-dipyridamole er) qd', 'aspirin oral tablet chewable 81mg qd', 'aspirin ec 81 mg qd\\neliquis 2.5 mg q12h', 'clopidogrel 75mg qd, apixaban 2.5mg bid', 'aspirin 325mg ec qd', 'xarelto 20 mg once daily', 'aspirin 81mg po daily', 'coumadin 5mg qd', 'coumadin oral tablet 5 mg 1 tablet(s) by mouth hour of sleep', 'plavix and lovenox', 'love of 40mg daily', 'eliquis 2.5 mg bid', 'clopidogrel tab 75mg q48h\\naspirin 81mg q2d\\n\\nother cardiac meds: isosorbide mononitrate er 30mg qd.', 'warfarin 7.5mg qd\\naspirin 81mg qd', 'warfarin 2+2.5mg qd', 'furosemide oral tablet 20 mg, qd-every day', 'aspirin 81 mg', 'heparin sodium (porcine) solution 5000 unit/ml q12h', 'aspirin 81mg qd\\napixaban 2.5mg bid', 'aspirin 325mg qd\\nclopidogrel 75mg qd\\napixaban 5mg q12h', 'aspirin chewable 81 mg qd', 'aspirin 81 mg 1x', 'aspirin 81mg qd\\nheparin sodium (porcine) solution 5000 unit/ml q8h', 'xarelto 20mg qd\\naspirinin 81mg qd', 'eliquis 2.5 mg q12, aspirin 81 mg qd', 'aspirin chewable 81mg qd, apixaban 5 mg q12h', 'eliquis 5mg bid\\naspirin 81mg qd', 'aspirin 325mg', 'heparine injection 5000', 'eliquis 5mg q12h; aspirin 81mg qd', 'aspirin 81mg q12h', 'aspirin 81mg every mon, wed, fr', 'aspirin 81 mg tablet,delayed release sig: give 1 tablet (81 mg) by oral route once daily', 'aspirin 81mg qd\\napixaban 2.5mg q12h', 'aspirin 81 mg 1 tablet (81 mg) by oral route once daily; eliquis 5 mg 1 tablet (5 mg) by oral route 2 times per day', 'asa 81 mg qd, plavix 75 mg qd', 'pradaxa 75mg qd', 'aspirin oral tablet chewable 81 mg - qd\\neliquis 5mg qd', 'eliquis 5mg', 'brilinta 90mg bid', 'xarelto 20mg hs', 'coumadin 4mg  qd  sunday/ tuesday/thursday/saturday\\ncoumadin 5mg  qd  monday wednesday friday', 'asa 81mg qd', 'coumandin 1mg qd\\naspirin 325mg qd', 'coumadin 4 mg hs  every sun, tue, thu, sat\\ncoumadin 2mg hs every mon, wed, fri', 'aspirin 81 mg chewable tablet\\nsig: give one tablet by mouth every day for prophylaxis', 'aspirin 81mg qd\\nplavix 75mg qd\\nxarelto 20mg qd', 'eliquis 2.5 mg bid,', 'aspirin 81mg qd\\npradaxa 75mg q12h', 'aspirin 325 mg  qd', 'plavix 75mg', 'aspirin 81 mg qd\\ncoumadine oral tab 4mg +2.5mg hs\\nheparin sod  intravenous 100 unit/ml qs', 'heparin 5000unit/ml q8h', 'aspirin 81 mg qd', 'aspirin 325mg qd', 'aspirin 81mg qd\\nplavix 75mg qd\\nranexa 500mg q12h', 'aspirin 81mg qd\\nwarfarin 4mg qd', 'warfarin 1mg+4mg  hs', 'aspirin ec low dose oral tablet delayed release 81 mg, qd-every day\\nbrilinta tab 90mg q12h', 'aspir 81 mg hs', 'aspirin 81 mg daily', 'brilinta 90mg q12h', 'asa 81mg qd; xarelto 20mg qd', 'xarelto 20mg qd', 'asa 81mg', 'aspirin low dose oral tablet 81 mg, qd-every day', 'warfarin 1mg qd sunday/tus/th/saturday\\nwarfarin 2mg qd mon/wed/friday', 'aspirin 81mg qd\\nxarelto 20mg hs', 'coumadin 4mg qd', 'coumadin 2.5mg qd', 'aspirin 81mg', 'warfarin 2.5mg qd', 'asa 81 mg qd', 'aspirin 81mg qd\\neliquis 5mg q12h\\nclopidogrel 75mg qd', 'coumadin 2mg qd twice weekly on tuesday and thursday\\ncoumadin 6mg qd twice weekly on tuesday and thursday\\ncoumadin 5mg qd every sun, mon, wed, fri, sat', 'aspirin 81mg qd\\neliquis 5mg bid', 'pradaxa 75mg q12h', 'eliquis 2.5mg two times per day \\nclopidogrel 75mg qd', 'aspirin 81mg qd\\ncoumadin 5mg hs', 'coumadin 2mg qd\\naspirin 81mg qd', 'coumadin 4mg qd\\naspirin 81mg qd', 'aspirin 81mg qd', 'xarelto 15mg qd', 'heparin 5000unit/ml q12h', 'coumadin 7.5mg qd', 'aspirin 81mg qd\\nheparin sodium (porcine) injection solution 5000 unit/ml- q8h', 'aspirin 81mg qd\\nlovenox 80mg q12h', 'apixaban 2.5 q12h; asa 81mg qd', 'aspir-low oral tablet 81 mg daily', 'xarelto 15mg qd\\naspirin 81mg qd', 'aspirin ec low dose oral tablet delayed release 81 mg qd\\nplavix 75mg qd', 'eliquis 5mg two times a day', 'aspirin 81mg qd  \\nclopidogrel 75mg qd', 'coumadin 2mg qd', 'brilinta 90mg q12h\\naspirin 81mg qd', 'warfarin sodium 2mg hs-bedtime', 'clopidogrel 75mg qd\\ncoumadin 2.5mg+4mg give 1 tablet (2.5 mg) by oral route once daily add 4 mg with 2.5 mg total 6.5mg', 'aspirin 81mg qd\\nwarfarin 5 mg qd', 'clopidogrel 75mg qd\\nequis 5mg q12h', 'aspirin ec oral tablet delayed release 325 mg daily', 'aspirin low strength oral tablet chewable 81 mg, qd', 'warfarin 1mg qd', 'aspirin 81mg, plavix 75mg', 'clopidogrel bisulfate  75 mg qd\\naspirin 81mg qd', 'enoxaparin sodium solution 40 mg/0.4ml 40 milligram subcutaneously qd', 'warfarin 4mg qd', 'aspirin low strength oral tablet chewable 81 mg, qd-every day', 'apixaban 5mg bid', 'aspirin ec low dose 81mg- qd\\neliquis tab 5mg bid', 'clopidogrel 75mg qd\\naspirin low dose 81 mg qd', 'aspirin 81 mg and plavix 75 mg daily', 'clopidogrel 75mg qd\\naspirin 81mg qd\\nheparin sodium (porcine) solution 5000 unit/ml q12h', 'aspirin ec low dose oral tablet delayed release 81 mg, qd', 'aspirin ec tab 81mg qd\\nwarfarin sodium oral tab 2mg qiw\\nwarfarin sodium oral tab 1mg tiw\\nplavix 75mg qd', 'coumadin 5mg qd\\naspirin 81mg qd', 'aspirin 81mg p.o. daily', 'eliquis tab 5mg q12h', 'enoxaparin sodium solution 60 mg/0.6ml inject 60 milligram subcutaneously one time a day\\naspirin 81mg qd', 'clopidogrel 75mg qd\\naspirin 81mg qd', 'aspirin 81mg qd\\nheparin sodium (porcine) solution 5000 unit/ml q8h\\nclopidogrel 75mg qd']\n",
      "1.0    574\n",
      "0.0    190\n",
      "Name: anticoagulant, dtype: int64\n",
      "num missing 675\n",
      "value counts before zero and one assignment: 0                                                                                                                                                                                                                                                    675\n",
      "none                                                                                                                                                                                                                                                  31\n",
      "digoxin 125mcg qd                                                                                                                                                                                                                                     14\n",
      "digoxin 0.125mg qd                                                                                                                                                                                                                                    10\n",
      "digox 0.125mg qd                                                                                                                                                                                                                                       3\n",
      "digoxin 125mcg q48h                                                                                                                                                                                                                                    3\n",
      "digoixin 125mcg qd                                                                                                                                                                                                                                     1\n",
      "digoxin 250mcg qd                                                                                                                                                                                                                                      1\n",
      "digoxin 0.125 mg qd                                                                                                                                                                                                                                    1\n",
      "digoxin 125mcg qd, diltiazem hcl er 120 mg q12h                                                                                                                                                                                                        1\n",
      "digox 125mcg every other day                                                                                                                                                                                                                           1\n",
      "dobutamine 8mcg/kg/min                                                                                                                                                                                                                                 1\n",
      "n/a on records                                                                                                                                                                                                                                         1\n",
      "digoxin 0.125mg qd orally                                                                                                                                                                                                                              1\n",
      "digoxin 125mcgqd                                                                                                                                                                                                                                       1\n",
      "eliqus 2.5mg q12h                                                                                                                                                                                                                                      1\n",
      "digoxin 125mcg orally qd                                                                                                                                                                                                                               1\n",
      "aspirin 81mg qd                                                                                                                                                                                                                                        1\n",
      "dopamine drips via curling pump in continuous mode concentration : 1.6 mg/ml . bag volume: 500 ml . prog volume : 288 ml . rate : 12 ml/ hr time : 24 hrs . kvo 10 ml/hr . coram to dispense premixed bag 800 mg/500 ml . concentration 1.6 mg/ml      1\n",
      "digoxin 125mcg qd every other day                                                                                                                                                                                                                      1\n",
      "digoxin solution 0.05 mg/ml - give 2.5ml qd                                                                                                                                                                                                            1\n",
      "digoxin 0.125mg q2d                                                                                                                                                                                                                                    1\n",
      "digoxin 0.125mg q48h                                                                                                                                                                                                                                   1\n",
      "digoxin 0.25mg qd                                                                                                                                                                                                                                      1\n",
      "digox 0.125mg tiw                                                                                                                                                                                                                                      1\n",
      "digoxin 125mcg q48h, , milrinone lactate solution  0.375 mcg/hr intravenously every shift related to acute on chronic systolic (congestive) heart failure (i50.23) 0.375mcg/kg/min to run 5.8ml/hr                                                     1\n",
      "digoxin 125mcg qd hold medication and call md if heart rate is below 60                                                                                                                                                                                1\n",
      "digoxin 125mcg qd every mon, thu                                                                                                                                                                                                                       1\n",
      "digoxin 125 mcg once daily three times a week                                                                                                                                                                                                          1\n",
      "digoin 125mcg qd                                                                                                                                                                                                                                       1\n",
      "iv dobutamine 4mcg/kg/min @ 4ml/hr for wt. of 66kg                                                                                                                                                                                                     1\n",
      "digox 125mcg qd                                                                                                                                                                                                                                        1\n",
      "digoxin 0.125 mg biw                                                                                                                                                                                                                                   1\n",
      "amiodarone hcl 200 mg qd                                                                                                                                                                                                                               1\n",
      "Name: ionotropes, dtype: int64\n",
      "zero values: ['digoxin 125mcg q48h, , milrinone lactate solution  0.375 mcg/hr intravenously every shift related to acute on chronic systolic (congestive) heart failure (i50.23) 0.375mcg/kg/min to run 5.8ml/hr', 'none']\n",
      "Values set to 1.0: \n",
      " ['digoxin 125mcg orally qd', 'eliqus 2.5mg q12h', 'digoxin 0.125mg qd', 'digoxin 125mcgqd', 'iv dobutamine 4mcg/kg/min @ 4ml/hr for wt. of 66kg', 'n/a on records', 'digoxin 125mcg qd, diltiazem hcl er 120 mg q12h', 'digoixin 125mcg qd', 'digoxin 0.125 mg qd', 'digoxin 0.125mg q2d', 'digoxin 250mcg qd', 'aspirin 81mg qd', 'digox 125mcg every other day', 'digoxin 125mcg qd every other day', 'digoxin 0.125mg qd orally', 'amiodarone hcl 200 mg qd', 'digoxin 125mcg qd', 'digoxin 0.125mg q48h', 'digox 0.125mg qd', 'dobutamine 8mcg/kg/min', 'digoxin 0.25mg qd', 'digoxin 125mcg q48h', 'digox 0.125mg tiw', 'digoxin 125mcg qd hold medication and call md if heart rate is below 60', 'digoxin 125mcg qd every mon, thu', 'digoxin 125 mcg once daily three times a week', 'digoin 125mcg qd', 'digox 125mcg qd', 'digoxin 0.125 mg biw', 'digoxin solution 0.05 mg/ml - give 2.5ml qd', 'dopamine drips via curling pump in continuous mode concentration : 1.6 mg/ml . bag volume: 500 ml . prog volume : 288 ml . rate : 12 ml/ hr time : 24 hrs . kvo 10 ml/hr . coram to dispense premixed bag 800 mg/500 ml . concentration 1.6 mg/ml']\n",
      "0.0    707\n",
      "1.0     57\n",
      "Name: ionotropes, dtype: int64\n",
      "num missing 507\n",
      "value counts before zero and one assignment: 0                                                                     507\n",
      "none                                                                   82\n",
      "0                                                                      74\n",
      "no                                                                     28\n",
      "pacemaker                                                              25\n",
      "aicd                                                                   14\n",
      "yes                                                                     7\n",
      "no aicd or pacemaker                                                    3\n",
      "life vest                                                               2\n",
      "ppm                                                                     2\n",
      "lifevest                                                                2\n",
      "pacemaker, prosthetic heart valve                                       1\n",
      "z95.810  presence of automatic (implantable) cardiac defibrillator      1\n",
      "aicd-dual chamber                                                       1\n",
      "no (ppm only)                                                           1\n",
      "combined aicd and pacemaker                                             1\n",
      "aicd(turned off), has zoll lifevest                                     1\n",
      "s/p ppm/aicd                                                            1\n",
      "zoll lifevest                                                           1\n",
      "zoll life vest                                                          1\n",
      "o                                                                       1\n",
      "left chest wall                                                         1\n",
      "hld, htn                                                                1\n",
      "ppm mobitz i 2013                                                       1\n",
      "pace maker only                                                         1\n",
      "aicd 2014                                                               1\n",
      "0.25                                                                    1\n",
      "pacemaker 6/11/18                                                       1\n",
      "no on life vest                                                         1\n",
      "Name: aicd, dtype: int64\n",
      "zero values: ['none', 'no aicd or pacemaker', 'no on life vest', 'no (ppm only)', 'no']\n",
      "Values set to 1.0: \n",
      " ['z95.810  presence of automatic (implantable) cardiac defibrillator', 'aicd-dual chamber', 'aicd(turned off), has zoll lifevest', 'zoll life vest', 'combined aicd and pacemaker', 'aicd', 'yes', 'zoll lifevest', 'left chest wall', 'hld, htn', 'ppm mobitz i 2013', 'pace maker only', 'lifevest', 'aicd 2014', 'ppm', 'life vest', '0.25', 's/p ppm/aicd', 'pacemaker 6/11/18', 'o', 'pacemaker, prosthetic heart valve', 'pacemaker']\n",
      "0.0    696\n",
      "1.0     68\n",
      "Name: aicd, dtype: int64\n",
      "num missing 254\n",
      "value counts before zero and one assignment: 0                                                                                                    254\n",
      "atorvastatin 40mg qd                                                                                  35\n",
      "atorvastatin 80mg qd                                                                                  22\n",
      "amlodipine 10mg qd                                                                                    19\n",
      "amlodipine 5mg qd                                                                                     15\n",
      "simvastatin 20mg qd                                                                                   12\n",
      "atorvastatin 20mg qd                                                                                  11\n",
      "amiodarone 200mg qd                                                                                    9\n",
      "lipitor 40mg qd                                                                                        8\n",
      "no cardiac meds on the record                                                                          6\n",
      "simvastatin 10mg qd                                                                                    6\n",
      "simvastatin 40mg qd                                                                                    5\n",
      "nifedipine 60mg qd                                                                                     5\n",
      "nifedipine 30mg qd                                                                                     4\n",
      "lipitor 20mg qd                                                                                        4\n",
      "atorvastatin 40 mg hs                                                                                  4\n",
      "simvastatin 10mg hs                                                                                    4\n",
      "nifedipine 90mg qd                                                                                     4\n",
      "isosorbide mono 30mg qd                                                                                4\n",
      "hydralazine 100mg  q8h;isosorbide mono 30mg qd; simvastatin 20mg hs                                    4\n",
      "norvasc 10mg qd                                                                                        3\n",
      "none                                                                                                   3\n",
      "amlodipine 2.5mg qd                                                                                    3\n",
      "norvasc 5mg qd                                                                                         3\n",
      "lipitor 10mg qd                                                                                        3\n",
      "hydralazine 25mg q12h                                                                                  2\n",
      "zocor 10mg qd                                                                                          2\n",
      "atorvastatin 20mg qd, amiodarone 200mg qd                                                              2\n",
      "amlodipine 10mg qd, isosorbide din 10mg tid, hydralazine 25mg q8h, crestor 40mg hs                     2\n",
      "atorvastatin 40mg qd, hydralazine 25mg q8h; isordil 10mg tid                                           2\n",
      "                                                                                                    ... \n",
      "isosorbide mono 30mg qd, pravastatin 80mg qd, nifedipine 90mg qd                                       1\n",
      "isosorbide dinitrate 10mg q8h, amlodipine 10mg qd, hydralazine 75mg q8h; and clonidine 0.3mg bid.      1\n",
      "atorvastatin 20 mg tablet sig: give 1 tablet (20 mg) by oral route once daily at bedtime ;             1\n",
      "amiodarone 100mg qd, amlodipine 5mg qd                                                                 1\n",
      "simvastatin 40mg qd, hydralazine 10mg tid                                                              1\n",
      "isosorbide mono 60mg qd                                                                                1\n",
      "rosuvastatin 10mg qd, hydralazine 25mg*3tab q8h                                                        1\n",
      "atorvastatin 40mg hs2                                                                                  1\n",
      "simvastatin 20mg qd; potassium chloride 10 meq qd                                                      1\n",
      "isosorbide din 5mg*2tab bid,                                                                           1\n",
      "isosorbide mono 30mg qd, amlodipine 10mg qd                                                            1\n",
      "isosorbide din 30mg qd, atorvasatin 80mg qd, amlodipine 5mg qd                                         1\n",
      "amlodipine 10mg qd, atorvastatin 80mg qd                                                               1\n",
      "hydrochlorothiazide 25mg qd, atorvastatin 10mg qd                                                      1\n",
      "atorvastatin 20mg qd,                                                                                  1\n",
      "isosorbide mononitrate 30mg qd                                                                         1\n",
      "atorvastatin 4mg qd                                                                                    1\n",
      "amlodipine 5mg qd, atorvastatin 40mg qd                                                                1\n",
      "isosorbide dinitrate 20mg q8h; amlodipine 10mg qd; hydralazine 50mg q8h                                1\n",
      "simvastatin 10 mg hs                                                                                   1\n",
      "atorvastatin 80mg qd, nifedipine 30mg qd                                                               1\n",
      "10/23/17 inc. hydralazine 100mg q8h; amlopdine 10mg qd; isosorbide mon. er 120mg qd                    1\n",
      "amlodipine 5mg qd, atorvastatin 20mg qd                                                                1\n",
      "hydralazine 50mg q8h, nifedipine 30mg qd                                                               1\n",
      "isosorbide mono 30mg qd, hydralazine 25mg q8h,atorvastatin 40mg qd                                     1\n",
      "nifedipine er 30mg qd                                                                                  1\n",
      "amlodipine 10mg qd, simvastatin 20mg qd                                                                1\n",
      "metolazone 5mg qd                                                                                      1\n",
      "atorvastatin 40mg qd, amlodipin 5mg qd                                                                 1\n",
      "simvastatin 40mg qd, amiodarone 200mg qd                                                               1\n",
      "Name: other cardiac meds, Length: 319, dtype: int64\n",
      "zero values: ['milrinone lactate in dextros solution 40-5 mg/200ml%', 'none', 'no cardiac meds on the record', 'no orders found on the record', 'no cardiac meds available on the record', '12/26: no med records in \"orders\" pointclickcare']\n",
      "Values set to 1.0: \n",
      " ['atorvastatin 80mg qd', 'atorvastatin 40 mg hs', 'atorvastain 20mg qd', 'hydralazine 25 mg*3tab +50mg q 8 h , atorvastatin 40 mg hs, isosorbide din 10mg tid', 'norvasc 5mg qd', 'amlodipine 10mg qd, nifedipine 30mg qd', 'acetazolamide tablet 250 mg tid, lipitor 40mg qd', 'metolazone 10mg bid', 'pravastatin sodium tablet 10 mg qd, amlodipine 5mg qd', 'atorvastatin 40mg qd, hydralazine 25mg tid', 'hydralazine 50mg q8 h; nifedipine 60mg qd, diovan 320mg qd, atorvastatin 40mg qd', 'amlodipine 10mg qd, atorvasatin 10mg qd', 'simvastatin 20mg qd, nitroglycerin tablet sublingual 0.4 mg \\tgive 1 tablet sublingually every 5 minutes as needed for chest pain x 3 doses. if no relief, call md.', 'nifedipine 90mg qd2; hydralazine 100mg q8h2; cilostazol 50mg bid2; atorvastatin 20mg q evenings', 'atorvasatin 10mg qd', 'metolazone 5mg 1 tablet (5 mg) by oral route 2 times per week on monday and thursday at 6:30 pm (30 minutes after torsemide)', 'nifedipine 90mg qd', 'atorvastatin 80mg qd,  hydralazine 25mg tid, nifedipine 60mg qd', 'hydralazine 100mg q8h, isosorbide din 20mg *2tab tid, amlodipine 5mg qd', 'diltiazem 30mg q8h', 'amlodipine 5mg qd, isosorbide mono 30mg qd', 'atorvastatin 80mg qd, amlodipine 10mg qd, hydralazine 100mg q8h', 'hydralazine 75mg q8h, isosorbide mono 30mg qd, atorvastatin 80mg qd', 'hydralazine 100mg q8h, lipitor 40mg hs', 'hydralazine 50mg fid, simvastatin 10mg qd', 'norvasc 5mg qd, multaq 400 mg (dronedarone) bid', 'atorvastatin 40mg qd, hydralazine 100mg q12h, isosorbide mono 30mg qd', 'atorvastatin 20mg qd, hydralazine 25mg q8h, isosorbide din 10mg tid', 'amlodipine 10mg qd', 'lipitor 10mg q evening; nitrostat sl 0.4 qd; amlodipine 10mg qd; clonidine 0.2mg q6h', 'atorvasatin 80mg qd', 'isosorbide mono 30mg *3tab qd, amlodipine 10mg qd, atorvastatin 80mg qd, hydralazine 100mg q8h', 'hydralazine 10mg qid, isosorbide din 10mg tid', 'norvasc 10mg qd, hydralazine 100mg tid', 'amiodarone 200mg od,atorvastatin 40mg hs,hydralazine 25mg q8h,isosorbide dinitrate 10mg q8h,asa 81mg od', 'metolazone 5mg qd 30 minutes after torsemide, simvastatin 20mg qd', 'norvasc 10mg qd', 'nifedipine 30mg qd', 'midodrine 10mg q8h; amiodarone 200 mg qd', 'atorvasatin 20mg hs', 'atorvastatin 10mg qd', 'simvastatin 40mg qd, amiodarone 200mg qd', 'amlodipine 5mg q12h', 'hydralazine 10mg tid, nifedipine 60mg qd', 'isosorbide mono 30mg qd', 'hyrdalazine 25mg q8h', 'isosorbide din 20mg*2tab q8h, hydralazine 25mg*3tab tid. amlodipine 10mg  qd,nitroglycerin tablet sublingual 0.4 mg 1 tablet sublingually every 5 minutes for 3 doses as needed for chest pain - if no relief call md', 'acetazolamide 125mg qd', 'isosorbide mononitrate 30mg qd', 'hydralazine 25mg q6h when sys bp>150', 'nitrostat sublingual 0.4mg prn, simvastatin 10mg hs', 'simvastatin 40mg qd', 'amiodarone 400mg qd', 'simvastatin 5mg qd, amlodipine 10mg qd', 'simvastatin 40mg qd, hydralazine 10mg tid', 'vasotec 5mg qd [was previously on isosorbide and hydralazine-d/c 7/17/18.', 'atorvastatin 40mg hs2', 'lipitor 20mg qd, , nitroglycerin 0.4 mg sublingual table every 5min', 'amiodarone 100mg qd; midodrine hcl tablet 10 mg 3x/day', 'nifedipine 30mg qd , nitrostat 0.4 mg sublingual tablet  by sublingual route every 5 minutes as neededfor chest pain', 'lipitor 40mg qd, acetazolamide 250mg bid', 'atorvastatin 40mg qd,  amlodipine 10mg qd', 'potassium chloride er 20 meq daily with food', 'isosorbide mono 30mg qd, rosuvastatin 20mg qd', 'nitroglycerin tablet sublingual 0.3 mg give 1 tablet sublingually every 5 minutes as needed for chest pain give q 5 minutes x3 for chest pain, atorvastatin 80mg qd', 'hydralazine 10mg tid, atorvastatin 40mg qd', 'nifedipine er 90mg qd, rosuvastatin 20mg qd', 'hydralazine 50mg q6h', 'hydralazine 50 mg q 8 h, atorvastatin 40 mg hs', \"nitroglycerin 0.4mg every 5 minutes as needed for chest pain, don't exceed 3 doses in 15 minutes, isosorbide mononitrate 60mg qd, atorvastatin 40mg qd\", 'profile is incomplete', 'simvastatin 40 mg daily', 'lipitor 80mg qd', 'lipitor 20 mg hs', 'atorvastatin 20mg qd, isosorbide mono 30mg qd', 'amlodipine 5mg qd, simvastatin 40mg qd, hydrochlorothiazide 25mg qd', 'atorvastatin 20mg qd,', 'pravastatin 40 mg once daily,', 'hydralazine 10mg tid', 'atorvastatin 40mg daily; nitrostat sublingual 0.4mg daily', 'nifedipin 60mg qd, rosuvastatin 5mg qd, isosorbide din 20mg q8h', 'hydrochlorothiazide 25mg qd', 'zocor 10mg qd', 'simvastatin 10mg qd', 'digoxin 0.125 mg hs', 'hydralazine 50mg q8h; nifedipine er 60mg qd', 'amlodipine 5 mg qd', 'hydralazine 25mg tid', 'isosorbide din 10mg tid, rosuvastatin 5mg qd, hydralazine 25mg q8h', 'hydralazine 100mg 3x daily; nifedipine 60mg qd', 'nifedipine er 30mg qd', 'amlodipine 10mg qd, atorvastatin 80mg qd, hydralazine 25mg q8h', 'hydralazine 100mg tid, nifedipine 90mg (nifediac cc 30mg +nifedical xl 60mg) qd, atorvastatin 20mg qd, isosorbide din 30mg tid, pletal 50 mg (cilostazol) bid', 'amlodipine 5mg qd, atorvastatin 80mg qd', 'amiodarone 200mg q12h, rosuvastatin 10mg qd', 'atorvastatin 40mg qd', 'amiodarone 200mg *0.5 tab q12h, isosorbide din 30mg qd,', 'simvastatin 10mg hs', 'isosorbide din 10mg q8h, atorvastatin 40mg qd, nitroglycerin tablet sublingual 0.3 mg every 5mins', 'atorvastatin 80mg hs', 'norvasc 10 mg tablet sig: give 1 tablet (10 mg) by oral route once daily,', 'amlodipine 2.5mg qd, amiodarone 100mg qd, hydrochlorothiazide 12.5mg qd', 'isosorbide mono 30mg qd, hydralazine 25mg tid, simvastatin 20mg qd', 'norvasc 5mg qd, hydralazine 25mg tid', 'amiodarone 200mg qd', 'gemfibrozil 600mg qd', 'nitroglycerin sublingual 0.4mg prn, atorvastatin 40mg qn', 'amlodipine 2.5mg qd', 'hydralazine 50mg q8h', 'rosuvastatin 10mg qd, amlodipine 10mg qd', 'atorvastatin 4mg qd', 'atorvastatin 80mg qd, nifedipine 30mg qd', 'amlodipine 10mg qd, simvastatin 20mg qd', 'norvasc 2.5mg qd', 'atorvastatin 20mg qd, amiodarone 200mg qd', 'atorvastatin 20 mg tablet sig: give 1 tablet (20 mg) by oral route once daily at bedtime ;', 'rosuvastatin 10mg qd, hydralazine 25mg*3tab q8h', 'amiodarone 200mg qd, simvastatin 10mg qd', 'amiodarone 200mg qd, diltiazem 60mg fid', 'simvastatin 10mg q evening', 'nifedipine 90mg qd, rosuvastatin 40mg qd', 'atorvasatin 20mg qd', 'simvastatin 40 mg hs', 'atorvastatin 20mg qd, isosorbide mono 60mg qd', 'atorvastatin 40mg qd, amlodipin 5mg qd', 'amlodipine 5mg qd', 'hydrochlorothiazide 12.5mg qd', 'crestor 20mg qd', 'amlodipine 5mg qd, isosorbide din 30mg qd, atorvastatin 40mg qd', 'hydralazine 25mg tid, atorvastatin 80mg qd, isosorbide mono 30mg qd', 'atorvastatin 40mg qd, hydralazine 50mg *2tab bid, niedipine 60mg bid', 'amiodarone 200mg q12h, isosorbide mono 60mg qd, hydralazine 25mg q8h, lipitor 40mg qd', 'simvastatin 20 mg hs, digoxin 0.125 mg qod', 'hydralazine 25mg q8h, isosorbide mono 20mg qd', 'hydralazine 25mg q8h, simvastatin 20mg qd', 'cardizem 120mg qd2; pravastatin 10mg qd-dn', 'amlodipine besy-benazepril hcl capsule 5-10 mg qd, atorvastatin 40mg qd', 'atorvastattin 80mg qd', 'isosorbide mono 30mg qd, pravastatin 80mg qd, nifedipine 90mg qd', 'isosorbide dinitrate 20mg q8h; amlodipine 10mg qd; hydralazine 50mg q8h', 'atorvastatin 20mg qd, hydralazine 10mg q8h', 'amlodipine 10mg qd, isosorbide din 10mg tid, hydralazine 25mg q8h, crestor 40mg hs', 'isosorbid mono 30mg qd, atorvastatin 20mg qd', 'nifedipine er 60mg', 'nitroglycerin tablet sublingual 0.4 mg every 5mins, isosorbide mono 6-mg qd, atorvastatin 80mg qd', 'crestor 10mg qd', 'amiodarone 200mg*0.5tab  qd, simvastatin 20mg qd', 'simvastatin 20mg qd2', 'atorvastatin 20mg qd, amlodipine 5 mg q12h', 'atorvastatin 10mg qd, amlodipine 10mg qd', 'isosorbide din 20mg q8h, simvastatin 40mg qd', 'atorvastatin 40mg qd, entresto tablet 49-51 mg (sacubitril-valsartan) bid', 'pravastatin sodium tablet 40 mg qd', 'norvasc', 'isosorbide din 10mg two times a day', 'isosorbide mono 120mg qd', 'lipitor 40mg qd, isosorbide din 10mg tid', 'amiodarone 200 mg qd; ; norvasc 5mg qd, atorvastatin 40mg qd', 'norvasc 5mg qd; lipitor 20mg hs', 'cardizem 360mg po qd; diamox 250mg po qd', 'atorvastatin 40mg hs', 'digoxin 0.125mg qd; norvasc 10mg qd; atorvastatin 80mg hs', 'nifedipine 90mg qd; amlodipine 10mg qd', 'atorvastatin 20mg hs', 'amlodipine 10mg qd, atorvastatin 80mg qd', 'atorvastain 40mg qd', 'hydralazine 50mg q6h, simvastatin 10mg qd', 'amlodipine 5mg qd, rosuvastatin 40mg qd', '10/23/17 added isosorbide dinitrate 10mg tid; nifedipine er 90mg qd; sl nitro 0.4mg prn', 'amiodarone 100mg qd, isosorbide din 10mg qd, hydralazine 10mg q8h', 'lipitor 20mg qd', 'zocor 20mg qd, amiodarone 200mg bid', 'norvasc 10 mg (amlodipine besylate)1 in the morning', 'atorvastatin 40mg qd, hydralazine 100mg q8h, isosorbide din 30mg *2tab tid', 'atorvastatin 80mg qd, diltiazem hcl 90mg q8h hold if systolic below 100.', 'atorvastatin 20mg qd, hydralazine 10mg tid, amlodipine 10mg qd', 'hydralazine 100mg tid', 'simvastatin 5mg qd', 'amlodipine 10mg qd, simvastatin 10mg 1hs', 'atorvastatin 10mg qd, hydralazine 100mg q8h, isosorbide mono 60mg qd', 'amlodipine besy-benazepril hcl capsule 5-20 mg qd, atorvastatin 20mg qd', 'hydralazine 100mg q8h, nifedipine 60mg*2tab qd, atorvastatin 20mg qd', 'rosuvastatin 20mg qd, isosorbide mono 60mg qd', 'lipitor tablet 40 mg hs, nifedipine er 60 mg*2tab qd,isosorbide din 10mg tid', '10/23/17 hydralazine inc. to 100mg q8h; nifedipine er 30gm qd', 'rosuvastatn 20mg qd', 'nifedipine 60mg qd, simvastatin 40mg qd', 'atorvastatin 80mg qd, hydralazine 25mg tid, isosorbide mono 60mg qd', 'hydralazine 50mg tid, hydrochlorothiazide 12.5mg qd, nifedipine 90mg qd', 'amiodarone 200mg qd, atorvastatin 40mg qd', 'amlodipine 5mg hs, lipitor 40mg qd', 'atorvastain 20mg qd, hydrochlorothiazide 12.5mg qd', 'nifedipine er 90mg qd', 'isosorbide mono 30mg qd, hydralazine 50mg q8h, amlodipine 10mg qd, amiodarone 200mg qd', 'amlodipine 10mg qd, atorvastatn 10mg qd', 'amiodarone 100mg qd', 'hydralazine 50mg tid, isosorbide mono 30mg qd, atorvastatin 40mg qd, amlodipine 10mg qd', 'atorvastatin 40mg qd, amlodipine 10mg qd', 'diamox 250 bid', 'amiodarone 200mg bid, atorvastatin 40mg qd', 'isosorbide mono er 30mg qd', 'hydralazine 100mg  q8h;isosorbide mono 30mg qd; simvastatin 20mg hs', 'isosorbide din 30mg tid, hydralazine 50mg tid', 'rosuvastatin 5mg qd', 'simvastatin 10 mg hs', '10/23/17 inc. hydralazine 100mg q8h; amlopdine 10mg qd; isosorbide mon. er 120mg qd', 'hydralazine 50mg q8h, nifedipine 30mg qd', 'isosorbide mono 30mg qd, hydralazine 25mg q8h,atorvastatin 40mg qd', 'isosorbide din 30mg qd, atorvasatin 80mg qd, amlodipine 5mg qd', 'amiodarone 100mg qd, amlodipine 5mg qd', 'isosorbide mono 60mg qd', 'simvastatin 20mg qd; potassium chloride 10 meq qd', 'isosorbide din 5mg*2tab bid,', 'isosorbide mono 30mg qd, amlodipine 10mg qd', 'atorvastatin 10mg qd, amlodipine 5mg qd', 'amlodipine 5mg qd, atorvastain 10mg qd', 'isosrobide mononitrate 10mg qd, atorvastatin 20mg qd', 'isosorbide mononitrate er 30 mg 1 tablet (30 mg) by oral route once daily; hydralazine 25 mg every 8 hours; atorvastatin 40 mg once daily at bedtime', 'lipitor 40mg qd, isosorbide mono 30mg qd, hydralazine 50mg q8h', 'atorvastatin 20mg qd, amlodipine 10mg qd', 'minoxidil 2.5mg daily, amlodipine 10mg daily, nifedipine 90mg daily', 'atorvastain 10mg qd', 'simvastatin 20mg qd', 'hydralazine 25mg tid; isosorbide mononitrate er 30mg qd', 'nitroglycerin tablet sublingual 0.4 mg 1 tablet sublingually every 5 minutes for chest pain for 3 doses if no relief call md, atorvastatin 20mg qd', 'amlodipine 5mg qd, hydrochlorothiazide 12.5mg qd', 'lipitor 40mg qd', 'atorvastatin 80mg qd, norvasc 10mg qd', 'hydralazine 25mg q8h, amlodipine 5mg qd', 'hydralazine 25mg q8h, isosorbide mono 30mg qd, lipitor 10mg qd', 'hydralazine 25mg q8h, isosorbide din 20mg tid', 'rosuvastatin 20mg qd', 'rosuvastatin calcium 5 mg qd,  amlodipine besylate5 mg qd', 'isosorbide din 20mg tid', 'midrodrine 10mg tid', 'isosorbide mononitrate 30mg qd, hydralazine 25mg tid, simvastatin 49mg es', 'zocor 40mg hs2', 'hydralazine 25mg q8h, amlodipine 10mg qd, atorvastatin 40mg qd', 'isosorbide din 10mg q8h, atorvastatin 10mg qd', 'atorvastatin 40mghs', 'amlodipine 10mg qd, atorvastatin 40mg, isosorbide din 20mg tid', 'isosorbide mono 30mg qd, nitroglycerin tablet sublingual 0.3 mg give 1 tablet sublingually every 5 minutes as needed for chest pain dissolve 1 tab under the tongue or in buccal pouch at first sign of an acute anginal attack. dose may be repeated approx every 5 mins until relief is obtained up to 3 doses. notify md/np at first c/o symptom', 'atorvastatin 40mg hs; isosorbide dinitrate 30mg qd', 'amlodipine 5mg qd, hydralazine 25mg q8h', 'amlodipine 2.5mg qd, atorvastatin 20mg qd', 'atorvastatin 40 mg qd', 'atorvastatin 40mg qd, hydralazine 25mg q8h; isordil 10mg tid', 'isosorbide mono 30mg*3tab qd, atorvastatin 20mg qd', 'nifedipine 90mg qd; atorvastatin 40mg hs', 'norvasc 10mg qd; isosorbide dinitrate 10mg  bid, atorvastatin 40mg qd', 'hydralazine 25mg q6h, isosorbide 10mg q6h', 'hydralazine 50mg tid, lipitor 10mg qd, nifedipine 60mg qd', 'pravastatin 20mg qd', 'amlodipine 10mg po daily; hydralazine 25mg po q8h', 'atorvastatin 80mg qd; isosorbide mono er 60mg qd, hydralazine hcl tablet 50 mg q8h , nitroglycerin tablet sublingual every 5min', 'atorvastatin 20mg qd, nifedipine 90mg qd', 'hydralazine 10mg q8h, simvastatin 10mg qd', 'n/a on records', 'amlodipine 10mg qd, atorvastatin 40mg hs', 'potassium chloride er 20 meq tablet,extended release sig: give 1 tablet (20 meq) by oral route once daily with food', 'sildenafil 20mg q8h', 'diltiazem 90mg q6h', 'isosorbide mononitrate er 30 mg tablet,extended release 24 hr sig: give 1 tablet (30 mg) by oral route once daily in the morning,     hydralazine 10 mg tablet sig: give 1 tablet (10 mg) by oral route 2 times per day  ,     atorvastatin 20 mg tablet sig: give 1 tablet (20 mg) by oral route once daily at bedtime', 'lovastatin 20mg qevening', 'amlodipine 5mg qd, hydralazine 25mg q8h,isosorbide din 10mg *0.5tab tid', 'hydralazine 25mg q12h', 'isosorbide mono 120mg qd simvastatin 20mg qd', 'hydralazine 50mg*1.5tab q8h; isosorbide dinitrate 40mg q8h', 'atorvastatin 10mg hs; nifedipine 30mg qd', 'amlodipine 5mg qd; hydralazine 25mg 3x/day; isosorbide mononitrate er 120mg qd', 'amlodipine 10mg qd, zetia(ezetimibe) 10mg qd', 'atorvastatin 20mg qd', 'amlodipine 5mg qd, hydrochlorothiazide 25mg qd, hydralazine 50mg tid', 'pravastatin 40mg qd', 'spronolactone 25mg every other day', 'entresto tablet 24-26 mg (sacubitril-valsartan) bid, atorvastatin 20mg qd', 'pravastatin 80mg qd, sildenafil 20mg tid', 'lipitor 10mg qd', 'digoxin 0.125mg qd', 'amlodipine 10mg qd, rosuvastatin 20mg qd', 'simvastatine 20mg hs', 'digoxin 0.125 mg qd', 'atorvastatin 80mg qd, isosorbide mono 30mg qd', 'amlodipine  5mg qd', 'amlodipine 5mg qd, atorvastatin 40mg qd', 'metolazone 5mg qd', 'amlodipine 5mg qd, atorvastatin 20mg qd', 'hydrochlorothiazide 25mg qd, atorvastatin 10mg qd', 'nifedipine 30mg qd, simvastatin 20mg qd', 'isosorbide dinitrate 10mg q8h, amlodipine 10mg qd, hydralazine 75mg q8h; and clonidine 0.3mg bid.', 'hydralazine 50mg every 8 hours (hold if bp <95/60)', 'amlodipine 2.5 mg qd, simvastatin 10mg qd', 'cardizem 30mg q 8 h', 'pravastatine 80mg qd', 'atorvastatin 40mg qd, hydralazine 100mg q8h, isosorbide mono 60mg qd', 'atorvastatin 20mg qd, nifedipine 60mg qd', 'hydralazine 50mg tid, isosorbide din 10mg tid', 'amiodarone 400 mg qd', 'hydralazine 100mg q8h, nifedipine 60mg qd, atorvastatin 40mg qd, amodipine 5mg qd', 'zocor 20mg qd', 'hydralazine 50mg and 25mg tid (both active orders); amlodipine 10mg qd', 'amlodipine 5mg *2 qd', 'aldactone 25mg qhs; amiodarone 200mg q12; coreg 6.25mg bid; hydralazine hcl 10mg bid.', 'potassium chloride 10meq qd2', 'atorvastatin 10mg hs', 'atorvastatin 40mg qd, amiodarone 200mg q12h', 'nifedipine 60mg qd', 'hydralazine 10 mg q8h', 'ranitidine hcl 150 mg qd; simvastatin 20 mg hs', 'atorvastatin 10mg qd, nifedipine 60mg qd', 'amiodarone 400mg qd, atorvastatin 80mg qd', ', atorvastatin 20mg qd']\n",
      "1.0    497\n",
      "0.0    267\n",
      "Name: other cardiac meds, dtype: int64\n"
     ]
    },
    {
     "name": "stdout",
     "output_type": "stream",
     "text": [
      "removing invalid row: 0\n",
      "\n",
      "patient_link                             n0EPhlbX\n",
      "enrollId                               n0EPhlbX_3\n",
      "Enrollment_Date                               NaN\n",
      "name                                 1 Tester, Mv\n",
      "create_user        notifications@providerloop.com\n",
      "Name: 0, dtype: object\n",
      "--------------------------------------------------\n",
      "\n",
      " \n",
      " Dropped 1 rows from the dataset\n",
      "New size of dataset: (763, 54)\n",
      "Setting outcome to 2 for patients that have been discharged but we don't have a status on them\n",
      "Setting outcome to 2 for patients that have been discharged but we don't have a status on them\n",
      "Setting outcome to 2 for patients that have been discharged but we don't have a status on them\n",
      "Setting outcome to 2 for patients that have been discharged but we don't have a status on them\n",
      "Setting outcome to 2 for patients that have been discharged but we don't have a status on them\n",
      "Setting outcome to 2 for patients that have been discharged but we don't have a status on them\n",
      "Setting outcome to 2 for patients that have been discharged but we don't have a status on them\n",
      "Setting outcome to 2 for patients that have been discharged but we don't have a status on them\n",
      "Setting outcome to 2 for patients that have been discharged but we don't have a status on them\n",
      "Setting outcome to 2 for patients that have been discharged but we don't have a status on them\n",
      "Setting outcome to 2 for patients that have been discharged but we don't have a status on them\n",
      "Setting outcome to 2 for patients that have been discharged but we don't have a status on them\n",
      "Setting outcome to 2 for patients that have been discharged but we don't have a status on them\n",
      "Setting outcome to 2 for patients that have been discharged but we don't have a status on them\n",
      "Setting outcome to 2 for patients that have been discharged but we don't have a status on them\n",
      "Setting outcome to 2 for patients that have been discharged but we don't have a status on them\n",
      "Setting outcome to 2 for patients that have been discharged but we don't have a status on them\n",
      "Setting outcome to 2 for patients that have been discharged but we don't have a status on them\n"
     ]
    },
    {
     "name": "stderr",
     "output_type": "stream",
     "text": [
      "/usr/lib/python3.7/site-packages/pandas/core/series.py:851: FutureWarning: \n",
      "Passing list-likes to .loc or [] with any missing label will raise\n",
      "KeyError in the future, you can use .reindex() as an alternative.\n",
      "\n",
      "See the documentation here:\n",
      "https://pandas.pydata.org/pandas-docs/stable/indexing.html#deprecate-loc-reindex-listlike\n",
      "  return self.loc[key]\n"
     ]
    }
   ],
   "source": [
    "df=meta_clean(df)"
   ]
  },
  {
   "cell_type": "markdown",
   "metadata": {},
   "source": [
    "## impute missing"
   ]
  },
  {
   "cell_type": "code",
   "execution_count": 39,
   "metadata": {},
   "outputs": [
    {
     "name": "stdout",
     "output_type": "stream",
     "text": [
      "Successfully imputed for all missing values\n"
     ]
    }
   ],
   "source": [
    "final_imputation(df)"
   ]
  },
  {
   "cell_type": "markdown",
   "metadata": {},
   "source": [
    "### Numeric features"
   ]
  },
  {
   "cell_type": "markdown",
   "metadata": {},
   "source": [
    "## ef"
   ]
  },
  {
   "cell_type": "code",
   "execution_count": 7,
   "metadata": {},
   "outputs": [
    {
     "name": "stdout",
     "output_type": "stream",
     "text": [
      "========================================\n",
      "Summary Stats:\n",
      "----------------------------------------\n",
      "count    760.000000\n",
      "mean       0.486566\n",
      "std        0.131954\n",
      "min        0.100000\n",
      "25%        0.425000\n",
      "50%        0.500000\n",
      "75%        0.560000\n",
      "max        0.820000\n",
      "Name: ef, dtype: float64\n",
      "========================================\n",
      "Number of missing values:\n",
      "----------------------------------------\n",
      "0\n",
      "========================================\n",
      "Min 10 values:\n",
      "----------------------------------------\n",
      "335    0.100\n",
      "6      0.100\n",
      "23     0.125\n",
      "240    0.125\n",
      "698    0.140\n",
      "191    0.150\n",
      "534    0.150\n",
      "629    0.150\n",
      "365    0.165\n",
      "24     0.170\n",
      "Name: ef, dtype: float64\n",
      "========================================\n",
      "Max 10 values:\n",
      "----------------------------------------\n",
      "582    0.7000\n",
      "741    0.7100\n",
      "686    0.7500\n",
      "39     0.7500\n",
      "271    0.7500\n",
      "20     0.7750\n",
      "331    0.7800\n",
      "153    0.8000\n",
      "235    0.8002\n",
      "416    0.8200\n",
      "Name: ef, dtype: float64\n",
      "========================================\n",
      "Histogram:\n",
      "----------------------------------------\n"
     ]
    },
    {
     "data": {
      "image/png": "[encoded data removed]",
      "text/plain": [
       "<Figure size 432x288 with 1 Axes>"
      ]
     },
     "metadata": {
      "needs_background": "light"
     },
     "output_type": "display_data"
    }
   ],
   "source": [
    "numericFeatureAnalysis(df, \"ef\")"
   ]
  },
  {
   "cell_type": "markdown",
   "metadata": {},
   "source": [
    "### admit_weight"
   ]
  },
  {
   "cell_type": "code",
   "execution_count": 8,
   "metadata": {},
   "outputs": [
    {
     "name": "stdout",
     "output_type": "stream",
     "text": [
      "========================================\n",
      "Summary Stats:\n",
      "----------------------------------------\n"
     ]
    },
    {
     "ename": "KeyError",
     "evalue": "'admit_weight'",
     "output_type": "error",
     "traceback": [
      "\u001b[0;31m---------------------------------------------------------------------------\u001b[0m",
      "\u001b[0;31mKeyError\u001b[0m                                  Traceback (most recent call last)",
      "\u001b[0;32m/usr/lib/python3.7/site-packages/pandas/core/indexes/base.py\u001b[0m in \u001b[0;36mget_loc\u001b[0;34m(self, key, method, tolerance)\u001b[0m\n\u001b[1;32m   3077\u001b[0m             \u001b[0;32mtry\u001b[0m\u001b[0;34m:\u001b[0m\u001b[0;34m\u001b[0m\u001b[0m\n\u001b[0;32m-> 3078\u001b[0;31m                 \u001b[0;32mreturn\u001b[0m \u001b[0mself\u001b[0m\u001b[0;34m.\u001b[0m\u001b[0m_engine\u001b[0m\u001b[0;34m.\u001b[0m\u001b[0mget_loc\u001b[0m\u001b[0;34m(\u001b[0m\u001b[0mkey\u001b[0m\u001b[0;34m)\u001b[0m\u001b[0;34m\u001b[0m\u001b[0m\n\u001b[0m\u001b[1;32m   3079\u001b[0m             \u001b[0;32mexcept\u001b[0m \u001b[0mKeyError\u001b[0m\u001b[0;34m:\u001b[0m\u001b[0;34m\u001b[0m\u001b[0m\n",
      "\u001b[0;32mpandas/_libs/index.pyx\u001b[0m in \u001b[0;36mpandas._libs.index.IndexEngine.get_loc\u001b[0;34m()\u001b[0m\n",
      "\u001b[0;32mpandas/_libs/index.pyx\u001b[0m in \u001b[0;36mpandas._libs.index.IndexEngine.get_loc\u001b[0;34m()\u001b[0m\n",
      "\u001b[0;32mpandas/_libs/hashtable_class_helper.pxi\u001b[0m in \u001b[0;36mpandas._libs.hashtable.PyObjectHashTable.get_item\u001b[0;34m()\u001b[0m\n",
      "\u001b[0;32mpandas/_libs/hashtable_class_helper.pxi\u001b[0m in \u001b[0;36mpandas._libs.hashtable.PyObjectHashTable.get_item\u001b[0;34m()\u001b[0m\n",
      "\u001b[0;31mKeyError\u001b[0m: 'admit_weight'",
      "\nDuring handling of the above exception, another exception occurred:\n",
      "\u001b[0;31mKeyError\u001b[0m                                  Traceback (most recent call last)",
      "\u001b[0;32m<ipython-input-8-a639dfe795a0>\u001b[0m in \u001b[0;36m<module>\u001b[0;34m()\u001b[0m\n\u001b[0;32m----> 1\u001b[0;31m \u001b[0mnumericFeatureAnalysis\u001b[0m\u001b[0;34m(\u001b[0m\u001b[0mdf\u001b[0m\u001b[0;34m,\u001b[0m \u001b[0;34m\"admit_weight\"\u001b[0m\u001b[0;34m)\u001b[0m\u001b[0;34m\u001b[0m\u001b[0m\n\u001b[0m",
      "\u001b[0;32m~/python/Cardiac/featureEDAfun.py\u001b[0m in \u001b[0;36mnumericFeatureAnalysis\u001b[0;34m(df, feature)\u001b[0m\n\u001b[1;32m     14\u001b[0m     \u001b[0mprint\u001b[0m\u001b[0;34m(\u001b[0m\u001b[0;34m\"Summary Stats:\"\u001b[0m\u001b[0;34m)\u001b[0m\u001b[0;34m\u001b[0m\u001b[0m\n\u001b[1;32m     15\u001b[0m     \u001b[0mprint\u001b[0m\u001b[0;34m(\u001b[0m\u001b[0;34m\"-\"\u001b[0m\u001b[0;34m*\u001b[0m\u001b[0;36m40\u001b[0m\u001b[0;34m)\u001b[0m\u001b[0;34m\u001b[0m\u001b[0m\n\u001b[0;32m---> 16\u001b[0;31m     \u001b[0mprint\u001b[0m\u001b[0;34m(\u001b[0m\u001b[0mdf\u001b[0m\u001b[0;34m[\u001b[0m\u001b[0mfeature\u001b[0m\u001b[0;34m]\u001b[0m\u001b[0;34m.\u001b[0m\u001b[0mdescribe\u001b[0m\u001b[0;34m(\u001b[0m\u001b[0;34m)\u001b[0m\u001b[0;34m)\u001b[0m\u001b[0;34m\u001b[0m\u001b[0m\n\u001b[0m\u001b[1;32m     17\u001b[0m     \u001b[0mprint\u001b[0m\u001b[0;34m(\u001b[0m\u001b[0;34m\"=\"\u001b[0m\u001b[0;34m*\u001b[0m\u001b[0;36m40\u001b[0m\u001b[0;34m)\u001b[0m\u001b[0;34m\u001b[0m\u001b[0m\n\u001b[1;32m     18\u001b[0m     \u001b[0mprint\u001b[0m\u001b[0;34m(\u001b[0m\u001b[0;34m\"Number of missing values:\"\u001b[0m\u001b[0;34m)\u001b[0m\u001b[0;34m\u001b[0m\u001b[0m\n",
      "\u001b[0;32m/usr/lib/python3.7/site-packages/pandas/core/frame.py\u001b[0m in \u001b[0;36m__getitem__\u001b[0;34m(self, key)\u001b[0m\n\u001b[1;32m   2686\u001b[0m             \u001b[0;32mreturn\u001b[0m \u001b[0mself\u001b[0m\u001b[0;34m.\u001b[0m\u001b[0m_getitem_multilevel\u001b[0m\u001b[0;34m(\u001b[0m\u001b[0mkey\u001b[0m\u001b[0;34m)\u001b[0m\u001b[0;34m\u001b[0m\u001b[0m\n\u001b[1;32m   2687\u001b[0m         \u001b[0;32melse\u001b[0m\u001b[0;34m:\u001b[0m\u001b[0;34m\u001b[0m\u001b[0m\n\u001b[0;32m-> 2688\u001b[0;31m             \u001b[0;32mreturn\u001b[0m \u001b[0mself\u001b[0m\u001b[0;34m.\u001b[0m\u001b[0m_getitem_column\u001b[0m\u001b[0;34m(\u001b[0m\u001b[0mkey\u001b[0m\u001b[0;34m)\u001b[0m\u001b[0;34m\u001b[0m\u001b[0m\n\u001b[0m\u001b[1;32m   2689\u001b[0m \u001b[0;34m\u001b[0m\u001b[0m\n\u001b[1;32m   2690\u001b[0m     \u001b[0;32mdef\u001b[0m \u001b[0m_getitem_column\u001b[0m\u001b[0;34m(\u001b[0m\u001b[0mself\u001b[0m\u001b[0;34m,\u001b[0m \u001b[0mkey\u001b[0m\u001b[0;34m)\u001b[0m\u001b[0;34m:\u001b[0m\u001b[0;34m\u001b[0m\u001b[0m\n",
      "\u001b[0;32m/usr/lib/python3.7/site-packages/pandas/core/frame.py\u001b[0m in \u001b[0;36m_getitem_column\u001b[0;34m(self, key)\u001b[0m\n\u001b[1;32m   2693\u001b[0m         \u001b[0;31m# get column\u001b[0m\u001b[0;34m\u001b[0m\u001b[0;34m\u001b[0m\u001b[0m\n\u001b[1;32m   2694\u001b[0m         \u001b[0;32mif\u001b[0m \u001b[0mself\u001b[0m\u001b[0;34m.\u001b[0m\u001b[0mcolumns\u001b[0m\u001b[0;34m.\u001b[0m\u001b[0mis_unique\u001b[0m\u001b[0;34m:\u001b[0m\u001b[0;34m\u001b[0m\u001b[0m\n\u001b[0;32m-> 2695\u001b[0;31m             \u001b[0;32mreturn\u001b[0m \u001b[0mself\u001b[0m\u001b[0;34m.\u001b[0m\u001b[0m_get_item_cache\u001b[0m\u001b[0;34m(\u001b[0m\u001b[0mkey\u001b[0m\u001b[0;34m)\u001b[0m\u001b[0;34m\u001b[0m\u001b[0m\n\u001b[0m\u001b[1;32m   2696\u001b[0m \u001b[0;34m\u001b[0m\u001b[0m\n\u001b[1;32m   2697\u001b[0m         \u001b[0;31m# duplicate columns & possible reduce dimensionality\u001b[0m\u001b[0;34m\u001b[0m\u001b[0;34m\u001b[0m\u001b[0m\n",
      "\u001b[0;32m/usr/lib/python3.7/site-packages/pandas/core/generic.py\u001b[0m in \u001b[0;36m_get_item_cache\u001b[0;34m(self, item)\u001b[0m\n\u001b[1;32m   2487\u001b[0m         \u001b[0mres\u001b[0m \u001b[0;34m=\u001b[0m \u001b[0mcache\u001b[0m\u001b[0;34m.\u001b[0m\u001b[0mget\u001b[0m\u001b[0;34m(\u001b[0m\u001b[0mitem\u001b[0m\u001b[0;34m)\u001b[0m\u001b[0;34m\u001b[0m\u001b[0m\n\u001b[1;32m   2488\u001b[0m         \u001b[0;32mif\u001b[0m \u001b[0mres\u001b[0m \u001b[0;32mis\u001b[0m \u001b[0;32mNone\u001b[0m\u001b[0;34m:\u001b[0m\u001b[0;34m\u001b[0m\u001b[0m\n\u001b[0;32m-> 2489\u001b[0;31m             \u001b[0mvalues\u001b[0m \u001b[0;34m=\u001b[0m \u001b[0mself\u001b[0m\u001b[0;34m.\u001b[0m\u001b[0m_data\u001b[0m\u001b[0;34m.\u001b[0m\u001b[0mget\u001b[0m\u001b[0;34m(\u001b[0m\u001b[0mitem\u001b[0m\u001b[0;34m)\u001b[0m\u001b[0;34m\u001b[0m\u001b[0m\n\u001b[0m\u001b[1;32m   2490\u001b[0m             \u001b[0mres\u001b[0m \u001b[0;34m=\u001b[0m \u001b[0mself\u001b[0m\u001b[0;34m.\u001b[0m\u001b[0m_box_item_values\u001b[0m\u001b[0;34m(\u001b[0m\u001b[0mitem\u001b[0m\u001b[0;34m,\u001b[0m \u001b[0mvalues\u001b[0m\u001b[0;34m)\u001b[0m\u001b[0;34m\u001b[0m\u001b[0m\n\u001b[1;32m   2491\u001b[0m             \u001b[0mcache\u001b[0m\u001b[0;34m[\u001b[0m\u001b[0mitem\u001b[0m\u001b[0;34m]\u001b[0m \u001b[0;34m=\u001b[0m \u001b[0mres\u001b[0m\u001b[0;34m\u001b[0m\u001b[0m\n",
      "\u001b[0;32m/usr/lib/python3.7/site-packages/pandas/core/internals.py\u001b[0m in \u001b[0;36mget\u001b[0;34m(self, item, fastpath)\u001b[0m\n\u001b[1;32m   4113\u001b[0m \u001b[0;34m\u001b[0m\u001b[0m\n\u001b[1;32m   4114\u001b[0m             \u001b[0;32mif\u001b[0m \u001b[0;32mnot\u001b[0m \u001b[0misna\u001b[0m\u001b[0;34m(\u001b[0m\u001b[0mitem\u001b[0m\u001b[0;34m)\u001b[0m\u001b[0;34m:\u001b[0m\u001b[0;34m\u001b[0m\u001b[0m\n\u001b[0;32m-> 4115\u001b[0;31m                 \u001b[0mloc\u001b[0m \u001b[0;34m=\u001b[0m \u001b[0mself\u001b[0m\u001b[0;34m.\u001b[0m\u001b[0mitems\u001b[0m\u001b[0;34m.\u001b[0m\u001b[0mget_loc\u001b[0m\u001b[0;34m(\u001b[0m\u001b[0mitem\u001b[0m\u001b[0;34m)\u001b[0m\u001b[0;34m\u001b[0m\u001b[0m\n\u001b[0m\u001b[1;32m   4116\u001b[0m             \u001b[0;32melse\u001b[0m\u001b[0;34m:\u001b[0m\u001b[0;34m\u001b[0m\u001b[0m\n\u001b[1;32m   4117\u001b[0m                 \u001b[0mindexer\u001b[0m \u001b[0;34m=\u001b[0m \u001b[0mnp\u001b[0m\u001b[0;34m.\u001b[0m\u001b[0marange\u001b[0m\u001b[0;34m(\u001b[0m\u001b[0mlen\u001b[0m\u001b[0;34m(\u001b[0m\u001b[0mself\u001b[0m\u001b[0;34m.\u001b[0m\u001b[0mitems\u001b[0m\u001b[0;34m)\u001b[0m\u001b[0;34m)\u001b[0m\u001b[0;34m[\u001b[0m\u001b[0misna\u001b[0m\u001b[0;34m(\u001b[0m\u001b[0mself\u001b[0m\u001b[0;34m.\u001b[0m\u001b[0mitems\u001b[0m\u001b[0;34m)\u001b[0m\u001b[0;34m]\u001b[0m\u001b[0;34m\u001b[0m\u001b[0m\n",
      "\u001b[0;32m/usr/lib/python3.7/site-packages/pandas/core/indexes/base.py\u001b[0m in \u001b[0;36mget_loc\u001b[0;34m(self, key, method, tolerance)\u001b[0m\n\u001b[1;32m   3078\u001b[0m                 \u001b[0;32mreturn\u001b[0m \u001b[0mself\u001b[0m\u001b[0;34m.\u001b[0m\u001b[0m_engine\u001b[0m\u001b[0;34m.\u001b[0m\u001b[0mget_loc\u001b[0m\u001b[0;34m(\u001b[0m\u001b[0mkey\u001b[0m\u001b[0;34m)\u001b[0m\u001b[0;34m\u001b[0m\u001b[0m\n\u001b[1;32m   3079\u001b[0m             \u001b[0;32mexcept\u001b[0m \u001b[0mKeyError\u001b[0m\u001b[0;34m:\u001b[0m\u001b[0;34m\u001b[0m\u001b[0m\n\u001b[0;32m-> 3080\u001b[0;31m                 \u001b[0;32mreturn\u001b[0m \u001b[0mself\u001b[0m\u001b[0;34m.\u001b[0m\u001b[0m_engine\u001b[0m\u001b[0;34m.\u001b[0m\u001b[0mget_loc\u001b[0m\u001b[0;34m(\u001b[0m\u001b[0mself\u001b[0m\u001b[0;34m.\u001b[0m\u001b[0m_maybe_cast_indexer\u001b[0m\u001b[0;34m(\u001b[0m\u001b[0mkey\u001b[0m\u001b[0;34m)\u001b[0m\u001b[0;34m)\u001b[0m\u001b[0;34m\u001b[0m\u001b[0m\n\u001b[0m\u001b[1;32m   3081\u001b[0m \u001b[0;34m\u001b[0m\u001b[0m\n\u001b[1;32m   3082\u001b[0m         \u001b[0mindexer\u001b[0m \u001b[0;34m=\u001b[0m \u001b[0mself\u001b[0m\u001b[0;34m.\u001b[0m\u001b[0mget_indexer\u001b[0m\u001b[0;34m(\u001b[0m\u001b[0;34m[\u001b[0m\u001b[0mkey\u001b[0m\u001b[0;34m]\u001b[0m\u001b[0;34m,\u001b[0m \u001b[0mmethod\u001b[0m\u001b[0;34m=\u001b[0m\u001b[0mmethod\u001b[0m\u001b[0;34m,\u001b[0m \u001b[0mtolerance\u001b[0m\u001b[0;34m=\u001b[0m\u001b[0mtolerance\u001b[0m\u001b[0;34m)\u001b[0m\u001b[0;34m\u001b[0m\u001b[0m\n",
      "\u001b[0;32mpandas/_libs/index.pyx\u001b[0m in \u001b[0;36mpandas._libs.index.IndexEngine.get_loc\u001b[0;34m()\u001b[0m\n",
      "\u001b[0;32mpandas/_libs/index.pyx\u001b[0m in \u001b[0;36mpandas._libs.index.IndexEngine.get_loc\u001b[0;34m()\u001b[0m\n",
      "\u001b[0;32mpandas/_libs/hashtable_class_helper.pxi\u001b[0m in \u001b[0;36mpandas._libs.hashtable.PyObjectHashTable.get_item\u001b[0;34m()\u001b[0m\n",
      "\u001b[0;32mpandas/_libs/hashtable_class_helper.pxi\u001b[0m in \u001b[0;36mpandas._libs.hashtable.PyObjectHashTable.get_item\u001b[0;34m()\u001b[0m\n",
      "\u001b[0;31mKeyError\u001b[0m: 'admit_weight'"
     ]
    }
   ],
   "source": [
    "numericFeatureAnalysis(df, \"admit_weight\")"
   ]
  },
  {
   "cell_type": "markdown",
   "metadata": {},
   "source": [
    "Skew. A lot of missing. Impute current weight if available?"
   ]
  },
  {
   "cell_type": "markdown",
   "metadata": {},
   "source": [
    "### weight"
   ]
  },
  {
   "cell_type": "markdown",
   "metadata": {},
   "source": [
    "No missing weight numbers, seems like a good way to impute."
   ]
  },
  {
   "cell_type": "markdown",
   "metadata": {},
   "source": [
    "Log plot is better, but still a bit skew."
   ]
  },
  {
   "cell_type": "markdown",
   "metadata": {},
   "source": [
    "### weight"
   ]
  },
  {
   "cell_type": "code",
   "execution_count": 9,
   "metadata": {
    "scrolled": false
   },
   "outputs": [
    {
     "name": "stdout",
     "output_type": "stream",
     "text": [
      "========================================\n",
      "Summary Stats:\n",
      "----------------------------------------\n",
      "count    760.000000\n",
      "mean     170.278763\n",
      "std       57.530758\n",
      "min       71.200000\n",
      "25%      132.075000\n",
      "50%      158.000000\n",
      "75%      195.325000\n",
      "max      468.000000\n",
      "Name: weight, dtype: float64\n",
      "========================================\n",
      "Number of missing values:\n",
      "----------------------------------------\n",
      "0\n",
      "========================================\n",
      "Min 10 values:\n",
      "----------------------------------------\n",
      "738    71.20\n",
      "144    72.00\n",
      "239    73.00\n",
      "351    75.80\n",
      "690    76.60\n",
      "706    79.20\n",
      "606    80.20\n",
      "480    80.52\n",
      "393    82.00\n",
      "346    86.00\n",
      "Name: weight, dtype: float64\n",
      "========================================\n",
      "Max 10 values:\n",
      "----------------------------------------\n",
      "336    340.1\n",
      "614    344.0\n",
      "623    374.8\n",
      "34     378.8\n",
      "681    386.0\n",
      "582    390.5\n",
      "720    401.2\n",
      "324    410.0\n",
      "609    432.0\n",
      "436    468.0\n",
      "Name: weight, dtype: float64\n",
      "========================================\n",
      "Histogram:\n",
      "----------------------------------------\n"
     ]
    },
    {
     "data": {
      "image/png": "[encoded data removed]",
      "text/plain": [
       "<Figure size 432x288 with 1 Axes>"
      ]
     },
     "metadata": {
      "needs_background": "light"
     },
     "output_type": "display_data"
    }
   ],
   "source": [
    "numericFeatureAnalysis(df, \"weight\")"
   ]
  },
  {
   "cell_type": "markdown",
   "metadata": {},
   "source": [
    "Skew."
   ]
  },
  {
   "cell_type": "code",
   "execution_count": 10,
   "metadata": {},
   "outputs": [
    {
     "data": {
      "text/plain": [
       "<matplotlib.axes._subplots.AxesSubplot at 0x7f4688c947f0>"
      ]
     },
     "execution_count": 10,
     "metadata": {},
     "output_type": "execute_result"
    },
    {
     "data": {
      "image/png": "[encoded data removed]",
      "text/plain": [
       "<Figure size 432x288 with 1 Axes>"
      ]
     },
     "metadata": {
      "needs_background": "light"
     },
     "output_type": "display_data"
    }
   ],
   "source": [
    "(df.weight).map(np.log).hist()"
   ]
  },
  {
   "cell_type": "markdown",
   "metadata": {},
   "source": [
    "Better, still a bit skew."
   ]
  },
  {
   "cell_type": "markdown",
   "metadata": {},
   "source": [
    "### this_weight_change"
   ]
  },
  {
   "cell_type": "code",
   "execution_count": 17,
   "metadata": {
    "scrolled": false
   },
   "outputs": [
    {
     "name": "stdout",
     "output_type": "stream",
     "text": [
      "========================================\n",
      "Summary Stats:\n",
      "----------------------------------------\n",
      "count    760.000000\n",
      "mean      -0.002785\n",
      "std        0.029661\n",
      "min       -0.240781\n",
      "25%       -0.009533\n",
      "50%        0.000000\n",
      "75%        0.006184\n",
      "max        0.170732\n",
      "Name: this_weight_change_frac, dtype: float64\n",
      "========================================\n",
      "Number of missing values:\n",
      "----------------------------------------\n",
      "0\n",
      "========================================\n",
      "Min 10 values:\n",
      "----------------------------------------\n",
      "210   -0.240781\n",
      "736   -0.195455\n",
      "746   -0.159492\n",
      "516   -0.140777\n",
      "286   -0.140244\n",
      "480   -0.127670\n",
      "483   -0.117117\n",
      "325   -0.116466\n",
      "136   -0.108871\n",
      "436   -0.108120\n",
      "Name: this_weight_change_frac, dtype: float64\n",
      "========================================\n",
      "Max 10 values:\n",
      "----------------------------------------\n",
      "755    0.070085\n",
      "107    0.071429\n",
      "64     0.073421\n",
      "320    0.085455\n",
      "46     0.089674\n",
      "711    0.102510\n",
      "386    0.120536\n",
      "375    0.148021\n",
      "400    0.159322\n",
      "660    0.170732\n",
      "Name: this_weight_change_frac, dtype: float64\n",
      "========================================\n",
      "Histogram:\n",
      "----------------------------------------\n"
     ]
    },
    {
     "data": {
      "image/png": "[encoded data removed]",
      "text/plain": [
       "<Figure size 432x288 with 1 Axes>"
      ]
     },
     "metadata": {
      "needs_background": "light"
     },
     "output_type": "display_data"
    }
   ],
   "source": [
    "numericFeatureAnalysis(df, \"this_weight_change_frac\")"
   ]
  },
  {
   "cell_type": "markdown",
   "metadata": {},
   "source": [
    "### weight_change_since_admit"
   ]
  },
  {
   "cell_type": "code",
   "execution_count": 19,
   "metadata": {},
   "outputs": [
    {
     "name": "stdout",
     "output_type": "stream",
     "text": [
      "========================================\n",
      "Summary Stats:\n",
      "----------------------------------------\n",
      "count    760.000000\n",
      "mean       0.003350\n",
      "std        0.075464\n",
      "min       -0.247216\n",
      "25%        0.000000\n",
      "50%        0.000000\n",
      "75%        0.003004\n",
      "max        0.241877\n",
      "Name: weight_change_since_admit_frac, dtype: float64\n",
      "========================================\n",
      "Number of missing values:\n",
      "----------------------------------------\n",
      "0\n",
      "========================================\n",
      "Min 10 values:\n",
      "----------------------------------------\n",
      "27    -0.247216\n",
      "219   -0.242647\n",
      "64    -0.240822\n",
      "12    -0.232123\n",
      "270   -0.223881\n",
      "346   -0.220930\n",
      "665   -0.220708\n",
      "11    -0.213434\n",
      "53    -0.212121\n",
      "718   -0.207143\n",
      "Name: weight_change_since_admit_frac, dtype: float64\n",
      "========================================\n",
      "Max 10 values:\n",
      "----------------------------------------\n",
      "195    0.209828\n",
      "608    0.213811\n",
      "148    0.214072\n",
      "592    0.216418\n",
      "450    0.221184\n",
      "678    0.227941\n",
      "563    0.229015\n",
      "622    0.232643\n",
      "28     0.233333\n",
      "13     0.241877\n",
      "Name: weight_change_since_admit_frac, dtype: float64\n",
      "========================================\n",
      "Histogram:\n",
      "----------------------------------------\n"
     ]
    },
    {
     "data": {
      "image/png": "[encoded data removed]",
      "text/plain": [
       "<Figure size 432x288 with 1 Axes>"
      ]
     },
     "metadata": {
      "needs_background": "light"
     },
     "output_type": "display_data"
    }
   ],
   "source": [
    "numericFeatureAnalysis(df, \"weight_change_since_admit_frac\")"
   ]
  },
  {
   "cell_type": "markdown",
   "metadata": {},
   "source": [
    "Hist looks OK. Impute missing as 0 or by weight change since last measurement?"
   ]
  },
  {
   "cell_type": "markdown",
   "metadata": {},
   "source": [
    "<p><a name=\"labs\"></a></p>\n",
    "## Labs"
   ]
  },
  {
   "cell_type": "markdown",
   "metadata": {},
   "source": [
    "<p><a name=\"bnp\"></a></p>\n",
    "### BNP"
   ]
  },
  {
   "cell_type": "code",
   "execution_count": 20,
   "metadata": {},
   "outputs": [
    {
     "name": "stdout",
     "output_type": "stream",
     "text": [
      "========================================\n",
      "Summary Stats:\n",
      "----------------------------------------\n",
      "count      760.000000\n",
      "mean       676.247342\n",
      "std       2714.392657\n",
      "min          1.990000\n",
      "25%         74.750000\n",
      "50%        228.500000\n",
      "75%        578.250000\n",
      "max      68432.000000\n",
      "Name: bnp, dtype: float64\n",
      "========================================\n",
      "Number of missing values:\n",
      "----------------------------------------\n",
      "0\n",
      "========================================\n",
      "Min 10 values:\n",
      "----------------------------------------\n",
      "152    1.99\n",
      "206    1.99\n",
      "474    2.00\n",
      "151    2.00\n",
      "715    2.00\n",
      "35     2.00\n",
      "700    2.00\n",
      "146    2.00\n",
      "10     2.00\n",
      "640    6.00\n",
      "Name: bnp, dtype: float64\n",
      "========================================\n",
      "Max 10 values:\n",
      "----------------------------------------\n",
      "286     5000.0\n",
      "24      5000.0\n",
      "599     5000.0\n",
      "409     5000.0\n",
      "684     5000.0\n",
      "287     5000.0\n",
      "387     5000.0\n",
      "16      5000.0\n",
      "207    19085.0\n",
      "15     68432.0\n",
      "Name: bnp, dtype: float64\n",
      "========================================\n",
      "Histogram:\n",
      "----------------------------------------\n"
     ]
    },
    {
     "data": {
      "image/png": "[encoded data removed]",
      "text/plain": [
       "<Figure size 432x288 with 1 Axes>"
      ]
     },
     "metadata": {
      "needs_background": "light"
     },
     "output_type": "display_data"
    }
   ],
   "source": [
    "numericFeatureAnalysis(df, \"bnp\")"
   ]
  },
  {
   "cell_type": "markdown",
   "metadata": {},
   "source": [
    "Heavily skewed plot! Are values greater than 5000 outliers/typos?"
   ]
  },
  {
   "cell_type": "code",
   "execution_count": 21,
   "metadata": {},
   "outputs": [
    {
     "data": {
      "text/plain": [
       "(array([  9.,  13.,  23.,  78., 115., 134., 167., 113.,  57.,  49.]),\n",
       " array([0.68813464, 1.47104049, 2.25394635, 3.0368522 , 3.81975806,\n",
       "        4.60266392, 5.38556977, 6.16847563, 6.95138148, 7.73428734,\n",
       "        8.51719319]),\n",
       " <a list of 10 Patch objects>)"
      ]
     },
     "execution_count": 21,
     "metadata": {},
     "output_type": "execute_result"
    },
    {
     "data": {
      "image/png": "[encoded data removed]",
      "text/plain": [
       "<Figure size 432x288 with 1 Axes>"
      ]
     },
     "metadata": {
      "needs_background": "light"
     },
     "output_type": "display_data"
    }
   ],
   "source": [
    "plt.hist(df.bnp[df.bnp < 5001].map(np.log))"
   ]
  },
  {
   "cell_type": "markdown",
   "metadata": {},
   "source": [
    "log plot is much better! Box-Cox?"
   ]
  },
  {
   "cell_type": "markdown",
   "metadata": {},
   "source": [
    "### this_bnp_change"
   ]
  },
  {
   "cell_type": "code",
   "execution_count": 22,
   "metadata": {
    "scrolled": false
   },
   "outputs": [
    {
     "name": "stdout",
     "output_type": "stream",
     "text": [
      "========================================\n",
      "Summary Stats:\n",
      "----------------------------------------\n",
      "count     760.000000\n",
      "mean        6.515816\n",
      "std       387.976491\n",
      "min     -2966.000000\n",
      "25%       -35.000000\n",
      "50%         0.000000\n",
      "75%        46.000000\n",
      "max      2580.000000\n",
      "Name: this_bnp_change, dtype: float64\n",
      "========================================\n",
      "Number of missing values:\n",
      "----------------------------------------\n",
      "0\n",
      "========================================\n",
      "Min 10 values:\n",
      "----------------------------------------\n",
      "207   -2966.0\n",
      "93    -2600.0\n",
      "259   -1848.0\n",
      "301   -1780.0\n",
      "549   -1774.0\n",
      "584   -1725.0\n",
      "59    -1699.0\n",
      "41    -1549.0\n",
      "202   -1419.0\n",
      "136   -1165.0\n",
      "Name: this_bnp_change, dtype: float64\n",
      "========================================\n",
      "Max 10 values:\n",
      "----------------------------------------\n",
      "377    1304.0\n",
      "249    1433.0\n",
      "660    1439.0\n",
      "221    1480.0\n",
      "568    1510.0\n",
      "478    1556.0\n",
      "588    1704.0\n",
      "673    1816.0\n",
      "676    2393.0\n",
      "94     2580.0\n",
      "Name: this_bnp_change, dtype: float64\n",
      "========================================\n",
      "Histogram:\n",
      "----------------------------------------\n"
     ]
    },
    {
     "data": {
      "image/png": "[encoded data removed]",
      "text/plain": [
       "<Figure size 432x288 with 1 Axes>"
      ]
     },
     "metadata": {
      "needs_background": "light"
     },
     "output_type": "display_data"
    }
   ],
   "source": [
    "numericFeatureAnalysis(df, \"this_bnp_change\")"
   ]
  },
  {
   "cell_type": "markdown",
   "metadata": {},
   "source": [
    "Few missing. Suggest imputing 0? Perhaps they only have one bnp measurement.\n",
    "\n",
    "-66618 bnp change is a ludicrous outlier"
   ]
  },
  {
   "cell_type": "markdown",
   "metadata": {},
   "source": [
    "2580 is an outlier, but perhaps not rediculous."
   ]
  },
  {
   "cell_type": "code",
   "execution_count": 23,
   "metadata": {
    "scrolled": false
   },
   "outputs": [
    {
     "data": {
      "text/plain": [
       "(array([  6.,   2.,  14.,  19., 187., 338.,  26.,  14.,   6.,   5.]),\n",
       " array([-1848. , -1481.6, -1115.2,  -748.8,  -382.4,   -16. ,   350.4,\n",
       "          716.8,  1083.2,  1449.6,  1816. ]),\n",
       " <a list of 10 Patch objects>)"
      ]
     },
     "execution_count": 23,
     "metadata": {},
     "output_type": "execute_result"
    },
    {
     "data": {
      "image/png": "[encoded data removed]",
      "text/plain": [
       "<Figure size 432x288 with 1 Axes>"
      ]
     },
     "metadata": {
      "needs_background": "light"
     },
     "output_type": "display_data"
    }
   ],
   "source": [
    "plt.hist(df.this_bnp_change.dropna()[(df.this_bnp_change > -2000)&(df.this_bnp_change != 0)&(df.this_bnp_change < 2000)])"
   ]
  },
  {
   "cell_type": "markdown",
   "metadata": {},
   "source": [
    "## Labs"
   ]
  },
  {
   "cell_type": "markdown",
   "metadata": {},
   "source": [
    "### bun"
   ]
  },
  {
   "cell_type": "code",
   "execution_count": 24,
   "metadata": {},
   "outputs": [
    {
     "name": "stdout",
     "output_type": "stream",
     "text": [
      "========================================\n",
      "Summary Stats:\n",
      "----------------------------------------\n",
      "count    760.000000\n",
      "mean      34.096053\n",
      "std       21.231579\n",
      "min        8.000000\n",
      "25%       19.000000\n",
      "50%       28.000000\n",
      "75%       43.000000\n",
      "max      205.000000\n",
      "Name: bun, dtype: float64\n",
      "========================================\n",
      "Number of missing values:\n",
      "----------------------------------------\n",
      "0\n",
      "========================================\n",
      "Min 10 values:\n",
      "----------------------------------------\n",
      "284     8.0\n",
      "228     9.0\n",
      "324     9.0\n",
      "441     9.0\n",
      "648     9.0\n",
      "609     9.0\n",
      "607     9.0\n",
      "666     9.0\n",
      "282     9.0\n",
      "349    10.0\n",
      "Name: bun, dtype: float64\n",
      "========================================\n",
      "Max 10 values:\n",
      "----------------------------------------\n",
      "101     99.0\n",
      "436     99.0\n",
      "617    100.0\n",
      "482    102.0\n",
      "479    105.0\n",
      "234    106.0\n",
      "382    109.0\n",
      "165    125.0\n",
      "555    128.0\n",
      "404    205.0\n",
      "Name: bun, dtype: float64\n",
      "========================================\n",
      "Histogram:\n",
      "----------------------------------------\n"
     ]
    },
    {
     "data": {
      "image/png": "[encoded data removed]",
      "text/plain": [
       "<Figure size 432x288 with 1 Axes>"
      ]
     },
     "metadata": {
      "needs_background": "light"
     },
     "output_type": "display_data"
    }
   ],
   "source": [
    "numericFeatureAnalysis(df, \"bun\")"
   ]
  },
  {
   "cell_type": "markdown",
   "metadata": {},
   "source": [
    "Impute single missing with mean?\n",
    "\n",
    "max value outlier?\n",
    "\n",
    "Skew Hist.\n",
    "\n",
    "Why the 0 values? If imputed, I suggest changing the imputation to be the average."
   ]
  },
  {
   "cell_type": "code",
   "execution_count": 25,
   "metadata": {},
   "outputs": [
    {
     "data": {
      "text/plain": [
       "(array([ 32.,  59., 159., 156., 143., 107.,  64.,  36.,   3.,   1.]),\n",
       " array([2.07944154, 2.40379839, 2.72815523, 3.05251207, 3.37686892,\n",
       "        3.70122576, 4.0255826 , 4.34993945, 4.67429629, 4.99865314,\n",
       "        5.32300998]),\n",
       " <a list of 10 Patch objects>)"
      ]
     },
     "execution_count": 25,
     "metadata": {},
     "output_type": "execute_result"
    },
    {
     "data": {
      "image/png": "[encoded data removed]",
      "text/plain": [
       "<Figure size 432x288 with 1 Axes>"
      ]
     },
     "metadata": {
      "needs_background": "light"
     },
     "output_type": "display_data"
    }
   ],
   "source": [
    "plt.hist((df.bun[df.bun > 0]).map(np.log))"
   ]
  },
  {
   "cell_type": "markdown",
   "metadata": {},
   "source": [
    "Log plot is better. Box-Cox?"
   ]
  },
  {
   "cell_type": "markdown",
   "metadata": {},
   "source": [
    "### cr"
   ]
  },
  {
   "cell_type": "code",
   "execution_count": 26,
   "metadata": {},
   "outputs": [
    {
     "name": "stdout",
     "output_type": "stream",
     "text": [
      "========================================\n",
      "Summary Stats:\n",
      "----------------------------------------\n",
      "count    760.000000\n",
      "mean       1.549961\n",
      "std        1.361379\n",
      "min        0.200000\n",
      "25%        0.800000\n",
      "50%        1.100000\n",
      "75%        1.600000\n",
      "max        9.100000\n",
      "Name: cr, dtype: float64\n",
      "========================================\n",
      "Number of missing values:\n",
      "----------------------------------------\n",
      "0\n",
      "========================================\n",
      "Min 10 values:\n",
      "----------------------------------------\n",
      "677    0.2\n",
      "276    0.3\n",
      "474    0.3\n",
      "164    0.3\n",
      "690    0.3\n",
      "400    0.3\n",
      "250    0.4\n",
      "256    0.4\n",
      "500    0.4\n",
      "532    0.4\n",
      "Name: cr, dtype: float64\n",
      "========================================\n",
      "Max 10 values:\n",
      "----------------------------------------\n",
      "409    7.10\n",
      "410    7.80\n",
      "599    7.92\n",
      "596    8.13\n",
      "639    8.24\n",
      "7      8.30\n",
      "27     8.40\n",
      "663    8.80\n",
      "404    8.90\n",
      "508    9.10\n",
      "Name: cr, dtype: float64\n",
      "========================================\n",
      "Histogram:\n",
      "----------------------------------------\n"
     ]
    },
    {
     "data": {
      "image/png": "[encoded data removed]",
      "text/plain": [
       "<Figure size 432x288 with 1 Axes>"
      ]
     },
     "metadata": {
      "needs_background": "light"
     },
     "output_type": "display_data"
    }
   ],
   "source": [
    "numericFeatureAnalysis(df, \"cr\")"
   ]
  },
  {
   "cell_type": "markdown",
   "metadata": {},
   "source": [
    "Impute missing using mean?\n",
    "\n",
    "Nonsensical zero values? Treat as missing?\n",
    "\n",
    "Skew plot!"
   ]
  },
  {
   "cell_type": "code",
   "execution_count": 27,
   "metadata": {
    "scrolled": true
   },
   "outputs": [
    {
     "data": {
      "text/plain": [
       "(array([  1.,  15.,  65., 194., 219., 125.,  66.,  30.,  29.,  16.]),\n",
       " array([-1.60943791, -1.22766668, -0.84589545, -0.46412421, -0.08235298,\n",
       "         0.29941825,  0.68118948,  1.06296072,  1.44473195,  1.82650318,\n",
       "         2.20827441]),\n",
       " <a list of 10 Patch objects>)"
      ]
     },
     "execution_count": 27,
     "metadata": {},
     "output_type": "execute_result"
    },
    {
     "data": {
      "image/png": "[encoded data removed]",
      "text/plain": [
       "<Figure size 432x288 with 1 Axes>"
      ]
     },
     "metadata": {
      "needs_background": "light"
     },
     "output_type": "display_data"
    }
   ],
   "source": [
    "plt.hist((df.cr[df.cr > 0]).map(np.log))"
   ]
  },
  {
   "cell_type": "markdown",
   "metadata": {},
   "source": [
    "Log plot is better but still seems a bit skewed. Box-Cox?"
   ]
  },
  {
   "cell_type": "markdown",
   "metadata": {},
   "source": [
    "### sodium"
   ]
  },
  {
   "cell_type": "code",
   "execution_count": 29,
   "metadata": {},
   "outputs": [
    {
     "name": "stdout",
     "output_type": "stream",
     "text": [
      "========================================\n",
      "Summary Stats:\n",
      "----------------------------------------\n",
      "count    430.000000\n",
      "mean     140.386047\n",
      "std        4.170581\n",
      "min      120.000000\n",
      "25%      138.000000\n",
      "50%      141.000000\n",
      "75%      143.000000\n",
      "max      164.000000\n",
      "Name: sodium, dtype: float64\n",
      "========================================\n",
      "Number of missing values:\n",
      "----------------------------------------\n",
      "330\n",
      "========================================\n",
      "Min 10 values:\n",
      "----------------------------------------\n",
      "85     120.0\n",
      "81     126.0\n",
      "149    127.0\n",
      "734    130.0\n",
      "24     130.0\n",
      "75     131.0\n",
      "220    131.0\n",
      "109    132.0\n",
      "71     132.0\n",
      "676    132.0\n",
      "Name: sodium, dtype: float64\n",
      "========================================\n",
      "Max 10 values:\n",
      "----------------------------------------\n",
      "741    149.0\n",
      "20     149.0\n",
      "509    150.0\n",
      "5      150.0\n",
      "243    151.0\n",
      "692    151.0\n",
      "33     152.0\n",
      "16     153.0\n",
      "116    156.0\n",
      "165    164.0\n",
      "Name: sodium, dtype: float64\n",
      "========================================\n",
      "Histogram:\n",
      "----------------------------------------\n"
     ]
    },
    {
     "data": {
      "image/png": "[encoded data removed]",
      "text/plain": [
       "<Figure size 432x288 with 1 Axes>"
      ]
     },
     "metadata": {
      "needs_background": "light"
     },
     "output_type": "display_data"
    }
   ],
   "source": [
    "numericFeatureAnalysis(df, \"sodium\")"
   ]
  },
  {
   "cell_type": "markdown",
   "metadata": {},
   "source": [
    "Loads of missing! How to impute?"
   ]
  },
  {
   "cell_type": "markdown",
   "metadata": {},
   "source": [
    "Not bad."
   ]
  },
  {
   "cell_type": "markdown",
   "metadata": {},
   "source": [
    "### potasium"
   ]
  },
  {
   "cell_type": "code",
   "execution_count": 35,
   "metadata": {},
   "outputs": [
    {
     "name": "stdout",
     "output_type": "stream",
     "text": [
      "========================================\n",
      "Summary Stats:\n",
      "----------------------------------------\n",
      "count    760.000000\n",
      "mean       4.419605\n",
      "std        0.604134\n",
      "min        2.000000\n",
      "25%        4.000000\n",
      "50%        4.400000\n",
      "75%        4.800000\n",
      "max        7.500000\n",
      "Name: potasium, dtype: float64\n",
      "========================================\n",
      "Number of missing values:\n",
      "----------------------------------------\n",
      "0\n",
      "========================================\n",
      "Min 10 values:\n",
      "----------------------------------------\n",
      "617    2.0\n",
      "684    2.4\n",
      "39     2.7\n",
      "692    2.8\n",
      "418    3.0\n",
      "710    3.0\n",
      "503    3.0\n",
      "688    3.0\n",
      "123    3.1\n",
      "744    3.2\n",
      "Name: potasium, dtype: float64\n",
      "========================================\n",
      "Max 10 values:\n",
      "----------------------------------------\n",
      "697    5.8\n",
      "14     5.9\n",
      "673    5.9\n",
      "675    5.9\n",
      "387    5.9\n",
      "325    5.9\n",
      "219    6.0\n",
      "599    6.2\n",
      "56     7.3\n",
      "650    7.5\n",
      "Name: potasium, dtype: float64\n",
      "========================================\n",
      "Histogram:\n",
      "----------------------------------------\n"
     ]
    },
    {
     "data": {
      "image/png": "[encoded data removed]",
      "text/plain": [
       "<Figure size 432x288 with 1 Axes>"
      ]
     },
     "metadata": {
      "needs_background": "light"
     },
     "output_type": "display_data"
    }
   ],
   "source": [
    "numericFeatureAnalysis(df, \"potasium\")"
   ]
  },
  {
   "cell_type": "markdown",
   "metadata": {},
   "source": [
    "Impute missing value with mean?\n",
    "\n",
    "Are 0 values Errors? Treat as missing?\n",
    "\n",
    "22.3 L value seems like crazy outlier? Treat as 2.3? Treat as missing?"
   ]
  },
  {
   "cell_type": "code",
   "execution_count": 36,
   "metadata": {},
   "outputs": [
    {
     "data": {
      "text/plain": [
       "(array([  2.,   6.,  60., 183., 309., 151.,  40.,   7.,   0.,   2.]),\n",
       " array([2.  , 2.55, 3.1 , 3.65, 4.2 , 4.75, 5.3 , 5.85, 6.4 , 6.95, 7.5 ]),\n",
       " <a list of 10 Patch objects>)"
      ]
     },
     "execution_count": 36,
     "metadata": {},
     "output_type": "execute_result"
    },
    {
     "data": {
      "image/png": "[encoded data removed]",
      "text/plain": [
       "<Figure size 432x288 with 1 Axes>"
      ]
     },
     "metadata": {
      "needs_background": "light"
     },
     "output_type": "display_data"
    }
   ],
   "source": [
    "plt.hist(df.potasium[(df.potasium < 20)&(df.potasium > 0)].dropna())"
   ]
  },
  {
   "cell_type": "markdown",
   "metadata": {},
   "source": [
    "Looks OK with 0 and outlier removed."
   ]
  },
  {
   "cell_type": "markdown",
   "metadata": {},
   "source": [
    "### mg"
   ]
  },
  {
   "cell_type": "code",
   "execution_count": 38,
   "metadata": {},
   "outputs": [
    {
     "name": "stdout",
     "output_type": "stream",
     "text": [
      "========================================\n",
      "Summary Stats:\n",
      "----------------------------------------\n",
      "count    664.000000\n",
      "mean       2.146175\n",
      "std        0.533624\n",
      "min        0.400000\n",
      "25%        1.800000\n",
      "50%        2.100000\n",
      "75%        2.300000\n",
      "max        4.900000\n",
      "Name: mg, dtype: float64\n",
      "========================================\n",
      "Number of missing values:\n",
      "----------------------------------------\n",
      "96\n",
      "========================================\n",
      "Min 10 values:\n",
      "----------------------------------------\n",
      "296    0.4\n",
      "269    1.0\n",
      "318    1.1\n",
      "736    1.1\n",
      "455    1.1\n",
      "400    1.1\n",
      "348    1.1\n",
      "667    1.1\n",
      "284    1.2\n",
      "62     1.2\n",
      "Name: mg, dtype: float64\n",
      "========================================\n",
      "Max 10 values:\n",
      "----------------------------------------\n",
      "384    4.0\n",
      "44     4.0\n",
      "385    4.0\n",
      "127    4.0\n",
      "18     4.1\n",
      "502    4.1\n",
      "40     4.1\n",
      "471    4.1\n",
      "705    4.2\n",
      "755    4.9\n",
      "Name: mg, dtype: float64\n",
      "========================================\n",
      "Histogram:\n",
      "----------------------------------------\n"
     ]
    },
    {
     "data": {
      "image/png": "[encoded data removed]",
      "text/plain": [
       "<Figure size 432x288 with 1 Axes>"
      ]
     },
     "metadata": {
      "needs_background": "light"
     },
     "output_type": "display_data"
    }
   ],
   "source": [
    "numericFeatureAnalysis(df, \"mg\")"
   ]
  },
  {
   "cell_type": "markdown",
   "metadata": {},
   "source": [
    "A lot of missing!"
   ]
  },
  {
   "cell_type": "markdown",
   "metadata": {},
   "source": [
    "Not a bad plot"
   ]
  },
  {
   "cell_type": "markdown",
   "metadata": {},
   "source": [
    "Are these 0 values errors? Change to mean? There's a lot of missing already..."
   ]
  },
  {
   "cell_type": "markdown",
   "metadata": {},
   "source": [
    "### this_cr_change"
   ]
  },
  {
   "cell_type": "code",
   "execution_count": 39,
   "metadata": {},
   "outputs": [
    {
     "name": "stdout",
     "output_type": "stream",
     "text": [
      "========================================\n",
      "Summary Stats:\n",
      "----------------------------------------\n",
      "count    760.000000\n",
      "mean       1.544026\n",
      "std       27.545234\n",
      "min     -300.000000\n",
      "25%       -8.000000\n",
      "50%        0.000000\n",
      "75%       12.500000\n",
      "max      100.000000\n",
      "Name: this_cr_change, dtype: float64\n",
      "========================================\n",
      "Number of missing values:\n",
      "----------------------------------------\n",
      "0\n",
      "========================================\n",
      "Min 10 values:\n",
      "----------------------------------------\n",
      "690   -300.00\n",
      "170   -133.33\n",
      "298   -127.27\n",
      "744   -111.11\n",
      "276   -100.00\n",
      "202    -93.33\n",
      "672    -88.89\n",
      "317    -80.00\n",
      "123    -75.00\n",
      "273    -70.00\n",
      "Name: this_cr_change, dtype: float64\n",
      "========================================\n",
      "Max 10 values:\n",
      "----------------------------------------\n",
      "341    100.0\n",
      "414    100.0\n",
      "229    100.0\n",
      "430    100.0\n",
      "104    100.0\n",
      "584    100.0\n",
      "161    100.0\n",
      "539    100.0\n",
      "30     100.0\n",
      "100    100.0\n",
      "Name: this_cr_change, dtype: float64\n",
      "========================================\n",
      "Histogram:\n",
      "----------------------------------------\n"
     ]
    },
    {
     "data": {
      "image/png": "[encoded data removed]",
      "text/plain": [
       "<Figure size 432x288 with 1 Axes>"
      ]
     },
     "metadata": {
      "needs_background": "light"
     },
     "output_type": "display_data"
    }
   ],
   "source": [
    "numericFeatureAnalysis(df, \"this_cr_change\")"
   ]
  },
  {
   "cell_type": "markdown",
   "metadata": {},
   "source": [
    "Significant missing values. Is there only a single cr measurement? If so impute 0?\n",
    "\n",
    "-300 looks like outlier. Treat as missing?\n",
    "\n",
    "Hist Looks OK."
   ]
  },
  {
   "cell_type": "markdown",
   "metadata": {},
   "source": [
    "### resting_hr"
   ]
  },
  {
   "cell_type": "code",
   "execution_count": 40,
   "metadata": {
    "scrolled": false
   },
   "outputs": [
    {
     "name": "stdout",
     "output_type": "stream",
     "text": [
      "========================================\n",
      "Summary Stats:\n",
      "----------------------------------------\n",
      "count    760.000000\n",
      "mean      76.690789\n",
      "std       11.463084\n",
      "min       38.000000\n",
      "25%       70.000000\n",
      "50%       76.000000\n",
      "75%       82.000000\n",
      "max      165.000000\n",
      "Name: resting_hr, dtype: float64\n",
      "========================================\n",
      "Number of missing values:\n",
      "----------------------------------------\n",
      "0\n",
      "========================================\n",
      "Min 10 values:\n",
      "----------------------------------------\n",
      "622    38.0\n",
      "688    50.0\n",
      "414    51.0\n",
      "237    52.0\n",
      "43     52.0\n",
      "337    54.0\n",
      "695    54.0\n",
      "442    54.0\n",
      "445    55.0\n",
      "402    55.0\n",
      "Name: resting_hr, dtype: float64\n",
      "========================================\n",
      "Max 10 values:\n",
      "----------------------------------------\n",
      "134    110.0\n",
      "476    111.0\n",
      "103    112.0\n",
      "484    112.0\n",
      "571    112.0\n",
      "92     115.0\n",
      "58     120.0\n",
      "666    120.0\n",
      "41     127.0\n",
      "44     165.0\n",
      "Name: resting_hr, dtype: float64\n",
      "========================================\n",
      "Histogram:\n",
      "----------------------------------------\n"
     ]
    },
    {
     "data": {
      "image/png": "[encoded data removed]",
      "text/plain": [
       "<Figure size 432x288 with 1 Axes>"
      ]
     },
     "metadata": {
      "needs_background": "light"
     },
     "output_type": "display_data"
    }
   ],
   "source": [
    "numericFeatureAnalysis(df, \"resting_hr\")"
   ]
  },
  {
   "cell_type": "markdown",
   "metadata": {},
   "source": [
    "Impute missing with mean?"
   ]
  },
  {
   "cell_type": "markdown",
   "metadata": {},
   "source": [
    "### systolic"
   ]
  },
  {
   "cell_type": "code",
   "execution_count": 19,
   "metadata": {
    "scrolled": false
   },
   "outputs": [
    {
     "name": "stdout",
     "output_type": "stream",
     "text": [
      "========================================\n",
      "Summary Stats:\n",
      "----------------------------------------\n",
      "count    760.000000\n",
      "mean     128.631579\n",
      "std       19.954191\n",
      "min       49.000000\n",
      "25%      116.000000\n",
      "50%      127.000000\n",
      "75%      140.000000\n",
      "max      201.000000\n",
      "Name: systolic, dtype: float64\n",
      "========================================\n",
      "Number of missing values:\n",
      "----------------------------------------\n",
      "0\n",
      "========================================\n",
      "Min 10 values:\n",
      "----------------------------------------\n",
      "590    49.0\n",
      "304    60.0\n",
      "219    73.0\n",
      "416    78.0\n",
      "337    80.0\n",
      "392    82.0\n",
      "41     82.0\n",
      "305    84.0\n",
      "361    85.0\n",
      "411    85.0\n",
      "Name: systolic, dtype: float64\n",
      "========================================\n",
      "Max 10 values:\n",
      "----------------------------------------\n",
      "233    178.0\n",
      "163    179.0\n",
      "104    179.0\n",
      "580    185.0\n",
      "561    187.0\n",
      "503    187.0\n",
      "697    192.0\n",
      "57     193.0\n",
      "109    197.0\n",
      "50     201.0\n",
      "Name: systolic, dtype: float64\n",
      "========================================\n",
      "Histogram:\n",
      "----------------------------------------\n"
     ]
    },
    {
     "data": {
      "image/png": "[encoded data removed]",
      "text/plain": [
       "<Figure size 432x288 with 1 Axes>"
      ]
     },
     "metadata": {
      "needs_background": "light"
     },
     "output_type": "display_data"
    }
   ],
   "source": [
    "numericFeatureAnalysis(df, \"systolic\")"
   ]
  },
  {
   "cell_type": "markdown",
   "metadata": {},
   "source": [
    "Impute missing with mean?\n",
    "\n",
    "Min value of 18 looks like an outlier."
   ]
  },
  {
   "cell_type": "code",
   "execution_count": 20,
   "metadata": {},
   "outputs": [
    {
     "data": {
      "text/plain": [
       "<matplotlib.axes._subplots.AxesSubplot at 0x7f93f0d40080>"
      ]
     },
     "execution_count": 20,
     "metadata": {},
     "output_type": "execute_result"
    },
    {
     "data": {
      "image/png": "[encoded data removed]",
      "text/plain": [
       "<Figure size 432x288 with 1 Axes>"
      ]
     },
     "metadata": {
      "needs_background": "light"
     },
     "output_type": "display_data"
    }
   ],
   "source": [
    "df.systolic[df.systolic > 18].hist()"
   ]
  },
  {
   "cell_type": "markdown",
   "metadata": {},
   "source": [
    "### diastolic"
   ]
  },
  {
   "cell_type": "code",
   "execution_count": 26,
   "metadata": {},
   "outputs": [
    {
     "name": "stdout",
     "output_type": "stream",
     "text": [
      "========================================\n",
      "Summary Stats:\n",
      "----------------------------------------\n",
      "count    760.000000\n",
      "mean      71.177632\n",
      "std       12.582325\n",
      "min       42.000000\n",
      "25%       64.000000\n",
      "50%       70.000000\n",
      "75%       78.000000\n",
      "max      242.000000\n",
      "Name: diastolic, dtype: float64\n",
      "========================================\n",
      "Number of missing values:\n",
      "----------------------------------------\n",
      "0\n",
      "========================================\n",
      "Min 10 values:\n",
      "----------------------------------------\n",
      "46     42.0\n",
      "146    42.0\n",
      "425    43.0\n",
      "498    44.0\n",
      "475    45.0\n",
      "359    45.0\n",
      "149    48.0\n",
      "396    49.0\n",
      "537    49.0\n",
      "501    50.0\n",
      "Name: diastolic, dtype: float64\n",
      "========================================\n",
      "Max 10 values:\n",
      "----------------------------------------\n",
      "408     98.0\n",
      "675     99.0\n",
      "666     99.0\n",
      "540    100.0\n",
      "50     102.0\n",
      "73     103.0\n",
      "623    107.0\n",
      "234    112.0\n",
      "535    180.0\n",
      "330    242.0\n",
      "Name: diastolic, dtype: float64\n",
      "========================================\n",
      "Histogram:\n",
      "----------------------------------------\n"
     ]
    },
    {
     "data": {
      "image/png": "[encoded data removed]",
      "text/plain": [
       "<Figure size 432x288 with 1 Axes>"
      ]
     },
     "metadata": {
      "needs_background": "light"
     },
     "output_type": "display_data"
    }
   ],
   "source": [
    "numericFeatureAnalysis(df, \"diastolic\")"
   ]
  },
  {
   "cell_type": "markdown",
   "metadata": {},
   "source": [
    "Impute missing with mean?\n",
    "\n",
    "Min value 1 is an error"
   ]
  },
  {
   "cell_type": "code",
   "execution_count": 27,
   "metadata": {},
   "outputs": [
    {
     "data": {
      "text/plain": [
       "<matplotlib.axes._subplots.AxesSubplot at 0x7f93f0dcc908>"
      ]
     },
     "execution_count": 27,
     "metadata": {},
     "output_type": "execute_result"
    },
    {
     "data": {
      "image/png": "[encoded data removed]",
      "text/plain": [
       "<Figure size 432x288 with 1 Axes>"
      ]
     },
     "metadata": {
      "needs_background": "light"
     },
     "output_type": "display_data"
    }
   ],
   "source": [
    "df.diastolic[df.diastolic > 1].hist()"
   ]
  },
  {
   "cell_type": "markdown",
   "metadata": {},
   "source": [
    "Impute diastolic using systolic where possible. Function should not be too bad."
   ]
  },
  {
   "cell_type": "markdown",
   "metadata": {},
   "source": [
    "<p><a name=\"duration\"></a></p>\n",
    "## Duration"
   ]
  },
  {
   "cell_type": "code",
   "execution_count": 28,
   "metadata": {},
   "outputs": [
    {
     "name": "stdout",
     "output_type": "stream",
     "text": [
      "========================================\n",
      "Summary Stats:\n",
      "----------------------------------------\n",
      "count     760.000000\n",
      "mean      154.746053\n",
      "std       235.275960\n",
      "min         1.000000\n",
      "25%        35.000000\n",
      "50%        57.000000\n",
      "75%       168.000000\n",
      "max      2230.000000\n",
      "Name: duration, dtype: float64\n",
      "========================================\n",
      "Number of missing values:\n",
      "----------------------------------------\n",
      "0\n",
      "========================================\n",
      "Min 10 values:\n",
      "----------------------------------------\n",
      "567    1.0\n",
      "758    1.0\n",
      "227    1.0\n",
      "580    2.0\n",
      "136    3.0\n",
      "425    3.0\n",
      "670    3.0\n",
      "407    3.0\n",
      "178    4.0\n",
      "94     4.0\n",
      "Name: duration, dtype: float64\n",
      "========================================\n",
      "Max 10 values:\n",
      "----------------------------------------\n",
      "540    1007.0\n",
      "577    1065.0\n",
      "551    1106.0\n",
      "636    1115.0\n",
      "552    1207.0\n",
      "582    1257.0\n",
      "3      1276.0\n",
      "485    1390.0\n",
      "655    1976.0\n",
      "466    2230.0\n",
      "Name: duration, dtype: float64\n",
      "========================================\n",
      "Histogram:\n",
      "----------------------------------------\n"
     ]
    },
    {
     "data": {
      "image/png": "[encoded data removed]",
      "text/plain": [
       "<Figure size 432x288 with 1 Axes>"
      ]
     },
     "metadata": {
      "needs_background": "light"
     },
     "output_type": "display_data"
    }
   ],
   "source": [
    "numericFeatureAnalysis(df, \"duration\")"
   ]
  },
  {
   "cell_type": "markdown",
   "metadata": {},
   "source": [
    "Why all the negative durations?"
   ]
  },
  {
   "cell_type": "markdown",
   "metadata": {},
   "source": [
    "20 missing durations."
   ]
  },
  {
   "cell_type": "code",
   "execution_count": 29,
   "metadata": {},
   "outputs": [
    {
     "data": {
      "text/plain": [
       "0"
      ]
     },
     "execution_count": 29,
     "metadata": {},
     "output_type": "execute_result"
    }
   ],
   "source": [
    "(df.duration < 0).sum()"
   ]
  },
  {
   "cell_type": "code",
   "execution_count": 30,
   "metadata": {},
   "outputs": [
    {
     "data": {
      "text/plain": [
       "(array([608.,  82.,  34.,  19.,  11.,   3.,   1.,   0.,   1.,   1.]),\n",
       " array([1.0000e+00, 2.2390e+02, 4.4680e+02, 6.6970e+02, 8.9260e+02,\n",
       "        1.1155e+03, 1.3384e+03, 1.5613e+03, 1.7842e+03, 2.0071e+03,\n",
       "        2.2300e+03]),\n",
       " <a list of 10 Patch objects>)"
      ]
     },
     "execution_count": 30,
     "metadata": {},
     "output_type": "execute_result"
    },
    {
     "data": {
      "image/png": "[encoded data removed]",
      "text/plain": [
       "<Figure size 432x288 with 1 Axes>"
      ]
     },
     "metadata": {
      "needs_background": "light"
     },
     "output_type": "display_data"
    }
   ],
   "source": [
    "plt.hist(df.duration[(df.duration > -1 )])"
   ]
  },
  {
   "cell_type": "markdown",
   "metadata": {},
   "source": [
    "Plot is heavily skewed."
   ]
  },
  {
   "cell_type": "code",
   "execution_count": 31,
   "metadata": {
    "scrolled": false
   },
   "outputs": [
    {
     "data": {
      "text/plain": [
       "(array([  4.,   7.,  24.,  60., 169., 242.,  99.,  87.,  59.,   9.]),\n",
       " array([0.        , 0.77097569, 1.54195137, 2.31292706, 3.08390275,\n",
       "        3.85487843, 4.62585412, 5.39682981, 6.16780549, 6.93878118,\n",
       "        7.70975686]),\n",
       " <a list of 10 Patch objects>)"
      ]
     },
     "execution_count": 31,
     "metadata": {},
     "output_type": "execute_result"
    },
    {
     "data": {
      "image/png": "[encoded data removed]",
      "text/plain": [
       "<Figure size 432x288 with 1 Axes>"
      ]
     },
     "metadata": {
      "needs_background": "light"
     },
     "output_type": "display_data"
    }
   ],
   "source": [
    "plt.hist(df.duration[df.duration > 0].map(np.log))"
   ]
  },
  {
   "cell_type": "markdown",
   "metadata": {},
   "source": [
    "Log histogram of non-missing values looks much more normal. Box-Cox transformation may be appropriate here."
   ]
  },
  {
   "cell_type": "markdown",
   "metadata": {},
   "source": [
    "### age"
   ]
  },
  {
   "cell_type": "code",
   "execution_count": 40,
   "metadata": {
    "scrolled": false
   },
   "outputs": [
    {
     "name": "stdout",
     "output_type": "stream",
     "text": [
      "========================================\n",
      "Summary Stats:\n",
      "----------------------------------------\n",
      "count    760.000000\n",
      "mean      77.670146\n",
      "std       11.844926\n",
      "min       38.000000\n",
      "25%       70.000000\n",
      "50%       78.000000\n",
      "75%       87.000000\n",
      "max      103.000000\n",
      "Name: age, dtype: float64\n",
      "========================================\n",
      "Number of missing values:\n",
      "----------------------------------------\n",
      "0\n",
      "========================================\n",
      "Min 10 values:\n",
      "----------------------------------------\n",
      "726    38.0\n",
      "284    43.0\n",
      "123    45.0\n",
      "323    46.0\n",
      "235    46.0\n",
      "324    46.0\n",
      "637    48.0\n",
      "489    48.0\n",
      "228    48.0\n",
      "609    51.0\n",
      "Name: age, dtype: float64\n",
      "========================================\n",
      "Max 10 values:\n",
      "----------------------------------------\n",
      "756    100.0\n",
      "150    100.0\n",
      "578    100.0\n",
      "735    100.0\n",
      "488    100.0\n",
      "580    101.0\n",
      "115    101.0\n",
      "641    101.0\n",
      "707    102.0\n",
      "653    103.0\n",
      "Name: age, dtype: float64\n",
      "========================================\n",
      "Histogram:\n",
      "----------------------------------------\n"
     ]
    },
    {
     "data": {
      "image/png": "[encoded data removed]",
      "text/plain": [
       "<Figure size 432x288 with 1 Axes>"
      ]
     },
     "metadata": {
      "needs_background": "light"
     },
     "output_type": "display_data"
    }
   ],
   "source": [
    "numericFeatureAnalysis(df, \"age\")"
   ]
  },
  {
   "cell_type": "markdown",
   "metadata": {},
   "source": [
    "Is there a sensible way to impute age?\n",
    "\n",
    "Are ages less than 20 reasonable? Some are negative!"
   ]
  },
  {
   "cell_type": "code",
   "execution_count": 173,
   "metadata": {
    "scrolled": true
   },
   "outputs": [
    {
     "data": {
      "text/plain": [
       "<matplotlib.axes._subplots.AxesSubplot at 0x7fad7dc35358>"
      ]
     },
     "execution_count": 173,
     "metadata": {},
     "output_type": "execute_result"
    },
    {
     "data": {
      "image/png": "[encoded data removed]",
      "text/plain": [
       "<Figure size 432x288 with 1 Axes>"
      ]
     },
     "metadata": {
      "needs_background": "light"
     },
     "output_type": "display_data"
    }
   ],
   "source": [
    "df.age[df.age > 20].hist()"
   ]
  },
  {
   "cell_type": "code",
   "execution_count": 175,
   "metadata": {},
   "outputs": [
    {
     "data": {
      "text/plain": [
       "13      0.0\n",
       "136     0.0\n",
       "168     0.0\n",
       "367     1.0\n",
       "404     1.0\n",
       "405     1.0\n",
       "442    -6.0\n",
       "445   -30.0\n",
       "446    -6.0\n",
       "447   -12.0\n",
       "454   -11.0\n",
       "475   -22.0\n",
       "514   -28.0\n",
       "541     5.0\n",
       "Name: age, dtype: float64"
      ]
     },
     "execution_count": 175,
     "metadata": {},
     "output_type": "execute_result"
    }
   ],
   "source": [
    "df.age[df.age < 20]"
   ]
  },
  {
   "cell_type": "code",
   "execution_count": 174,
   "metadata": {},
   "outputs": [
    {
     "data": {
      "text/plain": [
       "14"
      ]
     },
     "execution_count": 174,
     "metadata": {},
     "output_type": "execute_result"
    }
   ],
   "source": [
    "(df.age < 20).sum()"
   ]
  },
  {
   "cell_type": "code",
   "execution_count": 148,
   "metadata": {},
   "outputs": [
    {
     "data": {
      "text/plain": [
       "<matplotlib.axes._subplots.AxesSubplot at 0x7fad7dbb01d0>"
      ]
     },
     "execution_count": 148,
     "metadata": {},
     "output_type": "execute_result"
    },
    {
     "data": {
      "image/png": "[encoded data removed]",
      "text/plain": [
       "<Figure size 432x288 with 1 Axes>"
      ]
     },
     "metadata": {
      "needs_background": "light"
     },
     "output_type": "display_data"
    }
   ],
   "source": [
    "(df.age[df.age > 20]-30).hist()"
   ]
  },
  {
   "cell_type": "markdown",
   "metadata": {},
   "source": [
    "<p><a name=\"diagnoses\"></a></p>\n",
    "## Diagnoses"
   ]
  },
  {
   "cell_type": "code",
   "execution_count": 127,
   "metadata": {
    "scrolled": true
   },
   "outputs": [
    {
     "data": {
      "text/plain": [
       "Index(['patient_gender', 'ef', 'admit_weight', 'acute_or_chronic', 'weight',\n",
       "       'this_weight_change', 'weight_change_since_admit', 'bnp',\n",
       "       'this_bnp_change', 'ace', 'bb', 'diuretics', 'anticoagulant',\n",
       "       'ionotropes', 'other_cardiac_meds', 'bun', 'cr', 'potasium',\n",
       "       'this_cr_change', 'resting_hr', 'systolic', 'diastolic', 'outcome',\n",
       "       'cad/mi', 'heart_failure_unspecfied', 'diastolic_heart_failure',\n",
       "       'systolic_chf', 'atrial_fibrilation', 'cardiomyoapthy', 'lvad', 'chf',\n",
       "       'duration', 'age', 'F_5nKZ993n', 'F_71ADiKaS', 'F_Fy1r9IXM',\n",
       "       'F_KYzNhByH', 'F_L1V04aB0', 'F_US4llDDz', 'F_Xxk5Yn3E', 'F_kIUZIzRp',\n",
       "       'F_mB0G57bu'],\n",
       "      dtype='object')"
      ]
     },
     "execution_count": 127,
     "metadata": {},
     "output_type": "execute_result"
    }
   ],
   "source": [
    "df.columns"
   ]
  },
  {
   "cell_type": "markdown",
   "metadata": {},
   "source": [
    "<p><a name=\"pacemaker\"></a></p>\n",
    "## Pacemaker (aicd)"
   ]
  },
  {
   "cell_type": "code",
   "execution_count": 128,
   "metadata": {},
   "outputs": [
    {
     "ename": "AttributeError",
     "evalue": "'DataFrame' object has no attribute 'aicd'",
     "output_type": "error",
     "traceback": [
      "\u001b[0;31m---------------------------------------------------------------------------\u001b[0m",
      "\u001b[0;31mAttributeError\u001b[0m                            Traceback (most recent call last)",
      "\u001b[0;32m<ipython-input-128-6deb303e7496>\u001b[0m in \u001b[0;36m<module>\u001b[0;34m()\u001b[0m\n\u001b[0;32m----> 1\u001b[0;31m \u001b[0mdf\u001b[0m\u001b[0;34m.\u001b[0m\u001b[0maicd\u001b[0m\u001b[0;34m.\u001b[0m\u001b[0mvalue_counts\u001b[0m\u001b[0;34m(\u001b[0m\u001b[0mdropna\u001b[0m \u001b[0;34m=\u001b[0m \u001b[0;32mFalse\u001b[0m\u001b[0;34m)\u001b[0m\u001b[0;34m\u001b[0m\u001b[0m\n\u001b[0m",
      "\u001b[0;32m/usr/lib/python3.7/site-packages/pandas/core/generic.py\u001b[0m in \u001b[0;36m__getattr__\u001b[0;34m(self, name)\u001b[0m\n\u001b[1;32m   4374\u001b[0m             \u001b[0;32mif\u001b[0m \u001b[0mself\u001b[0m\u001b[0;34m.\u001b[0m\u001b[0m_info_axis\u001b[0m\u001b[0;34m.\u001b[0m\u001b[0m_can_hold_identifiers_and_holds_name\u001b[0m\u001b[0;34m(\u001b[0m\u001b[0mname\u001b[0m\u001b[0;34m)\u001b[0m\u001b[0;34m:\u001b[0m\u001b[0;34m\u001b[0m\u001b[0m\n\u001b[1;32m   4375\u001b[0m                 \u001b[0;32mreturn\u001b[0m \u001b[0mself\u001b[0m\u001b[0;34m[\u001b[0m\u001b[0mname\u001b[0m\u001b[0;34m]\u001b[0m\u001b[0;34m\u001b[0m\u001b[0m\n\u001b[0;32m-> 4376\u001b[0;31m             \u001b[0;32mreturn\u001b[0m \u001b[0mobject\u001b[0m\u001b[0;34m.\u001b[0m\u001b[0m__getattribute__\u001b[0m\u001b[0;34m(\u001b[0m\u001b[0mself\u001b[0m\u001b[0;34m,\u001b[0m \u001b[0mname\u001b[0m\u001b[0;34m)\u001b[0m\u001b[0;34m\u001b[0m\u001b[0m\n\u001b[0m\u001b[1;32m   4377\u001b[0m \u001b[0;34m\u001b[0m\u001b[0m\n\u001b[1;32m   4378\u001b[0m     \u001b[0;32mdef\u001b[0m \u001b[0m__setattr__\u001b[0m\u001b[0;34m(\u001b[0m\u001b[0mself\u001b[0m\u001b[0;34m,\u001b[0m \u001b[0mname\u001b[0m\u001b[0;34m,\u001b[0m \u001b[0mvalue\u001b[0m\u001b[0;34m)\u001b[0m\u001b[0;34m:\u001b[0m\u001b[0;34m\u001b[0m\u001b[0m\n",
      "\u001b[0;31mAttributeError\u001b[0m: 'DataFrame' object has no attribute 'aicd'"
     ]
    }
   ],
   "source": [
    "df.aicd.value_counts(dropna = False)"
   ]
  },
  {
   "cell_type": "markdown",
   "metadata": {},
   "source": [
    "## Meds"
   ]
  },
  {
   "cell_type": "markdown",
   "metadata": {},
   "source": [
    "### Ace"
   ]
  },
  {
   "cell_type": "code",
   "execution_count": 131,
   "metadata": {},
   "outputs": [
    {
     "data": {
      "text/plain": [
       "0.0    268\n",
       "1.0    189\n",
       "Name: ace, dtype: int64"
      ]
     },
     "execution_count": 131,
     "metadata": {},
     "output_type": "execute_result"
    }
   ],
   "source": [
    "df.ace.value_counts(dropna = False)"
   ]
  },
  {
   "cell_type": "markdown",
   "metadata": {},
   "source": [
    "### bb"
   ]
  },
  {
   "cell_type": "code",
   "execution_count": 132,
   "metadata": {},
   "outputs": [
    {
     "data": {
      "text/plain": [
       "1.0    326\n",
       "0.0    131\n",
       "Name: bb, dtype: int64"
      ]
     },
     "execution_count": 132,
     "metadata": {},
     "output_type": "execute_result"
    }
   ],
   "source": [
    "df.bb.value_counts(dropna = False)"
   ]
  },
  {
   "cell_type": "markdown",
   "metadata": {},
   "source": [
    "### diuretics"
   ]
  },
  {
   "cell_type": "code",
   "execution_count": 133,
   "metadata": {},
   "outputs": [
    {
     "data": {
      "text/plain": [
       "1.0    295\n",
       "0.0    162\n",
       "Name: diuretics, dtype: int64"
      ]
     },
     "execution_count": 133,
     "metadata": {},
     "output_type": "execute_result"
    }
   ],
   "source": [
    "df.diuretics.value_counts(dropna = False)"
   ]
  },
  {
   "cell_type": "markdown",
   "metadata": {},
   "source": [
    "### anticoagulant"
   ]
  },
  {
   "cell_type": "code",
   "execution_count": 134,
   "metadata": {},
   "outputs": [
    {
     "data": {
      "text/plain": [
       "1.0    338\n",
       "0.0    119\n",
       "Name: anticoagulant, dtype: int64"
      ]
     },
     "execution_count": 134,
     "metadata": {},
     "output_type": "execute_result"
    }
   ],
   "source": [
    "df.anticoagulant.value_counts(dropna = False)"
   ]
  },
  {
   "cell_type": "markdown",
   "metadata": {},
   "source": [
    "### ionotropes"
   ]
  },
  {
   "cell_type": "code",
   "execution_count": 135,
   "metadata": {},
   "outputs": [
    {
     "data": {
      "text/plain": [
       "0.0    417\n",
       "1.0     40\n",
       "Name: ionotropes, dtype: int64"
      ]
     },
     "execution_count": 135,
     "metadata": {},
     "output_type": "execute_result"
    }
   ],
   "source": [
    "df.ionotropes.value_counts(dropna = False)"
   ]
  },
  {
   "cell_type": "markdown",
   "metadata": {},
   "source": [
    "### other cardiac meds"
   ]
  },
  {
   "cell_type": "code",
   "execution_count": 136,
   "metadata": {},
   "outputs": [
    {
     "data": {
      "text/plain": [
       "NaN                                                                                                                                                                    177\n",
       "Atorvastatin 40mg QD                                                                                                                                                    17\n",
       "Atorvastatin 80mg QD                                                                                                                                                    14\n",
       "Amlodipine 5mg QD                                                                                                                                                        8\n",
       "Amlodipine 10mg QD                                                                                                                                                       7\n",
       "Amiodarone 200mg QD                                                                                                                                                      7\n",
       "Atorvastatin 20mg QD                                                                                                                                                     6\n",
       "Simvastatin 20mg QD                                                                                                                                                      6\n",
       "no cardiac meds on the record                                                                                                                                            5\n",
       "Nifedipine 60mg QD                                                                                                                                                       4\n",
       "Simvastatin 10mg QD                                                                                                                                                      4\n",
       "Lipitor 40mg QD                                                                                                                                                          3\n",
       "Nifedipine 90mg QD                                                                                                                                                       3\n",
       "Simvastatin 40mg QD                                                                                                                                                      3\n",
       "Amlodipine 10mg Qd                                                                                                                                                       3\n",
       "Rosuvastatin 5mg QD                                                                                                                                                      2\n",
       "profile is incomplete                                                                                                                                                    2\n",
       "Hydralazine 10mg TID                                                                                                                                                     2\n",
       "Isosorbide mono 30mg QD                                                                                                                                                  2\n",
       "Atorvastatin 40mg QD, Hydralazine 25mg Q8H; Isordil 10mg tid                                                                                                             2\n",
       "Nifedipine 30mg QD                                                                                                                                                       2\n",
       "Atorvastatin 40 mg HS                                                                                                                                                    2\n",
       "Metolazone 5mg 1 tablet (5 mg) by oral route 2 times per week on Monday and Thursday at 6:30 pm (30 minutes after Torsemide)                                             2\n",
       "Atorvastatin 40mg QD, Hydralazine 100mg Q8H, Isosorbide din 30mg *2tab TID                                                                                               2\n",
       "Norvasc 5mg QD                                                                                                                                                           2\n",
       "Cardizem 360mg PO QD; Diamox 250mg PO QD                                                                                                                                 1\n",
       "Digoxin 0.125 mg HS                                                                                                                                                      1\n",
       "Isosorbide mono 30mg QD, Amlodipine 10mg QD                                                                                                                              1\n",
       "Rosuvastatin 20mg QD, Isosorbide mono 60mg QD                                                                                                                            1\n",
       "Hydralazine 25mg Q12H                                                                                                                                                    1\n",
       "                                                                                                                                                                      ... \n",
       "Hydralazine 50 mg Q 8 H, Atorvastatin 40 mg HS                                                                                                                           1\n",
       "Atorvastain 20mg QD, Hydrochlorothiazide 12.5mg QD                                                                                                                       1\n",
       "no orders found on the record                                                                                                                                            1\n",
       "Amlodipine 10mg qd                                                                                                                                                       1\n",
       "Nitroglycerin sublingual 0.4mg PRN, Atorvastatin 40mg QN                                                                                                                 1\n",
       "Hydralazine 50mg TID, Isosorbide mono 30mg QD, Atorvastatin 40mg QD, Amlodipine 10mg QD                                                                                  1\n",
       "Norvasc 10mg QD; Isosorbide dinitrate 10mg  BID, Atorvastatin 40mg QD                                                                                                    1\n",
       "Isosorbide mono 30mg QD, Hydralazine 25mg Q8H,Atorvastatin 40mg QD                                                                                                       1\n",
       "Hydralazine 25mg Q8H, Isosorbide din 20mg TID                                                                                                                            1\n",
       "Hydralazine 50mg TID, Lipitor 10mg QD, Nifedipine 60mg QD                                                                                                                1\n",
       "Hydralazine 100mg Q8H, Nifedipine 60mg*2tab QD, Atorvastatin 20mg QD                                                                                                     1\n",
       "Atorvastain 40mg QD                                                                                                                                                      1\n",
       "Amiodarone 100mg QD, Amlodipine 5mg QD                                                                                                                                   1\n",
       "Lipitor 20 mg HS                                                                                                                                                         1\n",
       "DIGOXIN 0.125 MG QD                                                                                                                                                      1\n",
       "Minoxidil 2.5mg daily, Amlodipine 10mg daily, Nifedipine 90mg daily                                                                                                      1\n",
       "Simvastatin 20mg QD; Potassium Chloride 10 MEQ QD                                                                                                                        1\n",
       "Nitroglycerin Tablet Sublingual 0.3 MG Give 1 tablet sublingually every 5 minutes as needed for chest pain give q 5 minutes x3 for chest pain, Atorvastatin 80mg QD      1\n",
       "Amlodipine 10mg QD, Isosorbide din 10mg TID, Hydralazine 25mg Q8H, Crestor 40mg HS                                                                                       1\n",
       "Hydralazine 25mg Q8H, Simvastatin 20mg QD                                                                                                                                1\n",
       "Amlodipine 5mg Qd                                                                                                                                                        1\n",
       "Amlodipine 5mg QD, Hydrochlorothiazide 12.5mg QD                                                                                                                         1\n",
       "Atorvastatin 40mg HS                                                                                                                                                     1\n",
       "Hydralazine 25mg TID; Isosorbide Mononitrate ER 30mg QD                                                                                                                  1\n",
       "Atorvasatin 80mg QD                                                                                                                                                      1\n",
       "Zocor 10mg QD                                                                                                                                                            1\n",
       "Spronolactone 25mg every other day                                                                                                                                       1\n",
       "Atorvastatin 40mg QD, Hydralazine 25mg TID                                                                                                                               1\n",
       "Simvastatin 20 mg HS, Digoxin 0.125 mg QOD                                                                                                                               1\n",
       "Amlodipine 5mg QD, Rosuvastatin 40mg QD                                                                                                                                  1\n",
       "Name: other_cardiac_meds, Length: 195, dtype: int64"
      ]
     },
     "execution_count": 136,
     "metadata": {},
     "output_type": "execute_result"
    }
   ],
   "source": [
    "df.other_cardiac_meds.value_counts(dropna = False)"
   ]
  },
  {
   "cell_type": "markdown",
   "metadata": {},
   "source": [
    "other cardiac meds column uncleaned?"
   ]
  }
 ],
 "metadata": {
  "kernelspec": {
   "display_name": "Python 3",
   "language": "python",
   "name": "python3"
  },
  "language_info": {
   "codemirror_mode": {
    "name": "ipython",
    "version": 3
   },
   "file_extension": ".py",
   "mimetype": "text/x-python",
   "name": "python",
   "nbconvert_exporter": "python",
   "pygments_lexer": "ipython3",
   "version": "3.7.0"
  }
 },
 "nbformat": 4,
 "nbformat_minor": 2
}
